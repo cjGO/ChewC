{
 "cells": [
  {
   "cell_type": "code",
   "execution_count": 1,
   "id": "7570e93c",
   "metadata": {},
   "outputs": [],
   "source": [
    "#x01_populationStatistics"
   ]
  },
  {
   "cell_type": "code",
   "execution_count": 2,
   "id": "12887f4c",
   "metadata": {},
   "outputs": [],
   "source": [
    "from chewc.callback import *\n",
    "from chewc.policy import *\n",
    "from chewc.sim import *\n",
    "from chewc.lab import *\n",
    "from chewc.config import *"
   ]
  },
  {
   "cell_type": "code",
   "execution_count": 3,
   "id": "d9e0107f",
   "metadata": {},
   "outputs": [],
   "source": [
    "import matplotlib.pyplot as plt\n",
    "import uuid\n",
    "import pdb\n",
    "import torch\n",
    "from matplotlib.animation import FuncAnimation\n",
    "import torch\n",
    "import torch.optim as optim\n",
    "import torch.nn.functional as F\n",
    "import torch.nn as nn\n",
    "import gymnasium as gym\n",
    "import numpy as np\n",
    "device='cpu'\n",
    "from torch.utils.tensorboard import SummaryWriter\n",
    "\n",
    "\n",
    "\n",
    "import gymnasium as gym\n",
    "from stable_baselines3 import PPO\n",
    "from stable_baselines3.common.vec_env import DummyVecEnv\n",
    "from stable_baselines3.common.callbacks import CallbackList\n"
   ]
  },
  {
   "cell_type": "code",
   "execution_count": 4,
   "id": "be863803",
   "metadata": {},
   "outputs": [],
   "source": [
    "#| export\n",
    "\n",
    "import gymnasium as gym\n",
    "from stable_baselines3 import PPO\n",
    "from stable_baselines3.common.vec_env import DummyVecEnv\n",
    "import numpy as np\n",
    "from chewc.sim import *\n",
    "import torch\n",
    "\n",
    "class SelectionIntensityEnvironment(gym.Env):\n",
    "    def __init__(self, SP, config):\n",
    "        super(SelectionIntensityEnvironment, self).__init__()\n",
    "        self.SP = SP\n",
    "        self.config = config  # Store the config\n",
    "        self.current_generation = 0\n",
    "        self.max_generations = SP.max_generations\n",
    "        # Get action space bounds from config, with defaults if not provided\n",
    "        \n",
    "        self.action_low = config.get('action_low', 0.05)\n",
    "        self.action_high = config.get('action_high', 0.95)\n",
    "        \n",
    "        self.action_space = gym.spaces.Box(\n",
    "            low=np.array([self.action_low]), \n",
    "            high=np.array([self.action_high]), \n",
    "            dtype=np.float32\n",
    "        )\n",
    "        \n",
    "        # Update observation space based on config\n",
    "#         obs_config = config['observation_config']['remaining_proportion']\n",
    "        self.observation_config = config['observation_config']\n",
    "        # Dynamically create observation space\n",
    "        obs_low = []\n",
    "        obs_high = []\n",
    "        self.obs_keys = []\n",
    "        for key, value in self.observation_config.items():\n",
    "            self.obs_keys.append(key)\n",
    "            obs_low.append(value['low'])\n",
    "            obs_high.append(value['high'])\n",
    "        \n",
    "        self.observation_space = gym.spaces.Box(\n",
    "            low=np.array(obs_low, dtype=np.float32),\n",
    "            high=np.array(obs_high, dtype=np.float32)\n",
    "        )\n",
    "\n",
    "        self.action_values = []\n",
    "        self.genetic_variance = []\n",
    "        self.max_breeding_values = []\n",
    "        self.final_generations = []\n",
    "        self.episode_count = 0\n",
    "        self.rewards = []\n",
    "        self.episode_reward = 0\n",
    "        \n",
    "        #config\n",
    "        self.config =config\n",
    "        \n",
    "    def _get_obs(self):\n",
    "        obs = []\n",
    "        for key in self.obs_keys:\n",
    "            if key == 'remaining_proportion':\n",
    "                obs.append(1 - (self.current_generation / self.max_generations))\n",
    "            elif key == 'genetic_variance':\n",
    "                obs.append(self.population.breeding_values.var().cpu().item())\n",
    "            elif key == 'mean_phenotype':\n",
    "                obs.append(self.population.phenotypes.mean().cpu().item())\n",
    "            elif key == 'max_breeding_value':\n",
    "                obs.append(self.population.breeding_values.max().cpu().item())\n",
    "            # Add more elif statements for other possible inputs\n",
    "        return np.array(obs, dtype=np.float32)\n",
    "\n",
    "\n",
    "    def _get_info(self):\n",
    "        return {\n",
    "            \"max_phenotype\": self.population.breeding_values.max().cpu().item(),\n",
    "            \"genetic_variance\": self.population.breeding_values.var().cpu().item(),\n",
    "            \"current_generation\": self.current_generation\n",
    "        }\n",
    "\n",
    "    def reset(self, seed=None, options=None):\n",
    "        super().reset(seed=seed)\n",
    "        self.population = self.SP.founder_pop\n",
    "        self.phenotype = phenotype(self.population, self.SP.T, self.SP.h2)\n",
    "        self.current_generation = 0\n",
    "        self.episode_reward = 0\n",
    "        observation = self._get_obs()\n",
    "        info = self._get_info()\n",
    "        \n",
    "        return observation, info\n",
    "\n",
    "    def step(self, action):\n",
    "        \n",
    "        # Map the action from [-1, 1] to [action_low, action_high]\n",
    "        action = scale_values(action, to_range=(self.action_low, self.action_high))\n",
    "\n",
    "        total_selected = max((2,int(action * self.population.size)))\n",
    "        selected = torch.topk(self.population.phenotypes, total_selected).indices\n",
    "        self.population = create_pop(self.SP.G, random_crosses(self.population.haplotypes[selected], self.SP.pop_size))\n",
    "        self.phenotype = phenotype(self.population, self.SP.T, self.SP.h2)\n",
    "        self.current_generation += 1\n",
    "\n",
    "        observation = self._get_obs()\n",
    "        info = self._get_info()\n",
    "        info['normalized_action'] = action\n",
    "        \n",
    "        terminated = self.current_generation > self.SP.max_generations\n",
    "        #REWARD\n",
    "        if self.config.get('sparse_reward', False):  # Use .get() with a default value\n",
    "            reward = 0 if not terminated else float(self.population.breeding_values.max())\n",
    "        else:\n",
    "            reward = float(self.population.breeding_values.max())\n",
    "        self.episode_reward += reward\n",
    "\n",
    "        if terminated:\n",
    "            info['final_generation'] = {\n",
    "            \"max_phenotype\": self.population.breeding_values.max().cpu().item(),\n",
    "            \"genetic_variance\": self.population.breeding_values.var().cpu().item(),\n",
    "            \"current_generation\": self.current_generation\n",
    "            }\n",
    "\n",
    "        return observation, reward, bool(terminated), False, info\n",
    "\n",
    "import torch as th\n",
    "import torch.nn as nn\n",
    "from stable_baselines3.common.torch_layers import BaseFeaturesExtractor\n",
    "from stable_baselines3.common.policies import ActorCriticPolicy\n",
    "\n",
    "class CustomFeatureExtractor(BaseFeaturesExtractor):\n",
    "    def __init__(self, observation_space: gym.spaces.Box, features_dim: int = 64):\n",
    "        super(CustomFeatureExtractor, self).__init__(observation_space, features_dim)\n",
    "        \n",
    "        # For now, a simple linear layer for the scalar input\n",
    "        self.linear = nn.Sequential(\n",
    "            nn.Linear(observation_space.shape[0], features_dim),\n",
    "            nn.ReLU()\n",
    "        )\n",
    "\n",
    "    def forward(self, observations: th.Tensor) -> th.Tensor:\n",
    "        return self.linear(observations)\n",
    "\n",
    "class CustomPolicy(ActorCriticPolicy):\n",
    "    def __init__(self, *args, **kwargs):\n",
    "        super(CustomPolicy, self).__init__(\n",
    "            *args,\n",
    "            **kwargs,\n",
    "            features_extractor_class=CustomFeatureExtractor,\n",
    "            features_extractor_kwargs=dict(features_dim=64)\n",
    "        )"
   ]
  },
  {
   "cell_type": "code",
   "execution_count": 5,
   "id": "d3b54004",
   "metadata": {},
   "outputs": [
    {
     "data": {
      "text/plain": [
       "(array([1.], dtype=float32),\n",
       " {'max_phenotype': 1.6615780591964722,\n",
       "  'genetic_variance': 0.9999998211860657,\n",
       "  'current_generation': 0})"
      ]
     },
     "execution_count": 5,
     "metadata": {},
     "output_type": "execute_result"
    }
   ],
   "source": [
    "env = create_simulation()\n",
    "env.reset()"
   ]
  },
  {
   "cell_type": "code",
   "execution_count": 6,
   "id": "390e51dc",
   "metadata": {},
   "outputs": [
    {
     "data": {
      "text/plain": [
       "tensor([[0.3485, 0.0000, 0.0000, 0.0000, 0.8752, 0.2201, 0.0000, 0.0000, 0.0000,\n",
       "         1.0470, 1.0424, 0.3086, 0.1597, 0.0000, 0.3679, 0.0000, 0.0000, 0.0000,\n",
       "         1.1438, 0.0000, 0.0000, 0.5739, 0.3388, 0.6796, 0.0000, 0.6212, 0.5961,\n",
       "         0.6320, 0.0000, 0.0000, 0.0000, 0.0000, 0.5648, 0.6760, 0.6271, 0.3069,\n",
       "         0.1339, 0.0000, 0.0000, 0.3297, 0.4514, 0.1258, 0.0000, 0.0000, 0.0000,\n",
       "         0.0000, 0.0000, 0.0000, 0.0000, 0.7184, 0.8602, 0.1806, 0.2160, 0.0000,\n",
       "         0.1519, 0.0000, 0.3281, 0.0000, 0.0000, 0.1922, 0.0000, 0.0000, 0.9675,\n",
       "         0.5229]], grad_fn=<ReluBackward0>)"
      ]
     },
     "execution_count": 6,
     "metadata": {},
     "output_type": "execute_result"
    }
   ],
   "source": [
    "FE = CustomFeatureExtractor(env.observation_space)\n",
    "mock_observation = th.tensor([[0.5]], dtype=th.float32)  # Single scalar input\n",
    "FE(mock_observation)"
   ]
  },
  {
   "cell_type": "code",
   "execution_count": null,
   "id": "f15ba6f3",
   "metadata": {},
   "outputs": [],
   "source": []
  },
  {
   "cell_type": "code",
   "execution_count": 7,
   "id": "7483d91f",
   "metadata": {},
   "outputs": [
    {
     "name": "stdout",
     "output_type": "stream",
     "text": [
      "Using cpu device\n",
      "Wrapping the env with a `Monitor` wrapper\n",
      "Wrapping the env in a DummyVecEnv.\n",
      "---------------------------------\n",
      "| rollout/           |          |\n",
      "|    ep_len_mean     | 11       |\n",
      "|    ep_rew_mean     | 29.7     |\n",
      "| time/              |          |\n",
      "|    fps             | 746      |\n",
      "|    iterations      | 1        |\n",
      "|    time_elapsed    | 2        |\n",
      "|    total_timesteps | 2048     |\n",
      "---------------------------------\n"
     ]
    },
    {
     "data": {
      "text/plain": [
       "<stable_baselines3.ppo.ppo.PPO at 0x7f939e77cf90>"
      ]
     },
     "execution_count": 7,
     "metadata": {},
     "output_type": "execute_result"
    }
   ],
   "source": [
    "model = PPO(CustomPolicy, env, verbose=1)\n",
    "\n",
    "model.learn(total_timesteps=100)\n"
   ]
  },
  {
   "cell_type": "code",
   "execution_count": 8,
   "id": "20aefe69",
   "metadata": {},
   "outputs": [],
   "source": [
    "\n",
    "def create_simulation(config=None):\n",
    "    if config is None:\n",
    "        config = get_default_config()\n",
    "    \n",
    "    seed = config['seed']\n",
    "    set_seed(seed)\n",
    "    \n",
    "    G = Genome(config['n_chr'], config['n_loci'], seed=seed)\n",
    "    \n",
    "    founder_haplotypes = np.load('../nbs/data/g2f_ch10.npy')\n",
    "    random_parent_indices = np.random.choice(founder_haplotypes.shape[0], config['n_parents'], replace=False)\n",
    "    random_loci_indices = np.random.choice(founder_haplotypes.shape[2], config['n_loci'], replace=False)\n",
    "    \n",
    "    founder_haplotypes = founder_haplotypes[random_parent_indices,:,:]\n",
    "    founder_haplotypes = founder_haplotypes[:,:,random_loci_indices]\n",
    "    founder_haplotypes = torch.tensor(founder_haplotypes).unsqueeze(2)\n",
    "    \n",
    "    inbred_founders = create_pop(G, founder_haplotypes)\n",
    "    f1 = create_pop(G, random_crosses(inbred_founders.haplotypes, 1000))\n",
    "    founder_pop = create_pop(G, random_crosses(f1.haplotypes, config['pop_size']))\n",
    "    \n",
    "    T = Trait(G, founder_pop, target_mean=config['target_mean'], target_variance=config['target_variance'], seed=seed)\n",
    "    \n",
    "    SP = SimParams(founder_pop, config)\n",
    "    env = SelectionIntensityEnvironment(SP, config)\n",
    "    \n",
    "    return env\n",
    "\n",
    "\n"
   ]
  },
  {
   "cell_type": "code",
   "execution_count": 9,
   "id": "b9e309b8",
   "metadata": {},
   "outputs": [
    {
     "name": "stdout",
     "output_type": "stream",
     "text": [
      "observation_config : {'remaining_proportion': {'type': 'scalar', 'low': 0, 'high': 1}, 'genetic_variance': {'type': 'scalar', 'low': 0, 'high': inf}, 'mean_phenotype': {'type': 'scalar', 'low': -inf, 'high': inf}, 'max_breeding_value': {'type': 'scalar', 'low': -inf, 'high': inf}}\n",
      "action_low : 0.05\n",
      "action_high : 0.95\n",
      "sparse_reward : False\n",
      "n_parents : 2\n",
      "n_chr : 1\n",
      "n_loci : 50\n",
      "pop_size : 100\n",
      "max_generations : 10\n",
      "h2 : 0.5\n",
      "target_mean : 0\n",
      "target_variance : 1\n",
      "reps : 1\n",
      "total_timesteps : 5000000\n",
      "learning_rate : 0.0003\n",
      "gae_lambda : 0.95\n",
      "log_freq : 100\n",
      "start_gen : 10\n",
      "end_gen : 100\n",
      "start_gae_lambda : 0.9\n",
      "end_gae_lambda : 0.95\n",
      "seed : 8\n"
     ]
    },
    {
     "data": {
      "text/plain": [
       "(array([1.        , 0.99999976, 4.3533897 , 6.8917513 ], dtype=float32),\n",
       " {'max_phenotype': 6.891751289367676,\n",
       "  'genetic_variance': 0.9999997615814209,\n",
       "  'current_generation': 0})"
      ]
     },
     "execution_count": 9,
     "metadata": {},
     "output_type": "execute_result"
    }
   ],
   "source": [
    "config = get_default_config()\n",
    "config['n_parents'] = 2\n",
    "config['n_loci'] = 50\n",
    "config['pop_size'] = 100\n",
    "config['max_generations'] = 10\n",
    "config['total_timesteps'] = 5000000\n",
    "config['seed'] = 8\n",
    "for i in config:\n",
    "    print(f\"{i} : {config[i]}\")\n",
    "env = create_simulation(config)\n",
    "env.reset()\n"
   ]
  },
  {
   "cell_type": "code",
   "execution_count": 10,
   "id": "f55bc5a9",
   "metadata": {},
   "outputs": [
    {
     "name": "stdout",
     "output_type": "stream",
     "text": [
      "Best action: -0.444\n",
      "Best average max phenotype in final generation: 13.246\n"
     ]
    },
    {
     "data": {
      "image/png": "[encoded data removed]",
      "text/plain": [
       "<Figure size 1000x600 with 1 Axes>"
      ]
     },
     "metadata": {},
     "output_type": "display_data"
    }
   ],
   "source": [
    "import numpy as np\n",
    "import matplotlib.pyplot as plt\n",
    "\n",
    "def collect_baselines(env, actions, repetitions=10, cycles=5):\n",
    "    results = {action: {'max_phenotype': [], 'gv': []} for action in actions}\n",
    "    final_gen_averages = {}\n",
    "    env.reset()\n",
    "    for action in actions:\n",
    "        final_gen_phenotypes = []\n",
    "        for _ in range(repetitions):\n",
    "            env.reset()\n",
    "            cycle_max_phenotype = []\n",
    "            cycle_gv = []\n",
    "            cycle_max_phenotype.append(env.population.breeding_values.max())\n",
    "            cycle_gv.append(env.population.breeding_values.var())\n",
    "            for _ in range(cycles):\n",
    "                env.step(np.array([action]))\n",
    "                max_phenotype = env.population.breeding_values.max()\n",
    "                gv = env.population.breeding_values.var()\n",
    "                cycle_max_phenotype.append(max_phenotype)\n",
    "                cycle_gv.append(gv)\n",
    "            \n",
    "            results[action]['max_phenotype'].append(cycle_max_phenotype)\n",
    "            results[action]['gv'].append(cycle_gv)\n",
    "            final_gen_phenotypes.append(cycle_max_phenotype[-1])\n",
    "        \n",
    "        final_gen_averages[action] = np.mean(final_gen_phenotypes)\n",
    "    \n",
    "    best_action = max(final_gen_averages, key=final_gen_averages.get)\n",
    "    best_average = final_gen_averages[best_action]\n",
    "    \n",
    "    return results, best_action, best_average\n",
    "\n",
    "def plot_best_run(results, best_action):\n",
    "    plt.figure(figsize=(10, 6))\n",
    "    \n",
    "    max_phenotypes = np.array(results[best_action]['max_phenotype'])\n",
    "    mean_values = np.mean(max_phenotypes, axis=0)\n",
    "    std_values = np.std(max_phenotypes, axis=0)\n",
    "    cycles = range(len(mean_values))\n",
    "    best_action_translated = scale_values(best_action)\n",
    "    \n",
    "    plt.plot(cycles, mean_values, label=f'Action {best_action_translated:.3f}')\n",
    "    plt.fill_between(cycles, mean_values - std_values, mean_values + std_values, alpha=0.3)\n",
    "    \n",
    "    plt.xlabel('Cycle')\n",
    "    plt.ylabel('Max Phenotype')\n",
    "    plt.title(f'Max Phenotype over Cycles for Best Action')\n",
    "    plt.legend()\n",
    "    plt.grid(True)\n",
    "    plt.show()\n",
    "\n",
    "\n",
    "\n",
    "# Usage\n",
    "actions = np.linspace(-1, 0, 10)  # or however many actions you want to test\n",
    "results, best_action, best_average = collect_baselines(env, actions, repetitions=10, cycles=env.SP.max_generations)\n",
    "\n",
    "print(f\"Best action: {best_action:.3f}\")\n",
    "print(f\"Best average max phenotype in final generation: {best_average:.3f}\")\n",
    "\n",
    "# Plot only the best run\n",
    "plot_best_run(results, best_action)\n"
   ]
  },
  {
   "cell_type": "code",
   "execution_count": 11,
   "id": "a3889e91",
   "metadata": {},
   "outputs": [
    {
     "name": "stdout",
     "output_type": "stream",
     "text": [
      "Using cpu device\n",
      "Wrapping the env with a `Monitor` wrapper\n",
      "Wrapping the env in a DummyVecEnv.\n",
      "Logging to ../dev_nbs/ppotb/PPO_39\n"
     ]
    },
    {
     "name": "stderr",
     "output_type": "stream",
     "text": [
      "/home/glect/miniconda3/envs/breeding/lib/python3.11/site-packages/gymnasium/core.py:311: UserWarning: \u001b[33mWARN: env.max_generations to get variables from other wrappers is deprecated and will be removed in v1.0, to get this variable you can do `env.unwrapped.max_generations` for environment variables or `env.get_wrapper_attr('max_generations')` that will search the reminding wrappers.\u001b[0m\n",
      "  logger.warn(\n"
     ]
    },
    {
     "name": "stdout",
     "output_type": "stream",
     "text": [
      "---------------------------------\n",
      "| rollout/           |          |\n",
      "|    ep_len_mean     | 11       |\n",
      "|    ep_rew_mean     | 112      |\n",
      "| time/              |          |\n",
      "|    fps             | 865      |\n",
      "|    iterations      | 1        |\n",
      "|    time_elapsed    | 2        |\n",
      "|    total_timesteps | 2048     |\n",
      "---------------------------------\n",
      "------------------------------------------\n",
      "| rollout/                |              |\n",
      "|    ep_len_mean          | 11           |\n",
      "|    ep_rew_mean          | 112          |\n",
      "| time/                   |              |\n",
      "|    fps                  | 778          |\n",
      "|    iterations           | 2            |\n",
      "|    time_elapsed         | 5            |\n",
      "|    total_timesteps      | 4096         |\n",
      "| train/                  |              |\n",
      "|    approx_kl            | 0.0042181844 |\n",
      "|    clip_fraction        | 0.0378       |\n",
      "|    clip_range           | 0.2          |\n",
      "|    entropy_loss         | -1.42        |\n",
      "|    explained_variance   | 0.00109      |\n",
      "|    learning_rate        | 0.0003       |\n",
      "|    loss                 | 1.03e+03     |\n",
      "|    n_updates            | 10           |\n",
      "|    policy_gradient_loss | -0.00311     |\n",
      "|    std                  | 0.995        |\n",
      "|    value_loss           | 2.58e+03     |\n",
      "------------------------------------------\n",
      "------------------------------------------\n",
      "| rollout/                |              |\n",
      "|    ep_len_mean          | 11           |\n",
      "|    ep_rew_mean          | 113          |\n",
      "| time/                   |              |\n",
      "|    fps                  | 786          |\n",
      "|    iterations           | 3            |\n",
      "|    time_elapsed         | 7            |\n",
      "|    total_timesteps      | 6144         |\n",
      "| train/                  |              |\n",
      "|    approx_kl            | 0.0021441875 |\n",
      "|    clip_fraction        | 0.0118       |\n",
      "|    clip_range           | 0.2          |\n",
      "|    entropy_loss         | -1.4         |\n",
      "|    explained_variance   | -0.00103     |\n",
      "|    learning_rate        | 0.0003       |\n",
      "|    loss                 | 1.02e+03     |\n",
      "|    n_updates            | 20           |\n",
      "|    policy_gradient_loss | -0.000654    |\n",
      "|    std                  | 0.978        |\n",
      "|    value_loss           | 2.21e+03     |\n",
      "------------------------------------------\n"
     ]
    },
    {
     "ename": "KeyboardInterrupt",
     "evalue": "",
     "output_type": "error",
     "traceback": [
      "\u001b[0;31m---------------------------------------------------------------------------\u001b[0m",
      "\u001b[0;31mKeyboardInterrupt\u001b[0m                         Traceback (most recent call last)",
      "Cell \u001b[0;32mIn[11], line 18\u001b[0m\n\u001b[1;32m     16\u001b[0m \u001b[38;5;66;03m# Combine the callbacks using CallbackList\u001b[39;00m\n\u001b[1;32m     17\u001b[0m combined_callbacks \u001b[38;5;241m=\u001b[39m CallbackList([genetic_variance_callback, action_callback])\n\u001b[0;32m---> 18\u001b[0m \u001b[43mmodel\u001b[49m\u001b[38;5;241;43m.\u001b[39;49m\u001b[43mlearn\u001b[49m\u001b[43m(\u001b[49m\u001b[43mtotal_timesteps\u001b[49m\u001b[38;5;241;43m=\u001b[39;49m\u001b[43mconfig\u001b[49m\u001b[43m[\u001b[49m\u001b[38;5;124;43m'\u001b[39;49m\u001b[38;5;124;43mtotal_timesteps\u001b[39;49m\u001b[38;5;124;43m'\u001b[39;49m\u001b[43m]\u001b[49m\u001b[43m,\u001b[49m\u001b[43m \u001b[49m\u001b[43mcallback\u001b[49m\u001b[38;5;241;43m=\u001b[39;49m\u001b[43mcombined_callbacks\u001b[49m\u001b[43m)\u001b[49m\n",
      "File \u001b[0;32m~/miniconda3/envs/breeding/lib/python3.11/site-packages/stable_baselines3/ppo/ppo.py:315\u001b[0m, in \u001b[0;36mPPO.learn\u001b[0;34m(self, total_timesteps, callback, log_interval, tb_log_name, reset_num_timesteps, progress_bar)\u001b[0m\n\u001b[1;32m    306\u001b[0m \u001b[38;5;28;01mdef\u001b[39;00m \u001b[38;5;21mlearn\u001b[39m(\n\u001b[1;32m    307\u001b[0m     \u001b[38;5;28mself\u001b[39m: SelfPPO,\n\u001b[1;32m    308\u001b[0m     total_timesteps: \u001b[38;5;28mint\u001b[39m,\n\u001b[0;32m   (...)\u001b[0m\n\u001b[1;32m    313\u001b[0m     progress_bar: \u001b[38;5;28mbool\u001b[39m \u001b[38;5;241m=\u001b[39m \u001b[38;5;28;01mFalse\u001b[39;00m,\n\u001b[1;32m    314\u001b[0m ) \u001b[38;5;241m-\u001b[39m\u001b[38;5;241m>\u001b[39m SelfPPO:\n\u001b[0;32m--> 315\u001b[0m     \u001b[38;5;28;01mreturn\u001b[39;00m \u001b[38;5;28;43msuper\u001b[39;49m\u001b[43m(\u001b[49m\u001b[43m)\u001b[49m\u001b[38;5;241;43m.\u001b[39;49m\u001b[43mlearn\u001b[49m\u001b[43m(\u001b[49m\n\u001b[1;32m    316\u001b[0m \u001b[43m        \u001b[49m\u001b[43mtotal_timesteps\u001b[49m\u001b[38;5;241;43m=\u001b[39;49m\u001b[43mtotal_timesteps\u001b[49m\u001b[43m,\u001b[49m\n\u001b[1;32m    317\u001b[0m \u001b[43m        \u001b[49m\u001b[43mcallback\u001b[49m\u001b[38;5;241;43m=\u001b[39;49m\u001b[43mcallback\u001b[49m\u001b[43m,\u001b[49m\n\u001b[1;32m    318\u001b[0m \u001b[43m        \u001b[49m\u001b[43mlog_interval\u001b[49m\u001b[38;5;241;43m=\u001b[39;49m\u001b[43mlog_interval\u001b[49m\u001b[43m,\u001b[49m\n\u001b[1;32m    319\u001b[0m \u001b[43m        \u001b[49m\u001b[43mtb_log_name\u001b[49m\u001b[38;5;241;43m=\u001b[39;49m\u001b[43mtb_log_name\u001b[49m\u001b[43m,\u001b[49m\n\u001b[1;32m    320\u001b[0m \u001b[43m        \u001b[49m\u001b[43mreset_num_timesteps\u001b[49m\u001b[38;5;241;43m=\u001b[39;49m\u001b[43mreset_num_timesteps\u001b[49m\u001b[43m,\u001b[49m\n\u001b[1;32m    321\u001b[0m \u001b[43m        \u001b[49m\u001b[43mprogress_bar\u001b[49m\u001b[38;5;241;43m=\u001b[39;49m\u001b[43mprogress_bar\u001b[49m\u001b[43m,\u001b[49m\n\u001b[1;32m    322\u001b[0m \u001b[43m    \u001b[49m\u001b[43m)\u001b[49m\n",
      "File \u001b[0;32m~/miniconda3/envs/breeding/lib/python3.11/site-packages/stable_baselines3/common/on_policy_algorithm.py:300\u001b[0m, in \u001b[0;36mOnPolicyAlgorithm.learn\u001b[0;34m(self, total_timesteps, callback, log_interval, tb_log_name, reset_num_timesteps, progress_bar)\u001b[0m\n\u001b[1;32m    297\u001b[0m \u001b[38;5;28;01massert\u001b[39;00m \u001b[38;5;28mself\u001b[39m\u001b[38;5;241m.\u001b[39menv \u001b[38;5;129;01mis\u001b[39;00m \u001b[38;5;129;01mnot\u001b[39;00m \u001b[38;5;28;01mNone\u001b[39;00m\n\u001b[1;32m    299\u001b[0m \u001b[38;5;28;01mwhile\u001b[39;00m \u001b[38;5;28mself\u001b[39m\u001b[38;5;241m.\u001b[39mnum_timesteps \u001b[38;5;241m<\u001b[39m total_timesteps:\n\u001b[0;32m--> 300\u001b[0m     continue_training \u001b[38;5;241m=\u001b[39m \u001b[38;5;28;43mself\u001b[39;49m\u001b[38;5;241;43m.\u001b[39;49m\u001b[43mcollect_rollouts\u001b[49m\u001b[43m(\u001b[49m\u001b[38;5;28;43mself\u001b[39;49m\u001b[38;5;241;43m.\u001b[39;49m\u001b[43menv\u001b[49m\u001b[43m,\u001b[49m\u001b[43m \u001b[49m\u001b[43mcallback\u001b[49m\u001b[43m,\u001b[49m\u001b[43m \u001b[49m\u001b[38;5;28;43mself\u001b[39;49m\u001b[38;5;241;43m.\u001b[39;49m\u001b[43mrollout_buffer\u001b[49m\u001b[43m,\u001b[49m\u001b[43m \u001b[49m\u001b[43mn_rollout_steps\u001b[49m\u001b[38;5;241;43m=\u001b[39;49m\u001b[38;5;28;43mself\u001b[39;49m\u001b[38;5;241;43m.\u001b[39;49m\u001b[43mn_steps\u001b[49m\u001b[43m)\u001b[49m\n\u001b[1;32m    302\u001b[0m     \u001b[38;5;28;01mif\u001b[39;00m \u001b[38;5;129;01mnot\u001b[39;00m continue_training:\n\u001b[1;32m    303\u001b[0m         \u001b[38;5;28;01mbreak\u001b[39;00m\n",
      "File \u001b[0;32m~/miniconda3/envs/breeding/lib/python3.11/site-packages/stable_baselines3/common/on_policy_algorithm.py:195\u001b[0m, in \u001b[0;36mOnPolicyAlgorithm.collect_rollouts\u001b[0;34m(self, env, callback, rollout_buffer, n_rollout_steps)\u001b[0m\n\u001b[1;32m    190\u001b[0m     \u001b[38;5;28;01melse\u001b[39;00m:\n\u001b[1;32m    191\u001b[0m         \u001b[38;5;66;03m# Otherwise, clip the actions to avoid out of bound error\u001b[39;00m\n\u001b[1;32m    192\u001b[0m         \u001b[38;5;66;03m# as we are sampling from an unbounded Gaussian distribution\u001b[39;00m\n\u001b[1;32m    193\u001b[0m         clipped_actions \u001b[38;5;241m=\u001b[39m np\u001b[38;5;241m.\u001b[39mclip(actions, \u001b[38;5;28mself\u001b[39m\u001b[38;5;241m.\u001b[39maction_space\u001b[38;5;241m.\u001b[39mlow, \u001b[38;5;28mself\u001b[39m\u001b[38;5;241m.\u001b[39maction_space\u001b[38;5;241m.\u001b[39mhigh)\n\u001b[0;32m--> 195\u001b[0m new_obs, rewards, dones, infos \u001b[38;5;241m=\u001b[39m \u001b[43menv\u001b[49m\u001b[38;5;241;43m.\u001b[39;49m\u001b[43mstep\u001b[49m\u001b[43m(\u001b[49m\u001b[43mclipped_actions\u001b[49m\u001b[43m)\u001b[49m\n\u001b[1;32m    197\u001b[0m \u001b[38;5;28mself\u001b[39m\u001b[38;5;241m.\u001b[39mnum_timesteps \u001b[38;5;241m+\u001b[39m\u001b[38;5;241m=\u001b[39m env\u001b[38;5;241m.\u001b[39mnum_envs\n\u001b[1;32m    199\u001b[0m \u001b[38;5;66;03m# Give access to local variables\u001b[39;00m\n",
      "File \u001b[0;32m~/miniconda3/envs/breeding/lib/python3.11/site-packages/stable_baselines3/common/vec_env/base_vec_env.py:206\u001b[0m, in \u001b[0;36mVecEnv.step\u001b[0;34m(self, actions)\u001b[0m\n\u001b[1;32m    199\u001b[0m \u001b[38;5;250m\u001b[39m\u001b[38;5;124;03m\"\"\"\u001b[39;00m\n\u001b[1;32m    200\u001b[0m \u001b[38;5;124;03mStep the environments with the given action\u001b[39;00m\n\u001b[1;32m    201\u001b[0m \n\u001b[1;32m    202\u001b[0m \u001b[38;5;124;03m:param actions: the action\u001b[39;00m\n\u001b[1;32m    203\u001b[0m \u001b[38;5;124;03m:return: observation, reward, done, information\u001b[39;00m\n\u001b[1;32m    204\u001b[0m \u001b[38;5;124;03m\"\"\"\u001b[39;00m\n\u001b[1;32m    205\u001b[0m \u001b[38;5;28mself\u001b[39m\u001b[38;5;241m.\u001b[39mstep_async(actions)\n\u001b[0;32m--> 206\u001b[0m \u001b[38;5;28;01mreturn\u001b[39;00m \u001b[38;5;28;43mself\u001b[39;49m\u001b[38;5;241;43m.\u001b[39;49m\u001b[43mstep_wait\u001b[49m\u001b[43m(\u001b[49m\u001b[43m)\u001b[49m\n",
      "File \u001b[0;32m~/miniconda3/envs/breeding/lib/python3.11/site-packages/stable_baselines3/common/vec_env/dummy_vec_env.py:58\u001b[0m, in \u001b[0;36mDummyVecEnv.step_wait\u001b[0;34m(self)\u001b[0m\n\u001b[1;32m     55\u001b[0m \u001b[38;5;28;01mdef\u001b[39;00m \u001b[38;5;21mstep_wait\u001b[39m(\u001b[38;5;28mself\u001b[39m) \u001b[38;5;241m-\u001b[39m\u001b[38;5;241m>\u001b[39m VecEnvStepReturn:\n\u001b[1;32m     56\u001b[0m     \u001b[38;5;66;03m# Avoid circular imports\u001b[39;00m\n\u001b[1;32m     57\u001b[0m     \u001b[38;5;28;01mfor\u001b[39;00m env_idx \u001b[38;5;129;01min\u001b[39;00m \u001b[38;5;28mrange\u001b[39m(\u001b[38;5;28mself\u001b[39m\u001b[38;5;241m.\u001b[39mnum_envs):\n\u001b[0;32m---> 58\u001b[0m         obs, \u001b[38;5;28mself\u001b[39m\u001b[38;5;241m.\u001b[39mbuf_rews[env_idx], terminated, truncated, \u001b[38;5;28mself\u001b[39m\u001b[38;5;241m.\u001b[39mbuf_infos[env_idx] \u001b[38;5;241m=\u001b[39m \u001b[38;5;28;43mself\u001b[39;49m\u001b[38;5;241;43m.\u001b[39;49m\u001b[43menvs\u001b[49m\u001b[43m[\u001b[49m\u001b[43menv_idx\u001b[49m\u001b[43m]\u001b[49m\u001b[38;5;241;43m.\u001b[39;49m\u001b[43mstep\u001b[49m\u001b[43m(\u001b[49m\n\u001b[1;32m     59\u001b[0m \u001b[43m            \u001b[49m\u001b[38;5;28;43mself\u001b[39;49m\u001b[38;5;241;43m.\u001b[39;49m\u001b[43mactions\u001b[49m\u001b[43m[\u001b[49m\u001b[43menv_idx\u001b[49m\u001b[43m]\u001b[49m\n\u001b[1;32m     60\u001b[0m \u001b[43m        \u001b[49m\u001b[43m)\u001b[49m\n\u001b[1;32m     61\u001b[0m         \u001b[38;5;66;03m# convert to SB3 VecEnv api\u001b[39;00m\n\u001b[1;32m     62\u001b[0m         \u001b[38;5;28mself\u001b[39m\u001b[38;5;241m.\u001b[39mbuf_dones[env_idx] \u001b[38;5;241m=\u001b[39m terminated \u001b[38;5;129;01mor\u001b[39;00m truncated\n",
      "File \u001b[0;32m~/miniconda3/envs/breeding/lib/python3.11/site-packages/stable_baselines3/common/monitor.py:94\u001b[0m, in \u001b[0;36mMonitor.step\u001b[0;34m(self, action)\u001b[0m\n\u001b[1;32m     92\u001b[0m \u001b[38;5;28;01mif\u001b[39;00m \u001b[38;5;28mself\u001b[39m\u001b[38;5;241m.\u001b[39mneeds_reset:\n\u001b[1;32m     93\u001b[0m     \u001b[38;5;28;01mraise\u001b[39;00m \u001b[38;5;167;01mRuntimeError\u001b[39;00m(\u001b[38;5;124m\"\u001b[39m\u001b[38;5;124mTried to step environment that needs reset\u001b[39m\u001b[38;5;124m\"\u001b[39m)\n\u001b[0;32m---> 94\u001b[0m observation, reward, terminated, truncated, info \u001b[38;5;241m=\u001b[39m \u001b[38;5;28;43mself\u001b[39;49m\u001b[38;5;241;43m.\u001b[39;49m\u001b[43menv\u001b[49m\u001b[38;5;241;43m.\u001b[39;49m\u001b[43mstep\u001b[49m\u001b[43m(\u001b[49m\u001b[43maction\u001b[49m\u001b[43m)\u001b[49m\n\u001b[1;32m     95\u001b[0m \u001b[38;5;28mself\u001b[39m\u001b[38;5;241m.\u001b[39mrewards\u001b[38;5;241m.\u001b[39mappend(\u001b[38;5;28mfloat\u001b[39m(reward))\n\u001b[1;32m     96\u001b[0m \u001b[38;5;28;01mif\u001b[39;00m terminated \u001b[38;5;129;01mor\u001b[39;00m truncated:\n",
      "Cell \u001b[0;32mIn[4], line 96\u001b[0m, in \u001b[0;36mSelectionIntensityEnvironment.step\u001b[0;34m(self, action)\u001b[0m\n\u001b[1;32m     94\u001b[0m total_selected \u001b[38;5;241m=\u001b[39m \u001b[38;5;28mmax\u001b[39m((\u001b[38;5;241m2\u001b[39m,\u001b[38;5;28mint\u001b[39m(action \u001b[38;5;241m*\u001b[39m \u001b[38;5;28mself\u001b[39m\u001b[38;5;241m.\u001b[39mpopulation\u001b[38;5;241m.\u001b[39msize)))\n\u001b[1;32m     95\u001b[0m selected \u001b[38;5;241m=\u001b[39m torch\u001b[38;5;241m.\u001b[39mtopk(\u001b[38;5;28mself\u001b[39m\u001b[38;5;241m.\u001b[39mpopulation\u001b[38;5;241m.\u001b[39mphenotypes, total_selected)\u001b[38;5;241m.\u001b[39mindices\n\u001b[0;32m---> 96\u001b[0m \u001b[38;5;28mself\u001b[39m\u001b[38;5;241m.\u001b[39mpopulation \u001b[38;5;241m=\u001b[39m create_pop(\u001b[38;5;28mself\u001b[39m\u001b[38;5;241m.\u001b[39mSP\u001b[38;5;241m.\u001b[39mG, \u001b[43mrandom_crosses\u001b[49m\u001b[43m(\u001b[49m\u001b[38;5;28;43mself\u001b[39;49m\u001b[38;5;241;43m.\u001b[39;49m\u001b[43mpopulation\u001b[49m\u001b[38;5;241;43m.\u001b[39;49m\u001b[43mhaplotypes\u001b[49m\u001b[43m[\u001b[49m\u001b[43mselected\u001b[49m\u001b[43m]\u001b[49m\u001b[43m,\u001b[49m\u001b[43m \u001b[49m\u001b[38;5;28;43mself\u001b[39;49m\u001b[38;5;241;43m.\u001b[39;49m\u001b[43mSP\u001b[49m\u001b[38;5;241;43m.\u001b[39;49m\u001b[43mpop_size\u001b[49m\u001b[43m)\u001b[49m)\n\u001b[1;32m     97\u001b[0m \u001b[38;5;28mself\u001b[39m\u001b[38;5;241m.\u001b[39mphenotype \u001b[38;5;241m=\u001b[39m phenotype(\u001b[38;5;28mself\u001b[39m\u001b[38;5;241m.\u001b[39mpopulation, \u001b[38;5;28mself\u001b[39m\u001b[38;5;241m.\u001b[39mSP\u001b[38;5;241m.\u001b[39mT, \u001b[38;5;28mself\u001b[39m\u001b[38;5;241m.\u001b[39mSP\u001b[38;5;241m.\u001b[39mh2)\n\u001b[1;32m     98\u001b[0m \u001b[38;5;28mself\u001b[39m\u001b[38;5;241m.\u001b[39mcurrent_generation \u001b[38;5;241m+\u001b[39m\u001b[38;5;241m=\u001b[39m \u001b[38;5;241m1\u001b[39m\n",
      "File \u001b[0;32m/mnt/c/Users/cltng/OneDrive/chatgpt/chewc/sim.py:176\u001b[0m, in \u001b[0;36mrandom_crosses\u001b[0;34m(parent_population, total_crosses, device, seed)\u001b[0m\n\u001b[1;32m    173\u001b[0m father_gametes \u001b[38;5;241m=\u001b[39m recombine(fathers)\n\u001b[1;32m    175\u001b[0m \u001b[38;5;66;03m# Combine gametes to create progeny\u001b[39;00m\n\u001b[0;32m--> 176\u001b[0m progeny \u001b[38;5;241m=\u001b[39m \u001b[43mtorch\u001b[49m\u001b[38;5;241;43m.\u001b[39;49m\u001b[43mstack\u001b[49m\u001b[43m(\u001b[49m\u001b[43m(\u001b[49m\u001b[43mmother_gametes\u001b[49m\u001b[43m,\u001b[49m\u001b[43m \u001b[49m\u001b[43mfather_gametes\u001b[49m\u001b[43m)\u001b[49m\u001b[43m,\u001b[49m\u001b[43m \u001b[49m\u001b[43mdim\u001b[49m\u001b[38;5;241;43m=\u001b[39;49m\u001b[38;5;241;43m1\u001b[39;49m\u001b[43m)\u001b[49m\n\u001b[1;32m    178\u001b[0m \u001b[38;5;28;01mreturn\u001b[39;00m progeny\n",
      "\u001b[0;31mKeyboardInterrupt\u001b[0m: "
     ]
    }
   ],
   "source": [
    "\n",
    "model = PPO(\n",
    "    \"MlpPolicy\",\n",
    "    env,\n",
    "    verbose=1,\n",
    "    tensorboard_log='../dev_nbs/ppotb'\n",
    ")\n",
    "\n",
    "\n",
    "# model = PPO(CustomActorCriticPolicy, vec_env, verbose=1, tensorboard_log=\"./ppotb\")\n",
    "# model.learn(total_timesteps=config['total_timesteps'], callback=combined_callbacks)\n",
    "\n",
    "# Create your custom callbacks\n",
    "genetic_variance_callback = AverageFinalGenerationCallback(log_freq=1000)\n",
    "action_callback = ActionTrackingCallback(log_freq=1000)\n",
    "\n",
    "# Combine the callbacks using CallbackList\n",
    "combined_callbacks = CallbackList([genetic_variance_callback, action_callback])\n",
    "model.learn(total_timesteps=config['total_timesteps'], callback=combined_callbacks)"
   ]
  },
  {
   "cell_type": "code",
   "execution_count": null,
   "id": "5ca90bdd",
   "metadata": {
    "scrolled": true
   },
   "outputs": [],
   "source": []
  },
  {
   "cell_type": "code",
   "execution_count": null,
   "id": "f27e043f",
   "metadata": {},
   "outputs": [],
   "source": [
    "plt.hist(env.population.breeding_values)"
   ]
  },
  {
   "cell_type": "code",
   "execution_count": null,
   "id": "104713e8",
   "metadata": {},
   "outputs": [],
   "source": []
  },
  {
   "cell_type": "code",
   "execution_count": null,
   "id": "b08104ba",
   "metadata": {},
   "outputs": [],
   "source": []
  },
  {
   "cell_type": "code",
   "execution_count": null,
   "id": "24253a11",
   "metadata": {},
   "outputs": [],
   "source": [
    "env.SP.max_generations"
   ]
  },
  {
   "cell_type": "code",
   "execution_count": null,
   "id": "2cf4bf2a",
   "metadata": {},
   "outputs": [],
   "source": []
  },
  {
   "cell_type": "code",
   "execution_count": null,
   "id": "e71b61ef",
   "metadata": {},
   "outputs": [],
   "source": []
  },
  {
   "cell_type": "code",
   "execution_count": null,
   "id": "050415eb",
   "metadata": {
    "scrolled": true
   },
   "outputs": [],
   "source": [
    "\n",
    "# Create your custom callbacks\n",
    "genetic_variance_callback = AverageFinalGenerationCallback(log_freq=1000)\n",
    "action_callback = ActionTrackingCallback(log_freq=1000)\n",
    "\n",
    "# Combine the callbacks using CallbackList\n",
    "combined_callbacks = CallbackList([genetic_variance_callback, action_callback])\n",
    "vec_env = DummyVecEnv([lambda: env])\n",
    "# Create and train the model with the custom policy\n",
    "model = PPO(CustomActorCriticPolicy, vec_env, verbose=1, tensorboard_log=\"./ppotb\")\n",
    "model.learn(total_timesteps=config['total_timesteps'], callback=combined_callbacks)"
   ]
  },
  {
   "cell_type": "code",
   "execution_count": null,
   "id": "fc5ec2d9",
   "metadata": {},
   "outputs": [],
   "source": [
    "config['sparse_reward'] =True\n",
    "env = create_simulation(config)\n",
    "env.reset()\n",
    "# Create your custom callbacks\n",
    "genetic_variance_callback = AverageFinalGenerationCallback(log_freq=1000)\n",
    "action_callback = ActionTrackingCallback(log_freq=1000)\n",
    "\n",
    "# Combine the callbacks using CallbackList\n",
    "combined_callbacks = CallbackList([genetic_variance_callback, action_callback])\n",
    "vec_env = DummyVecEnv([lambda: env])\n",
    "# Create and train the model with the custom policy\n",
    "model = PPO(CustomActorCriticPolicy, vec_env, verbose=1, tensorboard_log=\"./ppotb\")\n",
    "model.learn(total_timesteps=config['total_timesteps'], callback=combined_callbacks)"
   ]
  },
  {
   "cell_type": "code",
   "execution_count": null,
   "id": "08d60cfa",
   "metadata": {},
   "outputs": [],
   "source": []
  }
 ],
 "metadata": {
  "kernelspec": {
   "display_name": "Python 3 (ipykernel)",
   "language": "python",
   "name": "python3"
  },
  "language_info": {
   "codemirror_mode": {
    "name": "ipython",
    "version": 3
   },
   "file_extension": ".py",
   "mimetype": "text/x-python",
   "name": "python",
   "nbconvert_exporter": "python",
   "pygments_lexer": "ipython3",
   "version": "3.11.9"
  }
 },
 "nbformat": 4,
 "nbformat_minor": 5
}
