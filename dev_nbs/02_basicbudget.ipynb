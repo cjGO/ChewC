{
 "cells": [
  {
   "cell_type": "code",
   "execution_count": 1,
   "id": "7570e93c",
   "metadata": {},
   "outputs": [],
   "source": [
    "#x01_populationStatistics"
   ]
  },
  {
   "cell_type": "code",
   "execution_count": 2,
   "id": "12887f4c",
   "metadata": {},
   "outputs": [],
   "source": [
    "from chewc.callback import *\n",
    "from chewc.policy import *\n",
    "from chewc.sim import *\n",
    "from chewc.lab import *\n",
    "from chewc.config import *"
   ]
  },
  {
   "cell_type": "code",
   "execution_count": 3,
   "id": "d9e0107f",
   "metadata": {},
   "outputs": [],
   "source": [
    "import matplotlib.pyplot as plt\n",
    "import uuid\n",
    "import pdb\n",
    "import torch\n",
    "from matplotlib.animation import FuncAnimation\n",
    "import torch\n",
    "import torch.optim as optim\n",
    "import torch.nn.functional as F\n",
    "import torch.nn as nn\n",
    "import gymnasium as gym\n",
    "import numpy as np\n",
    "device='cpu'\n",
    "from torch.utils.tensorboard import SummaryWriter\n",
    "\n",
    "\n",
    "\n",
    "import gymnasium as gym\n",
    "from stable_baselines3 import PPO\n",
    "from stable_baselines3.common.vec_env import DummyVecEnv\n",
    "from stable_baselines3.common.callbacks import CallbackList\n"
   ]
  },
  {
   "cell_type": "code",
   "execution_count": 4,
   "id": "5ca90bdd",
   "metadata": {
    "scrolled": true
   },
   "outputs": [
    {
     "name": "stdout",
     "output_type": "stream",
     "text": [
      "action_low : 0.05\n",
      "action_high : 0.95\n",
      "sparse_reward : False\n",
      "n_parents : 2\n",
      "n_chr : 1\n",
      "n_loci : 50\n",
      "pop_size : 100\n",
      "max_generations : 4\n",
      "h2 : 0.5\n",
      "target_mean : 0\n",
      "target_variance : 1\n",
      "reps : 1\n",
      "total_timesteps : 400000\n",
      "learning_rate : 0.0003\n",
      "gae_lambda : 0.95\n",
      "log_freq : 100\n",
      "start_gen : 10\n",
      "end_gen : 100\n",
      "start_gae_lambda : 0.9\n",
      "end_gae_lambda : 0.95\n",
      "seed : 6\n"
     ]
    },
    {
     "data": {
      "text/plain": [
       "({'population': array([[[[0, 0, 0, ..., 0, 0, 0]],\n",
       "  \n",
       "          [[0, 0, 0, ..., 0, 1, 0]]],\n",
       "  \n",
       "  \n",
       "         [[[0, 1, 1, ..., 0, 1, 1]],\n",
       "  \n",
       "          [[0, 1, 1, ..., 0, 1, 1]]],\n",
       "  \n",
       "  \n",
       "         [[[0, 1, 1, ..., 0, 1, 1]],\n",
       "  \n",
       "          [[0, 1, 1, ..., 0, 1, 1]]],\n",
       "  \n",
       "  \n",
       "         ...,\n",
       "  \n",
       "  \n",
       "         [[[0, 0, 0, ..., 0, 0, 0]],\n",
       "  \n",
       "          [[0, 0, 1, ..., 0, 1, 1]]],\n",
       "  \n",
       "  \n",
       "         [[[0, 0, 0, ..., 0, 1, 0]],\n",
       "  \n",
       "          [[0, 0, 0, ..., 0, 0, 0]]],\n",
       "  \n",
       "  \n",
       "         [[[0, 0, 0, ..., 0, 0, 0]],\n",
       "  \n",
       "          [[0, 1, 1, ..., 0, 1, 0]]]], dtype=int32),\n",
       "  'generation': array([0.], dtype=float32)},\n",
       " {'max_phenotype': 2.7528321743011475,\n",
       "  'genetic_variance': 0.9999999403953552,\n",
       "  'current_generation': 0})"
      ]
     },
     "execution_count": 4,
     "metadata": {},
     "output_type": "execute_result"
    }
   ],
   "source": [
    "config = get_default_config()\n",
    "config['n_parents'] = 2\n",
    "config['n_loci'] = 50\n",
    "config['pop_size'] = 100\n",
    "config['max_generations'] = 4\n",
    "config['total_timesteps'] = 400000\n",
    "config['seed'] = 6\n",
    "for i in config:\n",
    "    print(f\"{i} : {config[i]}\")\n",
    "env = create_simulation(config)\n",
    "env.reset()"
   ]
  },
  {
   "cell_type": "code",
   "execution_count": 5,
   "id": "f27e043f",
   "metadata": {},
   "outputs": [
    {
     "data": {
      "text/plain": [
       "(array([ 2.,  1.,  7., 13., 13., 29., 13., 14.,  4.,  4.]),\n",
       " array([-2.44620132, -1.92629802, -1.4063946 , -0.8864913 , -0.36658794,\n",
       "         0.15331542,  0.67321879,  1.19312215,  1.71302545,  2.23292875,\n",
       "         2.75283217]),\n",
       " <BarContainer object of 10 artists>)"
      ]
     },
     "execution_count": 5,
     "metadata": {},
     "output_type": "execute_result"
    },
    {
     "data": {
      "image/png": "[encoded data removed]",
      "text/plain": [
       "<Figure size 640x480 with 1 Axes>"
      ]
     },
     "metadata": {},
     "output_type": "display_data"
    }
   ],
   "source": [
    "plt.hist(env.population.breeding_values)"
   ]
  },
  {
   "cell_type": "code",
   "execution_count": 6,
   "id": "104713e8",
   "metadata": {},
   "outputs": [],
   "source": [
    "import numpy as np\n",
    "import matplotlib.pyplot as plt\n",
    "\n",
    "def collect_baselines(env, actions, repetitions=10, cycles=5):\n",
    "    results = {action: {'max_phenotype': [], 'gv': []} for action in actions}\n",
    "    final_gen_averages = {}\n",
    "    env.reset()\n",
    "    for action in actions:\n",
    "        final_gen_phenotypes = []\n",
    "        for _ in range(repetitions):\n",
    "            env.reset()\n",
    "            cycle_max_phenotype = []\n",
    "            cycle_gv = []\n",
    "            cycle_max_phenotype.append(env.population.breeding_values.max())\n",
    "            cycle_gv.append(env.population.breeding_values.var())\n",
    "            for _ in range(cycles):\n",
    "                env.step(np.array([action]))\n",
    "                max_phenotype = env.population.breeding_values.max()\n",
    "                gv = env.population.breeding_values.var()\n",
    "                cycle_max_phenotype.append(max_phenotype)\n",
    "                cycle_gv.append(gv)\n",
    "            \n",
    "            results[action]['max_phenotype'].append(cycle_max_phenotype)\n",
    "            results[action]['gv'].append(cycle_gv)\n",
    "            final_gen_phenotypes.append(cycle_max_phenotype[-1])\n",
    "        \n",
    "        final_gen_averages[action] = np.mean(final_gen_phenotypes)\n",
    "    \n",
    "    best_action = max(final_gen_averages, key=final_gen_averages.get)\n",
    "    best_average = final_gen_averages[best_action]\n",
    "    \n",
    "    return results, best_action, best_average\n",
    "\n",
    "def plot_best_run(results, best_action):\n",
    "    plt.figure(figsize=(10, 6))\n",
    "    \n",
    "    max_phenotypes = np.array(results[best_action]['max_phenotype'])\n",
    "    mean_values = np.mean(max_phenotypes, axis=0)\n",
    "    std_values = np.std(max_phenotypes, axis=0)\n",
    "    cycles = range(len(mean_values))\n",
    "    \n",
    "    plt.plot(cycles, mean_values, label=f'Action {best_action:.3f}')\n",
    "    plt.fill_between(cycles, mean_values - std_values, mean_values + std_values, alpha=0.3)\n",
    "    \n",
    "    plt.xlabel('Cycle')\n",
    "    plt.ylabel('Max Phenotype')\n",
    "    plt.title(f'Max Phenotype over Cycles for Best Action')\n",
    "    plt.legend()\n",
    "    plt.grid(True)\n",
    "    plt.show()\n",
    "\n"
   ]
  },
  {
   "cell_type": "code",
   "execution_count": null,
   "id": "b08104ba",
   "metadata": {},
   "outputs": [],
   "source": []
  },
  {
   "cell_type": "code",
   "execution_count": 7,
   "id": "24253a11",
   "metadata": {},
   "outputs": [
    {
     "data": {
      "text/plain": [
       "4"
      ]
     },
     "execution_count": 7,
     "metadata": {},
     "output_type": "execute_result"
    }
   ],
   "source": [
    "env.SP.max_generations"
   ]
  },
  {
   "cell_type": "code",
   "execution_count": 8,
   "id": "2cf4bf2a",
   "metadata": {},
   "outputs": [
    {
     "name": "stdout",
     "output_type": "stream",
     "text": [
      "Best action: -0.778\n",
      "Best average max phenotype in final generation: 7.236\n"
     ]
    },
    {
     "data": {
      "image/png": "[encoded data removed]",
      "text/plain": [
       "<Figure size 1000x600 with 1 Axes>"
      ]
     },
     "metadata": {},
     "output_type": "display_data"
    }
   ],
   "source": [
    "# Usage\n",
    "actions = np.linspace(-1, 0, 10)  # or however many actions you want to test\n",
    "results, best_action, best_average = collect_baselines(env, actions, repetitions=10, cycles=env.SP.max_generations)\n",
    "\n",
    "print(f\"Best action: {best_action:.3f}\")\n",
    "print(f\"Best average max phenotype in final generation: {best_average:.3f}\")\n",
    "\n",
    "# Plot only the best run\n",
    "plot_best_run(results, best_action)\n"
   ]
  },
  {
   "cell_type": "code",
   "execution_count": 9,
   "id": "e71b61ef",
   "metadata": {},
   "outputs": [
    {
     "data": {
      "text/plain": [
       "({'population': array([[[[0, 0, 0, ..., 0, 0, 0]],\n",
       "  \n",
       "          [[0, 0, 0, ..., 0, 1, 0]]],\n",
       "  \n",
       "  \n",
       "         [[[0, 1, 1, ..., 0, 1, 1]],\n",
       "  \n",
       "          [[0, 1, 1, ..., 0, 1, 1]]],\n",
       "  \n",
       "  \n",
       "         [[[0, 1, 1, ..., 0, 1, 1]],\n",
       "  \n",
       "          [[0, 1, 1, ..., 0, 1, 1]]],\n",
       "  \n",
       "  \n",
       "         ...,\n",
       "  \n",
       "  \n",
       "         [[[0, 0, 0, ..., 0, 0, 0]],\n",
       "  \n",
       "          [[0, 0, 1, ..., 0, 1, 1]]],\n",
       "  \n",
       "  \n",
       "         [[[0, 0, 0, ..., 0, 1, 0]],\n",
       "  \n",
       "          [[0, 0, 0, ..., 0, 0, 0]]],\n",
       "  \n",
       "  \n",
       "         [[[0, 0, 0, ..., 0, 0, 0]],\n",
       "  \n",
       "          [[0, 1, 1, ..., 0, 1, 0]]]], dtype=int32),\n",
       "  'generation': array([0.], dtype=float32)},\n",
       " {'max_phenotype': 2.7528321743011475,\n",
       "  'genetic_variance': 0.9999999403953552,\n",
       "  'current_generation': 0})"
      ]
     },
     "execution_count": 9,
     "metadata": {},
     "output_type": "execute_result"
    }
   ],
   "source": [
    "env.reset()"
   ]
  },
  {
   "cell_type": "code",
   "execution_count": 10,
   "id": "050415eb",
   "metadata": {
    "scrolled": true
   },
   "outputs": [],
   "source": [
    "\n",
    "# Create your custom callbacks\n",
    "genetic_variance_callback = AverageFinalGenerationCallback(log_freq=1000)\n",
    "action_callback = ActionTrackingCallback(log_freq=1000)\n",
    "\n",
    "# Combine the callbacks using CallbackList\n",
    "combined_callbacks = CallbackList([genetic_variance_callback, action_callback])\n",
    "vec_env = DummyVecEnv([lambda: env])\n",
    "# Create and train the model with the custom policy\n",
    "model = PPO(CustomActorCriticPolicy, vec_env, verbose=1, tensorboard_log=\"./ppotb\")\n",
    "model.learn(total_timesteps=config['total_timesteps'], callback=combined_callbacks)"
   ]
  },
  {
   "cell_type": "code",
   "execution_count": null,
   "id": "fc5ec2d9",
   "metadata": {},
   "outputs": [],
   "source": [
    "config['sparse_reward'] =False\n",
    "env = create_simulation(config)\n",
    "env.reset()\n",
    "# Create your custom callbacks\n",
    "genetic_variance_callback = AverageFinalGenerationCallback(log_freq=1000)\n",
    "action_callback = ActionTrackingCallback(log_freq=1000)\n",
    "\n",
    "# Combine the callbacks using CallbackList\n",
    "combined_callbacks = CallbackList([genetic_variance_callback, action_callback])\n",
    "vec_env = DummyVecEnv([lambda: env])\n",
    "# Create and train the model with the custom policy\n",
    "model = PPO(CustomActorCriticPolicy, vec_env, verbose=1, tensorboard_log=\"./ppotb\")\n",
    "model.learn(total_timesteps=config['total_timesteps'], callback=combined_callbacks)"
   ]
  }
 ],
 "metadata": {
  "kernelspec": {
   "display_name": "Python 3 (ipykernel)",
   "language": "python",
   "name": "python3"
  },
  "language_info": {
   "codemirror_mode": {
    "name": "ipython",
    "version": 3
   },
   "file_extension": ".py",
   "mimetype": "text/x-python",
   "name": "python",
   "nbconvert_exporter": "python",
   "pygments_lexer": "ipython3",
   "version": "3.11.9"
  }
 },
 "nbformat": 4,
 "nbformat_minor": 5
}
