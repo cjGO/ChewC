{
 "cells": [
  {
   "cell_type": "code",
   "execution_count": 73,
   "metadata": {},
   "outputs": [
    {
     "name": "stderr",
     "output_type": "stream",
     "text": [
      "/tmp/ipykernel_34975/3565581120.py:70: UserWarning: To copy construct from a tensor, it is recommended to use sourceTensor.clone().detach() or sourceTensor.clone().detach().requires_grad_(True), rather than torch.tensor(sourceTensor).\n",
      "  environmental_noise = torch.randn(1) * torch.sqrt(torch.tensor(varE))\n"
     ]
    }
   ],
   "source": [
    "import attr\n",
    "import torch\n",
    "import pandas as pd\n",
    "import matplotlib.pyplot as plt\n",
    "\n",
    "\n",
    "\n",
    "def get_all_phenotypes(population: Population) -> torch.Tensor:\n",
    "    \"\"\"Returns a tensor of all phenotypes in the population.\n",
    "\n",
    "    Args:\n",
    "        population (Population): The population object.\n",
    "\n",
    "    Returns:\n",
    "        torch.Tensor: A tensor of shape (n_individuals, n_traits) containing all phenotypes.\n",
    "    \"\"\"\n",
    "    return torch.stack([individual.phenotype for individual in population.individuals])\n",
    "\n",
    "def get_all_genetic_values(population: Population) -> torch.Tensor:\n",
    "    \"\"\"Returns a tensor of all genetic values in the population.\n",
    "\n",
    "    Args:\n",
    "        population (Population): The population object.\n",
    "\n",
    "    Returns:\n",
    "        torch.Tensor: A tensor of shape (n_individuals, n_traits) containing all genetic values.\n",
    "    \"\"\"\n",
    "    return torch.stack([individual.genetic_values for individual in population.individuals])\n",
    "\n",
    "\n",
    "@attr.s(auto_attribs=True)\n",
    "class Individual:\n",
    "    \"\"\"Represents an individual in a population.\"\"\"\n",
    "    haplotypes: torch.Tensor  # Shape: (ploidy, n_chromosomes, n_loci_per_chr)\n",
    "    phenotype: torch.Tensor = None\n",
    "    genetic_values: torch.Tensor = None\n",
    "    sex: str = None\n",
    "    id: int = None\n",
    "    mother_id: int = None\n",
    "    father_id: int = None\n",
    "\n",
    "    @property\n",
    "    def allele_dosage(self):\n",
    "        \"\"\"Calculates the allele dosage from the haplotypes.\"\"\"\n",
    "        return self.haplotypes.sum(dim=0)  # Sum across the ploidy dimension\n",
    "\n",
    "\n",
    "@attr.s(auto_attribs=True)\n",
    "class Population:\n",
    "    \"\"\"Manages a collection of individuals.\"\"\"\n",
    "    individuals: list[Individual] = attr.Factory(list)\n",
    "    sim_param: 'SimParam' = None\n",
    "\n",
    "    def __len__(self):\n",
    "        return len(self.individuals)\n",
    "    \n",
    "    def generate_random_founders(self, n_founders: int):\n",
    "        \"\"\"Generates a founder population with random haplotypes.\"\"\"\n",
    "        for i in range(n_founders):\n",
    "            haplotypes = torch.randint(\n",
    "                0, 2, (self.sim_param.ploidy, self.sim_param.n_chromosomes, self.sim_param.n_loci_per_chr)\n",
    "            )\n",
    "            individual = Individual(haplotypes=haplotypes, id=i + 1)\n",
    "            self.individuals.append(individual)\n",
    "\n",
    "    def set_phenotypes(self, varE: float):\n",
    "        \"\"\"Sets phenotypes for all individuals in the population.\"\"\"\n",
    "        for individual in self.individuals:\n",
    "            genetic_value = self.calculate_genetic_value(individual)\n",
    "            environmental_noise = torch.randn(1) * torch.sqrt(torch.tensor(varE))\n",
    "            individual.phenotype = genetic_value + environmental_noise\n",
    "            individual.genetic_values = genetic_value\n",
    "\n",
    "    def calculate_genetic_value(self, individual: Individual):\n",
    "        \"\"\"Calculates the genetic value for an individual.\"\"\"\n",
    "        total_genetic_value = torch.tensor(0.0) # Initialize genetic value\n",
    "        for trait in self.sim_param.traits:\n",
    "            genetic_value = trait.mean \n",
    "            for chr in range(self.sim_param.n_chromosomes):\n",
    "                for ploidy_idx in range(self.sim_param.ploidy):\n",
    "                    for qtl_idx in range(trait.n_qtl_per_chr):\n",
    "                        qtl_location = trait.qtl_locations[chr, ploidy_idx, qtl_idx]\n",
    "                        allele_dosage = individual.allele_dosage[chr, qtl_location]\n",
    "                        effect = trait.qtl_effects[chr, ploidy_idx, qtl_idx]\n",
    "                        genetic_value += allele_dosage * effect\n",
    "            total_genetic_value += genetic_value\n",
    "        return total_genetic_value\n",
    "\n",
    "\n",
    "\n",
    "@attr.s(auto_attribs=True)\n",
    "class Trait:\n",
    "    \"\"\"Defines parameters for a trait.\"\"\"\n",
    "    mean: float\n",
    "    variance: float\n",
    "    n_qtl_per_chr: int \n",
    "    qtl_effects: torch.Tensor = None\n",
    "    qtl_locations: torch.Tensor = None\n",
    "\n",
    "    def generate_qtl_effects(self, n_chromosomes, ploidy,  n_loci_per_chr):\n",
    "        \"\"\"Generates QTL effects and their locations.\"\"\"\n",
    "        qtl_effects = torch.randn(n_chromosomes, ploidy, self.n_qtl_per_chr) * torch.sqrt(torch.tensor(self.variance))\n",
    "        \n",
    "        qtl_locations = []\n",
    "        for _ in range(n_chromosomes):\n",
    "            for _ in range(ploidy):\n",
    "                qtl_locations.append(torch.randperm(n_loci_per_chr)[:self.n_qtl_per_chr])\n",
    "                \n",
    "        qtl_locations = torch.stack(qtl_locations).view(n_chromosomes, ploidy, self.n_qtl_per_chr)\n",
    "        # Assert that qtl_effects and qtl_locations have the same shape\n",
    "\n",
    "        assert qtl_effects.shape == qtl_locations.shape, \"Shapes of qtl_effects and qtl_locations do not match\"\n",
    "        self.qtl_effects = qtl_effects\n",
    "        self.qtl_locations = qtl_locations\n",
    "\n",
    "@attr.s(auto_attribs=True)\n",
    "class SimParam:\n",
    "    \"\"\"Stores global simulation parameters.\"\"\"\n",
    "    n_chromosomes: int = 10\n",
    "    ploidy: int = 2\n",
    "    traits: list[Trait] = attr.Factory(list)\n",
    "    n_loci_per_chr: int = 100\n",
    "    n_traits: int = None\n",
    "    corA: torch.Tensor = None # Correlation matrix\n",
    "\n",
    "    # ... (Other simulation parameters)\n",
    "\n",
    "    def add_trait_A(self, means: torch.Tensor, variances: torch.Tensor, corA: torch.Tensor, n_qtl_per_chr: int):\n",
    "        \"\"\"\n",
    "        Creates multiple additive traits and adds them to the simulation.\n",
    "\n",
    "        Parameters:\n",
    "        - means: Tensor of mean values for the traits\n",
    "        - variances: Tensor of variance values for the traits\n",
    "        - corA: The correlation matrix between additive effects.\n",
    "        \n",
    "        Assumption:\n",
    "        - n_qtl_per_chr: equal number of qtl per chromosome\n",
    "        \"\"\"\n",
    "        self.n_traits = means.size(0) # Set the number of traits\n",
    "        self.corA = corA # Store the correlation matrix\n",
    "\n",
    "        assert means.size(0) == variances.size(0) == corA.size(0) == corA.size(1), \\\n",
    "               \"means, variances, corA must have compatible dimensions.\"\n",
    "        \n",
    "        # Cholesky decomposition to generate correlated effects\n",
    "        L = torch.linalg.cholesky(corA)\n",
    "\n",
    "        # Generate QTL effects for all traits\n",
    "        qtl_effects = torch.randn(self.n_traits, self.n_chromosomes, self.ploidy, n_qtl_per_chr)\n",
    "        \n",
    "        # Apply Cholesky transformation for correlation\n",
    "        correlated_effects = L @ qtl_effects.view(self.n_traits, -1) # Matrix multiplication\n",
    "        correlated_effects = correlated_effects.view(self.n_traits, self.n_chromosomes, self.ploidy, n_qtl_per_chr)\n",
    "\n",
    "        # Scale for desired variance\n",
    "        for i in range(self.n_traits):\n",
    "            correlated_effects[i] *= torch.sqrt(variances[i]) # Scale by the square root of the variance\n",
    "\n",
    "        qtl_locations = []\n",
    "        for _ in range(self.n_chromosomes):\n",
    "            for _ in range(self.ploidy):\n",
    "                qtl_locations.append(torch.randperm(self.n_loci_per_chr)[:n_qtl_per_chr])\n",
    "                \n",
    "        qtl_locations = torch.stack(qtl_locations).view(self.n_chromosomes, self.ploidy, n_qtl_per_chr)\n",
    "\n",
    "        # Create Trait objects and add them to the simulation\n",
    "        for i in range(self.n_traits):\n",
    "            trait = Trait(mean=means[i].item(), variance=variances[i].item(), n_qtl_per_chr=n_qtl_per_chr)\n",
    "            trait.qtl_effects = correlated_effects[i]\n",
    "            trait.qtl_locations = qtl_locations\n",
    "            self.traits.append(trait)\n",
    "\n",
    "# Simulation parameters\n",
    "sim_param = SimParam(n_chromosomes=2, n_loci_per_chr=100, ploidy=2) # Create a population\n",
    "population = Population(sim_param=sim_param)\n",
    "population.generate_random_founders(n_founders=100)\n",
    "\n",
    "# Define the correlation matrix\n",
    "corA = torch.tensor([[1.0, -0.9], [-0.9, 1.0]]) \n",
    "\n",
    "# Add traits with correlation\n",
    "sim_param.add_trait_A(means=torch.tensor([.25, 1.5]), variances=torch.tensor([1.0, 0.5]), corA=corA, n_qtl_per_chr=10)\n",
    "population.set_phenotypes(varE = torch.tensor([1.0, 0.5]))\n",
    "individual = population.individuals[0]"
   ]
  },
  {
   "cell_type": "code",
   "execution_count": 74,
   "metadata": {},
   "outputs": [
    {
     "data": {
      "text/plain": [
       "2"
      ]
     },
     "execution_count": 74,
     "metadata": {},
     "output_type": "execute_result"
    }
   ],
   "source": [
    "len(sim_param.traits)"
   ]
  },
  {
   "cell_type": "code",
   "execution_count": 75,
   "metadata": {},
   "outputs": [
    {
     "data": {
      "text/plain": [
       "tensor([[[True, True, True, True, True, True, True, True, True, True],\n",
       "         [True, True, True, True, True, True, True, True, True, True]],\n",
       "\n",
       "        [[True, True, True, True, True, True, True, True, True, True],\n",
       "         [True, True, True, True, True, True, True, True, True, True]]])"
      ]
     },
     "execution_count": 75,
     "metadata": {},
     "output_type": "execute_result"
    }
   ],
   "source": [
    "# the add_traits_a adds marker effects for multiple traits simultaneously on the same QTL loci (positions)\n",
    "sim_param.traits[0].qtl_locations == sim_param.traits[1].qtl_locations"
   ]
  },
  {
   "cell_type": "code",
   "execution_count": 76,
   "metadata": {},
   "outputs": [
    {
     "data": {
      "text/plain": [
       "<matplotlib.collections.PathCollection at 0x7f5194d3d210>"
      ]
     },
     "execution_count": 76,
     "metadata": {},
     "output_type": "execute_result"
    },
    {
     "data": {
      "image/png": "[encoded data removed]",
      "text/plain": [
       "<Figure size 640x480 with 1 Axes>"
      ]
     },
     "metadata": {},
     "output_type": "display_data"
    }
   ],
   "source": [
    "plt.scatter(sim_param.traits[1].qtl_effects.flatten().numpy(), sim_param.traits[0].qtl_effects.flatten().numpy())"
   ]
  },
  {
   "cell_type": "code",
   "execution_count": 78,
   "metadata": {},
   "outputs": [
    {
     "data": {
      "image/png": "[encoded data removed]",
      "text/plain": [
       "<Figure size 1000x500 with 1 Axes>"
      ]
     },
     "metadata": {},
     "output_type": "display_data"
    }
   ],
   "source": [
    "\n",
    "# Set phenotype\n",
    "# population = set_phenotype(population, varE=1.0)\n",
    "# Get all phenotypes and genetic values\n",
    "phenotypes = get_all_phenotypes(population)\n",
    "genetic_values = get_all_genetic_values(population)\n",
    "\n",
    "# --- Plotting ---\n",
    "plt.figure(figsize=(10, 5))\n",
    "\n",
    "# Histogram of phenotypes\n",
    "plt.subplot(1, 2, 1)\n",
    "plt.hist(phenotypes.numpy(), bins=10)\n",
    "plt.title(\"Phenotype Distribution\")\n",
    "plt.xlabel(\"Phenotype\")\n",
    "plt.ylabel(\"Frequency\")\n",
    "\n",
    "# # Scatter plot of genetic values vs phenotypes\n",
    "# plt.subplot(1, 2, 2)\n",
    "# plt.scatter(genetic_values.numpy(), phenotypes.numpy())\n",
    "# plt.title(\"Genetic Value vs Phenotype\")\n",
    "# plt.xlabel(\"Genetic Value\")\n",
    "# plt.ylabel(\"Phenotype\")\n",
    "\n",
    "plt.tight_layout()\n",
    "plt.show()"
   ]
  },
  {
   "cell_type": "code",
   "execution_count": 72,
   "metadata": {},
   "outputs": [
    {
     "data": {
      "image/png": "[encoded data removed]",
      "text/plain": [
       "<Figure size 640x480 with 1 Axes>"
      ]
     },
     "metadata": {},
     "output_type": "display_data"
    }
   ],
   "source": [
    "np_array = sim_param.traits[0].qtl_effects.flatten().numpy()\n",
    "\n",
    "# Create a histogram\n",
    "plt.hist(np_array, bins=10, edgecolor='black')\n",
    "\n",
    "# Add titles and labels\n",
    "plt.title('Histogram of Tensor Weights')\n",
    "plt.xlabel('Weight Values')\n",
    "plt.ylabel('Frequency')\n",
    "\n",
    "# Show the plot\n",
    "plt.show()\n"
   ]
  },
  {
   "cell_type": "code",
   "execution_count": null,
   "metadata": {},
   "outputs": [],
   "source": []
  }
 ],
 "metadata": {
  "kernelspec": {
   "display_name": ".venv",
   "language": "python",
   "name": "python3"
  },
  "language_info": {
   "codemirror_mode": {
    "name": "ipython",
    "version": 3
   },
   "file_extension": ".py",
   "mimetype": "text/x-python",
   "name": "python",
   "nbconvert_exporter": "python",
   "pygments_lexer": "ipython3",
   "version": "3.11.9"
  }
 },
 "nbformat": 4,
 "nbformat_minor": 2
}
