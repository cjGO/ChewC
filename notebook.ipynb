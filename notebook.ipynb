{
 "cells": [
  {
   "cell_type": "code",
   "execution_count": 156,
   "metadata": {},
   "outputs": [
    {
     "data": {
      "text/plain": [
       "tensor([[[47],\n",
       "         [26],\n",
       "         [85],\n",
       "         [93]],\n",
       "\n",
       "        [[28],\n",
       "         [73],\n",
       "         [75],\n",
       "         [35]]])"
      ]
     },
     "execution_count": 156,
     "metadata": {},
     "output_type": "execute_result"
    }
   ],
   "source": [
    "import attr\n",
    "import torch\n",
    "import pandas as pd\n",
    "import matplotlib.pyplot as plt \n",
    "\n",
    "@attr.s(auto_attribs=True)\n",
    "class Individual:\n",
    "    \"\"\"Represents an individual in a population.\"\"\"\n",
    "    haplotypes: torch.Tensor  # Shape: (ploidy, n_chromosomes, n_loci_per_chr)\n",
    "    phenotype: torch.Tensor = None\n",
    "    genetic_values: torch.Tensor = None\n",
    "    sex: str = None\n",
    "    id: int = None\n",
    "    mother_id: int = None\n",
    "    father_id: int = None\n",
    "\n",
    "    @property\n",
    "    def allele_dosage(self):\n",
    "        \"\"\"Calculates the allele dosage from the haplotypes.\"\"\"\n",
    "        return self.haplotypes.sum(dim=0)  # Sum across the ploidy dimension\n",
    "\n",
    "\n",
    "@attr.s(auto_attribs=True)\n",
    "class Population:\n",
    "    \"\"\"Manages a collection of individuals.\"\"\"\n",
    "    individuals: list[Individual] = attr.Factory(list)\n",
    "    sim_param: 'SimParam' = None\n",
    "\n",
    "    def __len__(self):\n",
    "        return len(self.individuals)\n",
    "    \n",
    "    def generate_random_founders(self, n_founders: int):\n",
    "        \"\"\"Generates a founder population with random haplotypes.\"\"\"\n",
    "        for i in range(n_founders):\n",
    "            haplotypes = torch.randint(\n",
    "                0, 2, (self.sim_param.ploidy, self.sim_param.n_chromosomes, self.sim_param.n_loci_per_chr)\n",
    "            )\n",
    "            individual = Individual(haplotypes=haplotypes, id=i + 1)\n",
    "            self.individuals.append(individual)\n",
    "\n",
    "@attr.s(auto_attribs=True)\n",
    "class Trait:\n",
    "    \"\"\"Defines parameters for a trait.\"\"\"\n",
    "    mean: float\n",
    "    variance: float\n",
    "    n_qtl_per_chr: int \n",
    "    qtl_effects: torch.Tensor = None\n",
    "    qtl_locations: torch.Tensor = None\n",
    "\n",
    "    def generate_qtl_effects(self, n_chromosomes, ploidy,  n_loci_per_chr):\n",
    "        \"\"\"Generates QTL effects and their locations.\"\"\"\n",
    "        self.qtl_effects = torch.randn(self.n_qtl_per_chr * n_chromosomes) * torch.sqrt(torch.tensor(self.variance))\n",
    "        \n",
    "        qtl_locations = []\n",
    "        for _ in range(n_chromosomes):\n",
    "            for _ in range(ploidy):\n",
    "                qtl_locations.append(torch.randperm(n_loci_per_chr)[:self.n_qtl_per_chr])\n",
    "                \n",
    "        self.qtl_locations = torch.stack(qtl_locations).view(n_chromosomes, ploidy, self.n_qtl_per_chr)\n",
    "\n",
    "\n",
    "@attr.s(auto_attribs=True)\n",
    "class SimParam:\n",
    "    \"\"\"Stores global simulation parameters.\"\"\"\n",
    "    n_chromosomes: int = 10\n",
    "    ploidy: int = 2\n",
    "    traits: list[Trait] = attr.Factory(list)\n",
    "    n_loci_per_chr: int = 100\n",
    "    # ... (Other simulation parameters)\n",
    "\n",
    "    def add_trait_A(self, mean: float, variance: float, n_qtl_per_chr: int):\n",
    "        \"\"\"Creates an additive trait and adds it to the simulation.\"\"\"\n",
    "        trait = Trait(mean=mean, variance=variance, n_qtl_per_chr=n_qtl_per_chr)\n",
    "        trait.generate_qtl_effects(self.n_chromosomes, self.ploidy,  self.n_loci_per_chr) # Access SimParam attributes within the method\n",
    "        self.traits.append(trait) \n",
    "\n",
    "# Simulation parameters\n",
    "sim_param = SimParam(n_chromosomes=2, n_loci_per_chr=100, ploidy=4) # Create a population\n",
    "population = Population(sim_param=sim_param)\n",
    "# Generate 100 founders with 1000 loci per chromosome\n",
    "population.generate_random_founders(n_founders=100)\n",
    "# Generate Trait\n",
    "# Add a trait \n",
    "sim_param.add_trait_A(mean=1.0, variance=1.0, n_qtl_per_chr=1)\n",
    "\n",
    "# Accessing an individual:\n",
    "individual = population.individuals[0]\n",
    "# Accessing allele_dosage of an individual:\n",
    "haplotype = individual.haplotypes\n",
    "genotype = individual.allele_dosage\n",
    "sim_param.traits[0].qtl_locations"
   ]
  },
  {
   "cell_type": "code",
   "execution_count": 134,
   "metadata": {},
   "outputs": [
    {
     "data": {
      "text/plain": [
       "torch.Size([4, 2, 100])"
      ]
     },
     "execution_count": 134,
     "metadata": {},
     "output_type": "execute_result"
    }
   ],
   "source": [
    "haplotype.shape"
   ]
  },
  {
   "cell_type": "code",
   "execution_count": 47,
   "metadata": {},
   "outputs": [
    {
     "data": {
      "image/png": "[encoded data removed]",
      "text/plain": [
       "<Figure size 640x480 with 1 Axes>"
      ]
     },
     "metadata": {},
     "output_type": "display_data"
    }
   ],
   "source": [
    "np_array = trait.qtl_effects.numpy()\n",
    "\n",
    "# Create a histogram\n",
    "plt.hist(np_array, bins=10, edgecolor='black')\n",
    "\n",
    "# Add titles and labels\n",
    "plt.title('Histogram of Tensor Weights')\n",
    "plt.xlabel('Weight Values')\n",
    "plt.ylabel('Frequency')\n",
    "\n",
    "# Show the plot\n",
    "plt.show()\n"
   ]
  },
  {
   "cell_type": "code",
   "execution_count": null,
   "metadata": {},
   "outputs": [],
   "source": []
  }
 ],
 "metadata": {
  "kernelspec": {
   "display_name": ".venv",
   "language": "python",
   "name": "python3"
  },
  "language_info": {
   "codemirror_mode": {
    "name": "ipython",
    "version": 3
   },
   "file_extension": ".py",
   "mimetype": "text/x-python",
   "name": "python",
   "nbconvert_exporter": "python",
   "pygments_lexer": "ipython3",
   "version": "3.11.9"
  }
 },
 "nbformat": 4,
 "nbformat_minor": 2
}
