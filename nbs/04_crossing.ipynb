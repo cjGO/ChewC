{
 "cells": [
  {
   "cell_type": "code",
   "execution_count": null,
   "id": "ce301c91",
   "metadata": {},
   "outputs": [],
   "source": [
    "%load_ext autoreload\n",
    "%autoreload 2"
   ]
  },
  {
   "cell_type": "code",
   "execution_count": null,
   "id": "3933126d",
   "metadata": {},
   "outputs": [],
   "source": [
    "#| default_exp crossing"
   ]
  },
  {
   "cell_type": "code",
   "execution_count": null,
   "id": "42554857",
   "metadata": {},
   "outputs": [],
   "source": [
    "from chewc.core import *\n",
    "from chewc.meiosis import *\n",
    "import torch"
   ]
  },
  {
   "cell_type": "markdown",
   "id": "df6bef44",
   "metadata": {},
   "source": [
    "## Crossing\n",
    "> Using gamete operations to produce new individuals"
   ]
  },
  {
   "cell_type": "code",
   "execution_count": null,
   "id": "bf83ad4b",
   "metadata": {},
   "outputs": [],
   "source": [
    "#| export\n",
    "from chewc.core import *\n",
    "from chewc.meiosis import *\n",
    "from chewc.trait import *\n",
    "import torch\n",
    "def double_haploid_operation(gamete):\n",
    "    return gamete.repeat(2, 1, 1)\n",
    "\n",
    "def make_DH(genetic_map, individual):\n",
    "    haploid_line = simulate_gametes(genetic_map, individual)\n",
    "    return double_haploid_operation(haploid_line)"
   ]
  },
  {
   "cell_type": "code",
   "execution_count": null,
   "id": "408e45df",
   "metadata": {},
   "outputs": [],
   "source": [
    "#| export\n",
    "\n",
    "def cross_operation(egg, pollen):\n",
    "    return torch.stack((egg, pollen), dim=0).squeeze(1)\n",
    "\n",
    "def make_cross(genetic_map, mother, father):\n",
    "    egg = simulate_gametes(genetic_map, mother)  # Simulating gametes for the mother\n",
    "    pollen = simulate_gametes(genetic_map, father)  # Simulating gametes for the father\n",
    "    return cross_operation(egg, pollen)"
   ]
  },
  {
   "cell_type": "code",
   "execution_count": null,
   "id": "d9670c3d",
   "metadata": {},
   "outputs": [],
   "source": [
    "#| export\n",
    "def random_crosses(population: Population, \n",
    "                   n_crosses: int, \n",
    "                   ) -> Population:\n",
    "    \"\"\"\n",
    "    Performs random crosses within a population.\n",
    "\n",
    "    Args:\n",
    "    ----\n",
    "        population (Population): The population to perform crosses within.\n",
    "        n_crosses (int): The number of crosses to perform.\n",
    "\n",
    "    Returns:\n",
    "    -------\n",
    "        Population: A new population of offspring resulting from the crosses.\n",
    "    \"\"\"\n",
    "    # make sure there are enough individuals for the requested number of crosses.\n",
    "    if n_crosses > len(population.individuals) // 2:\n",
    "        raise ValueError(f\"Not enough individuals in the population ({len(population.individuals)}) for {n_crosses} crosses. Need at least {2*n_crosses}.\")\n",
    "\n",
    "    # sample parents randomly\n",
    "    selected_parents = random.sample(population.individuals, 2 * n_crosses)\n",
    "\n",
    "    # create offspring\n",
    "    offspring = []\n",
    "    for i in range(n_crosses):\n",
    "        mother = selected_parents[i * 2]\n",
    "        father = selected_parents[i * 2 + 1]\n",
    "        haplotypes = make_cross(population.individuals[0].genome.genetic_map, mother, father)\n",
    "#         genetic_value = trait.calculate_genetic_value(haplotypes.unsqueeze(0)).squeeze(0)  # calculate GV\n",
    "        offspring.append(\n",
    "            Individual(\n",
    "                genome = mother.genome,\n",
    "                haplotypes=haplotypes,\n",
    "                mother_id=mother.id,\n",
    "                father_id=father.id,\n",
    "#                 genetic_value=genetic_value,\n",
    "            )\n",
    "        )\n",
    "    return Population(individuals=offspring)"
   ]
  },
  {
   "cell_type": "code",
   "execution_count": null,
   "id": "72437879",
   "metadata": {},
   "outputs": [],
   "source": [
    "#| export\n",
    "def random_crosses(parent_pop:Population, n_crosses,genetic_map)-> Population:\n",
    "    new_pop = []\n",
    "    total_cross=n_crosses\n",
    "    random_pairs = torch.randint(0,len(parent_pop), (total_cross*2,)).reshape(-1,2)\n",
    "    cross_pairs = parent_pop[random_pairs]\n",
    "    for pair_idx in range(len((random_pairs))):\n",
    "        egg = cross_pairs[pair_idx][0] \n",
    "        pollen = cross_pairs[pair_idx][1]\n",
    "        x = make_cross(genetic_map, egg , pollen)\n",
    "        new_pop.append(x)\n",
    "    new_pop = torch.stack(new_pop)\n",
    "    return new_pop"
   ]
  },
  {
   "cell_type": "code",
   "execution_count": null,
   "id": "ae2547b5",
   "metadata": {},
   "outputs": [],
   "source": [
    "#| export\n",
    "def truncate_select(tgv):\n",
    "    return torch.topk(tgv,20).indices"
   ]
  },
  {
   "cell_type": "code",
   "execution_count": null,
   "id": "8cf7d908",
   "metadata": {},
   "outputs": [],
   "source": [
    "#| hide\n",
    "import nbdev; nbdev.nbdev_export()"
   ]
  }
 ],
 "metadata": {
  "kernelspec": {
   "display_name": "python3",
   "language": "python",
   "name": "python3"
  }
 },
 "nbformat": 4,
 "nbformat_minor": 5
}
