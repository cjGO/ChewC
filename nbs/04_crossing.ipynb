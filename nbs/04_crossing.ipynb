{
 "cells": [
  {
   "cell_type": "code",
   "execution_count": null,
   "id": "ce301c91",
   "metadata": {},
   "outputs": [],
   "source": [
    "%load_ext autoreload\n",
    "%autoreload 2"
   ]
  },
  {
   "cell_type": "code",
   "execution_count": null,
   "id": "3933126d",
   "metadata": {},
   "outputs": [],
   "source": [
    "#| default_exp crossing"
   ]
  },
  {
   "cell_type": "code",
   "execution_count": null,
   "id": "42554857",
   "metadata": {},
   "outputs": [],
   "source": [
    "from chewc.core import *\n",
    "from chewc.meiosis import *\n",
    "import torch"
   ]
  },
  {
   "cell_type": "markdown",
   "id": "df6bef44",
   "metadata": {},
   "source": [
    "## Crossing\n",
    "> Using gamete operations to produce new individuals"
   ]
  },
  {
   "cell_type": "code",
   "execution_count": null,
   "id": "bf83ad4b",
   "metadata": {},
   "outputs": [],
   "source": [
    "#| export\n",
    "from chewc.core import *\n",
    "from chewc.meiosis import *\n",
    "from chewc.trait import *\n",
    "import torch\n",
    "def double_haploid_operation(gamete):\n",
    "    return gamete.repeat(2, 1, 1)\n",
    "\n",
    "def make_DH(genetic_map, individual):\n",
    "    haploid_line = simulate_gametes(genetic_map, individual)\n",
    "    return double_haploid_operation(haploid_line)"
   ]
  },
  {
   "cell_type": "code",
   "execution_count": null,
   "id": "408e45df",
   "metadata": {},
   "outputs": [],
   "source": [
    "#| export\n",
    "\n",
    "def cross_operation(egg, pollen):\n",
    "    return torch.stack((egg, pollen), dim=0).squeeze(1)\n",
    "\n",
    "def make_cross(genetic_map, mother, father):\n",
    "    egg = simulate_gametes(genetic_map, mother)  # Simulating gametes for the mother\n",
    "    pollen = simulate_gametes(genetic_map, father)  # Simulating gametes for the father\n",
    "    return cross_operation(egg, pollen)"
   ]
  },
  {
   "cell_type": "code",
   "execution_count": null,
   "id": "d9670c3d",
   "metadata": {},
   "outputs": [],
   "source": [
    "#| export\n",
    "def random_crosses(population: Population, \n",
    "                   n_crosses: int, \n",
    "                   ) -> Population:\n",
    "    \"\"\"\n",
    "    Performs random crosses within a population.\n",
    "\n",
    "    Args:\n",
    "    ----\n",
    "        population (Population): The population to perform crosses within.\n",
    "        n_crosses (int): The number of crosses to perform.\n",
    "\n",
    "    Returns:\n",
    "    -------\n",
    "        Population: A new population of offspring resulting from the crosses.\n",
    "    \"\"\"\n",
    "    # make sure there are enough individuals for the requested number of crosses.\n",
    "    if n_crosses > len(population.individuals) // 2:\n",
    "        raise ValueError(f\"Not enough individuals in the population ({len(population.individuals)}) for {n_crosses} crosses. Need at least {2*n_crosses}.\")\n",
    "\n",
    "    # sample parents randomly\n",
    "    selected_parents = random.sample(population.individuals, 2 * n_crosses)\n",
    "\n",
    "    # create offspring\n",
    "    offspring = []\n",
    "    for i in range(n_crosses):\n",
    "        mother = selected_parents[i * 2]\n",
    "        father = selected_parents[i * 2 + 1]\n",
    "        haplotypes = make_cross(population.individuals[0].genome.genetic_map, mother, father)\n",
    "#         genetic_value = trait.calculate_genetic_value(haplotypes.unsqueeze(0)).squeeze(0)  # calculate GV\n",
    "        offspring.append(\n",
    "            Individual(\n",
    "                genome = mother.genome,\n",
    "                haplotypes=haplotypes,\n",
    "                mother_id=mother.id,\n",
    "                father_id=father.id,\n",
    "#                 genetic_value=genetic_value,\n",
    "            )\n",
    "        )\n",
    "    return Population(individuals=offspring)"
   ]
  },
  {
   "cell_type": "code",
   "execution_count": null,
   "id": "b936d98f",
   "metadata": {},
   "outputs": [],
   "source": [
    "from chewc.core import *\n",
    "from chewc.meiosis import *\n",
    "import torch\n",
    "ploidy = 2\n",
    "number_chromosomes = 20\n",
    "loci_per_chromosome = 10\n",
    "n_founders = 50\n",
    "genetic_map = create_random_genetic_map(number_chromosomes,loci_per_chromosome)\n",
    "crop_genome = Genome(ploidy, number_chromosomes, loci_per_chromosome, genetic_map)\n",
    "founder_pop = create_random_founder_pop(crop_genome , n_founders)\n",
    "\n",
    "\n"
   ]
  },
  {
   "cell_type": "code",
   "execution_count": null,
   "id": "72437879",
   "metadata": {},
   "outputs": [],
   "source": [
    "#| export\n",
    "def random_crosses(parent_pop:Population, n_crosses,genetic_map)-> Population:\n",
    "    new_pop = []\n",
    "    total_cross=n_crosses\n",
    "    random_pairs = torch.randint(0,len(parent_pop), (total_cross*2,)).reshape(-1,2)\n",
    "    cross_pairs = parent_pop[random_pairs]\n",
    "    for pair_idx in range(len((random_pairs))):\n",
    "        egg = cross_pairs[pair_idx][0] \n",
    "        pollen = cross_pairs[pair_idx][1]\n",
    "        x = make_cross(genetic_map, egg , pollen)\n",
    "        new_pop.append(x)\n",
    "    new_pop = torch.stack(new_pop)\n",
    "    return new_pop"
   ]
  },
  {
   "cell_type": "code",
   "execution_count": null,
   "id": "86712e06",
   "metadata": {},
   "outputs": [],
   "source": [
    "\n",
    "qtl_map = select_qtl_loci(20, crop_genome)\n",
    "marker_fx = generate_marker_effects(qtl_map)\n",
    "\n",
    "founder_genetic_variance = calculate_genetic_variance(founder_pop,marker_fx,crop_genome)\n",
    "scaled_marker_fx = scale_marker_effects(marker_fx, founder_genetic_variance, 0.5)\n",
    "\n",
    "means = []\n",
    "variances = []\n",
    "traita = TraitA(qtl_map, scaled_marker_fx,crop_genome, founder_pop,1.0,0.0)\n",
    "\n",
    "\n",
    "tgv = traita.calculate_genetic_value(founder_pop)\n",
    "means.append(tgv.mean())\n",
    "variances.append(tgv.var())"
   ]
  },
  {
   "cell_type": "code",
   "execution_count": null,
   "id": "ae2547b5",
   "metadata": {},
   "outputs": [],
   "source": [
    "#| export\n",
    "def truncate_select(tgv):\n",
    "    return torch.topk(tgv,20).indices"
   ]
  },
  {
   "cell_type": "code",
   "execution_count": null,
   "id": "02fbcf43",
   "metadata": {},
   "outputs": [],
   "source": [
    "\n",
    "qtl_map = select_qtl_loci(20, crop_genome)\n",
    "marker_fx = generate_marker_effects(qtl_map)\n",
    "\n",
    "founder_genetic_variance = calculate_genetic_variance(founder_pop,marker_fx,crop_genome)\n",
    "scaled_marker_fx = scale_marker_effects(marker_fx, founder_genetic_variance, 0.5)\n",
    "\n",
    "means = []\n",
    "variances = []\n",
    "traita = TraitA(qtl_map, scaled_marker_fx,crop_genome, founder_pop,1.0,0.0)\n",
    "\n",
    "\n",
    "tgv = traita.calculate_genetic_value(founder_pop)\n",
    "means.append(tgv.mean())\n",
    "variances.append(tgv.var())\n",
    "                 \n",
    "                 \n",
    "years = 20\n",
    "\n",
    "new_pop = random_crosses(founder_pop, len(founder_pop),genetic_map)\n",
    "tgv = traita.calculate_genetic_value(new_pop)\n",
    "means.append(tgv.mean())\n",
    "variances.append(tgv.var())\n",
    "                 \n",
    "for i in range(years-1):\n",
    "    tgv = traita.calculate_genetic_value(new_pop)\n",
    "    truncate = truncate_select(tgv)\n",
    "    new_pop = random_crosses(new_pop[truncate], len(new_pop),genetic_map)\n",
    "    means.append(tgv.mean())\n",
    "    variances.append(tgv.var())"
   ]
  },
  {
   "cell_type": "code",
   "execution_count": null,
   "id": "c171c689",
   "metadata": {},
   "outputs": [
    {
     "data": {
      "image/png": "[encoded data removed]",
      "text/plain": [
       "<Figure size 640x480 with 2 Axes>"
      ]
     },
     "metadata": {},
     "output_type": "display_data"
    }
   ],
   "source": [
    "import matplotlib.pyplot as plt\n",
    "# Create a figure and axis\n",
    "fig, ax1 = plt.subplots()\n",
    "\n",
    "# Plot means\n",
    "ax1.plot(means, color='blue', marker='o', label='Mean')\n",
    "ax1.set_xlabel('Index')\n",
    "ax1.set_ylabel('Mean', color='blue')\n",
    "ax1.tick_params(axis='y', labelcolor='blue')\n",
    "\n",
    "# Create a second y-axis to plot variances\n",
    "ax2 = ax1.twinx()\n",
    "ax2.plot(variances, color='red', marker='x', label='Variance')\n",
    "ax2.set_ylabel('Variance', color='red')\n",
    "ax2.tick_params(axis='y', labelcolor='red')\n",
    "\n",
    "# Add a title and show the plot\n",
    "plt.title('Mean and Variance Plot')\n",
    "fig.tight_layout()  # Adjust layout to prevent overlap\n",
    "\n",
    "# Add legends\n",
    "lines_1, labels_1 = ax1.get_legend_handles_labels()\n",
    "lines_2, labels_2 = ax2.get_legend_handles_labels()\n",
    "ax1.legend(lines_1 + lines_2, labels_1 + labels_2, loc='best')\n",
    "\n",
    "plt.show()"
   ]
  },
  {
   "cell_type": "code",
   "execution_count": null,
   "id": "8cf7d908",
   "metadata": {},
   "outputs": [],
   "source": [
    "#| hide\n",
    "import nbdev; nbdev.nbdev_export()"
   ]
  }
 ],
 "metadata": {
  "kernelspec": {
   "display_name": "python3",
   "language": "python",
   "name": "python3"
  }
 },
 "nbformat": 4,
 "nbformat_minor": 5
}
