{
 "cells": [
  {
   "cell_type": "code",
   "execution_count": null,
   "id": "ce301c91",
   "metadata": {},
   "outputs": [],
   "source": [
    "%load_ext autoreload\n",
    "%autoreload 2"
   ]
  },
  {
   "cell_type": "code",
   "execution_count": null,
   "id": "3933126d",
   "metadata": {},
   "outputs": [],
   "source": [
    "#| default_exp crossing"
   ]
  },
  {
   "cell_type": "code",
   "execution_count": null,
   "id": "42554857",
   "metadata": {},
   "outputs": [],
   "source": [
    "# from chewc.core import *\n",
    "# from chewc.meiosis import *\n",
    "# import torch"
   ]
  },
  {
   "cell_type": "markdown",
   "id": "df6bef44",
   "metadata": {},
   "source": [
    "## Crossing\n",
    "> Using gamete operations to produce new individuals"
   ]
  },
  {
   "cell_type": "code",
   "execution_count": null,
   "id": "bf83ad4b",
   "metadata": {},
   "outputs": [],
   "source": [
    "# #| export\n",
    "# from chewc.core import *\n",
    "# from chewc.meiosis import *\n",
    "# from chewc.trait import *\n",
    "# import torch\n",
    "# import random\n",
    "# def make_DH(sim_param, individual):\n",
    "#     haploid_line = simulate_gametes(sim_param.genome.genetic_map, individual, sim_param.device)\n",
    "#     return haploid_line.repeat(2, 1, 1)\n",
    "\n",
    "# def make_cross(sim_param, mother, father):\n",
    "#     egg = simulate_gametes(sim_param.genome.genetic_map, mother)  # Simulating gametes for the mother\n",
    "#     pollen = simulate_gametes(sim_param.genome.genetic_map, father)  # Simulating gametes for the father\n",
    "#     return torch.stack((egg, pollen), dim=0).squeeze(1)\n",
    "\n",
    "# def truncate_select(tgv, device):\n",
    "#     return torch.topk(tgv.to(device), 20).indices"
   ]
  },
  {
   "cell_type": "code",
   "execution_count": null,
   "id": "ae2547b5",
   "metadata": {},
   "outputs": [],
   "source": []
  },
  {
   "cell_type": "code",
   "execution_count": null,
   "id": "8cf7d908",
   "metadata": {},
   "outputs": [],
   "source": [
    "#| hide\n",
    "import nbdev; nbdev.nbdev_export()"
   ]
  }
 ],
 "metadata": {
  "kernelspec": {
   "display_name": "python3",
   "language": "python",
   "name": "python3"
  }
 },
 "nbformat": 4,
 "nbformat_minor": 5
}
