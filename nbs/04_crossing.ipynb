{
 "cells": [
  {
   "cell_type": "code",
   "execution_count": null,
   "id": "ce301c91",
   "metadata": {},
   "outputs": [],
   "source": [
    "%load_ext autoreload\n",
    "%autoreload 2"
   ]
  },
  {
   "cell_type": "code",
   "execution_count": null,
   "id": "3933126d",
   "metadata": {},
   "outputs": [],
   "source": [
    "#| default_exp crossing"
   ]
  },
  {
   "cell_type": "code",
   "execution_count": null,
   "id": "42554857",
   "metadata": {},
   "outputs": [],
   "source": [
    "from chewc.core import *\n",
    "from chewc.meiosis import *\n",
    "import torch"
   ]
  },
  {
   "cell_type": "markdown",
   "id": "df6bef44",
   "metadata": {},
   "source": [
    "## Crossing\n",
    "> Using gamete operations to produce new individuals"
   ]
  },
  {
   "cell_type": "code",
   "execution_count": null,
   "id": "bf83ad4b",
   "metadata": {},
   "outputs": [],
   "source": [
    "#| export\n",
    "from chewc.core import *\n",
    "from chewc.meiosis import *\n",
    "from chewc.trait import *\n",
    "import torch\n",
    "import random\n",
    "def make_DH(genetic_map, individual):\n",
    "    haploid_line = simulate_gametes(genetic_map, individual)\n",
    "    return gamete.repeat(2, 1, 1)"
   ]
  },
  {
   "cell_type": "code",
   "execution_count": null,
   "id": "408e45df",
   "metadata": {},
   "outputs": [],
   "source": [
    "#| export\n",
    "\n",
    "def make_cross(genetic_map, mother, father):\n",
    "    egg = simulate_gametes(genetic_map, mother)  # Simulating gametes for the mother\n",
    "    pollen = simulate_gametes(genetic_map, father)  # Simulating gametes for the father\n",
    "    return torch.stack((egg, pollen), dim=0).squeeze(1)"
   ]
  },
  {
   "cell_type": "code",
   "execution_count": null,
   "id": "ae2547b5",
   "metadata": {},
   "outputs": [],
   "source": [
    "#| export\n",
    "def truncate_select(tgv):\n",
    "    return torch.topk(tgv,20).indices"
   ]
  },
  {
   "cell_type": "code",
   "execution_count": null,
   "id": "8cf7d908",
   "metadata": {},
   "outputs": [],
   "source": [
    "#| hide\n",
    "import nbdev; nbdev.nbdev_export()"
   ]
  }
 ],
 "metadata": {
  "kernelspec": {
   "display_name": "python3",
   "language": "python",
   "name": "python3"
  }
 },
 "nbformat": 4,
 "nbformat_minor": 5
}
