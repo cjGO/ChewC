{
 "cells": [
  {
   "cell_type": "code",
   "execution_count": null,
   "id": "ce301c91",
   "metadata": {},
   "outputs": [],
   "source": [
    "%load_ext autoreload\n",
    "%autoreload 2"
   ]
  },
  {
   "cell_type": "code",
   "execution_count": null,
   "id": "3933126d",
   "metadata": {},
   "outputs": [],
   "source": [
    "#| default_exp crossing"
   ]
  },
  {
   "cell_type": "code",
   "execution_count": null,
   "id": "42554857",
   "metadata": {},
   "outputs": [],
   "source": [
    "from chewc.core import *\n",
    "from chewc.meiosis import *\n",
    "import torch"
   ]
  },
  {
   "cell_type": "markdown",
   "id": "df6bef44",
   "metadata": {},
   "source": [
    "## Crossing\n",
    "> Using gamete operations to produce new individuals"
   ]
  },
  {
   "cell_type": "code",
   "execution_count": null,
   "id": "bf83ad4b",
   "metadata": {},
   "outputs": [],
   "source": [
    "#| export\n",
    "from chewc.core import *\n",
    "from chewc.meiosis import *\n",
    "import torch\n",
    "def double_haploid_operation(gamete):\n",
    "    return gamete.repeat(2, 1, 1)\n",
    "\n",
    "def make_DH(genetic_map, individual):\n",
    "    haploid_line = simulate_gametes(genetic_map, individual)\n",
    "    return double_haploid_operation(haploid_line)"
   ]
  },
  {
   "cell_type": "code",
   "execution_count": null,
   "id": "408e45df",
   "metadata": {},
   "outputs": [],
   "source": [
    "#| export\n",
    "\n",
    "def cross_operation(egg, pollen):\n",
    "    return torch.stack((egg, pollen), dim=0).squeeze(1)\n",
    "\n",
    "def make_cross(genetic_map, mother, father):\n",
    "    egg = simulate_gametes(genetic_map, mother)  # Simulating gametes for the mother\n",
    "    pollen = simulate_gametes(genetic_map, father)  # Simulating gametes for the father\n",
    "    return cross_operation(egg, pollen)"
   ]
  },
  {
   "cell_type": "code",
   "execution_count": null,
   "id": "b936d98f",
   "metadata": {},
   "outputs": [],
   "source": [
    "from chewc.core import *\n",
    "from chewc.meiosis import *\n",
    "import torch\n",
    "ploidy = 2\n",
    "number_chromosomes = 20\n",
    "loci_per_chromosome = 10\n",
    "n_founders = 50\n",
    "genetic_map = create_random_genetic_map(number_chromosomes,loci_per_chromosome)\n",
    "crop_genome = Genome(ploidy, number_chromosomes, loci_per_chromosome, genetic_map)\n",
    "founder_pop = create_random_founder_pop(crop_genome , n_founders)\n",
    "\n"
   ]
  },
  {
   "cell_type": "code",
   "execution_count": null,
   "id": "d1731d97",
   "metadata": {},
   "outputs": [
    {
     "name": "stdout",
     "output_type": "stream",
     "text": [
      "torch.Size([2, 20, 10])\n",
      "torch.Size([2, 20, 10])\n"
     ]
    }
   ],
   "source": [
    "#DH the first individual\n",
    "print(make_DH(genetic_map, founder_pop[0]).shape)\n",
    "#cross individual 2 and 3\n",
    "print(make_cross(genetic_map, founder_pop[1], founder_pop[2]).shape)"
   ]
  },
  {
   "cell_type": "code",
   "execution_count": null,
   "id": "8cf7d908",
   "metadata": {},
   "outputs": [],
   "source": [
    "#| hide\n",
    "import nbdev; nbdev.nbdev_export()"
   ]
  }
 ],
 "metadata": {
  "kernelspec": {
   "display_name": "python3",
   "language": "python",
   "name": "python3"
  }
 },
 "nbformat": 4,
 "nbformat_minor": 5
}
