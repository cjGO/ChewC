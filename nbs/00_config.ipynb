{
 "cells": [
  {
   "cell_type": "code",
   "execution_count": null,
   "id": "cf75e77d",
   "metadata": {},
   "outputs": [],
   "source": [
    "#| default_exp config"
   ]
  },
  {
   "cell_type": "code",
   "execution_count": null,
   "id": "cb47f96e",
   "metadata": {},
   "outputs": [],
   "source": [
    "#| export \n",
    "from chewc.lab import *\n",
    "from chewc.sim import *\n",
    "from chewc.policy import *\n",
    "import numpy as np\n",
    "import random\n",
    "import torch\n",
    "# from stable_baselines3.common.vec_env import DummyVecEnv\n",
    "def set_seed(seed):\n",
    "    if seed is not None:\n",
    "        torch.manual_seed(seed)\n",
    "        torch.cuda.manual_seed_all(seed)\n",
    "        np.random.seed(seed)\n",
    "        random.seed(seed)\n",
    "        torch.backends.cudnn.deterministic = True\n",
    "        torch.backends.cudnn.benchmark = False\n",
    "    \n",
    "def get_default_config():\n",
    "    config = {\n",
    "        \n",
    "        # Input parameters\n",
    "        'observation_config': {\n",
    "            'remaining_proportion': {'type': 'scalar', 'low': 0, 'high': 1},\n",
    "            'genetic_variance': {'type': 'scalar', 'low': 0, 'high': float('inf')},\n",
    "            'mean_phenotype': {'type': 'scalar', 'low': float('-inf'), 'high': float('inf')},\n",
    "            'max_breeding_value': {'type': 'scalar', 'low': float('-inf'), 'high': float('inf')},\n",
    "        },\n",
    "        \n",
    "        # Environment parameters\n",
    "        'action_low': 0.01,\n",
    "        'action_high': 0.99,\n",
    "        'sparse_reward': True,\n",
    "\n",
    "        # Simulation parameters\n",
    "        'n_parents':10,\n",
    "        'n_chr': 1,\n",
    "        'n_loci': 100,\n",
    "        'pop_size': 200,\n",
    "        'max_generations': 10,\n",
    "        'h2': 0.5,\n",
    "        'target_mean': 0,\n",
    "        'target_variance': 1,\n",
    "        'reps':1,\n",
    "\n",
    "        # Training parameters\n",
    "        'total_timesteps': 100000,\n",
    "        'learning_rate': 3e-4,\n",
    "        'gae_lambda': 0.95,\n",
    "\n",
    "        # Callback parameters\n",
    "        'log_freq': 100,\n",
    "\n",
    "        # Progressive parameters\n",
    "        'start_gen': 10,\n",
    "        'end_gen': 100,\n",
    "        'start_gae_lambda': 0.9,\n",
    "        'end_gae_lambda': 0.95,\n",
    "\n",
    "        # Seed\n",
    "        'seed': None\n",
    "    }\n",
    "    return config\n",
    "\n",
    "\n",
    "\n",
    "def create_simulation(config=None):\n",
    "    if config is None:\n",
    "        config = get_default_config()\n",
    "        print(config)\n",
    "    \n",
    "    seed = config['seed']\n",
    "    set_seed(seed)\n",
    "    \n",
    "    G = Genome(config['n_chr'], config['n_loci'], seed=seed)\n",
    "    \n",
    "    founder_haplotypes = np.load('../nbs/data/g2f_ch10.npy')\n",
    "    random_parent_indices = np.random.choice(founder_haplotypes.shape[0], config['n_parents'], replace=False)\n",
    "    random_loci_indices = np.random.choice(founder_haplotypes.shape[2], config['n_loci'], replace=False)\n",
    "    \n",
    "    founder_haplotypes = founder_haplotypes[random_parent_indices,:,:]\n",
    "    founder_haplotypes = founder_haplotypes[:,:,random_loci_indices]\n",
    "    founder_haplotypes = torch.tensor(founder_haplotypes).unsqueeze(2)\n",
    "    \n",
    "    inbred_founders = create_pop(G, founder_haplotypes)\n",
    "    f1 = create_pop(G, random_crosses(inbred_founders.haplotypes, 1000))\n",
    "    founder_pop = create_pop(G, random_crosses(f1.haplotypes, config['pop_size']))\n",
    "    \n",
    "    T = Trait(G, founder_pop, target_mean=config['target_mean'], target_variance=config['target_variance'], seed=seed)\n",
    "    \n",
    "    SP = SimParams(founder_pop, config)\n",
    "    env = SelectionIntensityEnvironment(SP, config)\n",
    "    \n",
    "    return env\n",
    "\n",
    "\n"
   ]
  },
  {
   "cell_type": "code",
   "execution_count": null,
   "id": "60d80160",
   "metadata": {},
   "outputs": [
    {
     "name": "stdout",
     "output_type": "stream",
     "text": [
      "{'observation_config': {'remaining_proportion': {'type': 'scalar', 'low': 0, 'high': 1}, 'genetic_variance': {'type': 'scalar', 'low': 0, 'high': inf}, 'mean_phenotype': {'type': 'scalar', 'low': -inf, 'high': inf}, 'max_breeding_value': {'type': 'scalar', 'low': -inf, 'high': inf}}, 'action_low': 0.01, 'action_high': 0.99, 'sparse_reward': True, 'n_parents': 10, 'n_chr': 1, 'n_loci': 100, 'pop_size': 200, 'max_generations': 10, 'h2': 0.5, 'target_mean': 0, 'target_variance': 1, 'reps': 1, 'total_timesteps': 100000, 'learning_rate': 0.0003, 'gae_lambda': 0.95, 'log_freq': 100, 'start_gen': 10, 'end_gen': 100, 'start_gae_lambda': 0.9, 'end_gae_lambda': 0.95, 'seed': None}\n"
     ]
    }
   ],
   "source": [
    "env = create_simulation()"
   ]
  },
  {
   "cell_type": "code",
   "execution_count": null,
   "id": "76c55f6f",
   "metadata": {},
   "outputs": [],
   "source": [
    "#| hide\n",
    "import nbdev; nbdev.nbdev_export()"
   ]
  }
 ],
 "metadata": {
  "kernelspec": {
   "display_name": "python3",
   "language": "python",
   "name": "python3"
  }
 },
 "nbformat": 4,
 "nbformat_minor": 5
}
