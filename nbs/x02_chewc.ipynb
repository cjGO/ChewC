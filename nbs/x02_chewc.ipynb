{
 "cells": [
  {
   "cell_type": "code",
   "execution_count": null,
   "id": "ec32afed",
   "metadata": {},
   "outputs": [],
   "source": [
    "import torch\n",
    "import matplotlib.pyplot as plt\n",
    "from fastcore.basics import patch\n",
    "import uuid\n",
    "\n",
    "import torch\n",
    "\n",
    "device='cpu'\n",
    "\n",
    "class Genome:\n",
    "    def __init__(self, n_chr, n_loci):\n",
    "        self.ploidy = 2\n",
    "        self.n_chr = n_chr\n",
    "        self.n_loci = n_loci\n",
    "        self.shape = (self.ploidy, self.n_chr, self.n_loci)\n",
    "        \n",
    "class Population:\n",
    "    def __init__(self, genome, haplotypes, device=device):\n",
    "        self.genome = genome\n",
    "        self.device = device\n",
    "        self.phenotypes = None\n",
    "        self.haplotypes = haplotypes\n",
    "        self.dosages = haplotypes.sum(dim=1).float()\n",
    "        \n",
    "        \n",
    "        \n",
    "class Trait:\n",
    "    def __init__(self, genome, founder_population, target_mean, target_variance,default_h2=.99, device=device):\n",
    "        self.target_mean = target_mean\n",
    "        self.target_variance = target_variance\n",
    "        self.default_h2 = default_h2\n",
    "        self.device = device\n",
    "        random_effects = torch.randn(genome.n_chr, genome.n_loci, device=self.device)\n",
    "        random_effects -= random_effects.mean()\n",
    "        founder_scores = torch.einsum('kl,hkl->h', random_effects, founder_population.dosages)\n",
    "        founder_mean, founder_var = founder_scores.mean(), founder_scores.var()\n",
    "        scaling_factors = torch.sqrt(self.target_variance / founder_var)\n",
    "        self.scaling_factors = scaling_factors\n",
    "        random_effects *= scaling_factors\n",
    "        self.effects = random_effects\n",
    "        self.intercept = founder_mean - target_mean\n",
    "\n",
    "        \n",
    "def calculate_breeding_value(population_dosages, trait_effects, device = device):\n",
    "    return torch.einsum('hjk,jk->h', population_dosages,trait_effects)\n",
    "\n",
    "def truncation_selection(population, trait, top_percent):\n",
    "    return torch.topk(population.phenotypes, top_percent).indices\n",
    "\n",
    "# meiosis\n",
    "def recombine(parent_haplo_tensor, recombination_rate=0.1):\n",
    "    num_individuals, ploidy, num_chromosomes, num_loci = parent_haplo_tensor.shape    \n",
    "    # Generate crossover masks\n",
    "    maternal, paternal = parent_haplo_tensor[:,0,:,:],parent_haplo_tensor[:,1,:,:],\n",
    "    crossovers = torch.bernoulli(torch.full((num_individuals, num_chromosomes, num_loci), recombination_rate, device=device))\n",
    "    #crossovers = torch.rand((num_individuals, num_chromosomes, num_loci), device=device) < recombination_rate\n",
    "    progeny = maternal * (1 - crossovers) + paternal * crossovers\n",
    "    return progeny\n",
    "\n",
    "def phenotype(population, trait, h2):\n",
    "    # Check if phenotypes have been calculated\n",
    "    if population.phenotypes is None:\n",
    "        print('calculating phenotypes')\n",
    "        breeding_values = calculate_breeding_value(population.dosages, trait.effects)\n",
    "        environmental_variance = (1 - h2) / h2 * breeding_values.var()\n",
    "        environmental_noise = torch.randn(breeding_values.shape, device=device) * torch.sqrt(environmental_variance.clone().detach())\n",
    "        #breaks here\n",
    "#         import pdb; pdb.set_trace()\n",
    "        population.phenotypes = (breeding_values + environmental_noise) # Store the phenotypes\n",
    "\n",
    "\n",
    "#     def _create_random_haplotypes(self,num_individuals):\n",
    "#         return torch.randint(0, 2, (num_individuals, *self.g.shape), device=self.device)\n",
    "def create_random_pop(G, pop_size):\n",
    "    return torch.randint(0, 2, (pop_size, *G.shape), device= device)\n",
    "\n",
    "def update_population(population, haplotype_pop_tensor):\n",
    "    population.haplotypes = haplotype_pop_tensor\n",
    "    population.dosages = population._calculate_dosages()\n",
    "    return population\n",
    "\n",
    "# meiosis\n",
    "def recombine(parent_haplo_tensor, recombination_rate=0.1):\n",
    "    num_individuals, ploidy, num_chromosomes, num_loci = parent_haplo_tensor.shape\n",
    "    # Generate crossover masks\n",
    "    maternal, paternal = parent_haplo_tensor[:,0,:,:],parent_haplo_tensor[:,1,:,:],\n",
    "    crossovers = torch.bernoulli(torch.full((num_individuals, num_chromosomes, num_loci), recombination_rate, device=device))\n",
    "#     crossovers = torch.rand((num_individuals, num_chromosomes, num_loci), device=device) < recombination_rate\n",
    "    progeny = maternal * torch.logical_not(crossovers) + paternal * crossovers\n",
    "    return progeny\n",
    "\n",
    "def breed(mother_tensor, father_tensor):\n",
    "    eggs = recombine(mother_tensor)\n",
    "    pollens = recombine(father_tensor)\n",
    "    return torch.stack((eggs,pollens), dim=1)\n",
    "\n",
    "def create_pop(G, haplotypes):\n",
    "    return Population(G, haplotypes=haplotypes)\n",
    "\n",
    "\n",
    "G = Genome(3,9)\n",
    "P = create_pop(G, create_random_pop(G, 500))\n",
    "T = Trait(G,P,0,1)"
   ]
  }
 ],
 "metadata": {
  "kernelspec": {
   "display_name": "Python 3 (ipykernel)",
   "language": "python",
   "name": "python3"
  },
  "language_info": {
   "codemirror_mode": {
    "name": "ipython",
    "version": 3
   },
   "file_extension": ".py",
   "mimetype": "text/x-python",
   "name": "python",
   "nbconvert_exporter": "python",
   "pygments_lexer": "ipython3",
   "version": "3.11.9"
  }
 },
 "nbformat": 4,
 "nbformat_minor": 5
}
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",
      "text/plain": [
       "<Figure size 640x480 with 1 Axes>"
      ]
     },
     "metadata": {},
     "output_type": "display_data"
    }
   ],
   "source": [
    "plt.scatter(phenotype(P.dosages, T.effects, 1),phenotype(P.dosages, T.effects, 1))"
   ]
  },
  {
   "cell_type": "code",
   "execution_count": null,
   "id": "b39bb8f1",
   "metadata": {},
   "outputs": [],
   "source": []
  }
 ],
 "metadata": {
  "kernelspec": {
   "display_name": "Python 3 (ipykernel)",
   "language": "python",
   "name": "python3"
  },
  "language_info": {
   "codemirror_mode": {
    "name": "ipython",
    "version": 3
   },
   "file_extension": ".py",
   "mimetype": "text/x-python",
   "name": "python",
   "nbconvert_exporter": "python",
   "pygments_lexer": "ipython3",
   "version": "3.11.9"
  }
 },
 "nbformat": 4,
 "nbformat_minor": 5
}
