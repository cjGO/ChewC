{
 "cells": [
  {
   "cell_type": "code",
   "execution_count": null,
   "id": "d2d3c706",
   "metadata": {},
   "outputs": [],
   "source": [
    "#x02_chewc"
   ]
  },
  {
   "cell_type": "code",
   "execution_count": null,
   "id": "ff3f1f6e",
   "metadata": {},
   "outputs": [],
   "source": []
  },
  {
   "cell_type": "code",
   "execution_count": null,
   "id": "aa2db315",
   "metadata": {},
   "outputs": [],
   "source": [
    "import torch\n",
    "import matplotlib.pyplot as plt\n",
    "from fastcore.basics import patch\n",
    "import uuid"
   ]
  },
  {
   "cell_type": "code",
   "execution_count": null,
   "id": "7b22f2aa",
   "metadata": {},
   "outputs": [],
   "source": [
    "import torch\n",
    "\n",
    "class Genome:\n",
    "    def __init__(self, n_chr, n_loci):\n",
    "        self.ploidy = 2\n",
    "        self.n_chr = n_chr\n",
    "        self.n_loci = n_loci\n",
    "        self.shape = (self.ploidy, self.n_chr, self.n_loci)\n",
    "        \n",
    "class Population:\n",
    "    def __init__(self, genome, haplotypes=None, device='cpu'):\n",
    "        self.g = genome\n",
    "        self.device = device\n",
    "        if haplotypes:\n",
    "            self.haplotypes=haplotypes\n",
    "        else:\n",
    "            self.haplotypes = self._create_random_haplotypes(500)\n",
    "        self._calculate_dosages()\n",
    "            \n",
    "    def _calculate_dosages(self):\n",
    "        self.dosages = self.haplotypes.sum(dim=1).float()\n",
    "        \n",
    "    def _create_random_haplotypes(self,num_individuals):\n",
    "        return torch.randint(0, 2, (num_individuals, *self.g.shape), device=self.device)\n",
    "    \n",
    "    def __getitem__(self,index):\n",
    "        return self.haplotypes[index]\n",
    "    \n",
    "class Trait:\n",
    "    def __init__(self, genome, founder_population, target_mean, target_variance, device='cpu'):\n",
    "        self.target_mean = target_mean\n",
    "        self.target_variance = target_variance\n",
    "        self.device = device\n",
    "        random_effects = torch.randn(genome.n_chr, genome.n_loci, device=self.device)\n",
    "        random_effects -= random_effects.mean()\n",
    "        founder_scores = torch.einsum('kl,hkl->h', random_effects, founder_population.dosages)\n",
    "        founder_mean, founder_var = founder_scores.mean(), founder_scores.var()\n",
    "        scaling_factors = torch.sqrt(self.target_variance / founder_var)\n",
    "        self.scaling_factors = scaling_factors\n",
    "        random_effects *= scaling_factors\n",
    "        self.effects = random_effects\n",
    "        self.intercept = founder_mean - target_mean\n",
    "\n",
    "\n",
    "def calculate_breeding_value(population_dosages, trait_effects):\n",
    "    return torch.einsum('hjk,jk->h', population_dosages,trait_effects)\n",
    "        \n",
    "G = Genome(50,10)\n",
    "P = Population(genome=G)\n",
    "T = Trait(G,P, 0, 1)"
   ]
  },
  {
   "cell_type": "code",
   "execution_count": null,
   "id": "a7f702a3",
   "metadata": {},
   "outputs": [],
   "source": [
    "def phenotype(population_dosages, trait_effects, h2):\n",
    "    breeding_values = torch.einsum('hjk,jk->h', population_dosages, trait_effects)\n",
    "    environmental_variance = (1 - h2) / h2 * breeding_values.var()\n",
    "    environmental_noise = torch.randn(breeding_values.shape) * torch.sqrt(environmental_variance.clone().detach())\n",
    "    return breeding_values + environmental_noise"
   ]
  },
  {
   "cell_type": "code",
   "execution_count": null,
   "id": "2ffafd4e",
   "metadata": {},
   "outputs": [
    {
     "data": {
      "text/plain": [
       "<matplotlib.collections.PathCollection>"
      ]
     },
     "execution_count": null,
     "metadata": {},
     "output_type": "execute_result"
    },
    {
     "data": {
      "image/png": "[encoded data removed]",
      "text/plain": [
       "<Figure size 640x480 with 1 Axes>"
      ]
     },
     "metadata": {},
     "output_type": "display_data"
    }
   ],
   "source": [
    "plt.scatter(phenotype(P.dosages, T.effects, 1),phenotype(P.dosages, T.effects, 1))"
   ]
  },
  {
   "cell_type": "code",
   "execution_count": null,
   "id": "8c8c2d4b",
   "metadata": {},
   "outputs": [
    {
     "data": {
      "text/plain": [
       "tensor([-1.7130e+00, -1.4842e+00,  1.8420e+00,  2.2808e+00, -2.9334e+00,\n",
       "        -3.5995e-01, -6.9963e-01,  3.1297e-01, -2.9214e-01, -6.1337e-01,\n",
       "         5.8772e-02, -1.3480e+00, -3.2530e+00, -1.1311e-01, -8.2540e-01,\n",
       "        -5.3957e-01,  4.3755e-02, -1.9632e+00, -5.0812e-01, -1.5102e+00,\n",
       "        -2.0201e+00,  5.8795e-01,  1.1202e+00, -2.3467e+00, -2.9911e-01,\n",
       "        -5.8674e-01, -8.8658e-01, -8.2372e-01, -1.6953e-01,  3.3492e+00,\n",
       "        -2.1011e+00, -2.6834e+00,  8.8309e-01,  2.0913e+00,  8.7350e-01,\n",
       "         6.8637e-01,  1.9637e+00, -1.0211e+00,  2.6680e+00,  8.6392e-02,\n",
       "        -1.9765e+00,  8.2753e-01, -2.5539e+00, -1.3783e+00, -2.1248e+00,\n",
       "         1.1615e-01,  3.2237e-02, -2.1447e+00,  1.4392e+00, -3.2850e-01,\n",
       "         2.1264e+00, -1.5283e-02,  6.2327e-01, -1.5498e+00, -7.0515e-01,\n",
       "        -1.1684e+00, -1.2624e+00, -9.4124e-01,  9.2699e-01, -8.3328e-01,\n",
       "         7.8726e-01, -8.2987e-01, -1.5697e-01,  2.2387e-01, -1.4502e+00,\n",
       "         7.5112e-01, -3.4184e-01,  1.8728e+00, -7.0215e-01, -1.8176e+00,\n",
       "        -2.6808e+00,  3.3540e+00, -1.1709e-01, -1.4422e+00, -1.5630e+00,\n",
       "         1.6760e+00,  6.8238e-01, -1.2668e-01, -1.1941e+00,  1.2120e+00,\n",
       "         3.8039e-01,  1.1981e+00,  1.9856e-01, -8.9540e-01, -4.1509e-01,\n",
       "         2.6189e+00,  1.4231e+00,  7.0174e-01,  1.8861e+00,  1.3137e+00,\n",
       "        -1.8449e+00, -1.1902e+00,  6.1676e-01,  6.7487e-01,  7.4695e-01,\n",
       "         1.9319e+00, -2.0716e+00, -7.6559e-01,  8.6196e-01, -1.4417e+00,\n",
       "        -1.4443e-01, -1.2356e+00,  1.6307e+00, -3.0204e-01,  1.8898e+00,\n",
       "        -6.7050e-01,  2.0847e+00, -1.3258e-01, -1.5424e+00,  4.4348e-01,\n",
       "        -1.4227e+00,  5.0377e-01,  1.5377e+00,  1.3369e+00, -2.5382e+00,\n",
       "        -1.3196e+00, -1.9648e+00, -1.2223e-01,  1.3945e+00,  1.3130e+00,\n",
       "        -8.6727e-03,  7.0148e-01, -6.3235e-01,  1.0154e+00,  3.3490e+00,\n",
       "         7.9802e-01, -2.6683e-01,  5.0610e-01, -1.2701e+00, -5.4496e-01,\n",
       "        -2.9169e-01, -2.8036e-01,  1.3718e+00, -7.5634e-01, -1.5126e+00,\n",
       "         3.6593e-01, -1.6468e+00,  1.7293e+00, -8.7798e-01, -2.4707e+00,\n",
       "         9.3424e-01, -2.6850e+00, -1.4829e+00, -3.0524e-01,  2.0723e+00,\n",
       "        -9.1493e-01, -8.6842e-01, -5.6369e-01, -3.3418e-01,  3.7229e+00,\n",
       "        -2.0604e+00, -1.4652e-01,  1.6913e+00, -8.3467e-01, -2.2457e+00,\n",
       "         3.6688e-02, -1.8950e+00, -1.4514e+00, -1.8122e-01,  6.3740e-01,\n",
       "        -2.0428e+00, -2.6435e-01,  5.2806e-01,  1.0862e+00, -6.0752e-01,\n",
       "        -2.5957e+00,  1.4100e+00,  1.0271e-01,  1.5093e-02, -2.5776e-01,\n",
       "        -1.2502e-01, -9.8905e-01,  1.5834e+00, -5.3139e-02,  3.4308e+00,\n",
       "        -2.3197e+00,  5.8589e-01,  2.2040e+00,  1.3358e+00,  3.9690e-01,\n",
       "        -1.2632e+00,  1.0694e+00, -2.9461e-01, -9.0788e-01, -1.5632e+00,\n",
       "         3.3728e-03,  1.9941e+00,  1.7760e-02, -1.6089e+00,  1.4059e+00,\n",
       "         1.1468e-01, -4.4161e-01,  3.9833e-02, -7.2352e-01,  1.5315e+00,\n",
       "        -2.0931e+00,  1.8387e+00, -5.4599e-01, -8.9777e-01,  3.5212e-01,\n",
       "        -3.4229e-01,  1.5293e+00,  1.3973e-01,  5.6883e-01, -1.1713e+00,\n",
       "        -6.3095e-01, -1.7491e+00,  1.9340e-01,  1.9422e+00,  2.0732e+00,\n",
       "        -2.2549e+00, -5.1157e-01,  2.5856e+00, -2.9500e+00, -8.1967e-01,\n",
       "        -2.6492e+00,  7.1657e-01, -2.0011e+00, -1.1547e-01,  8.1931e-01,\n",
       "         9.3064e-01, -1.0845e+00, -2.6838e+00,  1.9120e+00,  4.0369e-01,\n",
       "         1.1466e+00, -8.1822e-01,  5.6893e-01, -2.9303e+00, -2.2377e+00,\n",
       "         4.6958e-01, -1.9386e+00,  1.8430e+00,  2.4697e+00, -5.2148e-01,\n",
       "        -4.7393e-01,  1.4211e+00, -6.1005e-01,  1.0861e+00, -1.2003e+00,\n",
       "         6.4543e-01, -2.3236e+00, -3.7006e+00,  6.4998e-01,  9.1305e-02,\n",
       "        -1.8562e+00,  2.1693e+00, -1.1082e+00, -6.6547e-01, -9.1165e-01,\n",
       "         4.3647e-01, -5.1922e-01,  4.6034e-01,  1.4010e+00,  9.1355e-01,\n",
       "        -4.5668e-01, -1.4768e-01, -6.6263e-01,  8.5933e-01, -8.5316e-01,\n",
       "         2.1601e+00,  2.3817e+00,  2.5770e+00, -4.0097e-01,  8.5690e-01,\n",
       "         6.4256e-01,  2.2059e+00,  1.0212e+00, -4.3084e-01, -9.2034e-01,\n",
       "        -1.5098e+00, -1.8687e+00,  5.1325e-01, -1.1893e+00, -6.3227e-01,\n",
       "        -7.2457e-01, -2.5888e-01, -3.0505e+00,  5.8624e-01,  1.8804e+00,\n",
       "         1.3838e+00, -1.2686e-01, -6.9966e-01, -1.2259e+00,  1.3272e+00,\n",
       "        -1.1777e+00, -1.4463e+00, -5.2841e-01, -9.1291e-01,  2.4941e-01,\n",
       "        -5.6961e-01, -2.2115e-01, -5.9023e-02,  2.5135e+00,  1.0221e+00,\n",
       "         8.4006e-01, -1.5535e+00,  1.8298e+00,  2.7447e-01,  2.4284e+00,\n",
       "         3.0598e+00, -4.8542e-01,  6.6128e-01,  2.0430e-01,  5.4898e-01,\n",
       "         1.2415e+00, -1.5043e+00, -1.3566e+00,  1.4543e+00,  2.7958e+00,\n",
       "         7.0472e-01, -7.7469e-01,  1.2822e+00, -7.9388e-01, -1.8328e+00,\n",
       "         2.2266e-01, -4.6586e-01, -1.1577e+00,  1.1313e+00, -2.3369e+00,\n",
       "         6.6168e-01, -1.4125e-01, -2.1862e-01,  5.6941e-01,  4.6884e-01,\n",
       "        -2.5024e-01, -2.3215e+00, -1.5236e-01, -3.3939e+00,  6.0996e-01,\n",
       "        -1.7954e+00, -1.3222e+00, -1.3498e+00, -8.8709e-01,  4.9680e-01,\n",
       "        -1.4997e+00, -4.2685e-01, -3.1480e-01,  1.0397e+00, -1.7576e+00,\n",
       "         3.0704e-01, -6.4946e-01,  4.6894e-01, -3.5340e+00,  3.3710e-01,\n",
       "         6.8215e-01,  4.7855e-01,  1.0853e+00, -1.3404e+00, -1.2532e-01,\n",
       "         1.5271e+00, -4.5376e-01,  1.0069e+00,  1.7453e+00,  2.7476e-01,\n",
       "         2.2914e+00,  2.0540e+00, -1.1078e-01, -1.8862e+00, -9.9770e-01,\n",
       "         8.4294e-01, -5.7307e-01, -1.0177e+00, -1.1907e+00,  6.5886e-01,\n",
       "        -1.0873e+00,  1.3521e+00,  7.8679e-01,  7.6901e-02, -4.9441e-01,\n",
       "         1.4576e+00, -2.1312e+00, -4.3125e-02,  5.6499e-01,  1.4826e+00,\n",
       "         6.5202e-01, -3.1783e-01,  2.2723e+00,  7.6902e-01,  2.0711e+00,\n",
       "         2.0724e+00, -1.5929e+00, -1.3015e+00,  1.1998e+00,  3.2269e-01,\n",
       "         3.0620e+00, -4.9543e-01,  3.9362e-01,  7.4229e-01, -6.2381e-01,\n",
       "         1.5852e+00, -1.7457e-01, -2.4415e-01,  1.2681e+00, -8.2312e-01,\n",
       "        -8.0351e-01,  1.2108e+00, -1.5532e-01, -3.7431e+00,  2.8804e+00,\n",
       "        -1.0542e+00,  1.8263e+00,  1.5500e+00, -1.0679e+00,  8.8759e-02,\n",
       "         2.8361e+00,  1.6070e+00, -2.5777e+00,  2.2785e-01, -7.3481e-01,\n",
       "        -3.8982e-02,  1.9007e+00,  1.1818e+00, -5.9285e-01, -1.9674e+00,\n",
       "        -1.4012e+00,  1.4045e+00,  3.5540e-01,  1.2190e+00,  4.7868e-01,\n",
       "        -8.9001e-01,  1.3883e+00, -2.0505e+00,  2.1669e+00,  1.4590e+00,\n",
       "         2.4923e+00, -4.7269e-01,  2.1427e+00,  1.3954e+00, -9.9474e-01,\n",
       "        -1.8617e+00, -1.1160e+00,  4.9968e-01,  1.7177e-01,  1.7287e+00,\n",
       "         2.1546e+00, -2.0996e-01,  9.9230e-01, -4.6199e-02,  1.5373e+00,\n",
       "         8.1554e-01, -6.1266e-01, -1.3322e-01, -2.9216e+00, -5.9051e-01,\n",
       "         2.1426e+00,  2.5668e-01,  9.0171e-01,  7.2834e-01, -1.3485e+00,\n",
       "        -1.1298e+00,  1.4029e+00, -1.9200e+00,  1.2429e-01,  2.7729e+00,\n",
       "         6.8340e-01,  4.5028e+00, -5.9578e-01,  2.7055e-01, -5.8226e-01,\n",
       "        -2.9312e-01, -6.5894e-01,  5.0622e-01,  8.0176e-01,  6.7101e-01,\n",
       "        -7.6945e-01,  3.3393e-01,  1.4205e+00, -1.5596e-01,  2.4913e-01,\n",
       "        -1.8262e+00, -3.2507e-01,  6.0312e-01, -9.1664e-01,  9.2083e-01,\n",
       "        -3.8951e+00,  1.1264e+00,  1.8710e+00,  8.3510e-01, -1.9475e+00,\n",
       "        -1.6778e+00,  2.1325e+00, -1.2677e+00,  2.9734e-01,  2.6150e+00,\n",
       "         1.4367e+00,  6.3353e-01, -4.2188e-02,  3.9830e-01, -1.5490e+00,\n",
       "        -3.5502e-01, -3.5556e+00,  2.6174e+00, -1.2749e+00, -1.3259e+00,\n",
       "         6.6199e-01, -1.3461e+00, -9.5251e-01,  9.3807e-01, -7.7979e-01])"
      ]
     },
     "execution_count": null,
     "metadata": {},
     "output_type": "execute_result"
    }
   ],
   "source": []
  }
 ],
 "metadata": {
  "kernelspec": {
   "display_name": "python3",
   "language": "python",
   "name": "python3"
  }
 },
 "nbformat": 4,
 "nbformat_minor": 5
}
