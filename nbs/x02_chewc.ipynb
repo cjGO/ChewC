{
 "cells": [
  {
   "cell_type": "code",
   "execution_count": null,
   "id": "d2d3c706",
   "metadata": {},
   "outputs": [],
   "source": [
    "#x02_chewc"
   ]
  },
  {
   "cell_type": "code",
   "execution_count": null,
   "id": "ff3f1f6e",
   "metadata": {},
   "outputs": [],
   "source": []
  },
  {
   "cell_type": "code",
   "execution_count": null,
   "id": "aa2db315",
   "metadata": {},
   "outputs": [],
   "source": [
    "import torch\n",
    "import matplotlib.pyplot as plt\n",
    "from fastcore.basics import patch\n",
    "import uuid"
   ]
  },
  {
   "cell_type": "code",
   "execution_count": null,
   "id": "7b22f2aa",
   "metadata": {},
   "outputs": [],
   "source": [
    "import torch\n",
    "\n",
    "class Genome:\n",
    "    def __init__(self, n_chr, n_loci):\n",
    "        self.ploidy = 2\n",
    "        self.n_chr = n_chr\n",
    "        self.n_loci = n_loci\n",
    "        self.shape = (self.ploidy, self.n_chr, self.n_loci)\n",
    "        \n",
    "class Population:\n",
    "    def __init__(self, genome, haplotypes=None, device='cpu'):\n",
    "        self.g = genome\n",
    "        self.device = device\n",
    "        if haplotypes:\n",
    "            self.haplotypes=haplotypes\n",
    "        else:\n",
    "            self.haplotypes = self._create_random_haplotypes(500)\n",
    "        self._calculate_dosages()\n",
    "            \n",
    "    def _calculate_dosages(self):\n",
    "        self.dosages = self.haplotypes.sum(dim=1).float()\n",
    "        \n",
    "    def _create_random_haplotypes(self,num_individuals):\n",
    "        return torch.randint(0, 2, (num_individuals, *self.g.shape), device=self.device)\n",
    "    \n",
    "    def __getitem__(self,index):\n",
    "        return self.haplotypes[index]\n",
    "    \n",
    "class Trait:\n",
    "    def __init__(self, genome, founder_population, target_mean, target_variance, device='cpu'):\n",
    "        self.target_mean = target_mean\n",
    "        self.target_variance = target_variance\n",
    "        self.device = device\n",
    "        random_effects = torch.randn(genome.n_chr, genome.n_loci, device=self.device)\n",
    "        random_effects -= random_effects.mean()\n",
    "        founder_scores = torch.einsum('kl,hkl->h', random_effects, founder_population.dosages)\n",
    "        founder_mean, founder_var = founder_scores.mean(), founder_scores.var()\n",
    "        scaling_factors = torch.sqrt(self.target_variance / founder_var)\n",
    "        self.scaling_factors = scaling_factors\n",
    "        random_effects *= scaling_factors\n",
    "        self.effects = random_effects\n",
    "        self.intercept = founder_mean - target_mean\n",
    "\n",
    "\n",
    "def calculate_breeding_value(population_dosages, trait_effects):\n",
    "    return torch.einsum('hjk,jk->h', population_dosages,trait_effects)\n",
    "        \n",
    "G = Genome(50,10)\n",
    "P = Population(genome=G)\n",
    "T = Trait(G,P, 0, 1)"
   ]
  },
  {
   "cell_type": "code",
   "execution_count": null,
   "id": "a7f702a3",
   "metadata": {},
   "outputs": [],
   "source": [
    "def phenotype(population_dosages, trait_effects, h2):\n",
    "    breeding_values = torch.einsum('hjk,jk->h', population_dosages,trait_effects)\n",
    "    environmental_variance = (1 - h2) / h2 * breeding_values.var()\n",
    "    environmental_noise = torch.randn(breeding_values.shape) * torch.sqrt(torch.tensor(environmental_variance))\n",
    "    return breeding_values + environmental_noise"
   ]
  },
  {
   "cell_type": "code",
   "execution_count": null,
   "id": "9935195a",
   "metadata": {},
   "outputs": [
    {
     "name": "stderr",
     "output_type": "stream",
     "text": [
      "/tmp/ipykernel_151533/463781258.py:4: UserWarning: To copy construct from a tensor, it is recommended to use sourceTensor.clone().detach() or sourceTensor.clone().detach().requires_grad_(True), rather than torch.tensor(sourceTensor).\n",
      "  environmental_noise = torch.randn(breeding_values.shape) * torch.sqrt(torch.tensor(environmental_variance))\n"
     ]
    },
    {
     "data": {
      "text/plain": [
       "(array([  6.,  30.,  67., 117., 123.,  92.,  49.,  11.,   4.,   1.]),\n",
       " array([-4.02730608, -3.0871346 , -2.14696312, -1.20679164, -0.26662016,\n",
       "         0.67355132,  1.6137228 ,  2.55389428,  3.49406576,  4.43423748,\n",
       "         5.37440872]),\n",
       " <BarContainer object of 10 artists>)"
      ]
     },
     "execution_count": null,
     "metadata": {},
     "output_type": "execute_result"
    },
    {
     "data": {
      "image/png": "[encoded data removed]",
      "text/plain": [
       "<Figure size 640x480 with 1 Axes>"
      ]
     },
     "metadata": {},
     "output_type": "display_data"
    }
   ],
   "source": [
    "plt.hist(phenotype(P.dosages, T.effects, .5))"
   ]
  },
  {
   "cell_type": "code",
   "execution_count": null,
   "id": "0fc603d6",
   "metadata": {},
   "outputs": [],
   "source": []
  }
 ],
 "metadata": {
  "kernelspec": {
   "display_name": "python3",
   "language": "python",
   "name": "python3"
  }
 },
 "nbformat": 4,
 "nbformat_minor": 5
}
