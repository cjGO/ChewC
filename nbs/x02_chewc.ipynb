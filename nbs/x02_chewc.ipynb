{
 "cells": [
  {
   "cell_type": "code",
   "execution_count": null,
   "id": "d2d3c706",
   "metadata": {},
   "outputs": [],
   "source": [
    "#x02_chewc"
   ]
  },
  {
   "cell_type": "code",
   "execution_count": null,
   "id": "aa2db315",
   "metadata": {},
   "outputs": [],
   "source": [
    "import torch\n",
    "import matplotlib.pyplot as plt\n",
    "from fastcore.basics import patch\n",
    "import uuid"
   ]
  },
  {
   "cell_type": "code",
   "execution_count": null,
   "id": "7b22f2aa",
   "metadata": {},
   "outputs": [],
   "source": [
    "import torch\n",
    "\n",
    "device='cpu'\n",
    "\n",
    "class Genome:\n",
    "    def __init__(self, n_chr, n_loci):\n",
    "        self.ploidy = 2\n",
    "        self.n_chr = n_chr\n",
    "        self.n_loci = n_loci\n",
    "        self.shape = (self.ploidy, self.n_chr, self.n_loci)\n",
    "        \n",
    "class Population:\n",
    "    def __init__(self, genome, haplotypes=None, size=1000, device=device):\n",
    "        self.g = genome\n",
    "        self.device = device\n",
    "        if haplotypes is not None and haplotypes.numel() > 0:\n",
    "            self.haplotypes = haplotypes\n",
    "        else:\n",
    "            self.haplotypes = self._create_random_haplotypes(size)  # Or handle it another way\n",
    "\n",
    "        self._calculate_dosages()\n",
    "        self.phenotypes = None\n",
    "        \n",
    "    def _calculate_dosages(self):\n",
    "        self.dosages = self.haplotypes.sum(dim=1).float()\n",
    "        \n",
    "    def _create_random_haplotypes(self,num_individuals):\n",
    "        return torch.randint(0, 2, (num_individuals, *self.g.shape), device=self.device)\n",
    "    \n",
    "    def __getitem__(self,index):\n",
    "        return self.haplotypes[index]\n",
    "    \n",
    "class Trait:\n",
    "    def __init__(self, genome, founder_population, target_mean, target_variance,default_h2=.2, device=device):\n",
    "        self.target_mean = target_mean\n",
    "        self.target_variance = target_variance\n",
    "        self.default_h2 = default_h2\n",
    "        self.device = device\n",
    "        random_effects = torch.randn(genome.n_chr, genome.n_loci, device=self.device)\n",
    "        random_effects -= random_effects.mean()\n",
    "        founder_scores = torch.einsum('kl,hkl->h', random_effects, founder_population.dosages)\n",
    "        founder_mean, founder_var = founder_scores.mean(), founder_scores.var()\n",
    "        scaling_factors = torch.sqrt(self.target_variance / founder_var)\n",
    "        self.scaling_factors = scaling_factors\n",
    "        random_effects *= scaling_factors\n",
    "        self.effects = random_effects\n",
    "        self.intercept = founder_mean - target_mean\n",
    "\n",
    "        \n",
    "def calculate_breeding_value(population_dosages, trait_effects, device = device):\n",
    "    return torch.einsum('hjk,jk->h', population_dosages,trait_effects)\n",
    "\n",
    "def truncation_selection(population, trait, top_percent):\n",
    "    return torch.topk(population.phenotypes, top_percent).indices\n",
    "\n",
    "def update_population(population, progeny):\n",
    "    population.haplotypes = progeny\n",
    "    population.dosages = population._calculate_dosages()\n",
    "    return population\n",
    "\n",
    "# meiosis\n",
    "def recombine(parent_haplo_tensor, recombination_rate=0.01):\n",
    "    num_individuals, ploidy, num_chromosomes, num_loci = parent_haplo_tensor.shape    \n",
    "    # Generate crossover masks\n",
    "    maternal, paternal = parent_haplo_tensor[:,0,:,:],parent_haplo_tensor[:,1,:,:],\n",
    "    crossovers = torch.bernoulli(torch.full((num_individuals, num_chromosomes, num_loci), recombination_rate, device=device))\n",
    "    #crossovers = torch.rand((num_individuals, num_chromosomes, num_loci), device=device) < recombination_rate\n",
    "    progeny = maternal * (1 - crossovers) + paternal * crossovers\n",
    "    return progeny\n",
    "\n",
    "def breed(mother_tensor, father_tensor):\n",
    "    eggs = recombine(mother_tensor)\n",
    "    pollens = recombine(father_tensor)\n",
    "    return torch.stack((eggs,pollens), dim=1)\n",
    "\n",
    "\n",
    "def phenotype(population, trait, h2):\n",
    "    # Check if phenotypes have been calculated\n",
    "    if population.phenotypes is None: \n",
    "        breeding_values = calculate_breeding_value(population.dosages, trait.effects)\n",
    "        environmental_variance = (1 - h2) / h2 * breeding_values.var()\n",
    "        environmental_noise = torch.randn(breeding_values.shape, device=device) * torch.sqrt(environmental_variance.clone().detach())\n",
    "        population.phenotypes = breeding_values + environmental_noise # Store the phenotypes\n",
    "    return population\n",
    "\n",
    "\n",
    "G = Genome(10,1000)\n",
    "P = Population(genome=G,size=1000)\n",
    "T = Trait(G,P, 0, 1)\n",
    "\n"
   ]
  },
  {
   "cell_type": "code",
   "execution_count": null,
   "id": "66565c12",
   "metadata": {},
   "outputs": [],
   "source": [
    "P = phenotype(P,T,1)"
   ]
  },
  {
   "cell_type": "code",
   "execution_count": null,
   "id": "a7f702a3",
   "metadata": {},
   "outputs": [],
   "source": [
    "\n",
    "G = Genome(10,1000)\n",
    "P = Population(genome=G,size=1000)\n",
    "T = Trait(G,P, 0, 1)\n",
    "\n",
    "P = phenotype(P,T,1)"
   ]
  },
  {
   "cell_type": "code",
   "execution_count": null,
   "id": "edafcd80",
   "metadata": {},
   "outputs": [],
   "source": [
    "mating_pool = truncation_selection(P,T,100)\n",
    "mothers = P.haplotypes[torch.randperm(mating_pool.size(0))]\n",
    "fathers = P.haplotypes[torch.randperm(mating_pool.size(0))]\n",
    "progeny = breed(mothers,fathers)"
   ]
  },
  {
   "cell_type": "code",
   "execution_count": null,
   "id": "06946658",
   "metadata": {},
   "outputs": [],
   "source": [
    "progeny = Population(G,haplotypes=progeny)"
   ]
  },
  {
   "cell_type": "code",
   "execution_count": null,
   "id": "4f23f67c",
   "metadata": {},
   "outputs": [
    {
     "data": {
      "text/plain": [
       "tensor(-0.0010)"
      ]
     },
     "execution_count": null,
     "metadata": {},
     "output_type": "execute_result"
    }
   ],
   "source": [
    "P.phenotypes.mean()"
   ]
  },
  {
   "cell_type": "code",
   "execution_count": null,
   "id": "504c9031",
   "metadata": {},
   "outputs": [],
   "source": [
    "progeny = phenotype(progeny, T, 1)"
   ]
  },
  {
   "cell_type": "code",
   "execution_count": null,
   "id": "f6b3a2e3",
   "metadata": {},
   "outputs": [
    {
     "data": {
      "text/plain": [
       "tensor(0.3487)"
      ]
     },
     "execution_count": null,
     "metadata": {},
     "output_type": "execute_result"
    }
   ],
   "source": [
    "progeny.phenotypes.mean()"
   ]
  },
  {
   "cell_type": "code",
   "execution_count": null,
   "id": "f9188f89",
   "metadata": {},
   "outputs": [],
   "source": []
  }
 ],
 "metadata": {
  "kernelspec": {
   "display_name": "python3",
   "language": "python",
   "name": "python3"
  }
 },
 "nbformat": 4,
 "nbformat_minor": 5
}
