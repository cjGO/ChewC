{
 "cells": [
  {
   "cell_type": "code",
   "execution_count": 1,
   "id": "d2d3c706",
   "metadata": {},
   "outputs": [],
   "source": [
    "#x02_chewc"
   ]
  },
  {
   "cell_type": "code",
   "execution_count": 2,
   "id": "aa2db315",
   "metadata": {},
   "outputs": [],
   "source": [
    "import torch\n",
    "import matplotlib.pyplot as plt\n",
    "from fastcore.basics import patch\n",
    "import uuid"
   ]
  },
  {
   "cell_type": "code",
   "execution_count": 16,
   "id": "7b22f2aa",
   "metadata": {},
   "outputs": [],
   "source": [
    "import torch\n",
    "\n",
    "class Genome:\n",
    "    def __init__(self, n_chr, n_loci):\n",
    "        self.ploidy = 2\n",
    "        self.n_chr = n_chr\n",
    "        self.n_loci = n_loci\n",
    "        self.shape = (self.ploidy, self.n_chr, self.n_loci)\n",
    "        \n",
    "class Population:\n",
    "    def __init__(self, genome, haplotypes=None, device='cpu'):\n",
    "        self.g = genome\n",
    "        self.device = device\n",
    "        if haplotypes:\n",
    "            self.haplotypes=haplotypes\n",
    "        else:\n",
    "            self.haplotypes = self._create_random_haplotypes(500)\n",
    "            \n",
    "        self._calculate_dosages()\n",
    "            \n",
    "    def _calculate_dosages(self):\n",
    "        self.dosages = self.haplotypes.sum(dim=1)\n",
    "        \n",
    "    def _create_random_haplotypes(self,num_individuals):\n",
    "        return torch.randint(0, 2, (num_individuals, *self.g.shape), device=self.device)\n",
    "    \n",
    "    def __getitem__(self,index):\n",
    "        return self.haplotypes[index]\n",
    "    \n",
    "class Trait:\n",
    "    def __init__(self, genome, founder_population, target_mean, target_variance, device='cpu'):\n",
    "        self.target_mean = target_mean\n",
    "        self.target_variance = target_variance\n",
    "        self.device = device\n",
    "        random_effects = torch.randn(genome.n_chr, genome.n_loci, device=self.device)\n",
    "        founder_scores = torch.einsum('kl,hjkl->h', random_effects, founder_population.haplotypes.float())\n",
    "        founder_mean, founder_var = founder_scores.mean(), founder_scores.var()\n",
    "        scaling_factors = torch.sqrt(self.target_variance / founder_var)\n",
    "        random_effects *= scaling_factors\n",
    "        self.effects = random_effects\n",
    "        self.intercept = founder_mean - target_mean"
   ]
  },
  {
   "cell_type": "code",
   "execution_count": 17,
   "id": "231b9242",
   "metadata": {
    "scrolled": true
   },
   "outputs": [
    {
     "data": {
      "text/plain": [
       "torch.Size([2, 50, 10])"
      ]
     },
     "execution_count": 17,
     "metadata": {},
     "output_type": "execute_result"
    }
   ],
   "source": [
    "G = Genome(50,10)\n",
    "P = Population(genome=G)\n",
    "P[0].shape"
   ]
  },
  {
   "cell_type": "code",
   "execution_count": 5,
   "id": "9d495467",
   "metadata": {},
   "outputs": [],
   "source": [
    "T = Trait(G,P, 0, 1)"
   ]
  },
  {
   "cell_type": "code",
   "execution_count": null,
   "id": "88ca19c9",
   "metadata": {},
   "outputs": [],
   "source": []
  },
  {
   "cell_type": "code",
   "execution_count": 7,
   "id": "a5e0aa9a",
   "metadata": {},
   "outputs": [],
   "source": [
    "class Individual:\n",
    "    def __init__(self, genome, haplotype=None, mother=None, father=None, descendants=0, source='founder', chewc=None, device='cpu'):\n",
    "        self.genome = genome\n",
    "        self.haplotype = None\n",
    "        self.source = source\n",
    "        self.descendents = []\n",
    "        self.fitness = 0\n",
    "        self.mother, self.father = mother, father\n",
    "        self.device = device\n",
    "\n",
    "        if self.source == 'founder':\n",
    "            self.haplotype = self._generate_random_haplotype()\n",
    "        else:\n",
    "            self.haplotype = haplotype\n",
    "        self.make_id()\n",
    "\n",
    "    def __repr__(self):\n",
    "        return f'Individual with ID: {self.id[:3]}'\n",
    "\n",
    "    def make_id(self):\n",
    "        self.id = uuid.uuid4().hex\n"
   ]
  }
 ],
 "metadata": {
  "kernelspec": {
   "display_name": "Python 3 (ipykernel)",
   "language": "python",
   "name": "python3"
  },
  "language_info": {
   "codemirror_mode": {
    "name": "ipython",
    "version": 3
   },
   "file_extension": ".py",
   "mimetype": "text/x-python",
   "name": "python",
   "nbconvert_exporter": "python",
   "pygments_lexer": "ipython3",
   "version": "3.11.9"
  }
 },
 "nbformat": 4,
 "nbformat_minor": 5
}
