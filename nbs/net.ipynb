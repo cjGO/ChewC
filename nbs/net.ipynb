{
 "cells": [
  {
   "cell_type": "code",
   "execution_count": 1,
   "id": "fe2b652a",
   "metadata": {},
   "outputs": [],
   "source": [
    "import torch"
   ]
  },
  {
   "cell_type": "code",
   "execution_count": 2,
   "id": "bdf17e07",
   "metadata": {},
   "outputs": [],
   "source": [
    "# Define the shape of the tensor\n",
    "b=100 #individuals\n",
    "p=2 #ploidy\n",
    "c=5 #chromosome\n",
    "l = 10 #loci\n",
    "def dummy_haplotypes(b,p,c,l): return torch.randint(0, 2, (b, p, c, l))\n",
    "\n",
    "dummy_mating_pool = dummy_haplotypes(b,p,c,l)\n",
    "#add batch dimension, single item per batch\n",
    "# dummy_mating_pool.unsqueeze(0) #(1, 100, 2, 5, 10)\n",
    "mating_pool_bv = torch.randn(b)\n",
    "mating_pool_bv = mating_pool_bv.unsqueeze(0) # (1,100)"
   ]
  },
  {
   "cell_type": "code",
   "execution_count": 63,
   "id": "87ca98bc",
   "metadata": {},
   "outputs": [
    {
     "name": "stdout",
     "output_type": "stream",
     "text": [
      "tensor([[0.4972]], grad_fn=<SigmoidBackward0>)\n"
     ]
    }
   ],
   "source": [
    "import torch\n",
    "import torch.nn as nn\n",
    "import torch.optim as optim\n",
    "\n",
    "class CNN1D(nn.Module):\n",
    "    def __init__(self):\n",
    "        super(CNN1D, self).__init__()\n",
    "        self.conv1 = nn.Conv1d(in_channels=2, out_channels=64, kernel_size=32, stride=8)\n",
    "        self.conv2 = nn.Conv1d(in_channels=64, out_channels=16, kernel_size=8, stride=2)\n",
    "        self.fc1 = nn.Linear(928, 64)\n",
    "        self.fc2 = nn.Linear(64, 32)  # Changed to 32 to match the dimension of combined features\n",
    "\n",
    "    def forward(self, x):\n",
    "        x1 = self.conv1(x)\n",
    "        x1 = nn.ReLU()(x1)\n",
    "        x1 = self.conv2(x1)\n",
    "        x1 = nn.ReLU()(x1)\n",
    "        x1 = x1.view(x1.size(0), -1)\n",
    "\n",
    "        x2 = self.conv1(x.flip(dims=[1]))\n",
    "        x2 = nn.ReLU()(x2)\n",
    "        x2 = self.conv2(x2)\n",
    "        x2 = nn.ReLU()(x2)\n",
    "        x2 = x2.view(x2.size(0), -1)\n",
    "\n",
    "        x = (x1 + x2) / 2\n",
    "        x = self.fc1(x)\n",
    "        x = nn.ReLU()(x)\n",
    "        x = self.fc2(x)\n",
    "        return x\n",
    "    \n",
    "class MappingNetwork(nn.Module):\n",
    "    def __init__(self):\n",
    "        super(MappingNetwork, self).__init__()\n",
    "        self.mapping = nn.Linear(1, 16)\n",
    "\n",
    "    def forward(self, x):\n",
    "        x = self.mapping(x)\n",
    "        x = nn.ReLU()(x)\n",
    "        return x\n",
    "    \n",
    "class CombinedModel(nn.Module):\n",
    "    def __init__(self):\n",
    "        super(CombinedModel, self).__init__()\n",
    "        self.geno_net = CNN1D()\n",
    "        self.meta_net = MappingNetwork()\n",
    "        self.fc1 = nn.Linear(32 + 16, 64)\n",
    "        self.fc2 = nn.Linear(64, 1)\n",
    "        self.sigmoid = nn.Sigmoid()  # Add sigmoid layer\n",
    "\n",
    "    def forward(self, geno_input, meta_input):\n",
    "        geno_features = self.geno_net(geno_input)\n",
    "        meta_features = self.meta_net(meta_input)\n",
    "        combined_features = torch.cat((geno_features, meta_features), dim=1)\n",
    "        x = self.fc1(combined_features)\n",
    "        x = nn.ReLU()(x)\n",
    "        x = self.fc2(x)\n",
    "        x = self.sigmoid(x)  # Apply sigmoid activation\n",
    "        return x\n",
    "\n",
    "# Example usage:\n",
    "input_tensor = torch.randn(1, 2, 1000)  # [batch_size, channels, length]\n",
    "meta_tensor = torch.tensor([[1.0]])  # [batch_size, 1]\n",
    "\n",
    "model = CombinedModel()\n",
    "output = model(input_tensor, meta_tensor)\n",
    "print(output)"
   ]
  },
  {
   "cell_type": "code",
   "execution_count": null,
   "id": "72f849ef",
   "metadata": {},
   "outputs": [],
   "source": []
  },
  {
   "cell_type": "code",
   "execution_count": null,
   "id": "102702cf",
   "metadata": {},
   "outputs": [],
   "source": []
  },
  {
   "cell_type": "code",
   "execution_count": null,
   "id": "fe33d49a",
   "metadata": {},
   "outputs": [],
   "source": []
  },
  {
   "cell_type": "code",
   "execution_count": null,
   "id": "69580fbe",
   "metadata": {},
   "outputs": [],
   "source": []
  }
 ],
 "metadata": {
  "kernelspec": {
   "display_name": "Python 3 (ipykernel)",
   "language": "python",
   "name": "python3"
  },
  "language_info": {
   "codemirror_mode": {
    "name": "ipython",
    "version": 3
   },
   "file_extension": ".py",
   "mimetype": "text/x-python",
   "name": "python",
   "nbconvert_exporter": "python",
   "pygments_lexer": "ipython3",
   "version": "3.11.9"
  }
 },
 "nbformat": 4,
 "nbformat_minor": 5
}
