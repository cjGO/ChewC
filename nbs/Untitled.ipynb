{
 "cells": [
  {
   "cell_type": "code",
   "execution_count": null,
   "id": "52e724c2",
   "metadata": {},
   "outputs": [],
   "source": [
    "%load_ext autoreload\n",
    "%autoreload 2"
   ]
  },
  {
   "cell_type": "code",
   "execution_count": null,
   "id": "c3730cef",
   "metadata": {},
   "outputs": [],
   "source": [
    "from chewc.chewc import *\n",
    "import torch"
   ]
  },
  {
   "cell_type": "markdown",
   "id": "a2a83c9d",
   "metadata": {},
   "source": [
    "\n",
    "## Model \n",
    "### input : agent metrics, mating pool metrics \n",
    "\n",
    "Possibly we can use rankings for the given mating pool for each of these metrics. e.g ranking on overall estimated fitness, as well as rank of the inbreeding/relatedness \n",
    "\n",
    "Short term reward; producing an offspring that\n",
    "\n",
    "- For each mate, we could give the inbreeding coefficients... as well as estimated fitness.\n",
    "##### output  probability\n",
    "\n",
    "- need to figure out better inputs rather than full genotypes\n",
    "    -\n",
    "    \n",
    "- compare algo with individual versus collective rewards\n"
   ]
  },
  {
   "cell_type": "code",
   "execution_count": null,
   "id": "9ebc2ce4",
   "metadata": {},
   "outputs": [],
   "source": []
  },
  {
   "cell_type": "markdown",
   "id": "882b855f",
   "metadata": {},
   "source": [
    "I've finished writing a python implementation of AlphaSimR. Now I want to do research into MultiAgent RL. I am no expert! Please review my proposal for research. Give it scores out of 100 and how it can improve for the important features like 1) my comprehension of the breeding topic /// 2) my comprehension of the RL topic /// 3) the practicality of this model learning based on my structure/architecture of the model /training\n",
    "\n",
    "--------\n",
    "PROJECT PROPOSAL : \n",
    "\n",
    "My plan is to do research into breeding designs for breeding programs. e.g. how do we plan which crosses to make given some information (like a genomic prediction model which can provide estimated breeding values). Or the relationships between individuals (e.g. how related/inbred would the two be?). We want to see if we can use a multi-agent paradigm where each plant can rate a given set of individuals in its mating pool. Our hope is that depending on the given information, the agents will adopt different strategies for choosing their partners. The model will be based around individual agents and a breeding pool of other individuals.\n",
    "\n",
    "The two inputs to the model will be the Agent Module, and the Breeding Pool Module... each Module will contain features that should be influential on the decision of the agent.\n",
    "\n",
    "The inputs will include the following \n",
    "\n",
    "The agent's own meta data will be its genotype, and relative fitness ranking in the mating pool.\n",
    "\n",
    "The mating pool will include its genotype, the relative fitness in the mating pool, and the relative inbreeding rank to the agent.\n",
    "\n",
    "Note: perhaps we can even ignore the genotypes for the first models?\n",
    "\n",
    "## Reward\n",
    "\n",
    "I am not sure how to do this. I was thinking it could be the  number of descendants in the next generation, or the relative rankings (e.g. points for their offspring having highest fitness ranking, or being the least inbred individual with most unique alleles)\n",
    "\n",
    "---\n",
    "training\n",
    "\n",
    "we will use the model to make predictions for each individual in the mating pool and sample from the probability distribution for its mating... then we will use chewc simulator to generate those individuals, get their estimated breeding values, and their true breeding values... we will calculate the rewards based on the next cycle's population and immediately update the models weights.\n",
    "\n",
    "----|"
   ]
  },
  {
   "cell_type": "markdown",
   "id": "3fedca63",
   "metadata": {},
   "source": [
    "Individual Plants as agents... or gametic agents"
   ]
  },
  {
   "cell_type": "code",
   "execution_count": null,
   "id": "28f7eda3",
   "metadata": {},
   "outputs": [],
   "source": []
  }
 ],
 "metadata": {
  "kernelspec": {
   "display_name": "python3",
   "language": "python",
   "name": "python3"
  }
 },
 "nbformat": 4,
 "nbformat_minor": 5
}
