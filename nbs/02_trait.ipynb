{
 "cells": [
  {
   "cell_type": "code",
   "execution_count": null,
   "id": "853622f5",
   "metadata": {},
   "outputs": [],
   "source": [
    "%load_ext autoreload\n",
    "%autoreload 2"
   ]
  },
  {
   "cell_type": "code",
   "execution_count": null,
   "id": "13f03d08",
   "metadata": {},
   "outputs": [],
   "source": [
    "#| default_exp trait"
   ]
  },
  {
   "cell_type": "code",
   "execution_count": null,
   "id": "7fa8af73",
   "metadata": {},
   "outputs": [],
   "source": [
    "#| export\n",
    "\n",
    "import attr\n",
    "import torch\n",
    "from typing import List, Tuple, Union, Callable, Optional"
   ]
  },
  {
   "cell_type": "markdown",
   "id": "a61c12cd",
   "metadata": {},
   "source": [
    "## Traits\n",
    "> Setting up (A)dditive, (E)pistatic, (D)ominant, and Gx(E)nvironment trait effects"
   ]
  },
  {
   "cell_type": "code",
   "execution_count": null,
   "id": "e0ba5634",
   "metadata": {},
   "outputs": [],
   "source": []
  }
 ],
 "metadata": {
  "kernelspec": {
   "display_name": "python3",
   "language": "python",
   "name": "python3"
  }
 },
 "nbformat": 4,
 "nbformat_minor": 5
}
