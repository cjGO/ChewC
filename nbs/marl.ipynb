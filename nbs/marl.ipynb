{
 "cells": [
  {
   "cell_type": "code",
   "execution_count": null,
   "id": "8d6b4579",
   "metadata": {},
   "outputs": [],
   "source": [
    "import numpy as np\n",
    "import matplotlib.pyplot as plt\n",
    "\n",
    "class Genome:\n",
    "    def __init__(self, n_chr, n_loci):\n",
    "        self.ploidy = 2\n",
    "        self.n_chr = n_chr\n",
    "        self.n_loci = n_loci\n",
    "        self.shape = (self.ploidy, self.n_chr, self.n_loci)\n",
    "        \n",
    "class Trait:\n",
    "    def __init__(self, genome, founder_population, target_mean, target_variance):\n",
    "        #store attributes\n",
    "        self.target_mean = target_mean\n",
    "        self.target_variance = target_variance\n",
    "        \n",
    "        #sample initial random effects\n",
    "        random_effects = np.random.randn(g.n_chr, g.n_loci)\n",
    "        #calculate the founder_population mean and var given these effects\n",
    "        founder_scores = np.array([random_effects @ x.haplotype for x in population.individuals])\n",
    "        founder_mean, founder_var = founder_scores.mean(), founder_scores.var()\n",
    "        #scale the random effects to match our target variance\n",
    "        scaling_factors = np.sqrt(self.target_variance / founder_var)\n",
    "        random_effects *= scaling_factors\n",
    "        self.effects = random_effects\n",
    "        \n",
    "        self.intercept = target_mean - founder_mean\n",
    "        \n",
    "    def __matmul__(self,other):\n",
    "        if isinstance(other,Individual):\n",
    "            return self.effects * other.haplotype + self.intercept\n",
    "        elif isinstance(other, Population):\n",
    "            return np.sum(np.array([self @ ind + self.intercept for ind in other.individuals]), axis=(1,2))\n",
    "        \n",
    "class Population:\n",
    "    def __init__(self, genome, size):\n",
    "        self.genome = genome\n",
    "        self.size = size\n",
    "        self.ploidy = 2\n",
    "        self.individuals = self._create_initial_population()\n",
    "\n",
    "    def _create_initial_population(self):\n",
    "        \"\"\"Create an initial population of founder individuals.\"\"\"\n",
    "        return [Individual(self.genome) for _ in range(self.size)]\n",
    "    \n",
    "    def get_haplo(self):\n",
    "        return np.array([x.haplotype for x in self.individuals])\n",
    "\n",
    "    def __repr__(self):\n",
    "        return f'Population of size: {self.size}'\n",
    "    \n",
    "class Trait:\n",
    "    def __init__(self, genome, founder_population, target_mean, target_variance):\n",
    "        #store attributes\n",
    "        self.target_mean = target_mean\n",
    "        self.target_variance = target_variance\n",
    "        \n",
    "        #sample initial random effects\n",
    "        random_effects = np.random.randn(g.n_chr, g.n_loci)\n",
    "        #calculate the founder_population mean and var given these effects\n",
    "        \n",
    "        founder_scores = np.einsum('ij,kij->k',random_effects, np.sum(population.get_haplo(),axis=1))\n",
    "        founder_mean, founder_var = founder_scores.mean(), founder_scores.var()\n",
    "        #scale the random effects to match our target variance\n",
    "        scaling_factors = np.sqrt(self.target_variance / founder_var)\n",
    "        random_effects *= scaling_factors\n",
    "        self.effects = random_effects\n",
    "        \n",
    "        self.intercept = target_mean - founder_mean\n",
    "        \n",
    "    def __matmul__(self,other):\n",
    "        if isinstance(other,Individual):\n",
    "            return self.effects * other.haplotype\n",
    "        elif isinstance(other, Population):\n",
    "            return np.sum(np.array([self @ ind for ind in other.individuals]), axis=(1,2,3))\n",
    "        \n",
    "class Individual:\n",
    "    def __init__(self, genome,haplotype=None, mother = None, father = None, descendants = 0, source='founder'):\n",
    "        self.genome = genome  # must be Genome class\n",
    "        self.haplotype = None\n",
    "        self.source = source  # 'founder', 'cross', 'self', 'dh'\n",
    "        self.descendents = []\n",
    "        self.fitness = 0\n",
    "\n",
    "        \n",
    "        # Logic for setting haplotype,mother,father\n",
    "        if self.source == 'founder':\n",
    "            self.haplotype= self._generate_random_haplotype()\n",
    "            self.mother = None\n",
    "            self.father = None\n",
    "        elif self.source == 'cross':\n",
    "            self.haplotype = haplotype\n",
    "            self.mother = mother\n",
    "            self.father = father\n",
    "        elif self.source == 'dh' or self.source == 'self':\n",
    "            self.haplotype = haplotype\n",
    "            self.mother = mother\n",
    "            self.father = mother\n",
    "        else:\n",
    "            raise ValueError(f\"Invalid source: {source}\")\n",
    "        \n",
    "    def __repr__(self):\n",
    "        return f'Individual with haplotype shape: {self.haplotype.shape}'\n",
    "\n",
    "    def _generate_random_haplotype(self):\n",
    "        \"\"\"Generate a random haplotype for the individual.\"\"\"\n",
    "        return np.random.choice([0, 1], size=(self.genome.ploidy, self.genome.n_chr, self.genome.n_loci))\n",
    "    \n",
    "    def phenotype(self, chewc):\n",
    "        chewc.trait @ np.sum(self.haplotype,axis=0)\n",
    "        #np.sum(chewc.population.individuals[0]\n",
    "        print('ok')\n",
    "    \n",
    "    def gametes(self):\n",
    "        haplotypes = self.haplotype\n",
    "        def shuffle_chr(chromosome_pair):\n",
    "            \"\"\"\n",
    "            Perform crossover on a pair of chromosomes.\n",
    "\n",
    "            Parameters:\n",
    "            chromosome_pair (list): A list of two equal length lists representing chromosomes.\n",
    "\n",
    "            Returns:\n",
    "            list: A new chromosome formed by shuffling the given chromosome pair.\n",
    "            \"\"\"\n",
    "            # Ensure the chromosome pair contains two chromosomes of equal length\n",
    "            assert len(chromosome_pair) == 2\n",
    "            assert len(chromosome_pair[0]) == len(chromosome_pair[1])\n",
    "\n",
    "            # Number of crossover points, sampled from a Poisson distribution with λ=1.3\n",
    "            n_crossover = np.random.poisson(1.3)\n",
    "\n",
    "            # Determine crossover locations, sampled without replacement from chromosome length\n",
    "            chromosome_length = len(chromosome_pair[0])\n",
    "            crossover_locs = np.sort(np.random.choice(chromosome_length, n_crossover, replace=False))\n",
    "\n",
    "            # Initialize the new chromosome and set the current chromosome to the first one\n",
    "            new_chromosome = []\n",
    "            current_chr = 0\n",
    "\n",
    "            # Perform crossover by alternating segments between the two chromosomes\n",
    "            last_loc = 0\n",
    "            for loc in crossover_locs:\n",
    "                new_chromosome.extend(chromosome_pair[current_chr][last_loc:loc])\n",
    "                current_chr = 1 - current_chr  # Switch to the other chromosome\n",
    "                last_loc = loc\n",
    "\n",
    "            # Append the remaining segment\n",
    "            new_chromosome.extend(chromosome_pair[current_chr][last_loc:])\n",
    "            return np.array(new_chromosome)\n",
    "\n",
    "\n",
    "        # Initialize an empty array to store the shuffled chromosomes\n",
    "        shuffled_haplotypes = np.zeros_like(haplotypes)\n",
    "        ploidy, n_chr, n_loci = chewc.genome.shape\n",
    "        # Iterate over each chromosome and apply the shuffle_chr function\n",
    "        for i in range(haplotypes.shape[1]):  # Iterate over the chromosomes\n",
    "            chromosome_pair = haplotypes[:, i, :]  # Extract the chromosome pair (2, 77)\n",
    "            shuffled_chromosome = shuffle_chr(chromosome_pair)  # Shuffle the chromosome pair    \n",
    "            shuffled_haplotypes[:, i, :] = np.array(shuffled_chromosome).reshape(1, n_loci)  # Store the shuffled chromosome\n",
    "        return shuffled_haplotypes[0,:,:]\n",
    "    \n",
    "class ChewC:\n",
    "    def __init___(self):\n",
    "        self.trait = None\n",
    "        self.genome = None\n",
    "        self.population = None\n",
    "\n",
    "        # Example usage\n",
    "g = Genome(3, 77)\n",
    "#make population with 100 founder individuals\n",
    "population = Population(g, size=100)\n",
    "#make a trait\n",
    "trait = Trait(g, population,0,1)\n",
    "# how to do trait @ population to get the trait values for a population?\n",
    "\n",
    "chewc = ChewC()\n",
    "chewc.trait = trait\n",
    "chewc.population = population\n",
    "chewc.genome = g"
   ]
  },
  {
   "cell_type": "code",
   "execution_count": null,
   "id": "5dcd673e",
   "metadata": {},
   "outputs": [
    {
     "data": {
      "text/plain": [
       "(2, 3, 77)"
      ]
     },
     "execution_count": null,
     "metadata": {},
     "output_type": "execute_result"
    }
   ],
   "source": [
    "indi = chewc.population.individuals[0].haplotype ; indi.shape"
   ]
  },
  {
   "cell_type": "code",
   "execution_count": null,
   "id": "7485b607",
   "metadata": {},
   "outputs": [
    {
     "data": {
      "text/plain": [
       "(2, 3, 77)"
      ]
     },
     "execution_count": null,
     "metadata": {},
     "output_type": "execute_result"
    }
   ],
   "source": [
    "chewc.population.individuals[0].haplotype.shape"
   ]
  },
  {
   "cell_type": "code",
   "execution_count": null,
   "id": "1f0231ee",
   "metadata": {},
   "outputs": [
    {
     "name": "stdout",
     "output_type": "stream",
     "text": [
      "ok\n"
     ]
    }
   ],
   "source": [
    "chewc.population.individuals[0].phenotype(chewc)"
   ]
  },
  {
   "cell_type": "code",
   "execution_count": null,
   "id": "15b27d00",
   "metadata": {},
   "outputs": [
    {
     "name": "stdout",
     "output_type": "stream",
     "text": [
      "97 µs ± 23.5 µs per loop (mean ± std. dev. of 7 runs, 10,000 loops each)\n"
     ]
    }
   ],
   "source": [
    "%%timeit\n",
    "chewc.population.individuals[0].gametes()"
   ]
  },
  {
   "cell_type": "code",
   "execution_count": null,
   "id": "e5a8f4f5",
   "metadata": {},
   "outputs": [
    {
     "data": {
      "text/plain": [
       "(array([ 1.,  2., 11., 24., 52., 67., 35., 22., 12.,  5.]),\n",
       " array([-0.30689585, -0.2498311 , -0.19276634, -0.13570159, -0.07863684,\n",
       "        -0.02157208,  0.03549267,  0.09255742,  0.14962218,  0.20668693,\n",
       "         0.26375168]),\n",
       " <BarContainer object of 10 artists>)"
      ]
     },
     "execution_count": null,
     "metadata": {},
     "output_type": "execute_result"
    },
    {
     "data": {
      "image/png": "[encoded data removed]",
      "text/plain": [
       "<Figure size 640x480 with 1 Axes>"
      ]
     },
     "metadata": {},
     "output_type": "display_data"
    }
   ],
   "source": [
    "plt.hist(trait.effects.flatten())"
   ]
  }
 ],
 "metadata": {
  "kernelspec": {
   "display_name": "python3",
   "language": "python",
   "name": "python3"
  }
 },
 "nbformat": 4,
 "nbformat_minor": 5
}
