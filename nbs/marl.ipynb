{
 "cells": [
  {
   "cell_type": "code",
   "execution_count": 1,
   "id": "1393050d",
   "metadata": {},
   "outputs": [],
   "source": [
    "import numpy as np\n",
    "import matplotlib.pyplot as plt\n",
    "from fastcore.basics import patch\n",
    "import uuid\n",
    "\n",
    "\n",
    "\n",
    "\n",
    "\n",
    "\n",
    "    \n",
    "class ChewC:\n",
    "    def __init___(self):\n",
    "        self.trait = None\n",
    "        self.genome = None\n",
    "        self.population = None\n",
    "\n",
    "        \n",
    "class Genome:\n",
    "    def __init__(self, n_chr, n_loci):\n",
    "        self.ploidy = 2\n",
    "        self.n_chr = n_chr\n",
    "        self.n_loci = n_loci\n",
    "        self.shape = (self.ploidy, self.n_chr, self.n_loci)\n",
    "        \n",
    "class Trait:\n",
    "    def __init__(self, genome, founder_population, target_mean, target_variance):\n",
    "        #store attributes\n",
    "        self.target_mean = target_mean\n",
    "        self.target_variance = target_variance\n",
    "        \n",
    "        #sample initial random effects\n",
    "        random_effects = np.random.randn(g.n_chr, g.n_loci)\n",
    "        #calculate the founder_population mean and var given these effects\n",
    "        founder_scores = np.array([random_effects @ x.haplotype for x in population.individuals])\n",
    "        founder_mean, founder_var = founder_scores.mean(), founder_scores.var()\n",
    "        #scale the random effects to match our target variance\n",
    "#         import pdb;pdb.set_trace()\n",
    "        scaling_factors = np.sqrt(self.target_variance / founder_var)\n",
    "        random_effects *= scaling_factors\n",
    "        self.effects = random_effects\n",
    "        \n",
    "        self.intercept = target_mean - founder_mean\n",
    "        \n",
    "    def __matmul__(self,other):\n",
    "        if isinstance(other,Individual):\n",
    "            return self.effects * other.haplotype + self.intercept\n",
    "        elif isinstance(other, Population):\n",
    "            return np.sum(np.array([self @ ind + self.intercept for ind in other.individuals]), axis=(1,2))\n",
    "        \n",
    "class Population:\n",
    "    def __init__(self, genome, size=None):\n",
    "        self.genome = genome\n",
    "        self.ploidy = 2\n",
    "        if size:\n",
    "            self.size = size\n",
    "            self.individuals = self._create_initial_population()\n",
    "        else:\n",
    "            pass\n",
    "\n",
    "    def _create_initial_population(self):\n",
    "        \"\"\"Create an initial population of founder individuals.\"\"\"\n",
    "        return [Individual(self.genome) for _ in range(self.size)]\n",
    "    \n",
    "    def get_haplo(self):\n",
    "        return np.array([x.haplotype for x in self.individuals])\n",
    "    \n",
    "    def get_pheno(self):\n",
    "        return np.array([x.fitness for x in self.individuals])\n",
    "    \n",
    "    def trial(self, h2):\n",
    "        [x.phenotype(h2) for x in self.individuals]\n",
    "\n",
    "    def __getitem__(self, index):\n",
    "        return self.individuals[index]\n",
    "\n",
    "    def __repr__(self):\n",
    "        return f'Population of size: {self.size}'\n",
    "    \n",
    "class Trait:\n",
    "    def __init__(self, genome, founder_population, target_mean, target_variance):\n",
    "        #store attributes\n",
    "        self.target_mean = target_mean\n",
    "        self.target_variance = target_variance\n",
    "        \n",
    "        #sample initial random effects\n",
    "        initial_effects = np.random.randn(g.n_chr * g.n_loci)\n",
    "        initial_effects -= initial_effects.mean()\n",
    "        #calculate the founder_population mean and var given these effects\n",
    "        founder_scores = np.einsum('i,kij->k',initial_effects, np.sum(population.get_haplo(),axis=1))\n",
    "        founder_mean, founder_var = founder_scores.mean(), founder_scores.var()\n",
    "        scaling_factors = np.sqrt(self.target_variance / founder_var)\n",
    "        initial_effects *= scaling_factors\n",
    "        scaled_effects = initial_effects # ADDS A FIXED EFFECT SOMEHOW????\n",
    "        self.effects = scaled_effects\n",
    "        self.intercept = target_mean - founder_mean\n",
    "\n",
    "    def __matmul__(self,other):\n",
    "        if isinstance(other,Individual):\n",
    "#             print(f' intercept {self.intercept}')\n",
    "            return self.effects * other.haplotype \n",
    "        else:\n",
    "            print('ffff')\n",
    "class Individual:\n",
    "    def __init__(self, genome,haplotype=None, mother = None, father = None, descendants = 0, source='founder', chewc=None):\n",
    "        self.genome = genome  # must be Genome class\n",
    "        self.haplotype = None\n",
    "        self.source = source  # 'founder', 'cross', 'self', 'dh'\n",
    "        self.descendents = []\n",
    "        self.fitness = 0\n",
    "        self.mother, self.father = mother, father\n",
    "\n",
    "        # Logic for setting haplotype,mother,father\n",
    "        if self.source == 'founder':\n",
    "            self.haplotype= self._generate_random_haplotype()\n",
    "        else:\n",
    "            self.haplotype = haplotype\n",
    "            \n",
    "    def __repr__(self):\n",
    "        return f'Individual with haplotype shape: {self.haplotype.shape}'\n",
    "    \n",
    "    def make_id(self):self.id = uuid.uuid4().hex\n",
    "\n",
    "\n",
    "    def _generate_random_haplotype(self):\n",
    "        \"\"\"Generate a random haplotype for the individual.\"\"\"\n",
    "        return np.random.choice([0, 1], size=(self.genome.ploidy, self.genome.n_chr, self.genome.n_loci))\n",
    "    \n",
    "    def __mul__(self, partner):\n",
    "        if isinstance(partner,Individual):\n",
    "            source = 'cross'\n",
    "            mother, father = self.gamete(), partner.gamete()\n",
    "\n",
    "    def phenotype(self, h2):\n",
    "#         import pdb ; pdb.set_trace()\n",
    "        breeding_value = chewc.trait @ self\n",
    "        genetic_variance = np.var(breeding_value, ddof=1)\n",
    "        environmental_variance = (1 - h2) / h2 * genetic_variance\n",
    "        phenotype_value = breeding_value + np.random.normal(0, np.sqrt(environmental_variance))\n",
    "        self.fitness = np.sum(phenotype_value)\n",
    "\n",
    "        \n",
    "import numpy as np\n",
    "import matplotlib.pyplot as plt\n",
    "from fastcore.basics import patch\n",
    "\n",
    "\n",
    "# to do move this in another module\n",
    "@patch\n",
    "def gamete(self:Individual):\n",
    "    haplotypes = self.haplotype\n",
    "    def shuffle_chr(chromosome_pair):\n",
    "        \"\"\"\n",
    "        Perform crossover on a pair of chromosomes.\n",
    "\n",
    "        Parameters:\n",
    "        chromosome_pair (list): A list of two equal length lists representing chromosomes.\n",
    "\n",
    "        Returns:\n",
    "        list: A new chromosome formed by shuffling the given chromosome pair.\n",
    "        \"\"\"\n",
    "        # Ensure the chromosome pair contains two chromosomes of equal length\n",
    "        assert len(chromosome_pair) == 2\n",
    "        assert len(chromosome_pair[0]) == len(chromosome_pair[1])\n",
    "\n",
    "        # Number of crossover points, sampled from a Poisson distribution with λ=1.3\n",
    "        n_crossover = np.random.poisson(1.3)\n",
    "\n",
    "        # Determine crossover locations, sampled without replacement from chromosome length\n",
    "        chromosome_length = len(chromosome_pair[0])\n",
    "        crossover_locs = np.sort(np.random.choice(chromosome_length, n_crossover, replace=False))\n",
    "\n",
    "        # Initialize the new chromosome and set the current chromosome to the first one\n",
    "        new_chromosome = []\n",
    "        current_chr = 0\n",
    "\n",
    "        # Perform crossover by alternating segments between the two chromosomes\n",
    "        last_loc = 0\n",
    "        for loc in crossover_locs:\n",
    "            new_chromosome.extend(chromosome_pair[current_chr][last_loc:loc])\n",
    "            current_chr = 1 - current_chr  # Switch to the other chromosome\n",
    "            last_loc = loc\n",
    "\n",
    "        # Append the remaining segment\n",
    "        new_chromosome.extend(chromosome_pair[current_chr][last_loc:])\n",
    "        return np.array(new_chromosome)\n",
    "\n",
    "\n",
    "    # Initialize an empty array to store the shuffled chromosomes\n",
    "    shuffled_haplotypes = np.zeros_like(haplotypes)\n",
    "    ploidy, n_chr, n_loci = chewc.genome.shape\n",
    "    # Iterate over each chromosome and apply the shuffle_chr function\n",
    "    for i in range(haplotypes.shape[1]):  # Iterate over the chromosomes\n",
    "        chromosome_pair = haplotypes[:, i, :]  # Extract the chromosome pair (2, 77)\n",
    "        shuffled_chromosome = shuffle_chr(chromosome_pair)  # Shuffle the chromosome pair    \n",
    "        shuffled_haplotypes[:, i, :] = np.array(shuffled_chromosome).reshape(1, n_loci)  # Store the shuffled chromosome\n",
    "    return shuffled_haplotypes[0,:,:]\n",
    "\n",
    "        \n",
    "\n",
    "#Define the Simulation Parameters\n",
    "g = Genome(1, 1000)\n",
    "population = Population(g, size=1000)\n",
    "trait = Trait(g, population,0,1)\n",
    "\n",
    "#Plug them into ChewC\n",
    "chewc = ChewC()\n",
    "chewc.trait = trait\n",
    "chewc.population = population\n",
    "chewc.genome = g\n",
    "\n",
    "chewc.population.trial(h2=1)\n",
    "# plt.hist(np.sum(chewc.population.get_pheno(),axis=(1,2,3)))\n",
    "\n"
   ]
  }
 ],
 "metadata": {
  "kernelspec": {
   "display_name": "Python 3 (ipykernel)",
   "language": "python",
   "name": "python3"
  },
  "language_info": {
   "codemirror_mode": {
    "name": "ipython",
    "version": 3
   },
   "file_extension": ".py",
   "mimetype": "text/x-python",
   "name": "python",
   "nbconvert_exporter": "python",
   "pygments_lexer": "ipython3",
   "version": "3.11.9"
  }
 },
 "nbformat": 4,
 "nbformat_minor": 5
}
der Scores Shape:\", founder_scores.shape)\n",
    "\n",
    "        # Calculate mean and variance of founder_scores\n",
    "        founder_mean, founder_var = founder_scores.mean(), founder_scores.var()\n",
    "        print(\"Founder Mean:\", founder_mean)\n",
    "        print(\"Founder Variance:\", founder_var)\n",
    "\n",
    "        # Scale the random effects to match our target variance\n",
    "        scaling_factors = np.sqrt(self.target_variance / founder_var)\n",
    "        initial_effects *= scaling_factors\n",
    "        self.effects = initial_effects\n",
    "        self.intercept = target_mean - founder_mean\n",
    "        print(\"Scaled Effects:\", self.effects)\n",
    "        print(\"Intercept:\", self.intercept)\n",
    "\n",
    "# Example usage with mock classes and data\n",
    "class MockGenome:\n",
    "    def __init__(self, n_chr, n_loci):\n",
    "        self.n_chr = n_chr\n",
    "        self.n_loci = n_loci\n",
    "\n",
    "class MockPopulation:\n",
    "    def get_haplo(self):\n",
    "        # Generate a mock haplotype array\n",
    "        return np.random.randint(0, 2, (10, 5, 20))  # shape (n_individuals, n_chr, n_loci)\n",
    "\n",
    "genome = MockGenome(n_chr=5, n_loci=20)\n",
    "founder_population = MockPopulation()\n",
    "\n",
    "trait = Trait(genome, founder_population, target_mean=5.0, target_variance=2.0)\n"
   ]
  },
  {
   "cell_type": "code",
   "execution_count": null,
   "id": "366fbcbc",
   "metadata": {},
   "outputs": [],
   "source": []
  },
  {
   "cell_type": "code",
   "execution_count": 3,
   "id": "981daae9",
   "metadata": {},
   "outputs": [
    {
     "data": {
      "text/plain": [
       "(100, 2, 1, 100)"
      ]
     }

     "execution_count": 3,
     "metadata": {},
     "output_type": "execute_result"
    }
   ],
   "source": [
    "population.get_haplo().shape"
   ]
  },
  {
   "cell_type": "code",
   "execution_count": 4,
   "id": "526ff132",
   "metadata": {},
   "outputs": [
    {
     "data": {
      "text/plain": [
       "Population of size: 100"
      ]
     },
     "execution_count": 4,
     "metadata": {},
     "output_type": "execute_result"
    }
   ],
   "source": [
    "population"
   ]
  },
  {
   "cell_type": "code",
   "execution_count": 5,
   "id": "1e0a272c",
   "metadata": {},
   "outputs": [],
   "source": [
    "initial_scores = np.einsum('ij,kij->k',np.random.randn(g.n_chr,g.n_loci),np.sum(population.get_haplo(),axis=1))"
   ]
  },
  {
   "cell_type": "code",
   "execution_count": 6,
   "id": "50994649",
   "metadata": {},
   "outputs": [
    {
     "data": {
      "text/plain": [
       "(100,)"
      ]
     },
     "execution_count": 6,
     "metadata": {},
     "output_type": "execute_result"
    }
   ],
   "source": [
    "initial_scores.shape"
   ]
  },
  {
   "cell_type": "code",
   "execution_count": 7,
   "id": "113ac472",
   "metadata": {},
   "outputs": [
    {
     "data": {
      "text/plain": [
       "(array([ 6., 13., 13., 21., 21., 13.,  7.,  5.,  0.,  1.]),\n",
       " array([-27.71930436, -24.34799535, -20.97668635, -17.60537734,\n",
       "        -14.23406834, -10.86275933,  -7.49145033,  -4.12014132,\n",
       "         -0.74883232,   2.62247669,   5.9937857 ]),\n",
       " <BarContainer object of 10 artists>)"
      ]
     },
     "execution_count": 7,
     "metadata": {},
     "output_type": "execute_result"
    },
    {
     "data": {
      "image/png": "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",
      "text/plain": [
       "<Figure size 640x480 with 1 Axes>"
      ]
     },
     "metadata": {},
     "output_type": "display_data"
    }
   ],
   "source": [
    "plt.hist(initial_scores.flatten())"
   ]
  },
  {
   "cell_type": "code",
   "execution_count": 8,
   "id": "6e833ae1",
   "metadata": {},
   "outputs": [],
   "source": [
    "import numpy as np\n",
    "import matplotlib.pyplot as plt\n",
    "from fastcore.basics import patch\n",
    "    \n",
    "@patch\n",
    "def gamete(self:Individual):\n",
    "    haplotypes = self.haplotype\n",
    "    def shuffle_chr(chromosome_pair):\n",
    "        \"\"\"\n",
    "        Perform crossover on a pair of chromosomes.\n",
    "\n",
    "        Parameters:\n",
    "        chromosome_pair (list): A list of two equal length lists representing chromosomes.\n",
    "\n",
    "        Returns:\n",
    "        list: A new chromosome formed by shuffling the given chromosome pair.\n",
    "        \"\"\"\n",
    "        # Ensure the chromosome pair contains two chromosomes of equal length\n",
    "        assert len(chromosome_pair) == 2\n",
    "        assert len(chromosome_pair[0]) == len(chromosome_pair[1])\n",
    "\n",
    "        # Number of crossover points, sampled from a Poisson distribution with λ=1.3\n",
    "        n_crossover = np.random.poisson(1.3)\n",
    "\n",
    "        # Determine crossover locations, sampled without replacement from chromosome length\n",
    "        chromosome_length = len(chromosome_pair[0])\n",
    "        crossover_locs = np.sort(np.random.choice(chromosome_length, n_crossover, replace=False))\n",
    "\n",
    "        # Initialize the new chromosome and set the current chromosome to the first one\n",
    "        new_chromosome = []\n",
    "        current_chr = 0\n",
    "\n",
    "        # Perform crossover by alternating segments between the two chromosomes\n",
    "        last_loc = 0\n",
    "        for loc in crossover_locs:\n",
    "            new_chromosome.extend(chromosome_pair[current_chr][last_loc:loc])\n",
    "            current_chr = 1 - current_chr  # Switch to the other chromosome\n",
    "            last_loc = loc\n",
    "\n",
    "        # Append the remaining segment\n",
    "        new_chromosome.extend(chromosome_pair[current_chr][last_loc:])\n",
    "        return np.array(new_chromosome)\n",
    "\n",
    "\n",
    "    # Initialize an empty array to store the shuffled chromosomes\n",
    "    shuffled_haplotypes = np.zeros_like(haplotypes)\n",
    "    ploidy, n_chr, n_loci = chewc.genome.shape\n",
    "    # Iterate over each chromosome and apply the shuffle_chr function\n",
    "    for i in range(haplotypes.shape[1]):  # Iterate over the chromosomes\n",
    "        chromosome_pair = haplotypes[:, i, :]  # Extract the chromosome pair (2, 77)\n",
    "        shuffled_chromosome = shuffle_chr(chromosome_pair)  # Shuffle the chromosome pair    \n",
    "        shuffled_haplotypes[:, i, :] = np.array(shuffled_chromosome).reshape(1, n_loci)  # Store the shuffled chromosome\n",
    "    return shuffled_haplotypes[0,:,:]"
   ]
  },
  {
   "cell_type": "code",
   "execution_count": 9,
   "id": "c2eec44c",
   "metadata": {},
   "outputs": [],
   "source": [
    "chewc.population[0] * chewc.population[6]"
   ]
  },
  {
   "cell_type": "code",
   "execution_count": 10,
   "id": "0070cfa6",
   "metadata": {},
   "outputs": [],
   "source": [
    "new_pop = Population(chewc)"
   ]
  },
  {
   "cell_type": "code",
   "execution_count": null,
   "id": "74cf1536",
   "metadata": {},
   "outputs": [],
   "source": []
  },
  {
   "cell_type": "code",
   "execution_count": null,
   "id": "107594fa",
   "metadata": {},
   "outputs": [],
   "source": []
  },
  {
   "cell_type": "code",
   "execution_count": null,
   "id": "7702d741",
   "metadata": {},
   "outputs": [],
   "source": []
  }
 ],
 "metadata": {
  "kernelspec": {
   "display_name": "Python 3 (ipykernel)",
   "language": "python",
   "name": "python3"
  },
  "language_info": {
   "codemirror_mode": {
    "name": "ipython",
    "version": 3
   },
   "file_extension": ".py",
   "mimetype": "text/x-python",
   "name": "python",
   "nbconvert_exporter": "python",
   "pygments_lexer": "ipython3",
   "version": "3.11.9"
  }
 },
 "nbformat": 4,
 "nbformat_minor": 5
}
                                                                                                                                                                                                                                                                                                                                                                                                                                                                                                                                                                                                                                                                                                                                                                                                                                                                                                                                                                                                                                                                                                                                                                                                                                                                                                                                                                                                                                                                                                                                                                                                                                                                                                                                                                                                                                                                                                                                                                                                                                                                                                                                                                                                                                                                                                                                                                                                                                                                                                                                                                                                                                                                                                                                                                                                                                                                                                                                                                                                                                                                                                                                                                                                                                                                                                                                                                                                                                                                                                                                                                                                                                                                                                                                                                                                                                                                                                                                                                                                                                                                                                                                                                                                                                                                                                                                                           
