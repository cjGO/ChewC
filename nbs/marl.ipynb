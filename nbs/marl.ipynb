{
 "cells": [
  {
   "cell_type": "code",
   "execution_count": null,
   "id": "8d6b4579",
   "metadata": {},
   "outputs": [],
   "source": [
    "import numpy as np\n",
    "import matplotlib.pyplot as plt\n",
    "\n",
    "class Genome:\n",
    "    def __init__(self, n_chr, n_loci):\n",
    "        self.n_chr = n_chr\n",
    "        self.n_loci = n_loci\n",
    "        self.shape = (self.n_chr, self.n_loci)\n",
    "        \n",
    "class Trait:\n",
    "    def __init__(self, genome, founder_population, target_mean, target_variance):\n",
    "        #store attributes\n",
    "        self.target_mean = target_mean\n",
    "        self.target_variance = target_variance\n",
    "        \n",
    "        #sample initial random effects\n",
    "        random_effects = np.random.randn(g.n_chr, g.n_loci)\n",
    "        #calculate the founder_population mean and var given these effects\n",
    "        founder_scores = np.array([random_effects @ x.haplotype for x in population.individuals])\n",
    "        founder_mean, founder_var = founder_scores.mean(), founder_scores.var()\n",
    "        #scale the random effects to match our target variance\n",
    "        scaling_factors = np.sqrt(self.target_variance / founder_var)\n",
    "        random_effects *= scaling_factors\n",
    "        self.effects = random_effects\n",
    "        \n",
    "        self.intercept = target_mean - founder_mean\n",
    "        \n",
    "    def __matmul__(self,other):\n",
    "        if isinstance(other,Individual):\n",
    "            return self.effects * other.haplotype + self.intercept\n",
    "        elif isinstance(other, Population):\n",
    "            return np.sum(np.array([self @ ind + self.intercept for ind in other.individuals]), axis=(1,2))\n",
    "        \n",
    "class Population:\n",
    "    def __init__(self, genome, size):\n",
    "        self.genome = genome\n",
    "        self.size = size\n",
    "        self.individuals = self._create_initial_population()\n",
    "\n",
    "    def _create_initial_population(self):\n",
    "        \"\"\"Create an initial population of founder individuals.\"\"\"\n",
    "        return [Individual(self.genome) for _ in range(self.size)]\n",
    "    \n",
    "    def get_dosages(self):\n",
    "        return np.array([x.haplotype for x in self.individuals])\n",
    "\n",
    "    def __repr__(self):\n",
    "        return f'Population of size: {self.size}'\n",
    "\n",
    "\n",
    "class Individual:\n",
    "    def __init__(self, genome,haplotype=None, mother = None, father = None, descendants = 0, source='founder'):\n",
    "        self.genome = genome  # must be Genome class\n",
    "        self.haplotype = None\n",
    "        self.source = source  # 'founder', 'cross', 'self', 'dh'\n",
    "        self.descendents = []\n",
    "        self.fitness = 0\n",
    "\n",
    "        \n",
    "        # Logic for setting haplotype,mother,father\n",
    "        if self.source == 'founder':\n",
    "            self.haplotype= self._generate_random_haplotype()\n",
    "            self.mother = None\n",
    "            self.father = None\n",
    "        elif self.source == 'cross':\n",
    "            self.haplotype = haplotype\n",
    "            self.mother = mother\n",
    "            self.father = father\n",
    "        elif self.source == 'dh' or self.source == 'self':\n",
    "            self.haplotype = haplotype\n",
    "            self.mother = mother\n",
    "            self.father = mother\n",
    "        else:\n",
    "            raise ValueError(f\"Invalid source: {source}\")\n",
    "        \n",
    "    def __repr__(self):\n",
    "        return f'Individual with haplotype shape: {self.haplotype.shape}'\n",
    "\n",
    "    def _generate_random_haplotype(self):\n",
    "        \"\"\"Generate a random haplotype for the individual.\"\"\"\n",
    "        return np.random.choice([0, 1], size=(self.genome.n_chr, self.genome.n_loci))\n",
    "    \n",
    "class Trait:\n",
    "    def __init__(self, genome, founder_population, target_mean, target_variance):\n",
    "        #store attributes\n",
    "        self.target_mean = target_mean\n",
    "        self.target_variance = target_variance\n",
    "        \n",
    "        #sample initial random effects\n",
    "        random_effects = np.random.randn(g.n_chr, g.n_loci)\n",
    "        #calculate the founder_population mean and var given these effects\n",
    "        \n",
    "        founder_scores = np.einsum('ij,kij->k',random_effects, population.get_dosages())\n",
    "        founder_mean, founder_var = founder_scores.mean(), founder_scores.var()\n",
    "        #scale the random effects to match our target variance\n",
    "        scaling_factors = np.sqrt(self.target_variance / founder_var)\n",
    "        random_effects *= scaling_factors\n",
    "        self.effects = random_effects\n",
    "        \n",
    "        self.intercept = target_mean - founder_mean\n",
    "        \n",
    "    def __matmul__(self,other):\n",
    "        if isinstance(other,Individual):\n",
    "            return self.effects * other.haplotype\n",
    "        elif isinstance(other, Population):\n",
    "            return np.sum(np.array([self @ ind for ind in other.individuals]), axis=(1,2))\n",
    "# Example usage\n",
    "g = Genome(3, 77)\n",
    "#make population with 100 founder individuals\n",
    "population = Population(g, size=100)\n",
    "#make a trait\n",
    "trait = Trait(g, population,0,1)\n",
    "# how to do trait @ population to get the trait values for a population?\n"
   ]
  },
  {
   "cell_type": "code",
   "execution_count": null,
   "id": "f2842e58",
   "metadata": {},
   "outputs": [
    {
     "data": {
      "text/plain": [
       "(array([ 2.,  7.,  9., 33., 48., 68., 37., 20.,  6.,  1.]),\n",
       " array([-0.38460236, -0.31016351, -0.23572466, -0.16128582, -0.08684697,\n",
       "        -0.01240812,  0.06203073,  0.13646958,  0.21090842,  0.28534727,\n",
       "         0.35978612]),\n",
       " <BarContainer object of 10 artists>)"
      ]
     },
     "execution_count": null,
     "metadata": {},
     "output_type": "execute_result"
    },
    {
     "data": {
      "image/png": "[encoded data removed]",
      "text/plain": [
       "<Figure size 640x480 with 1 Axes>"
      ]
     },
     "metadata": {},
     "output_type": "display_data"
    }
   ],
   "source": [
    "plt.hist(trait.effects.flatten())"
   ]
  },
  {
   "cell_type": "code",
   "execution_count": null,
   "id": "908ce6c3",
   "metadata": {},
   "outputs": [],
   "source": [
    "target_mean = 5\n",
    "target_variance = 2\n",
    "\n",
    "#sample initial random effects\n",
    "random_effects = np.random.randn(g.n_chr, g.n_loci)"
   ]
  },
  {
   "cell_type": "code",
   "execution_count": null,
   "id": "00a91238",
   "metadata": {},
   "outputs": [
    {
     "data": {
      "text/plain": [
       "(3, 77)"
      ]
     },
     "execution_count": null,
     "metadata": {},
     "output_type": "execute_result"
    }
   ],
   "source": [
    "fx = random_effects; fx.shape"
   ]
  },
  {
   "cell_type": "code",
   "execution_count": null,
   "id": "d359aa45",
   "metadata": {},
   "outputs": [
    {
     "data": {
      "text/plain": [
       "(1, 3, 77)"
      ]
     },
     "execution_count": null,
     "metadata": {},
     "output_type": "execute_result"
    }
   ],
   "source": [
    "fxe = np.expand_dims(fx, axis = 0); fxe.shape"
   ]
  },
  {
   "cell_type": "code",
   "execution_count": null,
   "id": "878d3ff2",
   "metadata": {},
   "outputs": [
    {
     "data": {
      "text/plain": [
       "(100, 3, 77)"
      ]
     },
     "execution_count": null,
     "metadata": {},
     "output_type": "execute_result"
    }
   ],
   "source": [
    "haplo = np.array([x.haplotype for x in population.individuals]); haplo.shape"
   ]
  }
 ],
 "metadata": {
  "kernelspec": {
   "display_name": "python3",
   "language": "python",
   "name": "python3"
  }
 },
 "nbformat": 4,
 "nbformat_minor": 5
}
