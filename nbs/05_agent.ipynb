{
 "cells": [
  {
   "cell_type": "code",
   "execution_count": null,
   "id": "fb772dbd",
   "metadata": {},
   "outputs": [],
   "source": [
    "%load_ext autoreload\n",
    "%autoreload 2"
   ]
  },
  {
   "cell_type": "code",
   "execution_count": null,
   "id": "18408465",
   "metadata": {},
   "outputs": [],
   "source": [
    "#| hide \n",
    "from chewc.core import *\n",
    "from chewc.trait import *\n",
    "from chewc.meiosis import *\n",
    "from chewc.cross import *\n",
    "\n",
    "\n",
    "import torch\n",
    "import attr\n",
    "import matplotlib.pyplot as plt\n"
   ]
  },
  {
   "cell_type": "code",
   "execution_count": null,
   "id": "a6411a36",
   "metadata": {},
   "outputs": [
    {
     "name": "stdout",
     "output_type": "stream",
     "text": [
      "Created genetic map\n"
     ]
    },
    {
     "data": {
      "text/plain": [
       "torch.Size([100, 3])"
      ]
     },
     "execution_count": null,
     "metadata": {},
     "output_type": "execute_result"
    }
   ],
   "source": [
    "ploidy = 2\n",
    "n_chr = 10\n",
    "n_loci = 1000\n",
    "n_Ind = 100\n",
    "g = Genome(ploidy, n_chr, n_loci)\n",
    "population = Population()\n",
    "population.create_random_founder_population(g, n_founders=n_Ind)\n",
    "init_pop = population.get_dosages().float()  # gets allele dosage for calculating trait values\n",
    "\n",
    "# multi_traits\n",
    "target_means = torch.tensor([0, 5, 20])\n",
    "target_vars = torch.tensor([1, 1, 0.5])  # Note: I'm assuming you want a variance of 1 for the second trait\n",
    "correlation_matrix = [\n",
    "        [1.0, 0.2, 0.58],\n",
    "        [0.2, 1.0, -0.37],\n",
    "        [0.58, -0.37, 1.0],\n",
    "    ]\n",
    "correlation_matrix = torch.tensor(correlation_matrix)\n",
    "traits = TraitModule(g, population, target_means, target_vars, correlation_matrix,100)\n",
    "traits(population.get_dosages()).shape\n",
    "# example breeding step\n"
   ]
  },
  {
   "cell_type": "code",
   "execution_count": null,
   "id": "c7cd8a5c",
   "metadata": {},
   "outputs": [],
   "source": [
    "\n",
    "class BreedingExperiment:\n",
    "    def __init__(self, genotypes, trait_module, pop_size):\n",
    "        self.genotypes = genotypes\n",
    "        self.traits = traits\n",
    "        self.pop_size = pop_size\n",
    "    \n",
    "\n",
    "def agent_action(environment):\n",
    "    \n",
    "    \n",
    "    genotypes = environment.genotypes\n",
    "    \n",
    "    #agent_network accepts this as input\n",
    "    \n",
    "def do_cycle(agent_pick):\n",
    "    pass\n",
    "    \n",
    "def take_action(action_value,environment):\n",
    "\n",
    "    #generate the next state given the action_value\n",
    "    \n",
    "    # the action will be a value between 0.1 and 0.9\n",
    "    phenotypes = environment.traits(environment.genotypes.sum(dim=1))[:,0]\n",
    "    #grab top k based on \n",
    "    select_pop = environment.genotypes[torch.topk(phenotypes, round(len(phenotypes) * action_value)).indices]\n",
    "    select_pop = Population([Individual(g, x) for x in select_pop])\n",
    "    random_crosses(g,select_pop,5, 1)\n",
    "    \n",
    "    \n",
    "    \n",
    "    \n",
    "    new_env = select_pop\n",
    "    return new_env\n",
    "\n",
    "rl_env = BreedingExperiment(population.get_genotypes(), traits, 100)\n",
    "act = take_action(.5, rl_env)"
   ]
  },
  {
   "cell_type": "code",
   "execution_count": null,
   "id": "e091a964",
   "metadata": {},
   "outputs": [
    {
     "data": {
      "text/plain": [
       "torch.Size([100, 2, 10, 1000])"
      ]
     },
     "execution_count": null,
     "metadata": {},
     "output_type": "execute_result"
    }
   ],
   "source": [
    "population.get_genotypes().shape"
   ]
  },
  {
   "cell_type": "code",
   "execution_count": null,
   "id": "2bfd22bf",
   "metadata": {},
   "outputs": [],
   "source": []
  },
  {
   "cell_type": "code",
   "execution_count": null,
   "id": "3551c19a",
   "metadata": {},
   "outputs": [],
   "source": []
  },
  {
   "cell_type": "code",
   "execution_count": null,
   "id": "34caf46c",
   "metadata": {},
   "outputs": [],
   "source": []
  },
  {
   "cell_type": "code",
   "execution_count": null,
   "id": "5dfe06f6",
   "metadata": {},
   "outputs": [],
   "source": []
  }
 ],
 "metadata": {
  "kernelspec": {
   "display_name": "python3",
   "language": "python",
   "name": "python3"
  }
 },
 "nbformat": 4,
 "nbformat_minor": 5
}
