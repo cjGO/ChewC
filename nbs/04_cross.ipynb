{
 "cells": [
  {
   "cell_type": "code",
   "execution_count": null,
   "id": "ce301c91",
   "metadata": {},
   "outputs": [],
   "source": [
    "%load_ext autoreload\n",
    "%autoreload 2"
   ]
  },
  {
   "cell_type": "code",
   "execution_count": null,
   "id": "3933126d",
   "metadata": {},
   "outputs": [],
   "source": [
    "#| default_exp cross"
   ]
  },
  {
   "cell_type": "markdown",
   "id": "df6bef44",
   "metadata": {},
   "source": [
    "## Cross\n",
    "> Using gamete operations to produce new individuals"
   ]
  },
  {
   "cell_type": "code",
   "execution_count": null,
   "id": "730f4247",
   "metadata": {},
   "outputs": [],
   "source": [
    "#| export\n",
    "\n",
    "from chewc.core import *\n",
    "from chewc.trait import *\n",
    "from chewc.meiosis import *\n",
    "\n",
    "import torch"
   ]
  },
  {
   "cell_type": "code",
   "execution_count": null,
   "id": "1e6c309e",
   "metadata": {},
   "outputs": [],
   "source": [
    "#| export\n",
    "def random_crosses( genome: Genome, parent_haplotypes: torch.Tensor, n_crosses: int) -> torch.Tensor:\n",
    "    \"\"\"\n",
    "    Generate random crosses from a set of parent haplotypes.\n",
    "\n",
    "    Args:\n",
    "    ----\n",
    "        parent_haplotypes (torch.Tensor): Haplotypes of the parents. \n",
    "                                           Shape: (n_parents, ploidy, chr, loci)\n",
    "        n_crosses (int): Number of crosses to generate.\n",
    "        genome (Genome): Genome object.\n",
    "\n",
    "    Returns:\n",
    "    -------\n",
    "        torch.Tensor: Haplotypes of the progeny. \n",
    "                      Shape: (n_crosses, ploidy, chr, loci)\n",
    "    \"\"\"\n",
    "    \n",
    "    assert len(parent_haplotypes.shape) == 4, f\"Your input was {parent_haplotypes.shape} when it should be (#parents,ploidy,#chr,#loci)\"\n",
    "    device = genome.device\n",
    "    n_parents = parent_haplotypes.shape[0]\n",
    "\n",
    "    # Randomly select parents for each cross\n",
    "    female_indices = torch.randint(0, n_parents, (n_crosses,), device=device)\n",
    "    male_indices = torch.randint(0, n_parents, (n_crosses,), device=device)\n",
    "\n",
    "    # Extract haplotypes of the selected parents\n",
    "    female_haplotypes = parent_haplotypes[female_indices]\n",
    "    male_haplotypes = parent_haplotypes[male_indices]\n",
    "\n",
    "    # Simulate gametes\n",
    "    female_gametes = simulate_gametes(genome, female_haplotypes)\n",
    "    male_gametes = simulate_gametes(genome, male_haplotypes)\n",
    "\n",
    "    # Combine gametes to form progeny haplotypes\n",
    "    progeny_haplotypes = torch.cat([female_gametes, male_gametes], dim=1)\n",
    "\n",
    "    return progeny_haplotypes"
   ]
  },
  {
   "cell_type": "code",
   "execution_count": null,
   "id": "49898066",
   "metadata": {},
   "outputs": [],
   "source": []
  },
  {
   "cell_type": "code",
   "execution_count": null,
   "id": "6a99cc6c",
   "metadata": {},
   "outputs": [
    {
     "name": "stdout",
     "output_type": "stream",
     "text": [
      "Created genetic map\n"
     ]
    }
   ],
   "source": [
    "ploidy = 2\n",
    "n_chr = 5\n",
    "n_loci = 1000\n",
    "n_Ind = 333\n",
    "g = Genome(ploidy, n_chr, n_loci)\n",
    "population = Population()\n",
    "population.create_random_founder_population(g, n_founders=n_Ind)\n",
    "init_pop = population.get_genotypes().float()  # gets allele dosage for calculating trait values\n",
    "\n",
    "# Convert to numpy array\n",
    "boolean_array = random_crosses(g, init_pop, 10)"
   ]
  },
  {
   "cell_type": "code",
   "execution_count": null,
   "id": "aaac8cfc",
   "metadata": {},
   "outputs": [],
   "source": [
    "# %%timeit\n",
    "# crossblock_random_crosses(g, init_pop, 1000)"
   ]
  },
  {
   "cell_type": "code",
   "execution_count": null,
   "id": "27f330b1",
   "metadata": {},
   "outputs": [],
   "source": [
    "#|export\n",
    "def double_haploid(genome: Genome, parent_haplotypes: torch.Tensor) -> torch.Tensor:\n",
    "    \"\"\"\n",
    "    Generate doubled haploid individuals from a set of parent haplotypes.\n",
    "\n",
    "    Args:\n",
    "    ----\n",
    "        parent_haplotypes (torch.Tensor): Haplotypes of the parents. \n",
    "                                           Shape: (n_parents, ploidy, chr, loci)\n",
    "        genome (Genome): Genome object.\n",
    "\n",
    "    Returns:\n",
    "    -------\n",
    "        torch.Tensor: Haplotypes of the doubled haploid progeny. \n",
    "                      Shape: (n_parents, ploidy, chr, loci)\n",
    "    \"\"\"\n",
    "    gametes = simulate_gametes(genome, parent_haplotypes)\n",
    "    dh_haplotypes = gametes.repeat(1, 2, 1, 1)  # Duplicate the gametes along ploidy dimension\n",
    "\n",
    "    return dh_haplotypes"
   ]
  },
  {
   "cell_type": "code",
   "execution_count": null,
   "id": "a5561404",
   "metadata": {},
   "outputs": [],
   "source": [
    "# %%timeit\n",
    "# double_haploid(g, init_pop)"
   ]
  },
  {
   "cell_type": "code",
   "execution_count": null,
   "id": "8cf7d908",
   "metadata": {},
   "outputs": [],
   "source": [
    "#| hide\n",
    "import nbdev; nbdev.nbdev_export()"
   ]
  }
 ],
 "metadata": {
  "kernelspec": {
   "display_name": "python3",
   "language": "python",
   "name": "python3"
  }
 },
 "nbformat": 4,
 "nbformat_minor": 5
}
