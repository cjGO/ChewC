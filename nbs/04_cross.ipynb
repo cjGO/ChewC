{
 "cells": [
  {
   "cell_type": "raw",
   "metadata": {},
   "source": [
    "---\n",
    "{}\n",
    "\n",
    "---\n",
    "\n"
   ]
  },
  {
   "cell_type": "code",
   "execution_count": null,
   "id": "ce301c91",
   "metadata": {},
   "outputs": [],
   "source": [
    "%load_ext autoreload\n",
    "%autoreload 2"
   ]
  },
  {
   "cell_type": "code",
   "execution_count": null,
   "id": "3933126d",
   "metadata": {},
   "outputs": [],
   "source": [
    "#| default_exp cross"
   ]
  },
  {
   "cell_type": "markdown",
   "id": "df6bef44",
   "metadata": {},
   "source": [
    "## Cross\n",
    "> Using gamete operations to produce new individuals"
   ]
  },
  {
   "cell_type": "code",
   "execution_count": null,
   "id": "730f4247",
   "metadata": {},
   "outputs": [],
   "source": [
    "#| export\n",
    "\n",
    "from chewc.core import *\n",
    "from chewc.trait import *\n",
    "from chewc.meiosis import *\n",
    "from typing import Tuple, Optional, List, Union\n",
    "\n",
    "import torch"
   ]
  },
  {
   "cell_type": "code",
   "execution_count": null,
   "id": "1e6c309e",
   "metadata": {},
   "outputs": [],
   "source": [
    "#| export\n",
    "def random_crosses( genome: Genome, parent_haplotypes: Population, n_crosses: int) -> torch.Tensor:\n",
    "    \"\"\"\n",
    "    Generate random crosses from a set of parent haplotypes.\n",
    "\n",
    "    Args:\n",
    "    ----\n",
    "        parent_haplotypes (torch.Tensor): Haplotypes of the parents.\n",
    "                                           Shape: (n_parents, ploidy, chr, loci)\n",
    "        n_crosses (int): Number of crosses to generate.\n",
    "        genome (Genome): Genome object.\n",
    "\n",
    "    Returns:\n",
    "    -------\n",
    "        torch.Tensor: Haplotypes of the progeny.\n",
    "                      Shape: (n_crosses, ploidy, chr, loci)\n",
    "    \"\"\"\n",
    "\n",
    "    # assert len(parent_haplotypes.shape) == 4, f\"Your input was {parent_haplotypes.shape} when it should be (#parents,ploidy,#chr,#loci)\"\n",
    "    device = genome.device\n",
    "    n_parents = parent_haplotypes.size()\n",
    "\n",
    "    parent_haplotypes = parent_haplotypes.get_genotypes()\n",
    "    # Randomly select parents for each cross\n",
    "    female_indices = torch.randint(0, n_parents, (n_crosses,), device=device)\n",
    "    male_indices = torch.randint(0, n_parents, (n_crosses,), device=device)\n",
    "\n",
    "    parent_haplotypes = parent_haplotypes.to(device)\n",
    "    # Extract haplotypes of the selected parents\n",
    "    female_haplotypes = parent_haplotypes[female_indices]\n",
    "    male_haplotypes = parent_haplotypes[male_indices]\n",
    "\n",
    "    # Simulate gametes\n",
    "    female_gametes = simulate_gametes(genome, female_haplotypes)\n",
    "    male_gametes = simulate_gametes(genome, male_haplotypes)\n",
    "\n",
    "    # Combine gametes to form progeny haplotypes\n",
    "    progeny_haplotypes = torch.cat([female_gametes, male_gametes], dim=1)\n",
    "\n",
    "    return progeny_haplotypes"
   ]
  },
  {
   "cell_type": "code",
   "execution_count": null,
   "id": "6a99cc6c",
   "metadata": {},
   "outputs": [
    {
     "name": "stdout",
     "output_type": "stream",
     "text": [
      "Created genetic map\n"
     ]
    }
   ],
   "source": [
    "ploidy = 2\n",
    "n_chr = 5\n",
    "n_loci = 1000\n",
    "n_Ind = 333\n",
    "g = Genome(ploidy, n_chr, n_loci)\n",
    "population = Population()\n",
    "population.create_random_founder_population(g, n_founders=n_Ind)\n",
    "\n",
    "# Convert to numpy array"
   ]
  },
  {
   "cell_type": "code",
   "execution_count": null,
   "id": "61a4cae0",
   "metadata": {},
   "outputs": [
    {
     "data": {
      "text/plain": [
       "torch.Size([2500, 2, 5, 1000])"
      ]
     },
     "execution_count": null,
     "metadata": {},
     "output_type": "execute_result"
    }
   ],
   "source": [
    "random_crosses(g,population,2500).shape"
   ]
  },
  {
   "cell_type": "code",
   "execution_count": null,
   "id": "8cf7d908",
   "metadata": {},
   "outputs": [],
   "source": [
    "#| hide\n",
    "import nbdev; nbdev.nbdev_export()"
   ]
  },
  {
   "cell_type": "code",
   "execution_count": null,
   "id": "487ab5be",
   "metadata": {},
   "outputs": [],
   "source": []
  }
 ],
 "metadata": {
  "kernelspec": {
   "display_name": "python3",
   "language": "python",
   "name": "python3"
  }
 },
 "nbformat": 4,
 "nbformat_minor": 5
}
