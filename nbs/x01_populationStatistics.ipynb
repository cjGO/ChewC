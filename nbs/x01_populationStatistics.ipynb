{
 "cells": [
  {
   "cell_type": "code",
   "execution_count": 1,
   "id": "7570e93c",
   "metadata": {},
   "outputs": [],
   "source": [
    "#x01_populationStatistics"
   ]
  },
  {
   "cell_type": "code",
   "execution_count": 2,
   "id": "442521b7",
   "metadata": {
    "scrolled": false
   },
   "outputs": [],
   "source": [
    "from chewc.chewc import *"
   ]
  },
  {
   "cell_type": "code",
   "execution_count": 3,
   "id": "575af8fe",
   "metadata": {},
   "outputs": [],
   "source": [
    "n_chr = 7\n",
    "n_loci = 1000\n",
    "founder_pop_size = 2\n",
    "\n",
    "G = Genome(n_chr, n_loci)\n",
    "founder_pop = create_pop(G, create_random_pop(G, founder_pop_size))\n",
    "T = Trait(G, founder_pop, target_mean=0.0, target_variance=1.0)"
   ]
  },
  {
   "cell_type": "code",
   "execution_count": 4,
   "id": "fcd09c41",
   "metadata": {},
   "outputs": [],
   "source": [
    "sim = BreedingSimulation(G, T, h2\n",
    "                         =0.2, reps=2, pop_size=200, selection_fraction=0.5)\n"
   ]
  },
  {
   "cell_type": "code",
   "execution_count": 5,
   "id": "4ce4a980",
   "metadata": {},
   "outputs": [],
   "source": [
    "pop_stat_in  = sim.population.haplotypes.sum(dim=1).view((sim.population.size, n_chr* n_loci)).float()\n",
    "pop_stat = population_statistics(pop_stat_in)"
   ]
  },
  {
   "cell_type": "code",
   "execution_count": 8,
   "id": "b210f6e2",
   "metadata": {},
   "outputs": [
    {
     "data": {
      "text/plain": [
       "torch.Size([7000])"
      ]
     },
     "execution_count": 8,
     "metadata": {},
     "output_type": "execute_result"
    }
   ],
   "source": [
    "pop_stat['maf'].shape"
   ]
  },
  {
   "cell_type": "code",
   "execution_count": 12,
   "id": "a2e106a4",
   "metadata": {},
   "outputs": [
    {
     "name": "stdout",
     "output_type": "stream",
     "text": [
      "allele_frequencies\n",
      "genotype_frequencies\n",
      "heterozygosity\n",
      "maf\n",
      "inbreeding_coefficient\n",
      "ld_matrix\n",
      "effective_population_size\n"
     ]
    }
   ],
   "source": [
    "for i in pop_stat:\n",
    "    print(i)"
   ]
  },
  {
   "cell_type": "code",
   "execution_count": 15,
   "id": "fc14528c",
   "metadata": {},
   "outputs": [
    {
     "data": {
      "text/plain": [
       "torch.Size([7000])"
      ]
     },
     "execution_count": 15,
     "metadata": {},
     "output_type": "execute_result"
    }
   ],
   "source": [
    "pop_stat['allele_frequencies'].shape"
   ]
  },
  {
   "cell_type": "code",
   "execution_count": 18,
   "id": "2fa2ce51",
   "metadata": {},
   "outputs": [
    {
     "data": {
      "text/plain": [
       "torch.Size([200])"
      ]
     },
     "execution_count": 18,
     "metadata": {},
     "output_type": "execute_result"
    }
   ],
   "source": [
    "pop_stat['genotype_frequencies'][0].shape"
   ]
  },
  {
   "cell_type": "code",
   "execution_count": 20,
   "id": "169bc7e8",
   "metadata": {},
   "outputs": [
    {
     "data": {
      "text/plain": [
       "torch.Size([200])"
      ]
     },
     "execution_count": 20,
     "metadata": {},
     "output_type": "execute_result"
    }
   ],
   "source": [
    "pop_stat['genotype_frequencies'][1].shape"
   ]
  },
  {
   "cell_type": "code",
   "execution_count": 21,
   "id": "2b1863a4",
   "metadata": {},
   "outputs": [
    {
     "data": {
      "text/plain": [
       "torch.Size([7000])"
      ]
     },
     "execution_count": 21,
     "metadata": {},
     "output_type": "execute_result"
    }
   ],
   "source": [
    "\n",
    "pop_stat['heterozygosity'].shape"
   ]
  },
  {
   "cell_type": "code",
   "execution_count": 22,
   "id": "a426db43",
   "metadata": {},
   "outputs": [
    {
     "data": {
      "text/plain": [
       "torch.Size([7000])"
      ]
     },
     "execution_count": 22,
     "metadata": {},
     "output_type": "execute_result"
    }
   ],
   "source": [
    "pop_stat['maf'].shape"
   ]
  },
  {
   "cell_type": "code",
   "execution_count": 24,
   "id": "f9a9b402",
   "metadata": {},
   "outputs": [
    {
     "data": {
      "text/plain": [
       "torch.Size([200])"
      ]
     },
     "execution_count": 24,
     "metadata": {},
     "output_type": "execute_result"
    }
   ],
   "source": [
    "pop_stat['inbreeding_coefficient'].shape"
   ]
  },
  {
   "cell_type": "code",
   "execution_count": 28,
   "id": "6263ee58",
   "metadata": {},
   "outputs": [
    {
     "data": {
      "text/plain": [
       "torch.Size([7000, 7000])"
      ]
     },
     "execution_count": 28,
     "metadata": {},
     "output_type": "execute_result"
    }
   ],
   "source": [
    "pop_stat['ld_matrix'].shape"
   ]
  },
  {
   "cell_type": "code",
   "execution_count": 29,
   "id": "65f104a2",
   "metadata": {},
   "outputs": [
    {
     "data": {
      "text/plain": [
       "tensor(161164.8125)"
      ]
     },
     "execution_count": 29,
     "metadata": {},
     "output_type": "execute_result"
    }
   ],
   "source": [
    "pop_stat['effective_population_size']"
   ]
  },
  {
   "cell_type": "code",
   "execution_count": 35,
   "id": "444c2f8f",
   "metadata": {},
   "outputs": [
    {
     "name": "stdout",
     "output_type": "stream",
     "text": [
      "torch.Size([32, 2])\n"
     ]
    }
   ],
   "source": [
    "import torch\n",
    "import torch.nn as nn\n",
    "import torch.nn.functional as F\n",
    "\n",
    "class MyNetwork(nn.Module):\n",
    "    def __init__(self, L, P):\n",
    "        super(MyNetwork, self).__init__()\n",
    "        \n",
    "        # Layers for input1 and input3\n",
    "        self.fc1 = nn.Linear(L, 128)\n",
    "        self.fc2 = nn.Linear(128, 64)\n",
    "        \n",
    "        # Layers for input2 and input4\n",
    "        self.fc3 = nn.Linear(P, 128)\n",
    "        self.fc4 = nn.Linear(128, 64)\n",
    "        \n",
    "        # Convolutional layers for input_matrix\n",
    "        self.conv1 = nn.Conv2d(1, 32, kernel_size=3, padding=1)\n",
    "        self.conv2 = nn.Conv2d(32, 64, kernel_size=3, padding=1)\n",
    "        self.conv3 = nn.Conv2d(64, 128, kernel_size=3, padding=1)\n",
    "        \n",
    "        # Fully connected layer for input_scalar\n",
    "        self.fc_scalar = nn.Linear(1, 32)\n",
    "        \n",
    "        # Calculate the flattened size of conv layers output\n",
    "        conv_output_size = L * L * 128\n",
    "        \n",
    "        # Final fully connected layers\n",
    "        self.fc_final1 = nn.Linear(64 * 4 + conv_output_size + 32, 64)\n",
    "        self.fc_final2 = nn.Linear(64, 2)\n",
    "        \n",
    "    def forward(self, input1, input2, input3, input4, input_matrix, input_scalar):\n",
    "        # Process input1 and input3\n",
    "        x1 = F.relu(self.fc1(input1))\n",
    "        x1 = F.relu(self.fc2(x1))\n",
    "        \n",
    "        x3 = F.relu(self.fc1(input3))\n",
    "        x3 = F.relu(self.fc2(x3))\n",
    "        \n",
    "        # Process input2 and input4\n",
    "        x2 = F.relu(self.fc3(input2))\n",
    "        x2 = F.relu(self.fc4(x2))\n",
    "        \n",
    "        x4 = F.relu(self.fc3(input4))\n",
    "        x4 = F.relu(self.fc4(x4))\n",
    "        \n",
    "        # Process input_matrix\n",
    "        x_matrix = input_matrix.unsqueeze(1)  # Add channel dimension\n",
    "        x_matrix = F.relu(self.conv1(x_matrix))\n",
    "        x_matrix = F.relu(self.conv2(x_matrix))\n",
    "        x_matrix = F.relu(self.conv3(x_matrix))\n",
    "        x_matrix = torch.flatten(x_matrix, start_dim=1)\n",
    "        \n",
    "        # Process input_scalar\n",
    "        x_scalar = F.relu(self.fc_scalar(input_scalar.unsqueeze(1)))\n",
    "        \n",
    "        # Concatenate all features\n",
    "        x = torch.cat((x1, x2, x3, x4, x_matrix, x_scalar), dim=1)\n",
    "        \n",
    "        # Final fully connected layers\n",
    "        x = F.relu(self.fc_final1(x))\n",
    "        output = self.fc_final2(x)\n",
    "        \n",
    "        return output\n",
    "\n",
    "# Example usage\n",
    "batch_size = 32\n",
    "L = 50\n",
    "P = 20\n",
    "\n",
    "model = MyNetwork(L, P)\n",
    "\n",
    "input1 = torch.randn((batch_size, L))\n",
    "input2 = torch.randn((batch_size, P))\n",
    "input3 = torch.randn((batch_size, L))\n",
    "input4 = torch.randn((batch_size, P))\n",
    "input_matrix = torch.randn((batch_size, L, L))\n",
    "input_scalar = torch.randn((batch_size,))\n",
    "\n",
    "output = model(input1, input2, input3, input4, input_matrix, input_scalar)\n",
    "print(output.shape)  # Should be (batch_size, 2)\n"
   ]
  },
  {
   "cell_type": "code",
   "execution_count": null,
   "id": "53017c36",
   "metadata": {},
   "outputs": [],
   "source": []
  }
 ],
 "metadata": {
  "kernelspec": {
   "display_name": "Python 3 (ipykernel)",
   "language": "python",
   "name": "python3"
  },
  "language_info": {
   "codemirror_mode": {
    "name": "ipython",
    "version": 3
   },
   "file_extension": ".py",
   "mimetype": "text/x-python",
   "name": "python",
   "nbconvert_exporter": "python",
   "pygments_lexer": "ipython3",
   "version": "3.11.9"
  }
 },
 "nbformat": 4,
 "nbformat_minor": 5
}
