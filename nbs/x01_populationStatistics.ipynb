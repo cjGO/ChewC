{
 "cells": [
  {
   "cell_type": "code",
   "execution_count": 1,
   "id": "7570e93c",
   "metadata": {},
   "outputs": [],
   "source": [
    "#x01_populationStatistics"
   ]
  },
  {
   "cell_type": "code",
   "execution_count": 2,
   "id": "442521b7",
   "metadata": {
    "scrolled": false
   },
   "outputs": [],
   "source": [
    "from chewc.chewc import *"
   ]
  },
  {
   "cell_type": "code",
   "execution_count": 20,
   "id": "e2df3d61",
   "metadata": {},
   "outputs": [],
   "source": [
    "import torch\n",
    "import torch.nn as nn\n",
    "import torch.nn.functional as F\n",
    "class MyNetwork(nn.Module):\n",
    "    def __init__(self, L, P):\n",
    "        super(MyNetwork, self).__init__()\n",
    "        \n",
    "        # Layers for input1 and input3\n",
    "        self.fc1 = nn.Linear(L, 128)\n",
    "        self.fc2 = nn.Linear(128, 64)\n",
    "        \n",
    "        # Layers for input2 and input4\n",
    "        self.fc3 = nn.Linear(P, 128)\n",
    "        self.fc4 = nn.Linear(128, 64)\n",
    "        \n",
    "        # Layers for the upper triangle of input_matrix\n",
    "        self.fc_matrix = nn.Linear(L * (L + 1) // 2, 256)\n",
    "        \n",
    "        # Final fully connected layers\n",
    "        self.fc_final1 = nn.Linear(64 * 4 + 256, 64)\n",
    "        self.fc_final2 = nn.Linear(64, 2)\n",
    "    \n",
    "    def forward(self, input1, input2, input3, input4, input_matrix):\n",
    "        \n",
    "        # Process input1 and input3\n",
    "        x1 = F.relu(self.fc1(input1))\n",
    "        x1 = F.relu(self.fc2(x1))\n",
    "        \n",
    "        x3 = F.relu(self.fc1(input3))\n",
    "        x3 = F.relu(self.fc2(x3))\n",
    "        \n",
    "        # Process input2 and input4\n",
    "        x2 = F.relu(self.fc3(input2))\n",
    "        x2 = F.relu(self.fc4(x2))\n",
    "        \n",
    "        x4 = F.relu(self.fc3(input4))\n",
    "        x4 = F.relu(self.fc4(x4))\n",
    "        \n",
    "        # Process input_matrix\n",
    "        indices = torch.triu_indices(input_matrix.size(1), input_matrix.size(2))\n",
    "        upper_triangle = input_matrix[:, indices[0], indices[1]]\n",
    "        x_matrix = F.relu(self.fc_matrix(upper_triangle))\n",
    "        \n",
    "        # Concatenate all features\n",
    "        x = torch.cat((x1, x2, x3, x4, x_matrix), dim=1)\n",
    "        \n",
    "        # Final fully connected layers\n",
    "        x = F.relu(self.fc_final1(x))\n",
    "        output = self.fc_final2(x)\n",
    "        \n",
    "        return output\n",
    "    \n",
    "# Example usage\n",
    "# batch_size = 1\n",
    "# L = 1000  # Updated to match the size of the given tensor\n",
    "# P = 200\n",
    "# model = MyNetwork(L, P)\n",
    "# input1 = torch.randn((batch_size, L))\n",
    "# input2 = torch.randn((batch_size, P))\n",
    "# input3 = torch.randn((batch_size, L))\n",
    "# input4 = torch.randn((batch_size, P))\n",
    "# input_matrix = torch.tensor([[[ 1.0000,  0.0256,  0.1095,  0.0666, -0.0401],\n",
    "#                               [ 0.0256,  1.0000,  0.1458,  0.0527, -0.0487],\n",
    "#                               [ 0.1095,  0.1458,  1.0000,  0.0550, -0.0285],\n",
    "#                               [ 0.0666,  0.0527,  0.0550,  1.0000,  0.0461],\n",
    "#                               [-0.0401, -0.0487, -0.0285,  0.0461,  1.0000]]])\n",
    "# input_scalar = torch.randn((batch_size,))\n",
    "# # Forward pass\n",
    "# output = model(input1, input2, input3, input4, input_matrix, input_scalar)\n",
    "# print(output)\n"
   ]
  },
  {
   "cell_type": "code",
   "execution_count": 21,
   "id": "0838e464",
   "metadata": {},
   "outputs": [],
   "source": [
    "n_chr = 1\n",
    "n_loci = 1000\n",
    "founder_pop_size = 200\n",
    "\n",
    "G = Genome(n_chr, n_loci)\n",
    "founder_pop = create_pop(G, create_random_pop(G, founder_pop_size))\n",
    "T = Trait(G, founder_pop, target_mean=0.0, target_variance=1.0)\n",
    "\n",
    "sim = BreedingSimulation(G, T, h2\n",
    "                         =0.2, reps=2, pop_size=founder_pop_size, selection_fraction=0.5)\n",
    "\n",
    "pop_stat_in  = sim.population.haplotypes.sum(dim=1).view((sim.population.size, n_chr* n_loci)).float()\n",
    "pop_stat = population_statistics(pop_stat_in)\n",
    "\n",
    "# Example usage\n",
    "batch_size = 1\n",
    "L = n_loci  # Updated to match the size of the given tensor\n",
    "P = founder_pop_size\n",
    "model = MyNetwork(L, P)\n"
   ]
  },
  {
   "cell_type": "code",
   "execution_count": 24,
   "id": "63f12a32",
   "metadata": {},
   "outputs": [
    {
     "name": "stdout",
     "output_type": "stream",
     "text": [
      "tensor([[ 0.0960, -0.1597]], grad_fn=<AddmmBackward0>)\n"
     ]
    }
   ],
   "source": [
    "n_chr = 1\n",
    "n_loci = 1000\n",
    "founder_pop_size = 200\n",
    "\n",
    "G = Genome(n_chr, n_loci)\n",
    "founder_pop = create_pop(G, create_random_pop(G, founder_pop_size))\n",
    "T = Trait(G, founder_pop, target_mean=0.0, target_variance=1.0)\n",
    "\n",
    "sim = BreedingSimulation(G, T, h2\n",
    "                         =0.2, reps=2, pop_size=founder_pop_size, selection_fraction=0.5)\n",
    "\n",
    "pop_stat_in  = sim.population.haplotypes.sum(dim=1).view((sim.population.size, n_chr* n_loci)).float()\n",
    "pop_stat = population_statistics(pop_stat_in)\n",
    "\n",
    "# Example usage\n",
    "batch_size = 1\n",
    "L = n_loci  # Updated to match the size of the given tensor\n",
    "P = founder_pop_size\n",
    "model = MyNetwork(L, P)\n",
    "input1 = pop_stat['maf'].unsqueeze(0)\n",
    "input2 = pop_stat['inbreeding_coefficient'].unsqueeze(0) \n",
    "input3 = pop_stat['heterozygosity'].unsqueeze(0)\n",
    "input4 = pop_stat['genotype_frequencies'][1].unsqueeze(0)\n",
    "input_matrix = pop_stat['ld_matrix'].unsqueeze(0)\n",
    "input_scalar = torch.tensor(2.).unsqueeze(0)\n",
    "output = model(input1, input2, input3, input4, input_matrix)\n",
    "print(output)"
   ]
  },
  {
   "cell_type": "code",
   "execution_count": 6,
   "id": "049ff744",
   "metadata": {},
   "outputs": [
    {
     "name": "stdout",
     "output_type": "stream",
     "text": [
      "tensor([[9235.8350, 5457.0605]], grad_fn=<AddmmBackward0>)\n"
     ]
    }
   ],
   "source": []
  },
  {
   "cell_type": "code",
   "execution_count": 7,
   "id": "fdcb18ab",
   "metadata": {},
   "outputs": [
    {
     "data": {
      "text/plain": [
       "torch.Size([1, 1000])"
      ]
     },
     "execution_count": 7,
     "metadata": {},
     "output_type": "execute_result"
    }
   ],
   "source": [
    "pop_stat['maf'].unsqueeze(0).shape"
   ]
  },
  {
   "cell_type": "code",
   "execution_count": 8,
   "id": "53017c36",
   "metadata": {},
   "outputs": [
    {
     "data": {
      "text/plain": [
       "torch.Size([1000])"
      ]
     },
     "execution_count": 8,
     "metadata": {},
     "output_type": "execute_result"
    }
   ],
   "source": [
    "pop_stat['maf'].shape"
   ]
  },
  {
   "cell_type": "code",
   "execution_count": 10,
   "id": "6ad66d5b",
   "metadata": {},
   "outputs": [
    {
     "data": {
      "text/plain": [
       "torch.Size([1000])"
      ]
     },
     "execution_count": 10,
     "metadata": {},
     "output_type": "execute_result"
    }
   ],
   "source": [
    "pop_stat['allele_frequencies'].shape\n"
   ]
  },
  {
   "cell_type": "code",
   "execution_count": 11,
   "id": "424d4760",
   "metadata": {},
   "outputs": [
    {
     "data": {
      "text/plain": [
       "torch.Size([200, 1000])"
      ]
     },
     "execution_count": 11,
     "metadata": {},
     "output_type": "execute_result"
    }
   ],
   "source": [
    "pop_stat['genotype_frequencies'][0].shape\n"
   ]
  },
  {
   "cell_type": "code",
   "execution_count": 12,
   "id": "03b63cec",
   "metadata": {},
   "outputs": [
    {
     "data": {
      "text/plain": [
       "torch.Size([200])"
      ]
     },
     "execution_count": 12,
     "metadata": {},
     "output_type": "execute_result"
    }
   ],
   "source": [
    "pop_stat['genotype_frequencies'][1].shape\n"
   ]
  },
  {
   "cell_type": "code",
   "execution_count": 13,
   "id": "2ef29e79",
   "metadata": {},
   "outputs": [
    {
     "data": {
      "text/plain": [
       "torch.Size([1000])"
      ]
     },
     "execution_count": 13,
     "metadata": {},
     "output_type": "execute_result"
    }
   ],
   "source": [
    "pop_stat['heterozygosity'].shape\n"
   ]
  },
  {
   "cell_type": "code",
   "execution_count": 14,
   "id": "21e85649",
   "metadata": {},
   "outputs": [
    {
     "data": {
      "text/plain": [
       "tensor(168549.9688)"
      ]
     },
     "execution_count": 14,
     "metadata": {},
     "output_type": "execute_result"
    }
   ],
   "source": [
    "pop_stat['effective_population_size']"
   ]
  }
 ],
 "metadata": {
  "kernelspec": {
   "display_name": "Python 3 (ipykernel)",
   "language": "python",
   "name": "python3"
  },
  "language_info": {
   "codemirror_mode": {
    "name": "ipython",
    "version": 3
   },
   "file_extension": ".py",
   "mimetype": "text/x-python",
   "name": "python",
   "nbconvert_exporter": "python",
   "pygments_lexer": "ipython3",
   "version": "3.11.9"
  }
 },
 "nbformat": 4,
 "nbformat_minor": 5
}
