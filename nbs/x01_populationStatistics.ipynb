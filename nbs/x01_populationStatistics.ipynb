{
 "cells": [
  {
   "cell_type": "code",
   "execution_count": null,
   "id": "7570e93c",
   "metadata": {},
   "outputs": [],
   "source": [
    "#x01_populationStatistics"
   ]
  },
  {
   "cell_type": "code",
   "execution_count": null,
   "id": "442521b7",
   "metadata": {},
   "outputs": [],
   "source": [
    "from chewc import *"
   ]
  },
  {
   "cell_type": "code",
   "execution_count": null,
   "id": "3a8896f6",
   "metadata": {},
   "outputs": [],
   "source": []
  }
 ],
 "metadata": {
  "kernelspec": {
   "display_name": "python3",
   "language": "python",
   "name": "python3"
  }
 },
 "nbformat": 4,
 "nbformat_minor": 5
}
