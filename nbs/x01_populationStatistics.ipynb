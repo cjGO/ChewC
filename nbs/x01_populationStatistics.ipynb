{
 "cells": [
  {
   "cell_type": "code",
   "execution_count": 1,
   "id": "7570e93c",
   "metadata": {},
   "outputs": [],
   "source": [
    "#x01_populationStatistics"
   ]
  },
  {
   "cell_type": "code",
   "execution_count": 2,
   "id": "442521b7",
   "metadata": {
    "scrolled": false
   },
   "outputs": [],
   "source": [
    "from chewc.chewc import *"
   ]
  },
  {
   "cell_type": "code",
   "execution_count": 3,
   "id": "575af8fe",
   "metadata": {},
   "outputs": [],
   "source": [
    "n_chr = 7\n",
    "n_loci = 1000\n",
    "founder_pop_size = 2\n",
    "\n",
    "G = Genome(n_chr, n_loci)\n",
    "founder_pop = create_pop(G, create_random_pop(G, founder_pop_size))\n",
    "T = Trait(G, founder_pop, target_mean=0.0, target_variance=1.0)"
   ]
  },
  {
   "cell_type": "code",
   "execution_count": 4,
   "id": "fcd09c41",
   "metadata": {},
   "outputs": [],
   "source": [
    "\n",
    "sim = BreedingSimulation(G, T, h2\n",
    "                         =0.2, reps=2, pop_size=200, selection_fraction=0.5)\n"
   ]
  },
  {
   "cell_type": "code",
   "execution_count": 5,
   "id": "a6e8a873",
   "metadata": {},
   "outputs": [
    {
     "ename": "NameError",
     "evalue": "name 'input_length' is not defined",
     "output_type": "error",
     "traceback": [
      "\u001b[0;31m---------------------------------------------------------------------------\u001b[0m",
      "\u001b[0;31mNameError\u001b[0m                                 Traceback (most recent call last)",
      "Cell \u001b[0;32mIn[5], line 2\u001b[0m\n\u001b[1;32m      1\u001b[0m \u001b[38;5;66;03m# Instantiate the model with flexible input size\u001b[39;00m\n\u001b[0;32m----> 2\u001b[0m model \u001b[38;5;241m=\u001b[39m GeneticFeatureExtractor(\u001b[43minput_length\u001b[49m)\n\u001b[1;32m      3\u001b[0m output \u001b[38;5;241m=\u001b[39m model(ins)\n",
      "\u001b[0;31mNameError\u001b[0m: name 'input_length' is not defined"
     ]
    }
   ],
   "source": [
    "# Instantiate the model with flexible input size\n",
    "model = GeneticFeatureExtractor(input_length)\n",
    "output = model(ins)"
   ]
  },
  {
   "cell_type": "code",
   "execution_count": null,
   "id": "89acc7c3",
   "metadata": {},
   "outputs": [],
   "source": [
    "\n",
    "# Simulate 10 generations (replace this with your RL training loop)\n",
    "for generation in range(10):\n",
    "    # Placeholder: Generate random actions (you'll use your RL agent's policy here)\n",
    "    actions = 30\n",
    "    state, reward = sim.step(actions) \n",
    "    print(f\"Generation {generation+1}: Avg Phenotype = {state:.2f}, Reward = {reward:.2f}\")\n",
    "\n",
    "sim.plot_history()"
   ]
  },
  {
   "cell_type": "code",
   "execution_count": null,
   "id": "72a319cd",
   "metadata": {},
   "outputs": [],
   "source": [
    "alleles = sim.population.haplotypes\n",
    "ind, ploid, nchr, nloci = alleles.shape"
   ]
  },
  {
   "cell_type": "code",
   "execution_count": null,
   "id": "ea7e1a6a",
   "metadata": {},
   "outputs": [],
   "source": [
    "alleles.shape"
   ]
  },
  {
   "cell_type": "code",
   "execution_count": null,
   "id": "0d0ee449",
   "metadata": {},
   "outputs": [],
   "source": [
    "ins = alleles.reshape(ind,2, nchr*nloci)"
   ]
  },
  {
   "cell_type": "code",
   "execution_count": null,
   "id": "8fb3f54c",
   "metadata": {},
   "outputs": [],
   "source": [
    "ins.shape"
   ]
  },
  {
   "cell_type": "code",
   "execution_count": null,
   "id": "d583bc10",
   "metadata": {},
   "outputs": [],
   "source": [
    "model(ins)"
   ]
  },
  {
   "cell_type": "code",
   "execution_count": null,
   "id": "80c92e9a",
   "metadata": {},
   "outputs": [],
   "source": [
    "\n",
    "\n",
    "# Example usage with different input sizes\n",
    "input_length = 7000  # Change this to any length\n",
    "pop_size = 1\n",
    "# dummy_data = create_dummy_data(pop_size, 2, input_length)\n",
    "\n"
   ]
  },
  {
   "cell_type": "code",
   "execution_count": null,
   "id": "556b621d",
   "metadata": {},
   "outputs": [],
   "source": [
    "\n",
    "\n",
    "print(output.shape)  # Expected output shape: (10, 64)\n",
    "\n",
    "# Define a simple training loop for demonstration\n",
    "criterion = nn.MSELoss()\n",
    "optimizer = optim.Adam(model.parameters(), lr=0.001)\n",
    "\n",
    "# Dummy target data for demonstration purposes\n",
    "target = torch.randn(pop_size, 64)\n",
    "\n",
    "# Training loop\n",
    "num_epochs = 5\n",
    "for epoch in range(num_epochs):\n",
    "    optimizer.zero_grad()\n",
    "    output = model(dummy_data)\n",
    "    loss = criterion(output, target)\n",
    "    loss.backward()\n",
    "    optimizer.step()\n",
    "    print(f\"Epoch {epoch + 1}/{num_epochs}, Loss: {loss.item()}\")"
   ]
  },
  {
   "cell_type": "code",
   "execution_count": null,
   "id": "259a532d",
   "metadata": {},
   "outputs": [],
   "source": []
  }
 ],
 "metadata": {
  "kernelspec": {
   "display_name": "Python 3 (ipykernel)",
   "language": "python",
   "name": "python3"
  },
  "language_info": {
   "codemirror_mode": {
    "name": "ipython",
    "version": 3
   },
   "file_extension": ".py",
   "mimetype": "text/x-python",
   "name": "python",
   "nbconvert_exporter": "python",
   "pygments_lexer": "ipython3",
   "version": "3.11.9"
  }
 },
 "nbformat": 4,
 "nbformat_minor": 5
}
