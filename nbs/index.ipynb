{
 "cells": [
  {
   "cell_type": "code",
   "execution_count": null,
   "metadata": {},
   "outputs": [],
   "source": [
    "%load_ext autoreload\n",
    "%autoreload 2"
   ]
  },
  {
   "cell_type": "code",
   "execution_count": null,
   "metadata": {},
   "outputs": [],
   "source": [
    "from chewc.core import *\n"
   ]
  },
  {
   "cell_type": "code",
   "execution_count": null,
   "metadata": {},
   "outputs": [],
   "source": [
    "#| hide\n",
    "# from chewc.core import *\n",
    "# from chewc.trait import *\n",
    "# from chewc.meiosis import *\n",
    "# from chewc.crossing import *\n",
    "\n",
    "\n",
    "import torch\n",
    "import attr\n",
    "import matplotlib.pyplot as plt\n"
   ]
  },
  {
   "cell_type": "markdown",
   "metadata": {},
   "source": [
    "# ChewC\n",
    "\n",
    "> Pytorch Breeding"
   ]
  },
  {
   "cell_type": "markdown",
   "metadata": {},
   "source": [
    "In short, this will be a GPU-enabled stochastic simulation for breeding programs with an emphasis on cost-benefit-analysis for novel breeding tools and creating a suitable interface for RL agents.\n",
    "\n",
    "\n",
    "---\n",
    "We will also incorporate an emphasis on budget and costs associated with each action to manage long-term breeding budgets. As well as model theoretical tools in the plant breeder's toolbox. e.g.\n",
    "\n",
    "> a treatment which increases crossover rates\n",
    "\n",
    "> a treatment which reduces flowering time\n",
    "\n",
    "> a treatment which enables gene drive at select loci\n",
    "\n",
    "Each treatment will cost $$ ultimately helping guide the implementation in real-world breeding programs.\n"
   ]
  },
  {
   "cell_type": "markdown",
   "metadata": {},
   "source": [
    "## Install"
   ]
  },
  {
   "cell_type": "markdown",
   "metadata": {},
   "source": [
    "```sh\n",
    "pip install chewc\n",
    "```"
   ]
  },
  {
   "cell_type": "markdown",
   "metadata": {},
   "source": [
    "## How to use"
   ]
  },
  {
   "cell_type": "markdown",
   "metadata": {},
   "source": [
    "First, define the genome of your crop"
   ]
  },
  {
   "cell_type": "code",
   "execution_count": null,
   "metadata": {},
   "outputs": [
    {
     "data": {
      "image/png": "[encoded data removed]",
      "text/plain": [
       "<Figure size 640x480 with 1 Axes>"
      ]
     },
     "metadata": {},
     "output_type": "display_data"
    }
   ],
   "source": [
    "# import random\n",
    "\n",
    "# ploidy = 2\n",
    "# number_chromosomes = 10\n",
    "# loci_per_chromosome = 100\n",
    "# genetic_map = create_random_genetic_map(number_chromosomes,loci_per_chromosome)\n",
    "# crop_genome = Genome(ploidy, number_chromosomes, loci_per_chromosome, genetic_map)\n",
    "\n",
    "# n_founders = 500\n",
    "# founder_pop = create_random_founder_pop(crop_genome , n_founders)\n",
    "# sim_param = SimParam\n",
    "# sim_param.founder_pop = founder_pop\n",
    "# sim_param.genome = crop_genome\n",
    "\n",
    "\n",
    "# #add a single additive trait\n",
    "# qtl_loci = 20\n",
    "# qtl_map = select_qtl_loci(qtl_loci,sim_param.genome)\n",
    "\n",
    "# ta = TraitA(qtl_map,sim_param,0, 1)\n",
    "# ta.sample_initial_effects()\n",
    "# ta.scale_genetic_effects()\n",
    "# ta.calculate_intercept()\n",
    "\n",
    "\n",
    "\n",
    "\n",
    "\n",
    "\n",
    "# # Ensure sim_param.device is defined and correct\n",
    "# device = sim_param.device\n",
    "\n",
    "# years = 20\n",
    "# current_pop = founder_pop.to(device)\n",
    "# pmean = []\n",
    "# pvar = []\n",
    "\n",
    "# for _ in range(years):\n",
    "#     # phenotype current pop\n",
    "#     TOPK = 10\n",
    "#     new_pop = []\n",
    "#     pheno = ta.phenotype(current_pop, h2=0.14).to(device)\n",
    "#     topk = torch.topk(pheno, TOPK).indices.to(device)\n",
    "\n",
    "#     for _ in range(200):\n",
    "#         sampled_indices = torch.multinomial(torch.ones(topk.size(0), device=device), 2, replacement=False)\n",
    "#         sampled_parents = topk[sampled_indices]\n",
    "#         m, f = current_pop[sampled_parents[0]], current_pop[sampled_parents[1]]\n",
    "#         new_pop.append(make_cross(sim_param, m, f).to(device))\n",
    "    \n",
    "#     current_pop = torch.stack(new_pop).to(device)\n",
    "#     pmean.append(ta.calculate_genetic_values(current_pop).mean().item())\n",
    "#     pvar.append(ta.calculate_genetic_values(current_pop).var().item())\n",
    "\n",
    "# pmean_normalized = torch.tensor(pmean, device=device) / max(pmean)\n",
    "# pvar_normalized = torch.tensor(pvar, device=device) / max(pvar)\n",
    "\n",
    "# plt.scatter(range(len(pmean_normalized)), pmean_normalized.cpu())\n",
    "# plt.scatter(range(len(pvar_normalized)), pvar_normalized.cpu())\n",
    "# plt.show()"
   ]
  },
  {
   "cell_type": "code",
   "execution_count": null,
   "metadata": {},
   "outputs": [],
   "source": [
    "\n",
    "\n"
   ]
  }
 ],
 "metadata": {
  "kernelspec": {
   "display_name": "python3",
   "language": "python",
   "name": "python3"
  }
 },
 "nbformat": 4,
 "nbformat_minor": 4
}
