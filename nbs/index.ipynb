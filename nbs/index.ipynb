{
 "cells": [
  {
   "cell_type": "code",
   "execution_count": null,
   "metadata": {},
   "outputs": [],
   "source": [
    "%load_ext autoreload\n",
    "%autoreload 2"
   ]
  },
  {
   "cell_type": "code",
   "execution_count": null,
   "metadata": {},
   "outputs": [],
   "source": [
    "from chewc.core import *\n"
   ]
  },
  {
   "cell_type": "code",
   "execution_count": null,
   "metadata": {},
   "outputs": [],
   "source": [
    "#| hide\n",
    "from chewc.core import *\n",
    "from chewc.trait import *\n",
    "from chewc.meiosis import *\n",
    "from chewc.crossing import *\n",
    "\n",
    "\n",
    "import torch\n",
    "import attr\n",
    "import matplotlib.pyplot as plt\n"
   ]
  },
  {
   "cell_type": "markdown",
   "metadata": {},
   "source": [
    "# ChewC\n",
    "\n",
    "> Pytorch Breeding"
   ]
  },
  {
   "cell_type": "markdown",
   "metadata": {},
   "source": [
    "In short, this will be a GPU-enabled stochastic simulation for breeding programs with an emphasis on cost-benefit-analysis for novel breeding tools and creating a suitable interface for RL agents.\n",
    "\n",
    "\n",
    "---\n",
    "We will also incorporate an emphasis on budget and costs associated with each action to manage long-term breeding budgets. As well as model theoretical tools in the plant breeder's toolbox. e.g.\n",
    "\n",
    "> a treatment which increases crossover rates\n",
    "\n",
    "> a treatment which reduces flowering time\n",
    "\n",
    "> a treatment which enables gene drive at select loci\n",
    "\n",
    "Each treatment will cost $$ ultimately helping guide the implementation in real-world breeding programs.\n"
   ]
  },
  {
   "cell_type": "markdown",
   "metadata": {},
   "source": [
    "## Install"
   ]
  },
  {
   "cell_type": "markdown",
   "metadata": {},
   "source": [
    "```sh\n",
    "pip install chewc\n",
    "```"
   ]
  },
  {
   "cell_type": "markdown",
   "metadata": {},
   "source": [
    "## How to use"
   ]
  },
  {
   "cell_type": "markdown",
   "metadata": {},
   "source": [
    "First, define the genome of your crop"
   ]
  },
  {
   "cell_type": "code",
   "execution_count": null,
   "metadata": {},
   "outputs": [
    {
     "ename": "AttributeError",
     "evalue": "'int' object has no attribute 'float'",
     "output_type": "error",
     "traceback": [
      "\u001b[0;31m---------------------------------------------------------------------------\u001b[0m",
      "\u001b[0;31mAttributeError\u001b[0m                            Traceback (most recent call last)",
      "Cell \u001b[0;32mIn[4], line 18\u001b[0m\n\u001b[1;32m     15\u001b[0m qtl_loci \u001b[38;5;241m=\u001b[39m \u001b[38;5;241m100\u001b[39m\n\u001b[1;32m     16\u001b[0m qtl_map \u001b[38;5;241m=\u001b[39m select_qtl_loci(qtl_loci,simparam\u001b[38;5;241m.\u001b[39mgenome)\n\u001b[0;32m---> 18\u001b[0m ta \u001b[38;5;241m=\u001b[39m \u001b[43mTraitA\u001b[49m\u001b[43m(\u001b[49m\u001b[43mqtl_map\u001b[49m\u001b[43m,\u001b[49m\u001b[43msimparam\u001b[49m\u001b[43m,\u001b[49m\u001b[38;5;241;43m0\u001b[39;49m\u001b[43m,\u001b[49m\u001b[43m \u001b[49m\u001b[38;5;241;43m1\u001b[39;49m\u001b[43m)\u001b[49m\n\u001b[1;32m     19\u001b[0m ta\u001b[38;5;241m.\u001b[39msample_initial_effects()\n\u001b[1;32m     20\u001b[0m ta\u001b[38;5;241m.\u001b[39mscale_genetic_effects()\n",
      "File \u001b[0;32m<attrs generated init chewc.trait.TraitA>:6\u001b[0m, in \u001b[0;36m__init__\u001b[0;34m(self, qtl_map, additive_effects, genome, founder_pop)\u001b[0m\n\u001b[1;32m      4\u001b[0m \u001b[38;5;28mself\u001b[39m\u001b[38;5;241m.\u001b[39mgenome \u001b[38;5;241m=\u001b[39m genome\n\u001b[1;32m      5\u001b[0m \u001b[38;5;28mself\u001b[39m\u001b[38;5;241m.\u001b[39mfounder_pop \u001b[38;5;241m=\u001b[39m founder_pop\n\u001b[0;32m----> 6\u001b[0m \u001b[38;5;28;43mself\u001b[39;49m\u001b[38;5;241;43m.\u001b[39;49m\u001b[43m__attrs_post_init__\u001b[49m\u001b[43m(\u001b[49m\u001b[43m)\u001b[49m\n",
      "File \u001b[0;32m/mnt/c/Users/cltng/OneDrive/chatgpt/chewc/trait.py:107\u001b[0m, in \u001b[0;36mTraitA.__attrs_post_init__\u001b[0;34m(self)\u001b[0m\n\u001b[1;32m    103\u001b[0m \u001b[38;5;28;01mdef\u001b[39;00m \u001b[38;5;21m__attrs_post_init__\u001b[39m(\u001b[38;5;28mself\u001b[39m):\n\u001b[1;32m    104\u001b[0m \u001b[38;5;250m    \u001b[39m\u001b[38;5;124;03m\"\"\"\u001b[39;00m\n\u001b[1;32m    105\u001b[0m \u001b[38;5;124;03m    Calculate the intercept and scale the effects after initialization.\u001b[39;00m\n\u001b[1;32m    106\u001b[0m \u001b[38;5;124;03m    \"\"\"\u001b[39;00m\n\u001b[0;32m--> 107\u001b[0m     \u001b[38;5;28mself\u001b[39m\u001b[38;5;241m.\u001b[39mintercept \u001b[38;5;241m=\u001b[39m \u001b[38;5;28;43mself\u001b[39;49m\u001b[38;5;241;43m.\u001b[39;49m\u001b[43m_calculate_intercept\u001b[49m\u001b[43m(\u001b[49m\u001b[43m)\u001b[49m\n",
      "File \u001b[0;32m/mnt/c/Users/cltng/OneDrive/chatgpt/chewc/trait.py:117\u001b[0m, in \u001b[0;36mTraitA._calculate_intercept\u001b[0;34m(self)\u001b[0m\n\u001b[1;32m    110\u001b[0m \u001b[38;5;250m\u001b[39m\u001b[38;5;124;03m\"\"\"\u001b[39;00m\n\u001b[1;32m    111\u001b[0m \u001b[38;5;124;03mCalculates the intercept based on the mean genetic value of the founder population.\u001b[39;00m\n\u001b[1;32m    112\u001b[0m \n\u001b[1;32m    113\u001b[0m \u001b[38;5;124;03mReturns:\u001b[39;00m\n\u001b[1;32m    114\u001b[0m \u001b[38;5;124;03m    float: The intercept value.\u001b[39;00m\n\u001b[1;32m    115\u001b[0m \u001b[38;5;124;03m\"\"\"\u001b[39;00m\n\u001b[1;32m    116\u001b[0m \u001b[38;5;66;03m# Calculate the mean genetic value of the founder population (without scaling)\u001b[39;00m\n\u001b[0;32m--> 117\u001b[0m founder_genetic_values \u001b[38;5;241m=\u001b[39m (\u001b[38;5;28;43mself\u001b[39;49m\u001b[38;5;241;43m.\u001b[39;49m\u001b[43mfounder_pop\u001b[49m\u001b[38;5;241;43m.\u001b[39;49m\u001b[43mfloat\u001b[49m() \u001b[38;5;241m*\u001b[39m \u001b[38;5;28mself\u001b[39m\u001b[38;5;241m.\u001b[39madditive_effects)\u001b[38;5;241m.\u001b[39msum(dim\u001b[38;5;241m=\u001b[39m(\u001b[38;5;241m1\u001b[39m, \u001b[38;5;241m2\u001b[39m, \u001b[38;5;241m3\u001b[39m))\n\u001b[1;32m    118\u001b[0m mean_founder_gv \u001b[38;5;241m=\u001b[39m founder_genetic_values\u001b[38;5;241m.\u001b[39mmean()\u001b[38;5;241m.\u001b[39mitem()\n\u001b[1;32m    119\u001b[0m \u001b[38;5;28;01mreturn\u001b[39;00m \u001b[38;5;241m-\u001b[39m mean_founder_gv\n",
      "\u001b[0;31mAttributeError\u001b[0m: 'int' object has no attribute 'float'"
     ]
    }
   ],
   "source": [
    "ploidy = 2\n",
    "number_chromosomes = 10\n",
    "loci_per_chromosome = 100\n",
    "genetic_map = create_random_genetic_map(number_chromosomes,loci_per_chromosome)\n",
    "crop_genome = Genome(ploidy, number_chromosomes, loci_per_chromosome, genetic_map)\n",
    "\n",
    "n_founders = 500\n",
    "founder_pop = create_random_founder_pop(crop_genome , n_founders)\n",
    "simparam = SimParam\n",
    "simparam.founder_pop = founder_pop\n",
    "simparam.genome = crop_genome\n",
    "\n",
    "\n",
    "#add a single additive trait\n",
    "qtl_loci = 100\n",
    "qtl_map = select_qtl_loci(qtl_loci,simparam.genome)\n",
    "\n",
    "ta = TraitA(qtl_map,simparam,0, 1)\n",
    "ta.sample_initial_effects()\n",
    "ta.scale_genetic_effects()\n",
    "ta.calculate_intercept()\n",
    "\n",
    "# Create a 2x2 grid of plots\n",
    "fig, axs = plt.subplots(2, 2, figsize=(10, 10))  # Adjust figsize as needed\n",
    "\n",
    "# Plot 1: Scaled Effects Histogram\n",
    "axs[0, 0].hist(ta.scaled_effects.flatten())\n",
    "axs[0, 0].set_title('Marker Effects')\n",
    "\n",
    "# Plot 2: True Genetic Values Histogram\n",
    "genetic_values = ta.calculate_genetic_values(simparam.founder_pop)\n",
    "axs[0, 1].hist(genetic_values)\n",
    "axs[0, 1].set_title('True Genetic Values')\n",
    "\n",
    "# Plot 3: Phenotype Histogram\n",
    "phenotypes = ta.phenotype(simparam.founder_pop, h2=0.5)  # Assuming 'h2' is a parameter for heritability in the phenotype method\n",
    "axs[1, 0].hist(phenotypes)\n",
    "axs[1, 0].set_title('Phenotype')\n",
    "\n",
    "# Plot 4: Scatter Plot of Genetic Values vs Phenotypes\n",
    "axs[1, 1].scatter(genetic_values, phenotypes)\n",
    "axs[1, 1].set_title('Genetic Values vs Phenotype')\n",
    "\n",
    "# Display the plots\n",
    "plt.tight_layout()  # Adjust layout to prevent overlap\n",
    "plt.show()"
   ]
  },
  {
   "cell_type": "code",
   "execution_count": null,
   "metadata": {},
   "outputs": [],
   "source": []
  }
 ],
 "metadata": {
  "kernelspec": {
   "display_name": "python3",
   "language": "python",
   "name": "python3"
  }
 },
 "nbformat": 4,
 "nbformat_minor": 4
}
