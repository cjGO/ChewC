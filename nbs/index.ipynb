{
 "cells": [
  {
   "cell_type": "code",
   "execution_count": null,
   "metadata": {},
   "outputs": [],
   "source": [
    "%load_ext autoreload\n",
    "%autoreload 2"
   ]
  },
  {
   "cell_type": "code",
   "execution_count": null,
   "metadata": {},
   "outputs": [],
   "source": [
    "from chewc.core import *\n"
   ]
  },
  {
   "cell_type": "code",
   "execution_count": null,
   "metadata": {},
   "outputs": [],
   "source": [
    "#| hide\n",
    "from chewc.core import *\n",
    "from chewc.trait import *\n",
    "from chewc.meiosis import *\n",
    "from chewc.crossing import *\n",
    "\n",
    "\n",
    "import torch\n",
    "import attr\n",
    "import matplotlib.pyplot as plt\n"
   ]
  },
  {
   "cell_type": "markdown",
   "metadata": {},
   "source": [
    "# Chew-C\n",
    "\n",
    "> Pytorch Breeding"
   ]
  },
  {
   "cell_type": "markdown",
   "metadata": {},
   "source": [
    "In short, this will be a GPU-enabled stochastic simulation for breeding programs with an emphasis on cost-benefit-analysis for novel breeding tools and creating a suitable interface for RL agents.\n",
    "\n",
    "\n",
    "---\n",
    "We will also incorporate an emphasis on budget and costs associated with each action to manage long-term breeding budgets. As well as model theoretical tools in the plant breeder's toolbox. e.g.\n",
    "\n",
    "> a treatment which increases crossover rates\n",
    "\n",
    "> a treatment which reduces flowering time\n",
    "\n",
    "> a treatment which enables gene drive at select loci\n",
    "\n",
    "Each treatment will cost $$ ultimately helping guide the implementation in real-world breeding programs.\n"
   ]
  },
  {
   "cell_type": "markdown",
   "metadata": {},
   "source": [
    "## Install"
   ]
  },
  {
   "cell_type": "markdown",
   "metadata": {},
   "source": [
    "```sh\n",
    "pip install chew-c\n",
    "```"
   ]
  },
  {
   "cell_type": "markdown",
   "metadata": {},
   "source": [
    "## How to use"
   ]
  },
  {
   "cell_type": "markdown",
   "metadata": {},
   "source": [
    "First, define the genome of your crop"
   ]
  },
  {
   "cell_type": "code",
   "execution_count": null,
   "metadata": {},
   "outputs": [
    {
     "name": "stdout",
     "output_type": "stream",
     "text": [
      "tensor([-3.9872, -2.6802, -3.2530, -2.8984, -2.7952, -1.7489, -2.8991, -2.1334,\n",
      "        -1.3709, -5.8642])\n",
      "tensor([-2.4555, -2.0640, -2.5771, -2.7667, -2.7303, -1.9927, -0.9669, -3.4610,\n",
      "        -1.8930, -7.0445])\n"
     ]
    }
   ],
   "source": [
    "#boilerplate example\n",
    "ploidy = 2\n",
    "number_chromosomes = 10\n",
    "loci_per_chromosome = 100\n",
    "n_founders = 50\n",
    "genetic_map = create_random_genetic_map(number_chromosomes,loci_per_chromosome)\n",
    "crop_genome = Genome(ploidy, number_chromosomes, loci_per_chromosome, genetic_map)\n",
    "founder_pop = create_random_founder_pop(crop_genome , n_founders)\n",
    "\n",
    "qtl_map = select_qtl_loci(5,crop_genome)\n",
    "add_fx = generate_marker_effects(qtl_map,0,1)\n",
    "# Add a trait\n",
    "trait_A = TraitA(\n",
    "                qtl_map,\n",
    "                add_fx,\n",
    "    genome=crop_genome, \n",
    "                 founder_pop=founder_pop, \n",
    "                 target_variance=1.0,        # Example: Target genetic variance of 1.0\n",
    "                 target_mean=10.0)           # Example: Target mean genetic value of 10.0\n",
    "\n",
    "# Now you can use trait_A to calculate genetic values, simulate phenotypes, etc.\n",
    "example_genotypes = create_random_founder_pop(crop_genome , 10)  # Example genotypes\n",
    "genetic_values = trait_A.calculate_genetic_value(example_genotypes)\n",
    "phenotypes = trait_A.setPheno(example_genotypes, h2=torch.tensor(0.5)) \n",
    "print(genetic_values)\n",
    "print(phenotypes)"
   ]
  },
  {
   "cell_type": "code",
   "execution_count": null,
   "metadata": {},
   "outputs": [],
   "source": [
    "qtl_map = select_qtl_loci(20, crop_genome)\n",
    "marker_fx = generate_marker_effects(qtl_map)\n",
    "\n",
    "founder_genetic_variance = calculate_genetic_variance(founder_pop,marker_fx,crop_genome)\n",
    "scaled_marker_fx = scale_marker_effects(marker_fx, founder_genetic_variance, 0.5)\n",
    "\n",
    "\n",
    "traita = TraitA(qtl_map, scaled_marker_fx,crop_genome, founder_pop,1.0,0.0)"
   ]
  },
  {
   "cell_type": "code",
   "execution_count": null,
   "metadata": {},
   "outputs": [],
   "source": [
    "# recurrent truncation selection\n",
    "\n",
    "means = []\n",
    "variances = []\n",
    "traita = TraitA(qtl_map, scaled_marker_fx,crop_genome, founder_pop,1.0,0.0)\n",
    "\n",
    "\n",
    "tgv = traita.calculate_genetic_value(founder_pop)\n",
    "means.append(tgv.mean())\n",
    "variances.append(tgv.var())\n",
    "                 \n",
    "                 \n",
    "years = 5\n",
    "\n",
    "new_pop = random_crosses(founder_pop, len(founder_pop),genetic_map)\n",
    "tgv = traita.calculate_genetic_value(new_pop)\n",
    "means.append(tgv.mean())\n",
    "variances.append(tgv.var())\n",
    "                 \n",
    "for i in range(years-1):\n",
    "    tgv = traita.calculate_genetic_value(new_pop)\n",
    "    truncate = truncate_select(tgv)\n",
    "    new_pop = random_crosses(new_pop[truncate], len(new_pop),genetic_map)\n",
    "    means.append(tgv.mean())\n",
    "    variances.append(tgv.var())"
   ]
  },
  {
   "cell_type": "code",
   "execution_count": null,
   "metadata": {},
   "outputs": [],
   "source": [
    "# Create a figure and axis\n",
    "fig, ax1 = plt.subplots()\n",
    "\n",
    "# Plot means\n",
    "ax1.plot(means, color='blue', marker='o', label='Mean')\n",
    "ax1.set_xlabel('Index')\n",
    "ax1.set_ylabel('Mean', color='blue')\n",
    "ax1.tick_params(axis='y', labelcolor='blue')\n",
    "\n",
    "# Create a second y-axis to plot variances\n",
    "ax2 = ax1.twinx()\n",
    "ax2.plot(variances, color='red', marker='x', label='Variance')\n",
    "ax2.set_ylabel('Variance', color='red')\n",
    "ax2.tick_params(axis='y', labelcolor='red')\n",
    "\n",
    "# Add a title and show the plot\n",
    "plt.title('Mean and Variance Plot')\n",
    "fig.tight_layout()  # Adjust layout to prevent overlap\n",
    "\n",
    "# Add legends\n",
    "lines_1, labels_1 = ax1.get_legend_handles_labels()\n",
    "lines_2, labels_2 = ax2.get_legend_handles_labels()\n",
    "ax1.legend(lines_1 + lines_2, labels_1 + labels_2, loc='best')\n",
    "\n",
    "plt.show()"
   ]
  },
  {
   "cell_type": "code",
   "execution_count": null,
   "metadata": {},
   "outputs": [],
   "source": []
  }
 ],
 "metadata": {
  "kernelspec": {
   "display_name": "python3",
   "language": "python",
   "name": "python3"
  }
 },
 "nbformat": 4,
 "nbformat_minor": 4
}
