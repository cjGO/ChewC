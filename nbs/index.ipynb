{
 "cells": [
  {
   "cell_type": "code",
   "execution_count": null,
   "metadata": {},
   "outputs": [],
   "source": [
    "%load_ext autoreload\n",
    "%autoreload 2"
   ]
  },
  {
   "cell_type": "code",
   "execution_count": null,
   "metadata": {},
   "outputs": [],
   "source": [
    "#| hide \n",
    "from chewc.core import *\n",
    "from chewc.trait import *\n",
    "from chewc.meiosis import *\n",
    "from chewc.cross import *\n",
    "\n",
    "\n",
    "import torch\n",
    "import attr\n",
    "import matplotlib.pyplot as plt\n"
   ]
  },
  {
   "cell_type": "markdown",
   "metadata": {},
   "source": [
    "# ChewC\n",
    "\n",
    "> Pytorch Breeding"
   ]
  },
  {
   "cell_type": "markdown",
   "metadata": {},
   "source": [
    "In short, this will be a GPU-enabled stochastic simulation for breeding programs with an emphasis on cost-benefit-analysis for novel breeding tools and creating a suitable interface for RL agents.\n",
    "\n",
    "\n",
    "---\n",
    "We will also incorporate an emphasis on budget and costs associated with each action to manage long-term breeding budgets. As well as model theoretical tools in the plant breeder's toolbox. e.g.\n",
    "\n",
    "> a treatment which increases crossover rates\n",
    "\n",
    "> a treatment which reduces flowering time\n",
    "\n",
    "> a treatment which enables gene drive at select loci\n",
    "\n",
    "Each treatment will cost $$ ultimately helping guide the implementation in real-world breeding programs.\n"
   ]
  },
  {
   "cell_type": "markdown",
   "metadata": {},
   "source": [
    "## Install"
   ]
  },
  {
   "cell_type": "markdown",
   "metadata": {},
   "source": [
    "```sh\n",
    "pip install chewc\n",
    "```"
   ]
  },
  {
   "cell_type": "markdown",
   "metadata": {},
   "source": [
    "## How to use"
   ]
  },
  {
   "cell_type": "markdown",
   "metadata": {},
   "source": [
    "First, define the genome of your crop"
   ]
  },
  {
   "cell_type": "code",
   "execution_count": null,
   "metadata": {},
   "outputs": [
    {
     "name": "stdout",
     "output_type": "stream",
     "text": [
      "Created genetic map\n"
     ]
    },
    {
     "data": {
      "text/plain": [
       "torch.Size([100, 3])"
      ]
     },
     "execution_count": null,
     "metadata": {},
     "output_type": "execute_result"
    }
   ],
   "source": [
    "ploidy = 2\n",
    "n_chr = 10\n",
    "n_loci = 1000\n",
    "n_Ind = 100\n",
    "g = Genome(ploidy, n_chr, n_loci)\n",
    "population = Population()\n",
    "population.create_random_founder_population(g, n_founders=n_Ind)\n",
    "init_pop = population.get_dosages().float()  # gets allele dosage for calculating trait values\n",
    "\n",
    "# multi_traits\n",
    "target_means = torch.tensor([0, 5, 20])\n",
    "target_vars = torch.tensor([1, 1, 0.5])  # Note: I'm assuming you want a variance of 1 for the second trait\n",
    "correlation_matrix = [\n",
    "        [1.0, 0.2, 0.58],\n",
    "        [0.2, 1.0, -0.37],\n",
    "        [0.58, -0.37, 1.0],\n",
    "    ]\n",
    "correlation_matrix = torch.tensor(correlation_matrix)\n",
    "\n",
    "ta = TraitModule(g, population, target_means, target_vars, correlation_matrix,100)\n",
    "ta(population.get_dosages()).shape\n"
   ]
  },
  {
   "cell_type": "code",
   "execution_count": null,
   "metadata": {},
   "outputs": [
    {
     "name": "stdout",
     "output_type": "stream",
     "text": [
      "26.5 ms ± 995 µs per loop (mean ± std. dev. of 7 runs, 10 loops each)\n"
     ]
    }
   ],
   "source": [
    "%%timeit\n",
    "random_crosses(g,population,250)"
   ]
  }
 ],
 "metadata": {
  "kernelspec": {
   "display_name": "python3",
   "language": "python",
   "name": "python3"
  }
 },
 "nbformat": 4,
 "nbformat_minor": 4
}
