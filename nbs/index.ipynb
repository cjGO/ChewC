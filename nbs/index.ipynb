{
 "cells": [
  {
   "cell_type": "code",
   "execution_count": null,
   "metadata": {},
   "outputs": [],
   "source": [
    "%load_ext autoreload\n",
    "%autoreload 2"
   ]
  },
  {
   "cell_type": "code",
   "execution_count": null,
   "metadata": {},
   "outputs": [],
   "source": [
    "#| hide\n",
    "from chewc.core import *\n",
    "from chewc.trait import *\n",
    "from chewc.meiosis import *\n",
    "from chewc.cross import *\n",
    "\n",
    "\n",
    "import torch\n",
    "import attr\n",
    "import matplotlib.pyplot as plt\n"
   ]
  },
  {
   "cell_type": "markdown",
   "metadata": {},
   "source": [
    "# ChewC\n",
    "\n",
    "> Pytorch Breeding"
   ]
  },
  {
   "cell_type": "markdown",
   "metadata": {},
   "source": [
    "In short, this will be a GPU-enabled stochastic simulation for breeding programs with an emphasis on cost-benefit-analysis for novel breeding tools and creating a suitable interface for RL agents.\n",
    "\n",
    "\n",
    "---\n",
    "We will also incorporate an emphasis on budget and costs associated with each action to manage long-term breeding budgets. As well as model theoretical tools in the plant breeder's toolbox. e.g.\n",
    "\n",
    "> a treatment which increases crossover rates\n",
    "\n",
    "> a treatment which reduces flowering time\n",
    "\n",
    "> a treatment which enables gene drive at select loci\n",
    "\n",
    "Each treatment will cost $$ ultimately helping guide the implementation in real-world breeding programs.\n"
   ]
  },
  {
   "cell_type": "markdown",
   "metadata": {},
   "source": [
    "## Install"
   ]
  },
  {
   "cell_type": "markdown",
   "metadata": {},
   "source": [
    "```sh\n",
    "pip install chewc\n",
    "```"
   ]
  },
  {
   "cell_type": "markdown",
   "metadata": {},
   "source": [
    "## How to use"
   ]
  },
  {
   "cell_type": "markdown",
   "metadata": {},
   "source": [
    "First, define the genome of your crop"
   ]
  },
  {
   "cell_type": "code",
   "execution_count": null,
   "metadata": {},
   "outputs": [
    {
     "name": "stdout",
     "output_type": "stream",
     "text": [
      "Created genetic map\n"
     ]
    },
    {
     "ename": "NameError",
     "evalue": "name 'init_pop' is not defined",
     "output_type": "error",
     "traceback": [
      "\u001b[0;31m---------------------------------------------------------------------------\u001b[0m",
      "\u001b[0;31mNameError\u001b[0m                                 Traceback (most recent call last)",
      "Cell \u001b[0;32mIn[3], line 23\u001b[0m\n\u001b[1;32m     16\u001b[0m target_vars \u001b[38;5;241m=\u001b[39m torch\u001b[38;5;241m.\u001b[39mtensor([\u001b[38;5;241m1\u001b[39m, \u001b[38;5;241m1\u001b[39m])  \u001b[38;5;66;03m# Note: I'm assuming you want a variance of 1 for the second trait\u001b[39;00m\n\u001b[1;32m     17\u001b[0m correlation_values \u001b[38;5;241m=\u001b[39m [\n\u001b[1;32m     18\u001b[0m         [\u001b[38;5;241m1.0\u001b[39m, \u001b[38;5;241m0.2\u001b[39m],\n\u001b[1;32m     19\u001b[0m         [\u001b[38;5;241m0.2\u001b[39m, \u001b[38;5;241m1.0\u001b[39m],\n\u001b[1;32m     20\u001b[0m     ]\n\u001b[0;32m---> 23\u001b[0m correlated_traits \u001b[38;5;241m=\u001b[39m \u001b[43mcorr_traits\u001b[49m\u001b[43m(\u001b[49m\u001b[43mg\u001b[49m\u001b[43m,\u001b[49m\u001b[43m \u001b[49m\u001b[43mtarget_means\u001b[49m\u001b[43m,\u001b[49m\u001b[43m \u001b[49m\u001b[43mtarget_vars\u001b[49m\u001b[43m,\u001b[49m\u001b[43m \u001b[49m\u001b[43mcorrelation_values\u001b[49m\u001b[43m)\u001b[49m\n",
      "File \u001b[0;32m/mnt/c/Users/cltng/OneDrive/chatgpt/chewc/trait.py:111\u001b[0m, in \u001b[0;36mcorr_traits\u001b[0;34m(genome, target_means, target_vars, correlation_matrix)\u001b[0m\n\u001b[1;32m    108\u001b[0m correlated_effects \u001b[38;5;241m=\u001b[39m correlated_effects\u001b[38;5;241m.\u001b[39mreshape(n_chr, n_loci, n_traits)\n\u001b[1;32m    110\u001b[0m \u001b[38;5;66;03m# Calculate unscaled breeding values using CORRELATED effects\u001b[39;00m\n\u001b[0;32m--> 111\u001b[0m unscaled_bvs \u001b[38;5;241m=\u001b[39m torch\u001b[38;5;241m.\u001b[39meinsum(\u001b[38;5;124m'\u001b[39m\u001b[38;5;124mijk,lij->lk\u001b[39m\u001b[38;5;124m'\u001b[39m, correlated_effects, \u001b[43minit_pop\u001b[49m)\n\u001b[1;32m    112\u001b[0m unscaled_var \u001b[38;5;241m=\u001b[39m unscaled_bvs\u001b[38;5;241m.\u001b[39mvar(dim\u001b[38;5;241m=\u001b[39m\u001b[38;5;241m0\u001b[39m)\n\u001b[1;32m    113\u001b[0m unscaled_mean \u001b[38;5;241m=\u001b[39m unscaled_bvs\u001b[38;5;241m.\u001b[39mmean(dim\u001b[38;5;241m=\u001b[39m\u001b[38;5;241m0\u001b[39m)\n",
      "\u001b[0;31mNameError\u001b[0m: name 'init_pop' is not defined"
     ]
    }
   ],
   "source": [
    "import torch\n",
    "\n",
    "ploidy = 2\n",
    "n_chr = 10\n",
    "n_loci = 100\n",
    "n_Ind = 333\n",
    "g = Genome(ploidy, n_chr, n_loci)\n",
    "population = Population()\n",
    "population.create_random_founder_population(g, n_founders=n_Ind)\n",
    "init_pop = population.get_dosages().float()  # gets allele dosage for calculating trait values\n",
    "\n",
    "# multi_traits\n",
    "\n",
    "\n",
    "target_means = torch.tensor([0, 5])\n",
    "target_vars = torch.tensor([1, 1])  # Note: I'm assuming you want a variance of 1 for the second trait\n",
    "correlation_values = [\n",
    "        [1.0, 0.2],\n",
    "        [0.2, 1.0],\n",
    "    ]\n",
    "\n",
    "\n",
    "correlated_traits = corr_traits(g, init_pop, target_means, target_vars, correlation_values)"
   ]
  },
  {
   "cell_type": "code",
   "execution_count": null,
   "metadata": {},
   "outputs": [],
   "source": []
  }
 ],
 "metadata": {
  "kernelspec": {
   "display_name": "python3",
   "language": "python",
   "name": "python3"
  }
 },
 "nbformat": 4,
 "nbformat_minor": 4
}
