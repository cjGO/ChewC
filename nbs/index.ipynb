{
 "cells": [
  {
   "cell_type": "code",
   "execution_count": 1,
   "metadata": {},
   "outputs": [],
   "source": [
    "%load_ext autoreload\n",
    "%autoreload 2"
   ]
  },
  {
   "cell_type": "code",
   "execution_count": 2,
   "metadata": {},
   "outputs": [
    {
     "name": "stdout",
     "output_type": "stream",
     "text": [
      "test\n"
     ]
    }
   ],
   "source": [
    "#| hide\n",
    "from burbankai.individual import *\n",
    "from burbankai.population import *\n",
    "import torch\n",
    "import attr"
   ]
  },
  {
   "cell_type": "markdown",
   "metadata": {},
   "source": [
    "# burbankai\n",
    "\n",
    "> Pytorch Breeding"
   ]
  },
  {
   "cell_type": "markdown",
   "metadata": {},
   "source": [
    "This file will become your README and also the index of your documentation."
   ]
  },
  {
   "cell_type": "markdown",
   "metadata": {},
   "source": [
    "## Install"
   ]
  },
  {
   "cell_type": "markdown",
   "metadata": {},
   "source": [
    "```sh\n",
    "pip install burbankai\n",
    "```"
   ]
  },
  {
   "cell_type": "markdown",
   "metadata": {},
   "source": [
    "## How to use"
   ]
  },
  {
   "cell_type": "markdown",
   "metadata": {},
   "source": [
    "Fill me in please! Don't forget code examples:"
   ]
  },
  {
   "cell_type": "code",
   "execution_count": 3,
   "metadata": {},
   "outputs": [
    {
     "name": "stdout",
     "output_type": "stream",
     "text": [
      "Individual(haplotypes=tensor([[[0, 0, 1, 1, 0, 0, 1, 0, 1, 1],\n",
      "         [0, 0, 1, 0, 0, 0, 1, 1, 1, 1],\n",
      "         [0, 0, 0, 1, 0, 1, 1, 0, 1, 0],\n",
      "         [1, 1, 1, 1, 1, 0, 0, 0, 0, 1]],\n",
      "\n",
      "        [[0, 0, 1, 0, 0, 0, 1, 0, 1, 1],\n",
      "         [0, 0, 0, 0, 0, 0, 0, 1, 0, 0],\n",
      "         [1, 0, 1, 1, 1, 1, 1, 0, 1, 1],\n",
      "         [0, 1, 1, 0, 0, 1, 1, 1, 0, 1]]]), phenotype=None, genetic_values=None, sex=None, id=None, mother_id=None, father_id=None)\n"
     ]
    },
    {
     "data": {
      "text/plain": [
       "tensor([[0, 0, 2, 1, 0, 0, 2, 0, 2, 2],\n",
       "        [0, 0, 1, 0, 0, 0, 1, 2, 1, 1],\n",
       "        [1, 0, 1, 2, 1, 2, 2, 0, 2, 1],\n",
       "        [1, 2, 2, 1, 1, 1, 1, 1, 0, 2]])"
      ]
     },
     "execution_count": 3,
     "metadata": {},
     "output_type": "execute_result"
    }
   ],
   "source": [
    "# Example usage\n",
    "ploidy = 2\n",
    "n_chromosomes = 4\n",
    "n_loci_per_chr = 10\n",
    "\n",
    "random_haplotype = torch.randint(0, 2, (ploidy, n_chromosomes, n_loci_per_chr))\n",
    "ind = Individual(haplotypes=random_haplotype)\n",
    "print(ind)\n",
    "ind.allele_dosage()"
   ]
  },
  {
   "cell_type": "code",
   "execution_count": 4,
   "metadata": {},
   "outputs": [],
   "source": [
    "Pop = Population()"
   ]
  },
  {
   "cell_type": "code",
   "execution_count": 5,
   "metadata": {},
   "outputs": [
    {
     "ename": "AssertionError",
     "evalue": "Simulation parameters must be set before calculating genetic values.",
     "output_type": "error",
     "traceback": [
      "\u001b[0;31m---------------------------------------------------------------------------\u001b[0m",
      "\u001b[0;31mAssertionError\u001b[0m                            Traceback (most recent call last)",
      "Cell \u001b[0;32mIn[5], line 1\u001b[0m\n\u001b[0;32m----> 1\u001b[0m \u001b[43mPop\u001b[49m\u001b[38;5;241;43m.\u001b[39;49m\u001b[43mgenerate_random_founders\u001b[49m\u001b[43m(\u001b[49m\u001b[38;5;241;43m100\u001b[39;49m\u001b[43m)\u001b[49m\n",
      "File \u001b[0;32m/mnt/c/Users/cltng/OneDrive/chatgpt/burbankai/population.py:34\u001b[0m, in \u001b[0;36mPopulation.generate_random_founders\u001b[0;34m(self, n_founders)\u001b[0m\n\u001b[1;32m     26\u001b[0m \u001b[38;5;28;01mdef\u001b[39;00m \u001b[38;5;21mgenerate_random_founders\u001b[39m(\u001b[38;5;28mself\u001b[39m, n_founders: \u001b[38;5;28mint\u001b[39m):\n\u001b[1;32m     27\u001b[0m \u001b[38;5;250m    \u001b[39m\u001b[38;5;124;03m\"\"\"Generates a founder population with random haplotypes.\u001b[39;00m\n\u001b[1;32m     28\u001b[0m \u001b[38;5;124;03m    --------\u001b[39;00m\n\u001b[1;32m     29\u001b[0m \u001b[38;5;124;03m    \u001b[39;00m\n\u001b[0;32m   (...)\u001b[0m\n\u001b[1;32m     32\u001b[0m \u001b[38;5;124;03m    \u001b[39;00m\n\u001b[1;32m     33\u001b[0m \u001b[38;5;124;03m    \"\"\"\u001b[39;00m\n\u001b[0;32m---> 34\u001b[0m     \u001b[38;5;28;01massert\u001b[39;00m \u001b[38;5;28mself\u001b[39m\u001b[38;5;241m.\u001b[39msim_param \u001b[38;5;129;01mis\u001b[39;00m \u001b[38;5;129;01mnot\u001b[39;00m \u001b[38;5;28;01mNone\u001b[39;00m, \u001b[38;5;124m\"\u001b[39m\u001b[38;5;124mSimulation parameters must be set before calculating genetic values.\u001b[39m\u001b[38;5;124m\"\u001b[39m\n\u001b[1;32m     35\u001b[0m     \u001b[38;5;28;01massert\u001b[39;00m n_founders \u001b[38;5;241m>\u001b[39m \u001b[38;5;241m0\u001b[39m, \u001b[38;5;124m\"\u001b[39m\u001b[38;5;124mNumber of founders must be greater than zero.\u001b[39m\u001b[38;5;124m\"\u001b[39m\n\u001b[1;32m     36\u001b[0m     \u001b[38;5;28;01mfor\u001b[39;00m i \u001b[38;5;129;01min\u001b[39;00m \u001b[38;5;28mrange\u001b[39m(n_founders):\n",
      "\u001b[0;31mAssertionError\u001b[0m: Simulation parameters must be set before calculating genetic values."
     ]
    }
   ],
   "source": [
    "Pop.generate_random_founders(100)"
   ]
  },
  {
   "cell_type": "code",
   "execution_count": null,
   "metadata": {},
   "outputs": [],
   "source": []
  }
 ],
 "metadata": {
  "kernelspec": {
   "display_name": "Python 3 (ipykernel)",
   "language": "python",
   "name": "python3"
  },
  "language_info": {
   "codemirror_mode": {
    "name": "ipython",
    "version": 3
   },
   "file_extension": ".py",
   "mimetype": "text/x-python",
   "name": "python",
   "nbconvert_exporter": "python",
   "pygments_lexer": "ipython3",
   "version": "3.11.9"
  }
 },
 "nbformat": 4,
 "nbformat_minor": 4
}
