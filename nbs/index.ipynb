{
 "cells": [
  {
   "cell_type": "code",
   "execution_count": null,
   "metadata": {},
   "outputs": [],
   "source": [
    "#| hide\n",
    "from burbankai.individual import *\n",
    "import torch"
   ]
  },
  {
   "cell_type": "markdown",
   "metadata": {},
   "source": [
    "# burbankai\n",
    "\n",
    "> Pytorch Breeding"
   ]
  },
  {
   "cell_type": "markdown",
   "metadata": {},
   "source": [
    "This file will become your README and also the index of your documentation."
   ]
  },
  {
   "cell_type": "markdown",
   "metadata": {},
   "source": [
    "## Install"
   ]
  },
  {
   "cell_type": "markdown",
   "metadata": {},
   "source": [
    "```sh\n",
    "pip install burbankai\n",
    "```"
   ]
  },
  {
   "cell_type": "markdown",
   "metadata": {},
   "source": [
    "## How to use"
   ]
  },
  {
   "cell_type": "markdown",
   "metadata": {},
   "source": [
    "Fill me in please! Don't forget code examples:"
   ]
  },
  {
   "cell_type": "code",
   "execution_count": null,
   "metadata": {},
   "outputs": [
    {
     "name": "stdout",
     "output_type": "stream",
     "text": [
      "Individual(haplotypes=tensor([[[0, 1, 0, 0, 1],\n",
      "         [0, 1, 0, 0, 0],\n",
      "         [0, 1, 1, 0, 1],\n",
      "         [1, 0, 1, 0, 0]],\n",
      "\n",
      "        [[0, 0, 0, 1, 1],\n",
      "         [1, 1, 1, 0, 0],\n",
      "         [0, 1, 1, 1, 1],\n",
      "         [1, 1, 0, 0, 0]]]), phenotype=None, genetic_values=None, sex=None, id=None, mother_id=None, father_id=None)\n"
     ]
    },
    {
     "data": {
      "text/plain": [
       "tensor([[0, 1, 0, 1, 2],\n",
       "        [1, 2, 1, 0, 0],\n",
       "        [0, 2, 2, 1, 2],\n",
       "        [2, 1, 1, 0, 0]])"
      ]
     },
     "execution_count": null,
     "metadata": {},
     "output_type": "execute_result"
    }
   ],
   "source": [
    "# Example usage\n",
    "ploidy = 2\n",
    "n_chromosomes = 4\n",
    "n_loci_per_chr = 5\n",
    "\n",
    "random_haplotype = torch.randint(0, 2, (ploidy, n_chromosomes, n_loci_per_chr))\n",
    "ind = Individual(haplotypes=random_haplotype)\n",
    "print(ind)\n",
    "ind.allele_dosage()"
   ]
  },
  {
   "cell_type": "code",
   "execution_count": null,
   "metadata": {},
   "outputs": [],
   "source": []
  },
  {
   "cell_type": "code",
   "execution_count": null,
   "metadata": {},
   "outputs": [],
   "source": []
  }
 ],
 "metadata": {
  "kernelspec": {
   "display_name": "python3",
   "language": "python",
   "name": "python3"
  }
 },
 "nbformat": 4,
 "nbformat_minor": 4
}
