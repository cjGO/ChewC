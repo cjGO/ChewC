{
 "cells": [
  {
   "cell_type": "code",
   "execution_count": null,
   "id": "e023bb8b",
   "metadata": {},
   "outputs": [],
   "source": [
    "#| default_exp individual"
   ]
  },
  {
   "cell_type": "markdown",
   "id": "372aa70d",
   "metadata": {},
   "source": [
    "## 01_Individual\n",
    "> Info about individuals within a population"
   ]
  },
  {
   "cell_type": "code",
   "execution_count": null,
   "id": "0e75e97b",
   "metadata": {},
   "outputs": [],
   "source": [
    "#| hide\n",
    "from nbdev.showdoc import *\n",
    "from fastcore.utils import patch"
   ]
  },
  {
   "cell_type": "code",
   "execution_count": null,
   "id": "04dda566",
   "metadata": {},
   "outputs": [],
   "source": [
    "#| export\n",
    "import attr\n",
    "import torch\n",
    "from fastcore.utils import patch\n",
    "\n",
    "@attr.s(auto_attribs=True)\n",
    "class Individual:\n",
    "    \"\"\"Represents an individual in a population.\"\"\"\n",
    "    haplotypes: torch.Tensor  # Shape: (ploidy, n_chromosomes, n_loci_per_chr)\n",
    "    phenotype: torch.Tensor = None\n",
    "    genetic_values: torch.Tensor = None\n",
    "    sex: str = None\n",
    "    id: int = None\n",
    "    mother_id: int = None\n",
    "    father_id: int = None"
   ]
  },
  {
   "cell_type": "code",
   "execution_count": null,
   "id": "11e03508",
   "metadata": {},
   "outputs": [],
   "source": [
    "#| export\n",
    "@patch        \n",
    "def allele_dosage(self:Individual):\n",
    "    \"\"\"Calculates the allele dosage from the haplotypes.\"\"\"\n",
    "    return self.haplotypes.sum(dim=0)  # Sum across the ploidy dimension to get gene/allele dosages"
   ]
  }
 ],
 "metadata": {
  "kernelspec": {
   "display_name": "python3",
   "language": "python",
   "name": "python3"
  }
 },
 "nbformat": 4,
 "nbformat_minor": 5
}
