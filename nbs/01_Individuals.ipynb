{
 "cells": [
  {
   "cell_type": "code",
   "execution_count": null,
   "id": "2b63349e",
   "metadata": {},
   "outputs": [],
   "source": [
    "#| default_exp individual"
   ]
  },
  {
   "cell_type": "markdown",
   "id": "ce26b12a",
   "metadata": {},
   "source": [
    "# 01_Individual\n",
    "\n",
    "> A class to hold information about an indivdiual including genotype, phenotype, and pedigree information"
   ]
  },
  {
   "cell_type": "code",
   "execution_count": null,
   "id": "23887d8a",
   "metadata": {},
   "outputs": [],
   "source": [
    "#| hide\n",
    "from nbdev.showdoc import *\n",
    "from fastcore.utils import patch\n"
   ]
  },
  {
   "cell_type": "code",
   "execution_count": null,
   "id": "c5091717",
   "metadata": {},
   "outputs": [],
   "source": [
    "#| export\n",
    "import attr\n",
    "import torch\n",
    "from fastcore.utils import patch\n",
    "\n",
    "@attr.s(auto_attribs=True)\n",
    "class Individual:\n",
    "    \"\"\"Represents an individual in a population.\"\"\"\n",
    "    haplotypes: torch.Tensor  # Shape: (ploidy, n_chromosomes, n_loci_per_chr)\n",
    "    phenotype: torch.Tensor = None\n",
    "    genetic_values: torch.Tensor = None\n",
    "    sex: str = None\n",
    "    id: int = None\n",
    "    mother_id: int = None\n",
    "    father_id: int = None"
   ]
  },
  {
   "cell_type": "code",
   "execution_count": null,
   "id": "ff27ba19",
   "metadata": {},
   "outputs": [],
   "source": [
    "#| export\n",
    "\n",
    "@patch        \n",
    "def allele_dosage(self:Individual):\n",
    "    \"\"\"Calculates the allele dosage from the haplotypes.\"\"\"\n",
    "    return self.haplotypes.sum(dim=0)  # Sum across the ploidy dimension to get gene/allele dosages"
   ]
  }
 ],
 "metadata": {
  "kernelspec": {
   "display_name": "python3",
   "language": "python",
   "name": "python3"
  }
 },
 "nbformat": 4,
 "nbformat_minor": 5
}
