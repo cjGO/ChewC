{
 "cells": [
  {
   "cell_type": "code",
   "execution_count": 1,
   "id": "3444796d",
   "metadata": {},
   "outputs": [],
   "source": [
    "#| default_exp chewc"
   ]
  },
  {
   "cell_type": "code",
   "execution_count": 2,
   "id": "f34d42d5",
   "metadata": {},
   "outputs": [],
   "source": [
    "#| export\n",
    "import numpy as np\n",
    "import matplotlib.pyplot as plt\n",
    "from fastcore.basics import patch\n",
    "import uuid\n",
    "\n",
    "class ChewC:\n",
    "    def __init___(self):\n",
    "        self.trait = None\n",
    "        self.genome = None\n",
    "        self.population = None\n",
    "\n",
    "        \n",
    "class Genome:\n",
    "    def __init__(self, n_chr, n_loci):\n",
    "        self.ploidy = 2\n",
    "        self.n_chr = n_chr\n",
    "        self.n_loci = n_loci\n",
    "        self.shape = (self.ploidy, self.n_chr, self.n_loci)\n",
    "        \n",
    "class Trait:\n",
    "    def __init__(self, genome, founder_population, target_mean, target_variance):\n",
    "        #store attributes\n",
    "        self.target_mean = target_mean\n",
    "        self.target_variance = target_variance\n",
    "        \n",
    "        #sample initial random effects\n",
    "        random_effects = np.random.randn(g.n_chr, g.n_loci)\n",
    "        #calculate the founder_population mean and var given these effects\n",
    "        founder_scores = np.array([random_effects @ x.haplotype for x in population.individuals])\n",
    "        founder_mean, founder_var = founder_scores.mean(), founder_scores.var()\n",
    "        #scale the random effects to match our target variance\n",
    "        scaling_factors = np.sqrt(self.target_variance / founder_var)\n",
    "        random_effects *= scaling_factors\n",
    "        self.effects = random_effects\n",
    "        \n",
    "        self.intercept = founder_mean - target_mean\n",
    "        \n",
    "    def __matmul__(self,other):\n",
    "        if isinstance(other,Individual):\n",
    "            return self.effects * other.haplotype + self.intercept\n",
    "        elif isinstance(other, Population):\n",
    "            return np.sum(np.array([self @ ind + self.intercept for ind in other.individuals]), axis=(1,2))\n",
    "\n",
    "        \n",
    "class Population:\n",
    "    def __init__(self, genome, size=None):\n",
    "        self.genome = genome\n",
    "        self.ploidy = 2\n",
    "        if size:\n",
    "            self.size = size\n",
    "            self.individuals = self._create_initial_population()\n",
    "        else:\n",
    "            pass\n",
    "\n",
    "    def _create_initial_population(self):\n",
    "        \"\"\"Create an initial population of founder individuals.\"\"\"\n",
    "        return [Individual(self.genome) for _ in range(self.size)]\n",
    "    \n",
    "    def get_haplo(self):\n",
    "        return np.array([x.haplotype for x in self.individuals])\n",
    "    \n",
    "    def get_pheno(self):\n",
    "        return np.array([x.fitness for x in self.individuals])\n",
    "    \n",
    "    def __getitem__(self, index):\n",
    "        # Convert numpy arrays to lists for indexing\n",
    "        if isinstance(index, np.ndarray):\n",
    "            index = index.tolist()\n",
    "        # Handle list of indices\n",
    "        if isinstance(index, list):\n",
    "            return [self.individuals[i] for i in index]\n",
    "        # Handle single index\n",
    "        return self.individuals[index]\n",
    "    \n",
    "    def __repr__(self):\n",
    "        return f'Population of size: {self.size}'\n",
    "    \n",
    "\n",
    "class Individual:\n",
    "    def __init__(self, genome,haplotype=None, mother = None, father = None, descendants = 0, source='founder', chewc=None):\n",
    "        self.genome = genome  # must be Genome class\n",
    "        self.haplotype = None\n",
    "        self.source = source  # 'founder', 'cross', 'self', 'dh'\n",
    "        self.descendents = []\n",
    "        self.fitness = 0\n",
    "        self.mother, self.father = mother, father\n",
    "\n",
    "        # Logic for setting haplotype,mother,father\n",
    "        if self.source == 'founder':\n",
    "            self.haplotype= self._generate_random_haplotype()\n",
    "        else:\n",
    "            self.haplotype = haplotype\n",
    "            \n",
    "        self.make_id()\n",
    "            \n",
    "    def __repr__(self):\n",
    "        return f'Individual with haplotype shape: {self.haplotype.shape}'\n",
    "    \n",
    "    def make_id(self):self.id = uuid.uuid4().hex\n",
    "\n",
    "\n",
    "    def _generate_random_haplotype(self):\n",
    "        \"\"\"Generate a random haplotype for the individual.\"\"\"\n",
    "        return np.random.choice([0, 1], size=(self.genome.ploidy, self.genome.n_chr, self.genome.n_loci))\n",
    "         \n",
    "\n",
    "# to do move this in another module\n",
    "@patch\n",
    "def gamete(self:Individual):\n",
    "    haplotypes = self.haplotype\n",
    "    def shuffle_chr(chromosome_pair):\n",
    "        \"\"\"\n",
    "        Perform crossover on a pair of chromosomes.\n",
    "\n",
    "        Parameters:\n",
    "        chromosome_pair (list): A list of two equal length lists representing chromosomes.\n",
    "\n",
    "        Returns:\n",
    "        list: A new chromosome formed by shuffling the given chromosome pair.\n",
    "        \"\"\"\n",
    "        # Ensure the chromosome pair contains two chromosomes of equal length\n",
    "        assert len(chromosome_pair) == 2\n",
    "        assert len(chromosome_pair[0]) == len(chromosome_pair[1])\n",
    "\n",
    "        # Number of crossover points, sampled from a Poisson distribution with λ=1.3\n",
    "        n_crossover = np.random.poisson(1.3)\n",
    "\n",
    "        # Determine crossover locations, sampled without replacement from chromosome length\n",
    "        chromosome_length = len(chromosome_pair[0])\n",
    "        crossover_locs = np.sort(np.random.choice(chromosome_length, n_crossover, replace=False))\n",
    "\n",
    "        # Initialize the new chromosome and set the current chromosome to the first one\n",
    "        new_chromosome = []\n",
    "        current_chr = 0\n",
    "\n",
    "        # Perform crossover by alternating segments between the two chromosomes\n",
    "        last_loc = 0\n",
    "        for loc in crossover_locs:\n",
    "            new_chromosome.extend(chromosome_pair[current_chr][last_loc:loc])\n",
    "            current_chr = 1 - current_chr  # Switch to the other chromosome\n",
    "            last_loc = loc\n",
    "\n",
    "        # Append the remaining segment\n",
    "        new_chromosome.extend(chromosome_pair[current_chr][last_loc:])\n",
    "        return np.array(new_chromosome)\n",
    "\n",
    "    # Initialize an empty array to store the shuffled chromosomes\n",
    "    shuffled_haplotypes = np.zeros_like(haplotypes)\n",
    "    ploidy, n_chr, n_loci = chewc.genome.shape\n",
    "    # Iterate over each chromosome and apply the shuffle_chr function\n",
    "    for i in range(haplotypes.shape[1]):  # Iterate over the chromosomes\n",
    "        chromosome_pair = haplotypes[:, i, :]  # Extract the chromosome pair (2, 77)\n",
    "        shuffled_chromosome = shuffle_chr(chromosome_pair)  # Shuffle the chromosome pair    \n",
    "        shuffled_haplotypes[:, i, :] = np.array(shuffled_chromosome).reshape(1, n_loci)  # Store the shuffled chromosome\n",
    "    return shuffled_haplotypes[0,:,:]\n",
    "\n",
    "class Trait:\n",
    "    def __init__(self, genome, founder_population, target_mean, target_variance):\n",
    "        #store attributes\n",
    "        self.target_mean = target_mean\n",
    "        self.target_variance = target_variance\n",
    "        \n",
    "        #sample initial random effects\n",
    "        initial_effects = np.random.randn(g.n_chr * g.n_loci)\n",
    "        initial_effects -= initial_effects.mean()\n",
    "        #calculate the founder_population mean and var given these effects\n",
    "        pop_scores = np.sum(founder_population.get_haplo(),axis=1).reshape(founder_population.size, g.n_chr*g.n_loci)\n",
    "        founder_scores = np.sum(initial_effects*pop_scores,axis=1)\n",
    "        founder_mean, founder_var = founder_scores.mean(), founder_scores.var()\n",
    "        scaling_factors = np.sqrt(self.target_variance / founder_var)\n",
    "        initial_effects *= scaling_factors\n",
    "        scaled_effects = initial_effects # ADDS A FIXED EFFECT SOMEHOW????\n",
    "        self.effects = scaled_effects\n",
    "        self.intercept = target_mean - founder_mean\n",
    "\n",
    "@patch\n",
    "def x(self:Individual, partner):\n",
    "    if isinstance(partner,Individual):\n",
    "        source = 'cross'\n",
    "        progeny_haplo = np.vstack((self.gamete(), partner.gamete()))\n",
    "        \n",
    "        progeny = Individual(self.genome, progeny_haplo, self.id, partner.id,source=source, chewc = chewc)\n",
    "        return progeny\n",
    "    \n",
    "@patch\n",
    "def __matmul__(self:Trait,other):\n",
    "    if isinstance(other,Individual):\n",
    "#             print(f' intercept {self.intercept}')\n",
    "        breeding_value = self.effects * np.sum(other.haplotype,axis=0).flatten()\n",
    "        return breeding_value\n",
    "    else:\n",
    "        print('ffff')\n",
    "@patch\n",
    "def phenotype(self:Individual, h2, environmental_variance):\n",
    "    \"\"\"\n",
    "    Calculate the phenotype for the individual.\n",
    "\n",
    "    Args:\n",
    "        h2 (float): Heritability of the trait.\n",
    "        environmental_variance (float): The calculated environmental variance for the population.\n",
    "    \"\"\"\n",
    "    breeding_value = chewc.trait @ self\n",
    "    phenotype_value = breeding_value + np.random.normal(0, np.sqrt(environmental_variance))\n",
    "    self.fitness = np.sum(phenotype_value)\n",
    "    \n",
    "@patch\n",
    "def trial(self:Population, h2):\n",
    "    \"\"\"\n",
    "    Simulate phenotypes for all individuals in the population.\n",
    "\n",
    "    Args:\n",
    "        h2 (float): Heritability of the trait.\n",
    "    \"\"\"\n",
    "    # 1. Calculate environmental variance at the population level\n",
    "    population_genetic_variance = np.var(chewc.population.get_pheno(), ddof=1)\n",
    "    environmental_variance = (1 - h2) / h2 * population_genetic_variance\n",
    "\n",
    "    # 2. Phenotype each individual, passing the environmental variance\n",
    "    for individual in self.individuals:\n",
    "        individual.phenotype(h2, environmental_variance) \n",
    "\n",
    "    def __getitem__(self, index):\n",
    "        return self.individuals[index]\n",
    "\n",
    "    def __repr__(self):\n",
    "        return f'Population of size: {self.size}'\n",
    "\n",
    "@patch\n",
    "def truncation(self:Population, top_percent):\n",
    "    \"\"\"\n",
    "    Returns the indexes of phenotypes in the top percent.\n",
    "\n",
    "    Args:\n",
    "        top_percent (float): The top percentage of individuals to select (0 < top_percent <= 100).\n",
    "    \"\"\"\n",
    "    # Ensure the top_percent is within the valid range\n",
    "    if top_percent <= 0 or top_percent > 100:\n",
    "        raise ValueError(\"top_percent must be between 0 and 100\")\n",
    "\n",
    "    # Calculate the number of individuals to select\n",
    "    num_to_select = int(population.size * top_percent / 100)\n",
    "\n",
    "    # Get the phenotypes of all individuals\n",
    "    phenotypes = self.get_pheno()\n",
    "    assert phenotypes.sum() != 0, 'no phenotypes present'\n",
    "#     print(phenotypes)\n",
    "\n",
    "    # Get the indices that would sort the array in descending order\n",
    "    sorted_indices = np.argsort(phenotypes)[::-1]\n",
    "\n",
    "    # Select the top individuals based on the sorted indices\n",
    "    top_indices = sorted_indices[:num_to_select]\n",
    "\n",
    "    return self[top_indices]\n",
    "\n",
    "\n",
    "#Define the Simulation Parameters\n",
    "g = Genome(3, 1000)\n",
    "population = Population(g, size=999)\n",
    "trait = Trait(g, population,5,1000)\n",
    "\n",
    "#Plug them into ChewC\n",
    "chewc = ChewC()\n",
    "chewc.trait = trait\n",
    "chewc.population = population\n",
    "chewc.genome = g"
   ]
  },
  {
   "cell_type": "code",
   "execution_count": 3,
   "id": "ff8aa8cc",
   "metadata": {},
   "outputs": [],
   "source": [
    "chewc.population.trial(1)"
   ]
  },
  {
   "cell_type": "code",
   "execution_count": 4,
   "id": "1b32e029",
   "metadata": {},
   "outputs": [
    {
     "data": {
      "text/plain": [
       "26.08365894945355"
      ]
     },
     "execution_count": 4,
     "metadata": {},
     "output_type": "execute_result"
    }
   ],
   "source": [
    "chewc.population[0].fitness"
   ]
  },
  {
   "cell_type": "code",
   "execution_count": 5,
   "id": "fc80ef41",
   "metadata": {
    "scrolled": false
   },
   "outputs": [
    {
     "data": {
      "text/plain": [
       "(array([  8.,  45., 113., 223., 267., 206.,  93.,  37.,   6.,   1.]),\n",
       " array([-93.5297071 , -72.15439126, -50.77907542, -29.40375958,\n",
       "         -8.02844374,  13.3468721 ,  34.72218794,  56.09750378,\n",
       "         77.47281962,  98.84813546, 120.2234513 ]),\n",
       " <BarContainer object of 10 artists>)"
      ]
     },
     "execution_count": 5,
     "metadata": {},
     "output_type": "execute_result"
    },
    {
     "data": {
      "image/png": "[encoded data removed]",
      "text/plain": [
       "<Figure size 640x480 with 1 Axes>"
      ]
     },
     "metadata": {},
     "output_type": "display_data"
    }
   ],
   "source": [
    "\n",
    "plt.hist(chewc.population.get_pheno())"
   ]
  },
  {
   "cell_type": "code",
   "execution_count": 6,
   "id": "d1eb3aef",
   "metadata": {},
   "outputs": [],
   "source": [
    "# %%timeit\n",
    "# chewc.population[0].gamete()"
   ]
  },
  {
   "cell_type": "code",
   "execution_count": 7,
   "id": "d16d13c0",
   "metadata": {
    "scrolled": true
   },
   "outputs": [],
   "source": [
    "# %%timeit\n",
    "# chewc.population[0].x(chewc.population[1])"
   ]
  },
  {
   "cell_type": "code",
   "execution_count": 8,
   "id": "f8d1ffc9",
   "metadata": {},
   "outputs": [],
   "source": [
    "#| hide\n",
    "import nbdev; nbdev.nbdev_export()"
   ]
  },
  {
   "cell_type": "code",
   "execution_count": 9,
   "id": "482a15c9",
   "metadata": {},
   "outputs": [],
   "source": [
    "def randomize_pairing(input_array):\n",
    "    # Convert input array to numpy array if it isn't already\n",
    "    array = np.array(input_array)\n",
    "    \n",
    "    # Shuffle the array\n",
    "    np.random.shuffle(array)\n",
    "    \n",
    "    # Pair the elements\n",
    "    n = len(array)\n",
    "    if n % 2 != 0:\n",
    "        # If the length of the array is odd, add a None to make it even\n",
    "        array = np.append(array, None)\n",
    "        n += 1\n",
    "    \n",
    "    pairs = [(array[i], array[i + 1]) for i in range(0, n, 2)]\n",
    "    \n",
    "    return pairs"
   ]
  },
  {
   "cell_type": "code",
   "execution_count": 10,
   "id": "6b4cce1a",
   "metadata": {},
   "outputs": [
    {
     "data": {
      "text/plain": [
       "[Individual with haplotype shape: (2, 3, 1000),\n",
       " Individual with haplotype shape: (2, 3, 1000)]"
      ]
     },
     "execution_count": 10,
     "metadata": {},
     "output_type": "execute_result"
    }
   ],
   "source": [
    "chewc.population[4:6]"
   ]
  },
  {
   "cell_type": "code",
   "execution_count": 11,
   "id": "7ee16a41",
   "metadata": {},
   "outputs": [],
   "source": [
    "indexes = chewc.population.truncation(1)"
   ]
  },
  {
   "cell_type": "code",
   "execution_count": 12,
   "id": "688296b9",
   "metadata": {},
   "outputs": [
    {
     "data": {
      "text/plain": [
       "[Individual with haplotype shape: (2, 3, 1000),\n",
       " Individual with haplotype shape: (2, 3, 1000),\n",
       " Individual with haplotype shape: (2, 3, 1000),\n",
       " Individual with haplotype shape: (2, 3, 1000),\n",
       " Individual with haplotype shape: (2, 3, 1000),\n",
       " Individual with haplotype shape: (2, 3, 1000),\n",
       " Individual with haplotype shape: (2, 3, 1000),\n",
       " Individual with haplotype shape: (2, 3, 1000),\n",
       " Individual with haplotype shape: (2, 3, 1000)]"
      ]
     },
     "execution_count": 12,
     "metadata": {},
     "output_type": "execute_result"
    }
   ],
   "source": [
    "indexes"
   ]
  },
  {
   "cell_type": "code",
   "execution_count": null,
   "id": "64613b23",
   "metadata": {},
   "outputs": [],
   "source": []
  }
 ],
 "metadata": {
  "kernelspec": {
   "display_name": "Python 3 (ipykernel)",
   "language": "python",
   "name": "python3"
  },
  "language_info": {
   "codemirror_mode": {
    "name": "ipython",
    "version": 3
   },
   "file_extension": ".py",
   "mimetype": "text/x-python",
   "name": "python",
   "nbconvert_exporter": "python",
   "pygments_lexer": "ipython3",
   "version": "3.11.9"
  }
 },
 "nbformat": 4,
 "nbformat_minor": 5
}
