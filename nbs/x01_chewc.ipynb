{
 "cells": [
  {
   "cell_type": "code",
   "execution_count": 1,
   "id": "3444796d",
   "metadata": {},
   "outputs": [],
   "source": [
    "#| default_exp chewc"
   ]
  },
  {
   "cell_type": "code",
   "execution_count": 2,
   "id": "f34d42d5",
   "metadata": {},
   "outputs": [],
   "source": [
    "#| export\n",
    "import numpy as np\n",
    "import matplotlib.pyplot as plt\n",
    "from fastcore.basics import patch\n",
    "import uuid\n",
    "\n",
    "class ChewC:\n",
    "    def __init___(self):\n",
    "        self.trait = None\n",
    "        self.genome = None\n",
    "        self.population = None\n",
    "\n",
    "        \n",
    "class Genome:\n",
    "    def __init__(self, n_chr, n_loci):\n",
    "        self.ploidy = 2\n",
    "        self.n_chr = n_chr\n",
    "        self.n_loci = n_loci\n",
    "        self.shape = (self.ploidy, self.n_chr, self.n_loci)\n",
    "        \n",
    "class Trait:\n",
    "    def __init__(self, genome, founder_population, target_mean, target_variance):\n",
    "        #store attributes\n",
    "        self.target_mean = target_mean\n",
    "        self.target_variance = target_variance\n",
    "        \n",
    "        #sample initial random effects\n",
    "        random_effects = np.random.randn(g.n_chr, g.n_loci)\n",
    "        #calculate the founder_population mean and var given these effects\n",
    "        founder_scores = np.array([random_effects @ x.haplotype for x in population.individuals])\n",
    "        founder_mean, founder_var = founder_scores.mean(), founder_scores.var()\n",
    "        #scale the random effects to match our target variance\n",
    "#         import pdb;pdb.set_trace()\n",
    "        scaling_factors = np.sqrt(self.target_variance / founder_var)\n",
    "        random_effects *= scaling_factors\n",
    "        self.effects = random_effects\n",
    "        \n",
    "        self.intercept = founder_mean - target_mean\n",
    "        \n",
    "    def __matmul__(self,other):\n",
    "        if isinstance(other,Individual):\n",
    "            return self.effects * other.haplotype + self.intercept\n",
    "        elif isinstance(other, Population):\n",
    "            return np.sum(np.array([self @ ind + self.intercept for ind in other.individuals]), axis=(1,2))\n",
    "\n",
    "        \n",
    "class Population:\n",
    "    def __init__(self, genome, size=None):\n",
    "        self.genome = genome\n",
    "        self.ploidy = 2\n",
    "        if size:\n",
    "            self.size = size\n",
    "            self.individuals = self._create_initial_population()\n",
    "        else:\n",
    "            pass\n",
    "\n",
    "    def _create_initial_population(self):\n",
    "        \"\"\"Create an initial population of founder individuals.\"\"\"\n",
    "        return [Individual(self.genome) for _ in range(self.size)]\n",
    "    \n",
    "    def get_haplo(self):\n",
    "        return np.array([x.haplotype for x in self.individuals])\n",
    "    \n",
    "    def get_pheno(self):\n",
    "        return np.array([x.fitness for x in self.individuals])\n",
    "    \n",
    "    def __getitem__(self, index):\n",
    "        return self.individuals[index]\n",
    "\n",
    "    def __repr__(self):\n",
    "        return f'Population of size: {self.size}'\n",
    "    \n",
    "\n",
    "class Individual:\n",
    "    def __init__(self, genome,haplotype=None, mother = None, father = None, descendants = 0, source='founder', chewc=None):\n",
    "        self.genome = genome  # must be Genome class\n",
    "        self.haplotype = None\n",
    "        self.source = source  # 'founder', 'cross', 'self', 'dh'\n",
    "        self.descendents = []\n",
    "        self.fitness = 0\n",
    "        self.mother, self.father = mother, father\n",
    "\n",
    "        # Logic for setting haplotype,mother,father\n",
    "        if self.source == 'founder':\n",
    "            self.haplotype= self._generate_random_haplotype()\n",
    "        else:\n",
    "            self.haplotype = haplotype\n",
    "            \n",
    "        self.make_id()\n",
    "            \n",
    "    def __repr__(self):\n",
    "        return f'Individual with haplotype shape: {self.haplotype.shape}'\n",
    "    \n",
    "    def make_id(self):self.id = uuid.uuid4().hex\n",
    "\n",
    "\n",
    "    def _generate_random_haplotype(self):\n",
    "        \"\"\"Generate a random haplotype for the individual.\"\"\"\n",
    "        return np.random.choice([0, 1], size=(self.genome.ploidy, self.genome.n_chr, self.genome.n_loci))\n",
    "    \n",
    "\n",
    "\n",
    "\n",
    "\n",
    "        \n",
    "import numpy as np\n",
    "import matplotlib.pyplot as plt\n",
    "from fastcore.basics import patch\n",
    "\n",
    "\n",
    "# to do move this in another module\n",
    "@patch\n",
    "def gamete(self:Individual):\n",
    "    haplotypes = self.haplotype\n",
    "    def shuffle_chr(chromosome_pair):\n",
    "        \"\"\"\n",
    "        Perform crossover on a pair of chromosomes.\n",
    "\n",
    "        Parameters:\n",
    "        chromosome_pair (list): A list of two equal length lists representing chromosomes.\n",
    "\n",
    "        Returns:\n",
    "        list: A new chromosome formed by shuffling the given chromosome pair.\n",
    "        \"\"\"\n",
    "        # Ensure the chromosome pair contains two chromosomes of equal length\n",
    "        assert len(chromosome_pair) == 2\n",
    "        assert len(chromosome_pair[0]) == len(chromosome_pair[1])\n",
    "\n",
    "        # Number of crossover points, sampled from a Poisson distribution with λ=1.3\n",
    "        n_crossover = np.random.poisson(1.3)\n",
    "\n",
    "        # Determine crossover locations, sampled without replacement from chromosome length\n",
    "        chromosome_length = len(chromosome_pair[0])\n",
    "        crossover_locs = np.sort(np.random.choice(chromosome_length, n_crossover, replace=False))\n",
    "\n",
    "        # Initialize the new chromosome and set the current chromosome to the first one\n",
    "        new_chromosome = []\n",
    "        current_chr = 0\n",
    "\n",
    "        # Perform crossover by alternating segments between the two chromosomes\n",
    "        last_loc = 0\n",
    "        for loc in crossover_locs:\n",
    "            new_chromosome.extend(chromosome_pair[current_chr][last_loc:loc])\n",
    "            current_chr = 1 - current_chr  # Switch to the other chromosome\n",
    "            last_loc = loc\n",
    "\n",
    "        # Append the remaining segment\n",
    "        new_chromosome.extend(chromosome_pair[current_chr][last_loc:])\n",
    "        return np.array(new_chromosome)\n",
    "\n",
    "\n",
    "    # Initialize an empty array to store the shuffled chromosomes\n",
    "    shuffled_haplotypes = np.zeros_like(haplotypes)\n",
    "    ploidy, n_chr, n_loci = chewc.genome.shape\n",
    "    # Iterate over each chromosome and apply the shuffle_chr function\n",
    "    for i in range(haplotypes.shape[1]):  # Iterate over the chromosomes\n",
    "        chromosome_pair = haplotypes[:, i, :]  # Extract the chromosome pair (2, 77)\n",
    "        shuffled_chromosome = shuffle_chr(chromosome_pair)  # Shuffle the chromosome pair    \n",
    "        shuffled_haplotypes[:, i, :] = np.array(shuffled_chromosome).reshape(1, n_loci)  # Store the shuffled chromosome\n",
    "    return shuffled_haplotypes[0,:,:]\n",
    "\n",
    "\n",
    "\n",
    "class Trait:\n",
    "    def __init__(self, genome, founder_population, target_mean, target_variance):\n",
    "        #store attributes\n",
    "        self.target_mean = target_mean\n",
    "        self.target_variance = target_variance\n",
    "        \n",
    "        #sample initial random effects\n",
    "        initial_effects = np.random.randn(g.n_chr * g.n_loci)\n",
    "        initial_effects -= initial_effects.mean()\n",
    "        #calculate the founder_population mean and var given these effects\n",
    "        pop_scores = np.sum(founder_population.get_haplo(),axis=1).reshape(founder_population.size, g.n_chr*g.n_loci)\n",
    "        founder_scores = np.sum(initial_effects*pop_scores,axis=1)\n",
    "        founder_mean, founder_var = founder_scores.mean(), founder_scores.var()\n",
    "        scaling_factors = np.sqrt(self.target_variance / founder_var)\n",
    "        initial_effects *= scaling_factors\n",
    "        scaled_effects = initial_effects # ADDS A FIXED EFFECT SOMEHOW????\n",
    "        self.effects = scaled_effects\n",
    "        self.intercept = target_mean - founder_mean\n",
    "\n",
    "@patch\n",
    "def x(self:Individual, partner):\n",
    "    if isinstance(partner,Individual):\n",
    "        source = 'cross'\n",
    "        progeny_haplo = np.vstack((self.gamete(), partner.gamete()))\n",
    "        \n",
    "        progeny = Individual(self.genome, progeny_haplo, self.id, partner.id,source=source, chewc = chewc)\n",
    "        return progeny\n",
    "\n",
    "\n",
    "    \n",
    "@patch\n",
    "def __matmul__(self:Trait,other):\n",
    "    if isinstance(other,Individual):\n",
    "#             print(f' intercept {self.intercept}')\n",
    "        breeding_value = self.effects * np.sum(other.haplotype,axis=0).flatten()\n",
    "        return breeding_value\n",
    "    else:\n",
    "        print('ffff')\n",
    "@patch\n",
    "def phenotype(self:Individual, h2, environmental_variance):\n",
    "    \"\"\"\n",
    "    Calculate the phenotype for the individual.\n",
    "\n",
    "    Args:\n",
    "        h2 (float): Heritability of the trait.\n",
    "        environmental_variance (float): The calculated environmental variance for the population.\n",
    "    \"\"\"\n",
    "    breeding_value = chewc.trait @ self\n",
    "    phenotype_value = breeding_value + np.random.normal(0, np.sqrt(environmental_variance))\n",
    "    self.fitness = np.sum(phenotype_value)\n",
    "    \n",
    "@patch\n",
    "def trial(self:Population, h2):\n",
    "    \"\"\"\n",
    "    Simulate phenotypes for all individuals in the population.\n",
    "\n",
    "    Args:\n",
    "        h2 (float): Heritability of the trait.\n",
    "    \"\"\"\n",
    "    # 1. Calculate environmental variance at the population level\n",
    "    population_genetic_variance = np.var(chewc.population.get_pheno(), ddof=1)\n",
    "    environmental_variance = (1 - h2) / h2 * population_genetic_variance\n",
    "\n",
    "    # 2. Phenotype each individual, passing the environmental variance\n",
    "    for individual in self.individuals:\n",
    "        individual.phenotype(h2, environmental_variance) \n",
    "\n",
    "    def __getitem__(self, index):\n",
    "        return self.individuals[index]\n",
    "\n",
    "    def __repr__(self):\n",
    "        return f'Population of size: {self.size}'\n",
    "    \n",
    "    \n",
    "#Define the Simulation Parameters\n",
    "g = Genome(3, 1000)\n",
    "population = Population(g, size=999)\n",
    "trait = Trait(g, population,5,1000)\n",
    "\n",
    "#Plug them into ChewC\n",
    "chewc = ChewC()\n",
    "chewc.trait = trait\n",
    "chewc.population = population\n",
    "chewc.genome = g"
   ]
  },
  {
   "cell_type": "code",
   "execution_count": 3,
   "id": "ff8aa8cc",
   "metadata": {},
   "outputs": [],
   "source": [
    "chewc.population.trial(1)"
   ]
  },
  {
   "cell_type": "code",
   "execution_count": 4,
   "id": "1b32e029",
   "metadata": {},
   "outputs": [
    {
     "data": {
      "text/plain": [
       "20.69101366092709"
      ]
     },
     "execution_count": 4,
     "metadata": {},
     "output_type": "execute_result"
    }
   ],
   "source": [
    "chewc.population[0].fitness"
   ]
  },
  {
   "cell_type": "code",
   "execution_count": 5,
   "id": "fc80ef41",
   "metadata": {
    "scrolled": false
   },
   "outputs": [
    {
     "data": {
      "text/plain": [
       "(array([  5.,  18.,  76., 197., 299., 222., 117.,  51.,  12.,   2.]),\n",
       " array([-106.12480249,  -83.63240128,  -61.14000006,  -38.64759885,\n",
       "         -16.15519763,    6.33720359,   28.8296048 ,   51.32200602,\n",
       "          73.81440724,   96.30680845,  118.79920967]),\n",
       " <BarContainer object of 10 artists>)"
      ]
     },
     "execution_count": 5,
     "metadata": {},
     "output_type": "execute_result"
    },
    {
     "data": {
      "image/png": "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",
      "text/plain": [
       "<Figure size 640x480 with 1 Axes>"
      ]
     },
     "metadata": {},
     "output_type": "display_data"
    }
   ],
   "source": [
    "\n",
    "plt.hist(chewc.population.get_pheno())"
   ]
  },
  {
   "cell_type": "code",
   "execution_count": 6,
   "id": "d1eb3aef",
   "metadata": {},
   "outputs": [],
   "source": [
    "# %%timeit\n",
    "# chewc.population[0].gamete()"
   ]
  },
  {
   "cell_type": "code",
   "execution_count": 7,
   "id": "d16d13c0",
   "metadata": {
    "scrolled": true
   },
   "outputs": [],
   "source": [
    "# %%timeit\n",
    "# chewc.population[0].x(chewc.population[1])"
   ]
  },
  {
   "cell_type": "code",
   "execution_count": 8,
   "id": "f8d1ffc9",
   "metadata": {},
   "outputs": [],
   "source": [
    "#| hide\n",
    "import nbdev; nbdev.nbdev_export()"
   ]
  }
 ],
 "metadata": {
  "kernelspec": {
   "display_name": "Python 3 (ipykernel)",
   "language": "python",
   "name": "python3"
  },
  "language_info": {
   "codemirror_mode": {
    "name": "ipython",
    "version": 3
   },
   "file_extension": ".py",
   "mimetype": "text/x-python",
   "name": "python",
   "nbconvert_exporter": "python",
   "pygments_lexer": "ipython3",
   "version": "3.11.9"
  }
 },
 "nbformat": 4,
 "nbformat_minor": 5
}
ert input array to numpy array if it isn't already\n",
    "    array = np.array(input_array)\n",
    "    \n",
    "    # Shuffle the array\n",
    "    np.random.shuffle(array)\n",
    "    \n",
    "    # Pair the elements\n",
    "    n = len(array)\n",
    "    if n % 2 != 0:\n",
    "        # If the length of the array is odd, add a None to make it even\n",
    "        array = np.append(array, None)\n",
    "        n += 1\n",
    "    \n",
    "    pairs = [(array[i], array[i + 1]) for i in range(0, n, 2)]\n",
    "    \n",
    "    return pairs"
   ]
  },
  {
   "cell_type": "code",
   "execution_count": 10,
   "id": "6b4cce1a",
   "metadata": {},
   "outputs": [
    {
     "data": {
      "text/plain": [
       "[Individual with haplotype shape: (2, 3, 1000),\n",
       " Individual with haplotype shape: (2, 3, 1000)]"
      ]
     },
     "execution_count": 10,
     "metadata": {},
     "output_type": "execute_result"
    }
   ],
   "source": [
    "chewc.population[4:6]"
   ]
  },
  {
   "cell_type": "code",
   "execution_count": 11,
   "id": "7ee16a41",
   "metadata": {},
   "outputs": [],
   "source": [
    "indexes = chewc.population.truncation(1)"
   ]
  },
  {
   "cell_type": "code",
   "execution_count": 12,
   "id": "688296b9",
   "metadata": {},
   "outputs": [
    {
     "data": {
      "text/plain": [
       "[Individual with haplotype shape: (2, 3, 1000),\n",
       " Individual with haplotype shape: (2, 3, 1000),\n",
       " Individual with haplotype shape: (2, 3, 1000),\n",
       " Individual with haplotype shape: (2, 3, 1000),\n",
       " Individual with haplotype shape: (2, 3, 1000),\n",
       " Individual with haplotype shape: (2, 3, 1000),\n",
       " Individual with haplotype shape: (2, 3, 1000),\n",
       " Individual with haplotype shape: (2, 3, 1000),\n",
       " Individual with haplotype shape: (2, 3, 1000)]"
      ]
     },
     "execution_count": 12,
     "metadata": {},
     "output_type": "execute_result"
    }
   ],
   "source": [
    "indexes"
   ]
  },
  {
   "cell_type": "code",
   "execution_count": null,
   "id": "64613b23",
   "metadata": {},
   "outputs": [],
   "source": []
  }
 ],
 "metadata": {
  "kernelspec": {
   "display_name": "Python 3 (ipykernel)",
   "language": "python",
   "name": "python3"
  },
  "language_info": {
   "codemirror_mode": {
    "name": "ipython",
    "version": 3
   },
   "file_extension": ".py",
   "mimetype": "text/x-python",
   "name": "python",
   "nbconvert_exporter": "python",
   "pygments_lexer": "ipython3",
   "version": "3.11.9"
  }
 },
 "nbformat": 4,
 "nbformat_minor": 5
}
