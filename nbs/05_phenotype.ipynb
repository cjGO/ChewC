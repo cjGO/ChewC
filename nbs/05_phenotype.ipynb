{
 "cells": [
  {
   "cell_type": "code",
   "execution_count": null,
   "id": "9cb7613f",
   "metadata": {},
   "outputs": [],
   "source": [
    "%load_ext autoreload\n",
    "%autoreload 2"
   ]
  },
  {
   "cell_type": "code",
   "execution_count": null,
   "id": "cabf9b15",
   "metadata": {},
   "outputs": [],
   "source": [
    "#| default_exp phenotype"
   ]
  },
  {
   "cell_type": "code",
   "execution_count": null,
   "id": "21f7a815",
   "metadata": {},
   "outputs": [],
   "source": [
    "from chewc.core import *\n",
    "from chewc.meiosis import *\n",
    "from chewc.trait import *\n",
    "\n",
    "import torch"
   ]
  },
  {
   "cell_type": "markdown",
   "id": "9962f114",
   "metadata": {},
   "source": [
    "## Phenotype\n",
    "> Individuals + Traits -> Measurements"
   ]
  },
  {
   "cell_type": "code",
   "execution_count": null,
   "id": "2d1acf73",
   "metadata": {},
   "outputs": [],
   "source": [
    "#| hide\n",
    "import nbdev; nbdev.nbdev_export()"
   ]
  }
 ],
 "metadata": {
  "kernelspec": {
   "display_name": "python3",
   "language": "python",
   "name": "python3"
  }
 },
 "nbformat": 4,
 "nbformat_minor": 5
}
