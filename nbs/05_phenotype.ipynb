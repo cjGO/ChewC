{
 "cells": [
  {
   "cell_type": "code",
   "execution_count": null,
   "id": "9cb7613f",
   "metadata": {},
   "outputs": [],
   "source": [
    "%load_ext autoreload\n",
    "%autoreload 2"
   ]
  },
  {
   "cell_type": "code",
   "execution_count": null,
   "id": "cabf9b15",
   "metadata": {},
   "outputs": [],
   "source": [
    "#| default_exp phenotype"
   ]
  },
  {
   "cell_type": "code",
   "execution_count": null,
   "id": "21f7a815",
   "metadata": {},
   "outputs": [],
   "source": [
    "from chewc.core import *\n",
    "from chewc.meiosis import *\n",
    "from chewc.trait import *\n",
    "\n",
    "import torch"
   ]
  },
  {
   "cell_type": "markdown",
   "id": "9962f114",
   "metadata": {},
   "source": [
    "## Phenotype\n",
    "> Individuals + Traits -> Measurements"
   ]
  },
  {
   "cell_type": "code",
   "execution_count": null,
   "id": "7894bc32",
   "metadata": {},
   "outputs": [],
   "source": [
    "#boilerplate example\n",
    "ploidy = 2\n",
    "number_chromosomes = 10\n",
    "loci_per_chromosome = 100\n",
    "n_founders = 50\n",
    "genetic_map = create_random_genetic_map(number_chromosomes,loci_per_chromosome)\n",
    "crop_genome = Genome(ploidy, number_chromosomes, loci_per_chromosome, genetic_map)\n",
    "founder_pop = create_random_founder_pop(crop_genome , n_founders)"
   ]
  },
  {
   "cell_type": "code",
   "execution_count": null,
   "id": "9c2973f8",
   "metadata": {},
   "outputs": [],
   "source": [
    "#add trait\n",
    "qtl_map = select_qtl_loci(20, crop_genome)\n",
    "marker_fx = generate_marker_effects(qtl_map)\n",
    "\n",
    "founder_genetic_variance = calculate_genetic_variance(founder_pop,marker_fx,crop_genome)\n",
    "scaled_marker_fx = scale_marker_effects(marker_fx, founder_genetic_variance, 0.5)\n",
    "\n",
    "ta = TraitA(qtl_map,scaled_marker_fx,crop_genome, founder_pop, 1,.5)"
   ]
  },
  {
   "cell_type": "code",
   "execution_count": null,
   "id": "401c281d",
   "metadata": {},
   "outputs": [],
   "source": [
    "founder_gv = ta.calculate_genetic_value(founder_pop).shape"
   ]
  },
  {
   "cell_type": "code",
   "execution_count": null,
   "id": "9293cd90",
   "metadata": {},
   "outputs": [],
   "source": [
    "def phenotype_round(gv, varE):\n",
    "    pass"
   ]
  },
  {
   "cell_type": "code",
   "execution_count": null,
   "id": "4512f5ce",
   "metadata": {},
   "outputs": [
    {
     "data": {
      "text/plain": [
       "<matplotlib.collections.PathCollection>"
      ]
     },
     "execution_count": null,
     "metadata": {},
     "output_type": "execute_result"
    },
    {
     "data": {
      "image/png": "[encoded data removed]",
      "text/plain": [
       "<Figure size 640x480 with 1 Axes>"
      ]
     },
     "metadata": {},
     "output_type": "display_data"
    }
   ],
   "source": [
    "import matplotlib.pyplot as plt\n",
    "plt.scatter(ta.calculate_genetic_value(founder_pop), ta.setPheno(founder_pop, varE=torch.tensor(.5)))"
   ]
  },
  {
   "cell_type": "code",
   "execution_count": null,
   "id": "2d1acf73",
   "metadata": {},
   "outputs": [],
   "source": [
    "#| hide\n",
    "import nbdev; nbdev.nbdev_export()"
   ]
  }
 ],
 "metadata": {
  "kernelspec": {
   "display_name": "python3",
   "language": "python",
   "name": "python3"
  }
 },
 "nbformat": 4,
 "nbformat_minor": 5
}
