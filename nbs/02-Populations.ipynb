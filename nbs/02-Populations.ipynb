{
 "cells": [
  {
   "cell_type": "code",
   "execution_count": null,
   "id": "dae6fdea",
   "metadata": {},
   "outputs": [],
   "source": [
    "#| default_exp population"
   ]
  },
  {
   "cell_type": "markdown",
   "id": "1343a3e6",
   "metadata": {},
   "source": [
    "## 02_Population\n",
    "\n",
    "> holds multiple individuals and their meta data"
   ]
  },
  {
   "cell_type": "code",
   "execution_count": null,
   "id": "890b2d49",
   "metadata": {},
   "outputs": [],
   "source": [
    "#| hide\n",
    "import attr\n",
    "import torch\n",
    "from burbankai.individual import *\n"
   ]
  },
  {
   "cell_type": "code",
   "execution_count": null,
   "id": "5881d5ac",
   "metadata": {},
   "outputs": [],
   "source": [
    "@attr.s(auto_attribs=True)\n",
    "class Population:\n",
    "    \"\"\"Manages a collection of individuals.\"\"\"\n",
    "    individuals: list[Individual] = attr.Factory(list)\n",
    "    sim_param: 'SimParam' = None\n",
    "\n",
    "    def __len__(self):\n",
    "        return len(self.individuals)\n",
    "    \n",
    "    def generate_random_founders(self, n_founders: int):\n",
    "        \"\"\"Generates a founder population with random haplotypes.\"\"\"\n",
    "        assert n_founders > 0, \"Number of founders must be greater than zero.\"\n",
    "        for i in range(n_founders):\n",
    "            haplotypes = torch.randint(\n",
    "                0, 2, (self.sim_param.ploidy, self.sim_param.n_chromosomes, self.sim_param.n_loci_per_chr)\n",
    "            )\n",
    "            individual = Individual(haplotypes=haplotypes, id=i + 1)\n",
    "            self.individuals.append(individual)\n",
    "\n",
    "    def set_phenotypes(self, varE: torch.Tensor):\n",
    "            \"\"\"Sets phenotypes for all individuals in the population.\"\"\"\n",
    "            n_traits = self.sim_param.n_traits\n",
    "            assert varE.size(0) == n_traits, f\"varE should have the same number of elements as traits ({n_traits})\"\n",
    "            for individual in self.individuals:\n",
    "                assert individual.phenotype is None, \"Phenotypes have already been set for this individual.\"\n",
    "                assert individual.genetic_values is None, \"Genetic values have already been set for this individual.\"\n",
    "                genetic_value = self.calculate_genetic_value(individual)\n",
    "                environmental_noise = torch.randn(n_traits) * torch.sqrt(varE)\n",
    "                individual.phenotype = genetic_value + environmental_noise\n",
    "                individual.genetic_values = genetic_value\n",
    "\n",
    "    def calculate_genetic_value(self, individual: Individual):\n",
    "            \"\"\"Calculates the genetic value for an individual for all traits.\"\"\"\n",
    "            assert self.sim_param is not None, \"Simulation parameters must be set before calculating genetic values.\"\n",
    "            total_genetic_value = torch.zeros(self.sim_param.n_traits)\n",
    "            for trait_idx, trait in enumerate(self.sim_param.traits):\n",
    "                assert trait.qtl_effects.size(1) == self.sim_param.n_chromosomes, \"Trait QTL effects should have the same number of chromosomes as the simulation parameters.\"\n",
    "                assert trait.qtl_effects.size(2) <= self.sim_param.n_loci_per_chr, \"Trait QTL effects should have the same or fewer number of loci per chromosome as the simulation parameters.\"\n",
    "                genetic_value = trait.mean\n",
    "                for chr in range(self.sim_param.n_chromosomes):\n",
    "                    for ploidy_idx in range(self.sim_param.ploidy):\n",
    "                        for qtl_idx in range(trait.n_qtl_per_chr):\n",
    "                            qtl_location = trait.qtl_locations[ploidy_idx, chr, qtl_idx]\n",
    "                            allele_dosage = individual.allele_dosage[chr, qtl_location]\n",
    "                            effect = trait.qtl_effects[ploidy_idx, chr, qtl_idx]\n",
    "                            genetic_value += allele_dosage * effect\n",
    "                total_genetic_value[trait_idx] = genetic_value # Assign the genetic value for each trait to the correct index\n",
    "            return total_genetic_value\n"
   ]
  },
  {
   "cell_type": "code",
   "execution_count": null,
   "id": "9b76e7bf",
   "metadata": {},
   "outputs": [],
   "source": []
  }
 ],
 "metadata": {
  "kernelspec": {
   "display_name": "python3",
   "language": "python",
   "name": "python3"
  }
 },
 "nbformat": 4,
 "nbformat_minor": 5
}
