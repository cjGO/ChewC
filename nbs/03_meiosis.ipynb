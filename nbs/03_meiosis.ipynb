{
 "cells": [
  {
   "cell_type": "code",
   "execution_count": null,
   "id": "0b4a7f7e",
   "metadata": {},
   "outputs": [],
   "source": [
    "%load_ext autoreload\n",
    "%autoreload 2"
   ]
  },
  {
   "cell_type": "code",
   "execution_count": null,
   "id": "81ba8c29",
   "metadata": {},
   "outputs": [],
   "source": [
    "#| default_exp meiosis"
   ]
  },
  {
   "cell_type": "code",
   "execution_count": null,
   "id": "3a4216d2",
   "metadata": {},
   "outputs": [],
   "source": [
    "from chewc.core import *\n",
    "import torch"
   ]
  },
  {
   "cell_type": "markdown",
   "id": "fa954f35",
   "metadata": {},
   "source": [
    "## meiosis\n",
    "> Simulating Meisois and Recombination for various Crossing actions"
   ]
  },
  {
   "cell_type": "code",
   "execution_count": null,
   "id": "a2de9584",
   "metadata": {},
   "outputs": [],
   "source": [
    "#| export\n",
    "from chewc.core import *\n",
    "import torch\n",
    "def gamma_interference_model(length, rate, shape):\n",
    "    \"\"\"\n",
    "    Simulate crossover events using a gamma interference model.\n",
    "    \n",
    "    Parameters:\n",
    "    length (float): Length of the chromosome.\n",
    "    rate (float): Rate of crossover events.\n",
    "    shape (float): Shape parameter for the gamma distribution.\n",
    "    \n",
    "    Returns:\n",
    "    torch.Tensor: Positions of crossover events.\n",
    "    \"\"\"\n",
    "    num_crossovers = torch.poisson(torch.tensor([rate * length]))\n",
    "    intervals = torch.distributions.gamma.Gamma(shape, rate).sample((int(num_crossovers.item()),))\n",
    "    crossover_positions = torch.cumsum(intervals, dim=0)\n",
    "    crossover_positions = crossover_positions[crossover_positions < length]\n",
    "    return crossover_positions\n",
    "\n",
    "\n",
    "import torch\n",
    "\n",
    "def simulate_meiosis(num_chromosomes, map_length, num_individuals, num_crossovers):\n",
    "    \"\"\"\n",
    "    This function simulates random crossover events across chromosomes.\n",
    "    \"\"\"\n",
    "    return [torch.sort(torch.rand((num_individuals, num_crossovers)) * map_length, dim=-1)[0] for _ in range(num_chromosomes)]\n",
    "\n",
    "def simulate_gametes(genetic_map, parent_genome):\n",
    "    \"\"\"\n",
    "    Simulate the formation of a single gamete given crossover positions, genetic map, and parent genomes.\n",
    "\n",
    "    Parameters:\n",
    "    genetic_map (list of torch.Tensor): List of positions of genetic markers on the chromosomes.\n",
    "    parent_genome (torch.Tensor): Genomes of the parents. SHAPE:  (ploidy, num_chromosomes, num_loci)\n",
    "\n",
    "    Returns:\n",
    "    torch.Tensor: The resultant single gamete. SHAPE: (ploidy//2, num_chromosomes, num_loci)\n",
    "    \"\"\"\n",
    "    ploidy, num_chromosomes, num_loci = parent_genome.shape\n",
    "    gamete_genome = torch.zeros((ploidy // 2, num_chromosomes, num_loci), dtype=parent_genome.dtype)\n",
    "    crossover_positions = simulate_meiosis(num_chromosomes, 100.0, 1, 1)\n",
    "\n",
    "    for chrom in range(num_chromosomes):\n",
    "        # Create a crossover mask for each chromosome\n",
    "        crossover_mask = torch.zeros(num_loci, dtype=torch.bool)\n",
    "        crossover_sites = crossover_positions[chrom].flatten()\n",
    "        for position in crossover_sites:\n",
    "            # Find the nearest marker index for each crossover position\n",
    "            index = torch.argmin(torch.abs(genetic_map[chrom] - position))\n",
    "            crossover_mask[index:] = ~crossover_mask[index:]  # Flip values at and after the crossover index\n",
    "\n",
    "        # Use the mask to select genes from parent 1 or parent 2\n",
    "        gamete_genome[0, chrom] = torch.where(crossover_mask, parent_genome[1, chrom], parent_genome[0, chrom])\n",
    "\n",
    "    return gamete_genome\n",
    "\n"
   ]
  },
  {
   "cell_type": "code",
   "execution_count": null,
   "id": "1ca41486",
   "metadata": {},
   "outputs": [
    {
     "data": {
      "text/plain": [
       "tensor([[[0, 0, 0, 0, 1, 1, 0, 0, 1, 0, 0, 0, 0, 1, 1, 0, 0, 1, 0, 0, 1, 1, 1,\n",
       "          1, 1, 0, 1, 1, 1, 0, 0, 0, 0, 0, 0, 1, 0, 0, 0, 1, 1, 1, 1, 1, 1, 1,\n",
       "          1, 1, 1, 1, 0, 0, 1, 1, 1, 1, 0, 0, 1, 0, 1, 1, 0, 1, 1, 1, 1, 0, 1,\n",
       "          0, 0, 0, 0, 1, 1, 1, 0, 0, 1, 1, 0, 0, 1, 0, 0, 0, 1, 0, 1, 0, 1, 1,\n",
       "          0, 0, 1, 1, 1, 0, 1, 1],\n",
       "         [1, 1, 0, 0, 0, 1, 1, 0, 0, 1, 1, 0, 1, 1, 1, 0, 0, 0, 0, 0, 1, 1, 1,\n",
       "          1, 0, 0, 1, 1, 1, 1, 0, 0, 1, 1, 0, 1, 1, 1, 1, 0, 0, 1, 0, 0, 0, 1,\n",
       "          0, 1, 1, 0, 1, 0, 0, 1, 1, 1, 0, 0, 1, 1, 1, 1, 1, 1, 0, 1, 0, 1, 1,\n",
       "          1, 1, 0, 1, 1, 1, 1, 0, 0, 0, 1, 0, 0, 0, 0, 1, 0, 1, 0, 1, 1, 1, 0,\n",
       "          0, 0, 1, 0, 0, 1, 0, 0],\n",
       "         [0, 1, 0, 0, 1, 1, 0, 0, 1, 1, 0, 1, 1, 0, 0, 1, 1, 0, 0, 0, 1, 1, 0,\n",
       "          1, 0, 0, 0, 0, 1, 0, 1, 1, 1, 0, 0, 0, 1, 0, 1, 0, 1, 1, 0, 0, 1, 0,\n",
       "          0, 0, 1, 1, 0, 0, 0, 0, 1, 0, 0, 1, 1, 0, 0, 0, 1, 0, 1, 0, 1, 0, 0,\n",
       "          1, 1, 1, 0, 1, 0, 0, 1, 1, 0, 1, 1, 1, 1, 0, 0, 0, 1, 1, 1, 1, 1, 1,\n",
       "          1, 0, 0, 0, 1, 0, 1, 1],\n",
       "         [1, 0, 0, 1, 0, 1, 0, 0, 1, 1, 1, 1, 1, 0, 1, 0, 0, 0, 1, 0, 1, 0, 1,\n",
       "          1, 0, 1, 1, 1, 1, 1, 1, 1, 0, 0, 0, 1, 1, 1, 0, 1, 0, 0, 0, 0, 0, 0,\n",
       "          1, 1, 0, 0, 1, 1, 1, 1, 0, 0, 1, 0, 0, 1, 0, 1, 0, 1, 1, 0, 0, 0, 0,\n",
       "          1, 1, 0, 0, 1, 1, 0, 1, 0, 1, 1, 1, 0, 0, 1, 0, 0, 1, 0, 0, 1, 1, 0,\n",
       "          1, 1, 0, 1, 0, 0, 0, 0],\n",
       "         [1, 1, 0, 0, 0, 0, 0, 0, 1, 1, 1, 0, 1, 0, 1, 1, 1, 0, 0, 0, 1, 1, 0,\n",
       "          0, 1, 1, 1, 1, 0, 1, 0, 0, 1, 1, 0, 1, 1, 0, 0, 0, 1, 1, 1, 1, 1, 0,\n",
       "          0, 1, 0, 1, 1, 1, 0, 0, 1, 1, 1, 1, 1, 1, 1, 0, 0, 1, 1, 0, 0, 0, 1,\n",
       "          1, 1, 1, 1, 0, 1, 1, 1, 1, 1, 0, 1, 1, 0, 0, 0, 0, 0, 0, 0, 1, 1, 0,\n",
       "          1, 1, 0, 0, 1, 1, 1, 1],\n",
       "         [0, 0, 0, 1, 0, 0, 1, 1, 0, 0, 1, 1, 1, 1, 0, 0, 0, 1, 0, 1, 0, 0, 1,\n",
       "          1, 1, 1, 0, 0, 0, 0, 1, 0, 0, 0, 1, 0, 1, 0, 1, 0, 1, 1, 0, 1, 1, 0,\n",
       "          1, 0, 0, 0, 1, 1, 1, 0, 1, 0, 0, 1, 0, 1, 0, 1, 0, 1, 1, 1, 0, 1, 1,\n",
       "          1, 0, 1, 0, 0, 1, 1, 1, 1, 1, 1, 0, 0, 1, 1, 1, 1, 1, 0, 0, 1, 1, 0,\n",
       "          1, 0, 1, 1, 0, 0, 1, 0],\n",
       "         [1, 1, 1, 0, 0, 0, 0, 1, 0, 0, 0, 1, 0, 1, 0, 0, 0, 0, 1, 1, 1, 1, 1,\n",
       "          1, 0, 0, 1, 0, 0, 1, 1, 0, 0, 1, 1, 1, 0, 0, 0, 0, 0, 1, 1, 0, 1, 1,\n",
       "          1, 0, 0, 0, 1, 0, 1, 0, 1, 1, 0, 0, 0, 1, 1, 0, 1, 0, 0, 1, 0, 1, 0,\n",
       "          0, 1, 0, 0, 0, 1, 1, 0, 0, 0, 0, 0, 1, 0, 1, 1, 0, 1, 1, 0, 0, 1, 0,\n",
       "          0, 0, 0, 0, 0, 1, 0, 1],\n",
       "         [1, 1, 0, 0, 0, 0, 0, 0, 0, 0, 1, 0, 0, 0, 1, 0, 0, 0, 1, 1, 0, 1, 0,\n",
       "          1, 0, 0, 0, 0, 0, 0, 0, 1, 0, 1, 0, 1, 1, 1, 0, 1, 1, 0, 1, 1, 1, 1,\n",
       "          0, 1, 1, 0, 0, 0, 1, 1, 0, 1, 1, 0, 0, 1, 0, 1, 1, 0, 1, 1, 0, 1, 0,\n",
       "          0, 1, 1, 0, 1, 1, 0, 1, 0, 0, 1, 0, 1, 1, 0, 0, 0, 0, 1, 0, 1, 0, 0,\n",
       "          1, 1, 1, 0, 0, 0, 1, 1],\n",
       "         [1, 1, 1, 1, 0, 0, 0, 0, 0, 1, 1, 1, 0, 1, 1, 0, 1, 1, 0, 0, 1, 0, 1,\n",
       "          0, 1, 1, 1, 1, 0, 0, 0, 1, 1, 1, 1, 0, 1, 0, 1, 1, 1, 1, 1, 1, 0, 1,\n",
       "          0, 0, 0, 1, 1, 1, 0, 0, 0, 1, 0, 1, 0, 0, 1, 0, 1, 0, 0, 0, 0, 0, 0,\n",
       "          0, 0, 1, 1, 1, 1, 1, 1, 1, 1, 0, 1, 1, 0, 0, 0, 0, 1, 0, 0, 0, 1, 0,\n",
       "          1, 1, 0, 1, 0, 0, 1, 1],\n",
       "         [1, 1, 0, 0, 0, 0, 0, 0, 0, 1, 1, 0, 1, 1, 1, 0, 0, 1, 0, 0, 0, 1, 0,\n",
       "          1, 1, 0, 1, 0, 0, 1, 0, 1, 1, 1, 1, 1, 0, 1, 0, 1, 1, 0, 1, 1, 0, 0,\n",
       "          1, 1, 0, 1, 0, 1, 1, 1, 1, 1, 1, 0, 0, 0, 0, 0, 0, 0, 0, 1, 1, 0, 1,\n",
       "          0, 1, 0, 1, 1, 0, 0, 0, 0, 0, 0, 1, 1, 1, 0, 0, 0, 1, 0, 0, 1, 1, 0,\n",
       "          1, 1, 1, 0, 1, 0, 1, 1]]])"
      ]
     },
     "execution_count": null,
     "metadata": {},
     "output_type": "execute_result"
    }
   ],
   "source": [
    "ploidy = 2\n",
    "number_chromosomes = 10\n",
    "loci_per_chromosome = 100\n",
    "n_founders = 50\n",
    "genetic_map = create_random_genetic_map(number_chromosomes,loci_per_chromosome)\n",
    "crop_genome = Genome(ploidy, number_chromosomes, loci_per_chromosome, genetic_map)\n",
    "founder_pop = create_random_founder_pop(crop_genome , n_founders)\n",
    "simulate_gametes(genetic_map, founder_pop[0])"
   ]
  },
  {
   "cell_type": "code",
   "execution_count": null,
   "id": "27be6c8d",
   "metadata": {},
   "outputs": [],
   "source": [
    "#| hide\n",
    "import nbdev; nbdev.nbdev_export()"
   ]
  }
 ],
 "metadata": {
  "kernelspec": {
   "display_name": "python3",
   "language": "python",
   "name": "python3"
  }
 },
 "nbformat": 4,
 "nbformat_minor": 5
}
