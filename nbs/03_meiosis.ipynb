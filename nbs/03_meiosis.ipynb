{
 "cells": [
  {
   "cell_type": "code",
   "execution_count": null,
   "id": "0b4a7f7e",
   "metadata": {},
   "outputs": [],
   "source": [
    "%load_ext autoreload\n",
    "%autoreload 2"
   ]
  },
  {
   "cell_type": "code",
   "execution_count": null,
   "id": "81ba8c29",
   "metadata": {},
   "outputs": [],
   "source": [
    "#| default_exp meiosis"
   ]
  },
  {
   "cell_type": "markdown",
   "id": "fa954f35",
   "metadata": {},
   "source": [
    "## meiosis\n",
    "> Simulating Meisois and Recombination for various Crossing actions"
   ]
  },
  {
   "cell_type": "code",
   "execution_count": null,
   "id": "a5d463b4",
   "metadata": {},
   "outputs": [],
   "source": [
    "#|export \n",
    "\n",
    "import torch\n",
    "from chewc.core import *\n",
    "from chewc.trait import *\n",
    "\n",
    "def poisson_crossing_over(chrom_lengths: torch.Tensor) -> list:\n",
    "    \"\"\"\n",
    "    Generate crossing over locations for each chromosome given its length.\n",
    "    \n",
    "    Args:\n",
    "    chrom_lengths (torch.Tensor): A 1D tensor containing the lengths of the chromosomes in centiMorgans.\n",
    "    \n",
    "    Returns:\n",
    "    list of tensors: A list of tensors, each containing the crossing over locations for a chromosome.\n",
    "    \"\"\"\n",
    "    crossing_over_locations = []\n",
    "    for length in chrom_lengths:\n",
    "        # Generate a random number of crossing over points for each chromosome\n",
    "        num_crossovers = torch.randint(1, 5, (1,)).item()  # Random number between 1 and 5\n",
    "        # Generate random crossing over locations within the chromosome length\n",
    "        crossovers = torch.rand(num_crossovers) * length\n",
    "        # Sort the crossing over locations\n",
    "        crossovers, _ = torch.sort(crossovers)\n",
    "        crossing_over_locations.append(crossovers)\n",
    "    \n",
    "    return crossing_over_locations"
   ]
  },
  {
   "cell_type": "markdown",
   "id": "8e650727",
   "metadata": {},
   "source": [
    "~~ Note: might want to pull out the crossing over functions into a seperate module. They can be any function which returns a tensor of floats between 0 and max length of chromosome in cM "
   ]
  },
  {
   "cell_type": "code",
   "execution_count": null,
   "id": "f142e0b7",
   "metadata": {},
   "outputs": [],
   "source": [
    "#| export\n",
    "\n",
    "def simulate_gametes(genome, parent_genomes, rate =1 , shape=1):\n",
    "    \"\"\"\n",
    "    Simulate the formation of gametes for multiple parents using vectorized operations.\n",
    "\n",
    "    Args:\n",
    "        genome (Genome): The Genome instance containing the genetic map and other parameters.\n",
    "        parent_genomes (torch.Tensor): Genomes of the parents. \n",
    "                                       Shape: (num_individuals, ploidy, num_chromosomes, num_loci)\n",
    "\n",
    "    Returns:\n",
    "        torch.Tensor: The resultant gametes. \n",
    "                      Shape: (num_individuals, ploidy//2, num_chromosomes, num_loci)\n",
    "    \"\"\"\n",
    "    device = genome.device\n",
    "    genetic_map = genome.genetic_map  # torch.Size([num_chromosomes, num_loci])\n",
    "    num_individuals, ploidy, num_chromosomes, num_loci = parent_genomes.shape\n",
    "\n",
    "    chromosome_lengths = genetic_map.max(dim=1).values\n",
    "\n",
    "    # Simulate crossover positions for all chromosomes at once\n",
    "#     all_crossovers = gamma_interference_model(chromosome_lengths, rate, shape, device)\n",
    "    all_crossovers = poisson_crossing_over(chromosome_lengths)\n",
    "    \n",
    "    \n",
    "    \n",
    "    # Initialize gametes tensor\n",
    "    gametes = torch.zeros(num_individuals, ploidy // 2, num_chromosomes, num_loci, device=device, dtype=parent_genomes.dtype)\n",
    "    \n",
    "    for chr_idx in range(num_chromosomes):\n",
    "        crossovers = all_crossovers[chr_idx]\n",
    "\n",
    "        if len(crossovers) > 0:\n",
    "            crossover_mask = torch.zeros(num_loci, device=device, dtype=torch.bool)\n",
    "            positions_idx = torch.searchsorted(genetic_map[chr_idx], crossovers)\n",
    "            crossover_mask[positions_idx] = True\n",
    "\n",
    "            parent_genome_1 = parent_genomes[:, ::2, chr_idx]\n",
    "            parent_genome_2 = parent_genomes[:, 1::2, chr_idx]\n",
    "\n",
    "            for ploid_idx in range(ploidy // 2):\n",
    "                gametes[:, ploid_idx, chr_idx] = torch.where(crossover_mask.unsqueeze(0), \n",
    "                                                             parent_genome_1[:, ploid_idx], \n",
    "                                                             parent_genome_2[:, ploid_idx])\n",
    "        else:\n",
    "            gametes[:, :, chr_idx] = parent_genomes[:, ::2, chr_idx]\n",
    "\n",
    "    return gametes\n",
    "\n",
    "# Define your Genome class or struct here if needed, ensuring it includes 'device' and 'genetic_map'"
   ]
  },
  {
   "cell_type": "code",
   "execution_count": null,
   "id": "956f65c7",
   "metadata": {},
   "outputs": [],
   "source": [
    "    #    import pdb; pdb.set_trace()  # Set the breakpoint"
   ]
  },
  {
   "cell_type": "code",
   "execution_count": null,
   "id": "bc5fbd18",
   "metadata": {},
   "outputs": [
    {
     "name": "stdout",
     "output_type": "stream",
     "text": [
      "Created genetic map\n"
     ]
    },
    {
     "ename": "NameError",
     "evalue": "name 'random_crosses' is not defined",
     "output_type": "error",
     "traceback": [
      "\u001b[0;31m---------------------------------------------------------------------------\u001b[0m",
      "\u001b[0;31mNameError\u001b[0m                                 Traceback (most recent call last)",
      "Cell \u001b[0;32mIn[6], line 23\u001b[0m\n\u001b[1;32m     16\u001b[0m correlation_values \u001b[38;5;241m=\u001b[39m [\n\u001b[1;32m     17\u001b[0m         [\u001b[38;5;241m1.0\u001b[39m, \u001b[38;5;241m0.8\u001b[39m],\n\u001b[1;32m     18\u001b[0m         [\u001b[38;5;241m0.8\u001b[39m, \u001b[38;5;241m1.0\u001b[39m],\n\u001b[1;32m     19\u001b[0m     ]\n\u001b[1;32m     22\u001b[0m correlated_traits \u001b[38;5;241m=\u001b[39m corr_traits(g, init_pop, target_means, target_vars, correlation_values)\n\u001b[0;32m---> 23\u001b[0m \u001b[43mrandom_crosses\u001b[49m(g, init_pop, \u001b[38;5;241m50\u001b[39m)\n",
      "\u001b[0;31mNameError\u001b[0m: name 'random_crosses' is not defined"
     ]
    }
   ],
   "source": [
    "import torch\n",
    "ploidy = 2\n",
    "n_chr = 10\n",
    "n_loci = 100\n",
    "n_Ind = 3330\n",
    "g = Genome(ploidy, n_chr, n_loci)\n",
    "population = Population()\n",
    "population.create_random_founder_population(g, n_founders=n_Ind)\n",
    "init_pop = population.get_dosages().float()  # gets allele dosage for calculating trait values\n",
    "\n",
    "# multi_traits\n",
    "\n",
    "\n",
    "target_means = torch.tensor([0, 5])\n",
    "target_vars = torch.tensor([1, 1])  # Note: I'm assuming you want a variance of 1 for the second trait\n",
    "correlation_values = [\n",
    "        [1.0, 0.8],\n",
    "        [0.8, 1.0],\n",
    "    ]\n",
    "\n",
    "\n",
    "correlated_traits = corr_traits(g, init_pop, target_means, target_vars, correlation_values)\n"
   ]
  },
  {
   "cell_type": "code",
   "execution_count": null,
   "id": "27be6c8d",
   "metadata": {},
   "outputs": [],
   "source": [
    "#| hide\n",
    "import nbdev; nbdev.nbdev_export()"
   ]
  }
 ],
 "metadata": {
  "kernelspec": {
   "display_name": "python3",
   "language": "python",
   "name": "python3"
  }
 },
 "nbformat": 4,
 "nbformat_minor": 5
}
