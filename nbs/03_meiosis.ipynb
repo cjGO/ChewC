{
 "cells": [
  {
   "cell_type": "raw",
   "metadata": {},
   "source": [
    "---\n",
    "{}\n",
    "\n",
    "---\n",
    "\n"
   ]
  },
  {
   "cell_type": "code",
   "execution_count": null,
   "id": "0b4a7f7e",
   "metadata": {},
   "outputs": [],
   "source": [
    "%load_ext autoreload\n",
    "%autoreload 2"
   ]
  },
  {
   "cell_type": "code",
   "execution_count": null,
   "id": "81ba8c29",
   "metadata": {},
   "outputs": [],
   "source": [
    "#| default_exp meiosis"
   ]
  },
  {
   "cell_type": "markdown",
   "id": "fa954f35",
   "metadata": {},
   "source": [
    "## meiosis\n",
    "> Simulating Meisois and Recombination for various Crossing actions"
   ]
  },
  {
   "cell_type": "markdown",
   "id": "8e650727",
   "metadata": {},
   "source": [
    "~~ Note: might want to pull out the crossing over functions into a seperate module. They can be any function which returns a tensor of floats between 0 and max length of chromosome in cM "
   ]
  },
  {
   "cell_type": "code",
   "execution_count": null,
   "id": "a0934428",
   "metadata": {},
   "outputs": [
    {
     "ename": "AttributeError",
     "evalue": "partially initialized module 'chewc.meiosis' has no attribute 'simulate_gametes' (most likely due to a circular import)",
     "output_type": "error",
     "traceback": [
      "\u001b[0;31m---------------------------------------------------------------------------\u001b[0m",
      "\u001b[0;31mAttributeError\u001b[0m                            Traceback (most recent call last)",
      "Cell \u001b[0;32mIn[3], line 5\u001b[0m\n\u001b[1;32m      3\u001b[0m \u001b[38;5;28;01mfrom\u001b[39;00m \u001b[38;5;21;01mchewc\u001b[39;00m\u001b[38;5;21;01m.\u001b[39;00m\u001b[38;5;21;01mcore\u001b[39;00m \u001b[38;5;28;01mimport\u001b[39;00m \u001b[38;5;241m*\u001b[39m\n\u001b[1;32m      4\u001b[0m \u001b[38;5;28;01mfrom\u001b[39;00m \u001b[38;5;21;01mchewc\u001b[39;00m\u001b[38;5;21;01m.\u001b[39;00m\u001b[38;5;21;01mtrait\u001b[39;00m \u001b[38;5;28;01mimport\u001b[39;00m \u001b[38;5;241m*\u001b[39m\n\u001b[0;32m----> 5\u001b[0m \u001b[38;5;28;01mfrom\u001b[39;00m \u001b[38;5;21;01mchewc\u001b[39;00m\u001b[38;5;21;01m.\u001b[39;00m\u001b[38;5;21;01mmeiosis\u001b[39;00m \u001b[38;5;28;01mimport\u001b[39;00m \u001b[38;5;241m*\u001b[39m\n\u001b[1;32m      6\u001b[0m \u001b[38;5;28;01mfrom\u001b[39;00m \u001b[38;5;21;01mtyping\u001b[39;00m \u001b[38;5;28;01mimport\u001b[39;00m Tuple, Optional, List, Union\n\u001b[1;32m      8\u001b[0m \u001b[38;5;28;01mdef\u001b[39;00m \u001b[38;5;21msimulate_gametes\u001b[39m(genome, parent_genomes, rate \u001b[38;5;241m=\u001b[39m\u001b[38;5;241m1\u001b[39m , shape\u001b[38;5;241m=\u001b[39m\u001b[38;5;241m1\u001b[39m):\n",
      "File \u001b[0;32m/mnt/c/Users/cltng/OneDrive/chatgpt/chewc/meiosis.py:10\u001b[0m\n\u001b[1;32m      8\u001b[0m \u001b[38;5;28;01mfrom\u001b[39;00m \u001b[38;5;21;01m.\u001b[39;00m\u001b[38;5;21;01mcore\u001b[39;00m \u001b[38;5;28;01mimport\u001b[39;00m \u001b[38;5;241m*\u001b[39m\n\u001b[1;32m      9\u001b[0m \u001b[38;5;28;01mfrom\u001b[39;00m \u001b[38;5;21;01m.\u001b[39;00m\u001b[38;5;21;01mtrait\u001b[39;00m \u001b[38;5;28;01mimport\u001b[39;00m \u001b[38;5;241m*\u001b[39m\n\u001b[0;32m---> 10\u001b[0m \u001b[38;5;28;01mfrom\u001b[39;00m \u001b[38;5;21;01m.\u001b[39;00m\u001b[38;5;21;01mmeiosis\u001b[39;00m \u001b[38;5;28;01mimport\u001b[39;00m \u001b[38;5;241m*\u001b[39m\n\u001b[1;32m     11\u001b[0m \u001b[38;5;28;01mfrom\u001b[39;00m \u001b[38;5;21;01mtyping\u001b[39;00m \u001b[38;5;28;01mimport\u001b[39;00m Tuple, Optional, List, Union\n\u001b[1;32m     13\u001b[0m \u001b[38;5;28;01mdef\u001b[39;00m \u001b[38;5;21msimulate_gametes\u001b[39m(genome, parent_genomes, rate \u001b[38;5;241m=\u001b[39m\u001b[38;5;241m1\u001b[39m , shape\u001b[38;5;241m=\u001b[39m\u001b[38;5;241m1\u001b[39m):\n",
      "\u001b[0;31mAttributeError\u001b[0m: partially initialized module 'chewc.meiosis' has no attribute 'simulate_gametes' (most likely due to a circular import)"
     ]
    }
   ],
   "source": [
    "#| export\n",
    "import torch\n",
    "from chewc.core import *\n",
    "from typing import Tuple, Optional, List, Union\n",
    "\n",
    "def simulate_gametes(genome, parent_genomes, rate =1 , shape=1):\n",
    "    \"\"\"\n",
    "    Simulate the formation of gametes for multiple parents using vectorized operations.\n",
    "\n",
    "    Args:\n",
    "        genome (Genome): The Genome instance containing the genetic map and other parameters.\n",
    "        parent_genomes (torch.Tensor): Genomes of the parents.\n",
    "                                       Shape: (num_individuals, ploidy, num_chromosomes, num_loci)\n",
    "\n",
    "    Returns:\n",
    "        torch.Tensor: The resultant gametes.\n",
    "                      Shape: (num_individuals, ploidy//2, num_chromosomes, num_loci)\n",
    "    \"\"\"\n",
    "    device = genome.device\n",
    "    genetic_map = genome.genetic_map  # torch.Size([num_chromosomes, num_loci])\n",
    "    num_individuals, ploidy, num_chromosomes, num_loci = parent_genomes.shape\n",
    "\n",
    "    chromosome_lengths = genetic_map.max(dim=1).values\n",
    "\n",
    "    # Simulate crossover positions for all chromosomes at once\n",
    "#     all_crossovers = gamma_interference_model(chromosome_lengths, rate, shape, device)\n",
    "    all_crossovers = poisson_crossing_over(chromosome_lengths)\n",
    "\n",
    "\n",
    "\n",
    "    # Initialize gametes tensor\n",
    "    gametes = torch.zeros(num_individuals, ploidy // 2, num_chromosomes, num_loci, device=device, dtype=parent_genomes.dtype)\n",
    "\n",
    "    for chr_idx in range(num_chromosomes):\n",
    "        crossovers = all_crossovers[chr_idx]\n",
    "\n",
    "        if len(crossovers) > 0:\n",
    "            crossover_mask = torch.zeros(num_loci, device=device, dtype=torch.bool)\n",
    "            positions_idx = torch.searchsorted(genetic_map[chr_idx], crossovers)\n",
    "            crossover_mask[positions_idx] = True\n",
    "\n",
    "            parent_genome_1 = parent_genomes[:, ::2, chr_idx]\n",
    "            parent_genome_2 = parent_genomes[:, 1::2, chr_idx]\n",
    "\n",
    "            for ploid_idx in range(ploidy // 2):\n",
    "                gametes[:, ploid_idx, chr_idx] = torch.where(crossover_mask.unsqueeze(0),\n",
    "                                                             parent_genome_1[:, ploid_idx],\n",
    "                                                             parent_genome_2[:, ploid_idx])\n",
    "        else:\n",
    "            gametes[:, :, chr_idx] = parent_genomes[:, ::2, chr_idx]\n",
    "\n",
    "    return gametes\n",
    "\n",
    "# Define your Genome class or struct here if needed, ensuring it includes 'device' and 'genetic_map'\n",
    "\n",
    "def poisson_crossing_over(chrom_lengths: torch.Tensor) -> list:\n",
    "    \"\"\"\n",
    "    Generate crossing over locations for each chromosome given its length.\n",
    "\n",
    "    Args:\n",
    "    chrom_lengths (torch.Tensor): A 1D tensor containing the lengths of the chromosomes in centiMorgans.\n",
    "\n",
    "    Returns:\n",
    "    list of tensors: A list of tensors, each containing the crossing over locations for a chromosome.\n",
    "    \"\"\"\n",
    "    # Assuming 'tensor' is your tensor and 'indices' are your indices\n",
    "    if torch.cuda.is_available():\n",
    "      device = torch.device('cuda')\n",
    "    else:\n",
    "      device = torch.device('cpu')\n",
    "    crossing_over_locations = []\n",
    "    for length in chrom_lengths:\n",
    "        # Generate a random number of crossing over points for each chromosome\n",
    "        num_crossovers = torch.randint(1, 5, (1,)).item() # Random number between 1 and 5\n",
    "        # Generate random crossing over locations within the chromosome length\n",
    "        crossovers = torch.rand(num_crossovers).to(device) * length\n",
    "        # Sort the crossing over locations\n",
    "        crossovers, _ = torch.sort(crossovers)\n",
    "        crossing_over_locations.append(crossovers)\n",
    "\n",
    "    return crossing_over_locations"
   ]
  },
  {
   "cell_type": "code",
   "execution_count": null,
   "id": "1e0bf1ae",
   "metadata": {},
   "outputs": [],
   "source": [
    "ploidy = 2\n",
    "n_chr = 5\n",
    "n_loci = 1000\n",
    "n_Ind = 333\n",
    "g = Genome(ploidy, n_chr, n_loci)\n",
    "population = Population()\n",
    "population.create_random_founder_population(g, n_founders=n_Ind)\n",
    "init_pop = population.get_genotypes().float()  # gets allele dosage for calculating trait values"
   ]
  },
  {
   "cell_type": "code",
   "execution_count": null,
   "id": "eae37f30",
   "metadata": {},
   "outputs": [],
   "source": [
    "simulate_gametes(g, population.get_genotypes()).shape"
   ]
  },
  {
   "cell_type": "code",
   "execution_count": null,
   "id": "bd57680b",
   "metadata": {},
   "outputs": [],
   "source": [
    "#| hide\n",
    "import nbdev; nbdev.nbdev_export()"
   ]
  }
 ],
 "metadata": {
  "kernelspec": {
   "display_name": "python3",
   "language": "python",
   "name": "python3"
  }
 },
 "nbformat": 4,
 "nbformat_minor": 5
}
