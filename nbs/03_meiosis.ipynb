{
 "cells": [
  {
   "cell_type": "code",
   "execution_count": null,
   "id": "0b4a7f7e",
   "metadata": {},
   "outputs": [],
   "source": [
    "%load_ext autoreload\n",
    "%autoreload 2"
   ]
  },
  {
   "cell_type": "code",
   "execution_count": null,
   "id": "81ba8c29",
   "metadata": {},
   "outputs": [],
   "source": [
    "#| default_exp meiosis"
   ]
  },
  {
   "cell_type": "code",
   "execution_count": null,
   "id": "3a4216d2",
   "metadata": {},
   "outputs": [],
   "source": [
    "from chewc.core import *\n",
    "import torch"
   ]
  },
  {
   "cell_type": "markdown",
   "id": "fa954f35",
   "metadata": {},
   "source": [
    "## meiosis\n",
    "> Simulating Meisois and Recombination for various Crossing actions"
   ]
  },
  {
   "cell_type": "code",
   "execution_count": null,
   "id": "5feadc53",
   "metadata": {},
   "outputs": [
    {
     "data": {
      "text/plain": [
       "<torch._C.Generator>"
      ]
     },
     "execution_count": null,
     "metadata": {},
     "output_type": "execute_result"
    }
   ],
   "source": [
    "import torch\n",
    "import torch.nn.functional as F\n",
    "import numpy as np\n",
    "\n",
    "\n",
    "ploidy = 2\n",
    "number_chromosomes = 2\n",
    "loci_per_chromosome = 5\n",
    "n_founders = 1\n",
    "genetic_map = create_random_genetic_map(number_chromosomes,loci_per_chromosome)\n",
    "crop_genome = Genome(ploidy, number_chromosomes, loci_per_chromosome, genetic_map)\n",
    "founder_pop = create_random_founder_pop(crop_genome , n_founders)\n",
    "\n",
    "# Parameters\n",
    "chromosome_length = 100.0  # Chromosome length (arbitrary units)\n",
    "num_intervals = 10  # Number of intervals on the chromosome\n",
    "crossover_rate = 0.1  # Rate of crossover events\n",
    "interference_strength = 5  # Strength of interference\n",
    "\n",
    "# Initialize random seed\n",
    "torch.manual_seed(42)"
   ]
  },
  {
   "cell_type": "code",
   "execution_count": null,
   "id": "a2de9584",
   "metadata": {},
   "outputs": [],
   "source": [
    "def gamma_interference_model(length, rate, shape):\n",
    "    \"\"\"\n",
    "    Simulate crossover events using a gamma interference model.\n",
    "    \n",
    "    Parameters:\n",
    "    length (float): Length of the chromosome.\n",
    "    rate (float): Rate of crossover events.\n",
    "    shape (float): Shape parameter for the gamma distribution.\n",
    "    \n",
    "    Returns:\n",
    "    torch.Tensor: Positions of crossover events.\n",
    "    \"\"\"\n",
    "    num_crossovers = torch.poisson(torch.tensor([rate * length]))\n",
    "    intervals = torch.distributions.gamma.Gamma(shape, rate).sample((int(num_crossovers.item()),))\n",
    "    crossover_positions = torch.cumsum(intervals, dim=0)\n",
    "    crossover_positions = crossover_positions[crossover_positions < length]\n",
    "    return crossover_positions\n",
    "\n",
    "\n"
   ]
  },
  {
   "cell_type": "code",
   "execution_count": null,
   "id": "82c67d88",
   "metadata": {},
   "outputs": [],
   "source": [
    "def simulate_meiosis(num_chromosomes, chromosome_length, crossover_rate, interference_strength):\n",
    "    \"\"\"\n",
    "    Simulate meiosis with crossover events and interference.\n",
    "    \n",
    "    Parameters:\n",
    "    num_chromosomes (int): Number of chromatids.\n",
    "    chromosome_length (float): Length of the chromosome.\n",
    "    crossover_rate (float): Rate of crossover events.\n",
    "    interference_strength (float): Strength of interference.\n",
    "    \n",
    "    Returns:\n",
    "    list of torch.Tensor: List of crossover positions for each chromatid.\n",
    "    \"\"\"\n",
    "    chromatid_crossovers = []\n",
    "    for _ in range(num_chromosomes):\n",
    "        crossovers = gamma_interference_model(chromosome_length, crossover_rate, interference_strength)\n",
    "        chromatid_crossovers.append(crossovers)\n",
    "    return chromatid_crossovers\n",
    "\n"
   ]
  },
  {
   "cell_type": "code",
   "execution_count": null,
   "id": "0d6f087f",
   "metadata": {},
   "outputs": [
    {
     "name": "stdout",
     "output_type": "stream",
     "text": [
      "Crossover positions: tensor([51.9171])\n",
      "Chromatid 1 crossover positions: tensor([74.9955, 93.8491])\n",
      "Chromatid 2 crossover positions: tensor([58.8939])\n"
     ]
    },
    {
     "data": {
      "image/png": "[encoded data removed]",
      "text/plain": [
       "<Figure size 1000x200 with 1 Axes>"
      ]
     },
     "metadata": {},
     "output_type": "display_data"
    }
   ],
   "source": [
    "import matplotlib.pyplot as plt\n",
    "\n",
    "def plot_crossovers(meiosis_result, chromosome_length):\n",
    "    plt.figure(figsize=(10, 2))\n",
    "    for i, crossovers in enumerate(meiosis_result):\n",
    "        plt.plot(crossovers.numpy(), [i+1] * len(crossovers), 'o', label=f'Chromatid {i+1}')\n",
    "    plt.xlim(0, chromosome_length)\n",
    "    plt.ylim(0, number_chromosomes + 1)\n",
    "    plt.xlabel(\"Position on Chromosome\")\n",
    "    plt.ylabel(\"Chromatid\")\n",
    "    plt.title(\"Crossover Events in Meiosis\")\n",
    "    plt.legend()\n",
    "    plt.show()\n",
    "    \n",
    "    \n",
    "    \n",
    "# Example usage\n",
    "# Example usage\n",
    "crossovers = gamma_interference_model(chromosome_length, crossover_rate, interference_strength)\n",
    "print(\"Crossover positions:\", crossovers)\n",
    "# Example usage\n",
    "meiosis_result = simulate_meiosis(number_chromosomes, chromosome_length, crossover_rate, interference_strength)\n",
    "for i, crossovers in enumerate(meiosis_result):\n",
    "    print(f\"Chromatid {i+1} crossover positions:\", crossovers)\n",
    "\n",
    "# Example usage\n",
    "plot_crossovers(meiosis_result, chromosome_length)"
   ]
  },
  {
   "cell_type": "code",
   "execution_count": null,
   "id": "590b2bcd",
   "metadata": {},
   "outputs": [],
   "source": []
  },
  {
   "cell_type": "code",
   "execution_count": null,
   "id": "cdb72cb8",
   "metadata": {},
   "outputs": [],
   "source": [
    "import torch\n",
    "\n",
    "def simulate_gametes(crossover_positions, genetic_map, parent_genome):\n",
    "    \"\"\"\n",
    "    Simulate the formation of gametes given crossover positions, genetic map, and parent genomes.\n",
    "\n",
    "    Parameters:\n",
    "    crossover_positions (torch.Tensor): Positions of crossover events.\n",
    "    genetic_map (torch.Tensor): Positions of genetic markers on the chromosomes.\n",
    "    parent_genome (torch.Tensor): Genomes of the parents.\n",
    "\n",
    "    Returns:\n",
    "    torch.Tensor: The resultant gametes.\n",
    "    \"\"\"\n",
    "    num_chromosomes, num_chromatids, num_markers = parent_genome.shape\n",
    "    resultant_gametes = torch.zeros_like(parent_genome)\n",
    "\n",
    "    for chrom in range(num_chromosomes):\n",
    "        for chromatid in range(num_chromatids):\n",
    "            cross_pos = crossover_positions[chrom]\n",
    "            markers = genetic_map[chrom]\n",
    "\n",
    "            # Determine the crossover intervals\n",
    "            crossover_intervals = torch.bucketize(cross_pos, markers)\n",
    "\n",
    "            # Alternate the segments between parent chromatids\n",
    "            source_chromatid = chromatid\n",
    "            for i in range(num_markers):\n",
    "                if i > 0 and i in crossover_intervals:\n",
    "                    source_chromatid = 1 - source_chromatid\n",
    "                resultant_gametes[chrom, chromatid, i] = parent_genome[chrom, source_chromatid, i]\n",
    "    \n",
    "    return resultant_gametes\n"
   ]
  },
  {
   "cell_type": "code",
   "execution_count": null,
   "id": "e9b1b86c",
   "metadata": {},
   "outputs": [
    {
     "name": "stdout",
     "output_type": "stream",
     "text": [
      "Resultant gametes: tensor([[[0, 1, 0, 1, 0],\n",
      "         [0, 1, 0, 0, 1]],\n",
      "\n",
      "        [[0, 1, 1, 0, 1],\n",
      "         [0, 0, 1, 1, 0]]])\n"
     ]
    }
   ],
   "source": [
    "\n",
    "# Example usage\n",
    "genetic_map = torch.tensor([[0.0000, 25.6614, 48.1299, 83.5037, 92.1732],\n",
    "                            [0.0000,  0.8139,  4.5424, 48.1309, 86.3118]])\n",
    "\n",
    "parent_genome = torch.tensor([[[0, 1, 0, 1, 0],\n",
    "                               [0, 1, 0, 0, 1]],\n",
    "\n",
    "                              [[0, 1, 1, 1, 0],\n",
    "                               [0, 0, 1, 0, 1]]])\n",
    "\n",
    "# Example crossover positions\n",
    "crossover_positions = [torch.tensor([10.0, 50.0]), torch.tensor([5.0, 40.0])]\n",
    "\n",
    "resultant_gametes = simulate_gametes(crossover_positions, genetic_map, parent_genome)\n",
    "print(\"Resultant gametes:\", resultant_gametes)\n"
   ]
  },
  {
   "cell_type": "code",
   "execution_count": null,
   "id": "27be6c8d",
   "metadata": {},
   "outputs": [],
   "source": [
    "#| hide\n",
    "import nbdev; nbdev.nbdev_export()"
   ]
  }
 ],
 "metadata": {
  "kernelspec": {
   "display_name": "python3",
   "language": "python",
   "name": "python3"
  }
 },
 "nbformat": 4,
 "nbformat_minor": 5
}
