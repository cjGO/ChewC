{
 "cells": [
  {
   "cell_type": "code",
   "execution_count": null,
   "id": "0b4a7f7e",
   "metadata": {},
   "outputs": [],
   "source": [
    "%load_ext autoreload\n",
    "%autoreload 2"
   ]
  },
  {
   "cell_type": "code",
   "execution_count": null,
   "id": "81ba8c29",
   "metadata": {},
   "outputs": [],
   "source": [
    "#| default_exp meiosis"
   ]
  },
  {
   "cell_type": "markdown",
   "id": "fa954f35",
   "metadata": {},
   "source": [
    "## meiosis\n",
    "> Simulating Meisois and Recombination for various Crossing actions"
   ]
  },
  {
   "cell_type": "code",
   "execution_count": null,
   "id": "a5d463b4",
   "metadata": {},
   "outputs": [],
   "source": [
    "#|export \n",
    "\n",
    "import torch\n",
    "from chewc.core import *\n",
    "from chewc.trait import *\n",
    "\n",
    "def poisson_crossing_over(chrom_lengths: torch.Tensor) -> list:\n",
    "    \"\"\"\n",
    "    Generate crossing over locations for each chromosome given its length.\n",
    "    \n",
    "    Args:\n",
    "    chrom_lengths (torch.Tensor): A 1D tensor containing the lengths of the chromosomes in centiMorgans.\n",
    "    \n",
    "    Returns:\n",
    "    list of tensors: A list of tensors, each containing the crossing over locations for a chromosome.\n",
    "    \"\"\"\n",
    "    crossing_over_locations = []\n",
    "    for length in chrom_lengths:\n",
    "        # Generate a random number of crossing over points for each chromosome\n",
    "        num_crossovers = torch.randint(1, 5, (1,)).item()  # Random number between 1 and 5\n",
    "        # Generate random crossing over locations within the chromosome length\n",
    "        crossovers = torch.rand(num_crossovers) * length\n",
    "        # Sort the crossing over locations\n",
    "        crossovers, _ = torch.sort(crossovers)\n",
    "        crossing_over_locations.append(crossovers)\n",
    "    \n",
    "    return crossing_over_locations"
   ]
  },
  {
   "cell_type": "markdown",
   "id": "8e650727",
   "metadata": {},
   "source": [
    "~~ Note: might want to pull out the crossing over functions into a seperate module. They can be any function which returns a tensor of floats between 0 and max length of chromosome in cM "
   ]
  },
  {
   "cell_type": "code",
   "execution_count": null,
   "id": "f142e0b7",
   "metadata": {},
   "outputs": [],
   "source": []
  },
  {
   "cell_type": "code",
   "execution_count": null,
   "id": "956f65c7",
   "metadata": {},
   "outputs": [],
   "source": [
    "    #    import pdb; pdb.set_trace()  # Set the breakpoint"
   ]
  },
  {
   "cell_type": "code",
   "execution_count": null,
   "id": "a0934428",
   "metadata": {},
   "outputs": [],
   "source": [
    "#| export\n",
    "\n",
    "import torch\n",
    "from typing import List\n",
    "\n",
    "from chewc.core import Genome, Individual, Population\n",
    "class Meiosis:\n",
    "    \"\"\"Class to handle meiosis and gamete formation.\"\"\"\n",
    "\n",
    "    @staticmethod\n",
    "    def simulate_gametes(parent: Individual, min_crossovers: int = 1, \n",
    "                         max_crossovers: int = 5) -> List[Individual]:\n",
    "        \"\"\"\n",
    "        Simulates gamete formation for a single parent with random crossovers.\n",
    "\n",
    "        Args:\n",
    "            parent (Individual): The parent individual.\n",
    "            min_crossovers (int): Minimum number of crossovers per chromosome. Defaults to 1.\n",
    "            max_crossovers (int): Maximum number of crossovers per chromosome. Defaults to 5.\n",
    "\n",
    "        Returns:\n",
    "            List[Individual]: A list of gametes (haploid Individuals).\n",
    "        \"\"\"\n",
    "        genome = parent.genome  # Access genome from the parent Individual\n",
    "        ploidy, n_chromosomes, n_loci = genome.shape()\n",
    "        chromosome_lengths = genome.genetic_map.max(dim=1).values\n",
    "        gametes = []\n",
    "\n",
    "        for chrom_pair in range(ploidy // 2):  # Iterate over chromosome pairs\n",
    "            haplotype = torch.zeros((1, n_chromosomes, n_loci), \n",
    "                                   device=genome.device, dtype=torch.int)\n",
    "            \n",
    "            for chr_idx in range(n_chromosomes):\n",
    "                # Sample number of crossovers for this chromosome\n",
    "                n_crossovers = torch.randint(min_crossovers, max_crossovers + 1, (1,)).item()\n",
    "\n",
    "                # Sample crossover locations within chromosome length\n",
    "                crossover_positions = torch.sort(\n",
    "                    torch.rand(n_crossovers, device=genome.device) * chromosome_lengths[chr_idx]\n",
    "                ).values\n",
    "\n",
    "                # Efficiently recombine haplotypes using masks and indexing\n",
    "                haplotype[0, chr_idx] = Meiosis._recombine_chromosome_pytorch(\n",
    "                    parent.haplotypes[2*chrom_pair, chr_idx],\n",
    "                    parent.haplotypes[2*chrom_pair + 1, chr_idx],\n",
    "                    crossover_positions,\n",
    "                    genome.genetic_map[chr_idx]\n",
    "                )\n",
    "\n",
    "            gametes.append(Individual(genome, haplotype))\n",
    "\n",
    "        return gametes\n",
    "\n",
    "    @staticmethod\n",
    "    def _recombine_chromosome_pytorch(haplotype1: torch.Tensor, \n",
    "                                        haplotype2: torch.Tensor, \n",
    "                                        crossover_positions: torch.Tensor,\n",
    "                                        genetic_map: torch.Tensor) -> torch.Tensor:\n",
    "        \"\"\"\n",
    "        Recombines two haplotypes using PyTorch operations for efficiency.\n",
    "\n",
    "        Args:\n",
    "            haplotype1 (torch.Tensor): First haplotype (n_loci).\n",
    "            haplotype2 (torch.Tensor): Second haplotype (n_loci).\n",
    "            crossover_positions (torch.Tensor): Sorted crossover positions (n_crossovers).\n",
    "            genetic_map (torch.Tensor): Genetic map of the chromosome (n_loci).\n",
    "\n",
    "        Returns:\n",
    "            torch.Tensor: Recombined haplotype (n_loci).\n",
    "        \"\"\"\n",
    "        recombined = haplotype1.clone()  \n",
    "        switch_mask = torch.zeros_like(genetic_map, dtype=torch.bool)\n",
    "\n",
    "        # Create a mask to switch between haplotypes at crossover points\n",
    "        for co_pos in crossover_positions:\n",
    "            switch_mask |= genetic_map >= co_pos \n",
    "\n",
    "        # Use the mask to select from the appropriate haplotype\n",
    "        recombined[switch_mask] = haplotype2[switch_mask]\n",
    "\n",
    "        return recombined"
   ]
  },
  {
   "cell_type": "code",
   "execution_count": null,
   "id": "1e0bf1ae",
   "metadata": {},
   "outputs": [
    {
     "name": "stdout",
     "output_type": "stream",
     "text": [
      "Created genetic map\n"
     ]
    }
   ],
   "source": [
    "ploidy = 2\n",
    "n_chr = 5\n",
    "n_loci = 1000\n",
    "n_Ind = 333\n",
    "g = Genome(ploidy, n_chr, n_loci)\n",
    "population = Population()\n",
    "population.create_random_founder_population(g, n_founders=n_Ind)\n",
    "init_pop = population.get_genotypes().float()  # gets allele dosage for calculating trait values"
   ]
  },
  {
   "cell_type": "code",
   "execution_count": null,
   "id": "eae37f30",
   "metadata": {},
   "outputs": [
    {
     "data": {
      "text/plain": [
       "[<chewc.core.Individual>]"
      ]
     },
     "execution_count": null,
     "metadata": {},
     "output_type": "execute_result"
    }
   ],
   "source": [
    "Meiosis.simulate_gametes(population.individuals[0])"
   ]
  },
  {
   "cell_type": "code",
   "execution_count": null,
   "id": "bd57680b",
   "metadata": {},
   "outputs": [],
   "source": [
    "#| hide\n",
    "import nbdev; nbdev.nbdev_export()"
   ]
  }
 ],
 "metadata": {
  "kernelspec": {
   "display_name": "python3",
   "language": "python",
   "name": "python3"
  }
 },
 "nbformat": 4,
 "nbformat_minor": 5
}
