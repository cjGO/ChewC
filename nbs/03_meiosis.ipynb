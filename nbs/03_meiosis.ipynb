{
 "cells": [
  {
   "cell_type": "code",
   "execution_count": null,
   "id": "0b4a7f7e",
   "metadata": {},
   "outputs": [],
   "source": [
    "%load_ext autoreload\n",
    "%autoreload 2"
   ]
  },
  {
   "cell_type": "code",
   "execution_count": null,
   "id": "81ba8c29",
   "metadata": {},
   "outputs": [],
   "source": [
    "#| default_exp meiosis"
   ]
  },
  {
   "cell_type": "code",
   "execution_count": null,
   "id": "3a4216d2",
   "metadata": {},
   "outputs": [],
   "source": [
    "from chewc.core import *\n",
    "import torch\n"
   ]
  },
  {
   "cell_type": "markdown",
   "id": "fa954f35",
   "metadata": {},
   "source": [
    "## meiosis\n",
    "> Simulating Meisois and Recombination for various Crossing actions"
   ]
  },
  {
   "cell_type": "code",
   "execution_count": null,
   "id": "cdfdea70",
   "metadata": {},
   "outputs": [],
   "source": [
    "#|export \n",
    "\n",
    "def gamma_interference_model(lengths, rate, shape, device):\n",
    "    \"\"\"\n",
    "    Simulate crossover events using a gamma interference model for multiple chromosomes.\n",
    "    \n",
    "    Parameters:\n",
    "    lengths (torch.Tensor): Lengths of each chromosome.\n",
    "    rate (float): Rate of crossover events.\n",
    "    shape (float): Shape parameter for the gamma distribution.\n",
    "    device (torch.device): Device to perform computations on.\n",
    "    \n",
    "    Returns:\n",
    "    List[torch.Tensor]: List of positions of crossover events for each chromosome.\n",
    "    \"\"\"\n",
    "    num_crossovers = torch.poisson(rate * lengths).int()\n",
    "    crossover_positions = []\n",
    "    \n",
    "    for i, length in enumerate(lengths):\n",
    "        intervals = torch.distributions.gamma.Gamma(shape, rate).sample((num_crossovers[i],)).to(device)\n",
    "        positions = torch.cumsum(intervals, dim=0)\n",
    "        positions = positions[positions < length]\n",
    "        crossover_positions.append(positions)\n",
    "    \n",
    "    return crossover_positions\n",
    "\n",
    "def simulate_gametes(genome: Genome, parent_genomes: torch.Tensor) -> torch.Tensor:\n",
    "    \"\"\"\n",
    "    Simulate the formation of gametes for multiple parents using vectorized operations.\n",
    "\n",
    "    Args:\n",
    "        genome (Genome): The Genome instance containing the genetic map and other parameters.\n",
    "        parent_genomes (torch.Tensor): Genomes of the parents. \n",
    "                                       Shape: (num_individuals, ploidy, num_chromosomes, num_loci)\n",
    "\n",
    "    Returns:\n",
    "        torch.Tensor: The resultant gametes. \n",
    "                      Shape: (num_individuals, ploidy//2, num_chromosomes, num_loci)\n",
    "    \"\"\"\n",
    "    device = genome.device\n",
    "    genetic_map = genome.genetic_map #  torch.Size([num_chromosomes, num_loci])\n",
    "    num_individuals, ploidy, num_chromosomes, num_loci = parent_genomes.shape\n",
    "\n",
    "    chromosome_lengths = genetic_map.max(dim=1).values\n",
    "\n",
    "    # Simulate crossover positions for all chromosomes at once\n",
    "    all_crossovers = gamma_interference_model(chromosome_lengths, 1.0, 2.0, device)\n",
    "\n",
    "    # Initialize gametes tensor\n",
    "    gametes = torch.zeros_like(parent_genomes[:, :ploidy//2])\n",
    "\n",
    "    # Apply crossovers to each chromosome\n",
    "    for chr_idx, crossovers in enumerate(all_crossovers):\n",
    "        for individual_idx in range(num_individuals):\n",
    "            for ploid_idx in range(ploidy // 2):\n",
    "                crossover_mask = torch.zeros(num_loci, device=device, dtype=torch.bool)\n",
    "                positions_idx = torch.searchsorted(genetic_map[chr_idx], crossovers)\n",
    "                crossover_mask[positions_idx] = True\n",
    "                \n",
    "                # Apply crossover mask to parent genomes to simulate gametes\n",
    "                gametes[individual_idx, ploid_idx, chr_idx] = torch.where(crossover_mask,\n",
    "                                                                         parent_genomes[individual_idx, ploid_idx * 2, chr_idx],\n",
    "                                                                         parent_genomes[individual_idx, ploid_idx * 2 + 1, chr_idx])\n",
    "    \n",
    "    return gametes\n"
   ]
  },
  {
   "cell_type": "code",
   "execution_count": null,
   "id": "308a2c90",
   "metadata": {},
   "outputs": [
    {
     "name": "stdout",
     "output_type": "stream",
     "text": [
      "Created genetic map\n"
     ]
    }
   ],
   "source": [
    "ploidy = 2\n",
    "n_chr = 10\n",
    "n_loci = 100\n",
    "n_Ind = 3000\n",
    "g = Genome(ploidy, n_chr, n_loci)\n",
    "population = Population()\n",
    "population.create_random_founder_population(g, n_founders=n_Ind)\n",
    "init_pop = population.get_genotypes().float()  # gets allele dosage for calculating trait values\n"
   ]
  },
  {
   "cell_type": "code",
   "execution_count": null,
   "id": "acfec750",
   "metadata": {},
   "outputs": [
    {
     "name": "stdout",
     "output_type": "stream",
     "text": [
      "889 ms ± 21.5 ms per loop (mean ± std. dev. of 7 runs, 1 loop each)\n"
     ]
    }
   ],
   "source": [
    "%%timeit\n",
    "simulate_gametes(g,init_pop)"
   ]
  },
  {
   "cell_type": "code",
   "execution_count": null,
   "id": "71440bee",
   "metadata": {},
   "outputs": [],
   "source": [
    "import torch\n",
    "\n",
    "def gamma_interference_model(lengths, rate, shape, device):\n",
    "    \"\"\"\n",
    "    Simulate crossover events using a gamma interference model for multiple chromosomes.\n",
    "\n",
    "    Parameters:\n",
    "    lengths (torch.Tensor): Lengths of each chromosome.\n",
    "    rate (float): Rate of crossover events.\n",
    "    shape (float): Shape parameter for the gamma distribution.\n",
    "    device (torch.device): Device to perform computations on.\n",
    "\n",
    "    Returns:\n",
    "    List[torch.Tensor]: List of positions of crossover events for each chromosome.\n",
    "    \"\"\"\n",
    "    num_crossovers = torch.poisson(rate * lengths).int()\n",
    "    crossover_positions = []\n",
    "\n",
    "    for i, length in enumerate(lengths):\n",
    "        if num_crossovers[i] > 0:\n",
    "            intervals = torch.distributions.gamma.Gamma(shape, rate).sample((num_crossovers[i],)).to(device)\n",
    "            positions = torch.cumsum(intervals, dim=0)\n",
    "            positions = positions[positions < length]\n",
    "            crossover_positions.append(positions)\n",
    "        else:\n",
    "            crossover_positions.append(torch.empty(0, device=device))\n",
    "\n",
    "    return crossover_positions\n",
    "\n",
    "def simulate_gametes(genome, parent_genomes):\n",
    "    \"\"\"\n",
    "    Simulate the formation of gametes for multiple parents using vectorized operations.\n",
    "\n",
    "    Args:\n",
    "        genome (Genome): The Genome instance containing the genetic map and other parameters.\n",
    "        parent_genomes (torch.Tensor): Genomes of the parents. \n",
    "                                       Shape: (num_individuals, ploidy, num_chromosomes, num_loci)\n",
    "\n",
    "    Returns:\n",
    "        torch.Tensor: The resultant gametes. \n",
    "                      Shape: (num_individuals, ploidy//2, num_chromosomes, num_loci)\n",
    "    \"\"\"\n",
    "    device = genome.device\n",
    "    genetic_map = genome.genetic_map  # torch.Size([num_chromosomes, num_loci])\n",
    "    num_individuals, ploidy, num_chromosomes, num_loci = parent_genomes.shape\n",
    "\n",
    "    chromosome_lengths = genetic_map.max(dim=1).values\n",
    "\n",
    "    # Simulate crossover positions for all chromosomes at once\n",
    "    all_crossovers = gamma_interference_model(chromosome_lengths, 1.0, 2.0, device)\n",
    "\n",
    "    # Initialize gametes tensor\n",
    "    gametes = torch.zeros(num_individuals, ploidy // 2, num_chromosomes, num_loci, device=device, dtype=parent_genomes.dtype)\n",
    "\n",
    "    for chr_idx in range(num_chromosomes):\n",
    "        crossovers = all_crossovers[chr_idx]\n",
    "        for individual_idx in range(num_individuals):\n",
    "            parent1 = parent_genomes[individual_idx, 0, chr_idx]\n",
    "            parent2 = parent_genomes[individual_idx, 1, chr_idx]\n",
    "            \n",
    "            if len(crossovers) > 0:\n",
    "                crossover_mask = torch.zeros(num_loci, device=device, dtype=torch.bool)\n",
    "                positions_idx = torch.searchsorted(genetic_map[chr_idx], crossovers)\n",
    "                crossover_mask[positions_idx] = True\n",
    "\n",
    "                parent_genome_1 = parent_genomes[individual_idx, ::2, chr_idx]\n",
    "                parent_genome_2 = parent_genomes[individual_idx, 1::2, chr_idx]\n",
    "\n",
    "                for ploid_idx in range(ploidy // 2):\n",
    "                    gametes[individual_idx, ploid_idx, chr_idx] = torch.where(crossover_mask,\n",
    "                                                                               parent_genome_1[ploid_idx],\n",
    "                                                                               parent_genome_2[ploid_idx])\n",
    "            else:\n",
    "                gametes[individual_idx, :, chr_idx] = parent1.unsqueeze(0).expand(ploidy // 2, -1)\n",
    "    \n",
    "    return gametes\n",
    "\n",
    "# Define your Genome class or struct here if needed, ensuring it includes 'device' and 'genetic_map'\n"
   ]
  },
  {
   "cell_type": "code",
   "execution_count": null,
   "id": "756d3994",
   "metadata": {},
   "outputs": [],
   "source": []
  },
  {
   "cell_type": "code",
   "execution_count": null,
   "id": "a317c115",
   "metadata": {},
   "outputs": [],
   "source": []
  },
  {
   "cell_type": "code",
   "execution_count": null,
   "id": "27be6c8d",
   "metadata": {},
   "outputs": [],
   "source": [
    "#| hide\n",
    "import nbdev; nbdev.nbdev_export()"
   ]
  }
 ],
 "metadata": {
  "kernelspec": {
   "display_name": "python3",
   "language": "python",
   "name": "python3"
  }
 },
 "nbformat": 4,
 "nbformat_minor": 5
}
