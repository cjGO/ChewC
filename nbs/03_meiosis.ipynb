{
 "cells": [
  {
   "cell_type": "code",
   "execution_count": null,
   "id": "0b4a7f7e",
   "metadata": {},
   "outputs": [],
   "source": [
    "%load_ext autoreload\n",
    "%autoreload 2"
   ]
  },
  {
   "cell_type": "code",
   "execution_count": null,
   "id": "81ba8c29",
   "metadata": {},
   "outputs": [],
   "source": [
    "#| default_exp meiosis"
   ]
  },
  {
   "cell_type": "code",
   "execution_count": null,
   "id": "3a4216d2",
   "metadata": {},
   "outputs": [],
   "source": [
    "from chewc.core import *\n",
    "import torch"
   ]
  },
  {
   "cell_type": "markdown",
   "id": "fa954f35",
   "metadata": {},
   "source": [
    "## meiosis\n",
    "> Simulating Meisois and Recombination for various Crossing actions"
   ]
  },
  {
   "cell_type": "code",
   "execution_count": null,
   "id": "a2de9584",
   "metadata": {},
   "outputs": [],
   "source": [
    "#| export\n",
    "from chewc.core import *\n",
    "import torch\n",
    "def gamma_interference_model(length, rate, shape):\n",
    "    \"\"\"\n",
    "    Simulate crossover events using a gamma interference model.\n",
    "    \n",
    "    Parameters:\n",
    "    length (float): Length of the chromosome.\n",
    "    rate (float): Rate of crossover events.\n",
    "    shape (float): Shape parameter for the gamma distribution.\n",
    "    \n",
    "    Returns:\n",
    "    torch.Tensor: Positions of crossover events.\n",
    "    \"\"\"\n",
    "    num_crossovers = torch.poisson(torch.tensor([rate * length]))\n",
    "    intervals = torch.distributions.gamma.Gamma(shape, rate).sample((int(num_crossovers.item()),))\n",
    "    crossover_positions = torch.cumsum(intervals, dim=0)\n",
    "    crossover_positions = crossover_positions[crossover_positions < length]\n",
    "    return crossover_positions\n",
    "\n",
    "\n",
    "def simulate_meiosis(num_chromosomes, chromosome_length, crossover_rate, interference_strength):\n",
    "    \"\"\"\n",
    "    Simulate meiosis with crossover events and interference.\n",
    "    \n",
    "    Parameters:\n",
    "    num_chromosomes (int): Number of chromatids.\n",
    "    chromosome_length (float): Length of the chromosome.\n",
    "    crossover_rate (float): Rate of crossover events.\n",
    "    interference_strength (float): Strength of interference.\n",
    "    \n",
    "    Returns:\n",
    "    list of torch.Tensor: List of crossover positions for each chromatid.\n",
    "    \"\"\"\n",
    "    chromatid_crossovers = []\n",
    "    for _ in range(num_chromosomes):\n",
    "        crossovers = gamma_interference_model(chromosome_length, crossover_rate, interference_strength)\n",
    "        chromatid_crossovers.append(crossovers)\n",
    "    return chromatid_crossovers\n",
    "\n",
    "def simulate_gametes(genetic_map, parent_genome):\n",
    "    \"\"\"\n",
    "    Simulate the formation of a single gamete given crossover positions, genetic map, and parent genomes.\n",
    "\n",
    "    Parameters:\n",
    "    crossover_positions (list of torch.Tensor): List of positions of crossover events for each chromosome.\n",
    "    genetic_map (list of torch.Tensor): List of positions of genetic markers on the chromosomes.\n",
    "    parent_genome (torch.Tensor): Genomes of the parents. SHAPE:  (ploidy, num_chromosomes, num_loci)\n",
    "\n",
    "    Returns:\n",
    "    torch.Tensor: The resultant single gamete. SHAPE: (ploidy//2, num_chromosomes, num_loci)\n",
    "    \"\"\"\n",
    "    ploidy, num_chromosomes, num_loci = parent_genome.shape\n",
    "    gamete_genome = torch.zeros((ploidy // 2, num_chromosomes, num_loci), dtype=parent_genome.dtype)\n",
    "    crossover_positions = simulate_meiosis(num_chromosomes,100.0,1,1)\n",
    "    for chrom in range(num_chromosomes):\n",
    "        parent_1 = parent_genome[0, chrom]\n",
    "        parent_2 = parent_genome[1, chrom]\n",
    "        \n",
    "        crossover_sites = crossover_positions[chrom]\n",
    "        chromatid = parent_1.clone()\n",
    "        \n",
    "        if len(crossover_sites) > 0:\n",
    "            crossover_index = 0\n",
    "            for i, marker_position in enumerate(genetic_map[chrom]):\n",
    "                if crossover_index < len(crossover_sites) and marker_position >= crossover_sites[crossover_index]:\n",
    "                    chromatid = parent_2 if chromatid is parent_1 else parent_1\n",
    "                    crossover_index += 1\n",
    "                gamete_genome[0, chrom, i] = chromatid[i]\n",
    "\n",
    "    return gamete_genome\n"
   ]
  },
  {
   "cell_type": "code",
   "execution_count": null,
   "id": "1ca41486",
   "metadata": {},
   "outputs": [],
   "source": [
    "ploidy = 2\n",
    "number_chromosomes = 10\n",
    "loci_per_chromosome = 100\n",
    "n_founders = 50\n",
    "genetic_map = create_random_genetic_map(number_chromosomes,loci_per_chromosome)\n",
    "crop_genome = Genome(ploidy, number_chromosomes, loci_per_chromosome, genetic_map)\n",
    "founder_pop = create_random_founder_pop(crop_genome , n_founders)"
   ]
  },
  {
   "cell_type": "code",
   "execution_count": null,
   "id": "cfa601d4",
   "metadata": {},
   "outputs": [
    {
     "data": {
      "text/plain": [
       "torch.Size([1, 10, 100])"
      ]
     },
     "execution_count": null,
     "metadata": {},
     "output_type": "execute_result"
    }
   ],
   "source": [
    "simulate_gametes(genetic_map, founder_pop[0]).shape"
   ]
  },
  {
   "cell_type": "code",
   "execution_count": null,
   "id": "27be6c8d",
   "metadata": {},
   "outputs": [],
   "source": [
    "#| hide\n",
    "import nbdev; nbdev.nbdev_export()"
   ]
  }
 ],
 "metadata": {
  "kernelspec": {
   "display_name": "python3",
   "language": "python",
   "name": "python3"
  }
 },
 "nbformat": 4,
 "nbformat_minor": 5
}
