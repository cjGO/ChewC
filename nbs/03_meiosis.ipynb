{
 "cells": [
  {
   "cell_type": "code",
   "execution_count": null,
   "id": "0b4a7f7e",
   "metadata": {},
   "outputs": [],
   "source": [
    "%load_ext autoreload\n",
    "%autoreload 2"
   ]
  },
  {
   "cell_type": "code",
   "execution_count": null,
   "id": "81ba8c29",
   "metadata": {},
   "outputs": [],
   "source": [
    "#| default_exp meiosis"
   ]
  },
  {
   "cell_type": "code",
   "execution_count": null,
   "id": "3a4216d2",
   "metadata": {},
   "outputs": [],
   "source": [
    "from chewc.core import *\n",
    "import torch"
   ]
  },
  {
   "cell_type": "markdown",
   "id": "fa954f35",
   "metadata": {},
   "source": [
    "## meiosis\n",
    "> Simulating Meisois and Recombination for various Crossing actions"
   ]
  },
  {
   "cell_type": "code",
   "execution_count": null,
   "id": "a2de9584",
   "metadata": {},
   "outputs": [],
   "source": [
    "\n",
    "\n",
    "def gamma_interference_model(length, rate, shape, device):\n",
    "    \"\"\"\n",
    "    Simulate crossover events using a gamma interference model.\n",
    "    \n",
    "    Parameters:\n",
    "    length (float): Length of the chromosome.\n",
    "    rate (float): Rate of crossover events.\n",
    "    shape (float): Shape parameter for the gamma distribution.\n",
    "    device (torch.device): Device to perform computations on.\n",
    "    \n",
    "    Returns:\n",
    "    torch.Tensor: Positions of crossover events.\n",
    "    \"\"\"\n",
    "    num_crossovers = torch.poisson(torch.tensor([rate * length], device=device))\n",
    "    intervals = torch.distributions.gamma.Gamma(shape, rate).sample((int(num_crossovers.item()),)).to(device)\n",
    "    crossover_positions = torch.cumsum(intervals, dim=0)\n",
    "    crossover_positions = crossover_positions[crossover_positions < length]\n",
    "    return crossover_positions\n",
    "\n",
    "\n",
    "def simulate_meiosis(num_chromosomes, map_length, num_individuals, num_crossovers, device):\n",
    "    \"\"\"\n",
    "    This function simulates random crossover events across chromosomes.\n",
    "    \n",
    "    Parameters:\n",
    "    num_chromosomes (int): Number of chromosomes.\n",
    "    map_length (float): Length of the chromosome map.\n",
    "    num_individuals (int): Number of individuals.\n",
    "    num_crossovers (int): Number of crossovers.\n",
    "    device (torch.device): Device to perform computations on.\n",
    "    \n",
    "    Returns:\n",
    "    torch.Tensor: Tensor of crossover positions for each individual and chromosome. \n",
    "                  Shape: (num_individuals, num_chromosomes, num_crossovers)\n",
    "    \"\"\"\n",
    "    return torch.sort(torch.rand((num_individuals, num_chromosomes, num_crossovers), device=device) * map_length, dim=-1)[0]\n",
    "\n",
    "\n",
    "def simulate_gametes(genetic_map, parent_genomes, device):\n",
    "    \"\"\"\n",
    "    Simulate the formation of gametes for multiple parents given crossover positions, genetic map, and parent genomes.\n",
    "\n",
    "    Parameters:\n",
    "    genetic_map (torch.Tensor): Positions of genetic markers on the chromosomes. \n",
    "                                 Shape: (num_chromosomes, num_loci)\n",
    "    parent_genomes (torch.Tensor): Genomes of the parents. \n",
    "                                    Shape: (num_individuals, ploidy, num_chromosomes, num_loci)\n",
    "    device (torch.device): Device to perform computations on.\n",
    "\n",
    "    Returns:\n",
    "    torch.Tensor: The resultant gametes. \n",
    "                  Shape: (num_individuals, ploidy//2, num_chromosomes, num_loci)\n",
    "    \"\"\"\n",
    "    num_individuals, ploidy, num_chromosomes, num_loci = parent_genomes.shape\n",
    "    gamete_genomes = torch.zeros((num_individuals, ploidy // 2, num_chromosomes, num_loci), \n",
    "                                dtype=parent_genomes.dtype, device=device)\n",
    "    \n",
    "    # Simulate crossover positions for all individuals\n",
    "    crossover_positions = simulate_meiosis(num_chromosomes, genetic_map.max(), num_individuals, 1, device)\n",
    "\n",
    "    for individual in range(num_individuals):\n",
    "        for chrom in range(num_chromosomes):\n",
    "            crossover_mask = torch.zeros(num_loci, dtype=torch.bool, device=device)\n",
    "            crossover_site = crossover_positions[individual, chrom, 0] \n",
    "\n",
    "            # Efficiently find the crossover index using vectorized operations\n",
    "            index = torch.argmin(torch.abs(genetic_map[chrom] - crossover_site))\n",
    "            crossover_mask[index:] = ~crossover_mask[index:]\n",
    "\n",
    "            gamete_genomes[individual, 0, chrom] = torch.where(crossover_mask, \n",
    "                                                            parent_genomes[individual, 1, chrom], \n",
    "                                                            parent_genomes[individual, 0, chrom])\n",
    "\n",
    "    return gamete_genomes"
   ]
  },
  {
   "cell_type": "code",
   "execution_count": null,
   "id": "27be6c8d",
   "metadata": {},
   "outputs": [],
   "source": [
    "#| hide\n",
    "import nbdev; nbdev.nbdev_export()"
   ]
  }
 ],
 "metadata": {
  "kernelspec": {
   "display_name": "python3",
   "language": "python",
   "name": "python3"
  }
 },
 "nbformat": 4,
 "nbformat_minor": 5
}
