{
 "cells": [
  {
   "cell_type": "code",
   "execution_count": null,
   "id": "c4f3650c",
   "metadata": {},
   "outputs": [],
   "source": [
    "%load_ext autoreload\n",
    "%autoreload 2"
   ]
  },
  {
   "cell_type": "code",
   "execution_count": null,
   "id": "a8bce62f",
   "metadata": {},
   "outputs": [],
   "source": [
    "#| default_exp core"
   ]
  },
  {
   "cell_type": "markdown",
   "id": "3ac74626",
   "metadata": {},
   "source": [
    "## Core\n",
    "\n",
    "> Contains the foundational Data Structures of the breeding program: Genome, Individual, Population"
   ]
  },
  {
   "cell_type": "code",
   "execution_count": null,
   "id": "f9ff63af",
   "metadata": {},
   "outputs": [],
   "source": [
    "#| hide\n",
    "from nbdev.showdoc import *"
   ]
  },
  {
   "cell_type": "code",
   "execution_count": null,
   "id": "309047f6",
   "metadata": {},
   "outputs": [],
   "source": [
    "#| export\n",
    "\n",
    "\n",
    "import torch\n",
    "from typing import List, Tuple, Union, Callable, Optional\n",
    "import torch\n",
    "import matplotlib.pyplot as plt"
   ]
  },
  {
   "cell_type": "markdown",
   "id": "8ebaa8a6",
   "metadata": {},
   "source": [
    "#### Genome will contain the definition of the SNP chip used by the breeding program to get DNA fingerprints and define the genetic architecture of our traits of interest."
   ]
  },
  {
   "cell_type": "code",
   "execution_count": null,
   "id": "454db12a",
   "metadata": {},
   "outputs": [],
   "source": [
    "#| export\n",
    "\n",
    "\n",
    "class Genome:\n",
    "    \"\"\"\n",
    "    Represents the genomic architecture for the simulation.\n",
    "\n",
    "    Args:\n",
    "        ploidy (int): Ploidy level. Defaults to 2.\n",
    "        n_chromosomes (int): Number of chromosomes. Defaults to 10.\n",
    "        n_loci_per_chromosome (int): Number of loci per chromosome. Defaults to 5.\n",
    "        map_type (str, optional): Type of genetic map ('uniform' or 'random'). Defaults to 'random'.\n",
    "        chromosome_length (float): Genetic length of each chromosome in cM. Defaults to 100.0.\n",
    "    \"\"\"\n",
    "\n",
    "    def __init__(self, ploidy: int = 2, n_chromosomes: int = 10, n_loci_per_chromosome: int = 5, \n",
    "                 map_type: Optional[str] = 'random', chromosome_length: float = 100.0):\n",
    "\n",
    "        assert n_chromosomes > 0, \"Number of chromosomes must be greater than 0\"\n",
    "        assert n_loci_per_chromosome > 0, \"Loci per chromosome must be greater than 0\"\n",
    "\n",
    "        self.ploidy = ploidy\n",
    "        self.n_chromosomes = n_chromosomes\n",
    "        self.n_loci_per_chromosome = n_loci_per_chromosome\n",
    "        self.map_type = map_type\n",
    "        self.chromosome_length = chromosome_length\n",
    "\n",
    "        self.device = torch.device('cuda' if torch.cuda.is_available() else 'cpu')\n",
    "        self.create_genetic_map() \n",
    "        \n",
    "        \n",
    "    def shape(self) -> Tuple[int, int, int]:\n",
    "        \"\"\"Returns the shape of the genome (ploidy, chromosomes, loci).\"\"\"\n",
    "        return self.ploidy, self.n_chromosomes, self.n_loci_per_chromosome\n",
    "\n",
    "    def create_genetic_map(self):\n",
    "        \"\"\"Creates the genetic map based on the specified `map_type`.\"\"\"\n",
    "        if self.map_type == 'uniform':\n",
    "            self.genetic_map = torch.arange(0, self.chromosome_length, self.chromosome_length / self.n_loci_per_chromosome, \n",
    "                                            device=self.device).repeat(self.n_chromosomes, 1)\n",
    "        elif self.map_type == 'random':\n",
    "            self.genetic_map = torch.zeros((self.n_chromosomes, self.n_loci_per_chromosome), device=self.device)\n",
    "            for chr_idx in range(self.n_chromosomes):\n",
    "                random_positions = torch.sort(torch.rand(self.n_loci_per_chromosome - 1, device=self.device) * self.chromosome_length).values\n",
    "                self.genetic_map[chr_idx, 1:] = random_positions\n",
    "        else:\n",
    "            self.genetic_map = None\n",
    "        \n",
    "        if self.genetic_map is not None:\n",
    "            print('Created genetic map')\n",
    "\n",
    "    def to(self, device: torch.device):\n",
    "        \"\"\"Moves the genetic map to the specified device.\"\"\"\n",
    "        if self.genetic_map is not None:\n",
    "            self.genetic_map = self.genetic_map.to(device)\n",
    "            self.device = device\n",
    "        return self\n",
    "\n",
    "class Individual:\n",
    "    \"\"\"\n",
    "    Represents an individual in the breeding simulation.\n",
    "\n",
    "    Args:\n",
    "        genome (Genome): Reference to the shared Genome object.\n",
    "        haplotypes (torch.Tensor): Tensor representing the individual's haplotypes.\n",
    "                                    Shape: (ploidy, n_chromosomes, n_loci_per_chromosome).\n",
    "        id (Optional[str]): Unique identifier. Defaults to None.\n",
    "        mother_id (Optional[str]): Mother's identifier. Defaults to None.\n",
    "        father_id (Optional[str]): Father's identifier. Defaults to None.\n",
    "        breeding_values (Optional[torch.Tensor]): Breeding values for traits. \n",
    "                                                   Shape: (n_traits,). Defaults to None.\n",
    "        phenotypes (Optional[torch.Tensor]): Phenotype for traits. Shape: (n_traits,). Defaults to None.\n",
    "    \"\"\"\n",
    "\n",
    "    def __init__(self, \n",
    "                 genome: 'Genome', \n",
    "                 haplotypes: torch.Tensor, \n",
    "                 id: Optional[str] = None, \n",
    "                 mother_id: Optional[str] = None, \n",
    "                 father_id: Optional[str] = None, \n",
    "                 breeding_values: Optional[torch.Tensor] = None, \n",
    "                 phenotypes: Optional[torch.Tensor] = None):\n",
    "\n",
    "        self.genome = genome\n",
    "        self.haplotypes = haplotypes.to(self.genome.device)\n",
    "        self.id = id\n",
    "        self.mother_id = mother_id\n",
    "        self.father_id = father_id\n",
    "        self.breeding_values = breeding_values\n",
    "        self.phenotypes = phenotypes\n",
    "\n",
    "    @classmethod\n",
    "    def create_random_individual(cls, genome: 'Genome', id: Optional[str] = None) -> 'Individual':\n",
    "        \"\"\"\n",
    "        Creates a random individual with the specified genome.\n",
    "\n",
    "        Args:\n",
    "            genome (Genome): The genome object.\n",
    "            id (Optional[str]): Unique identifier for the individual.\n",
    "\n",
    "        Returns:\n",
    "            Individual: A new Individual object with random haplotypes.\n",
    "        \"\"\"\n",
    "        haplotypes = torch.randint(0, 2, genome.shape(), device=genome.device)\n",
    "        return cls(genome=genome, haplotypes=haplotypes, id=id)\n",
    "\n",
    "\n",
    "class Population:\n",
    "    \"\"\"\n",
    "    Represents a population of individuals.\n",
    "\n",
    "    Args:\n",
    "        individuals (List[Individual], optional): List of Individual objects in the population. Defaults to None.\n",
    "        id (Optional[str]): Unique identifier for the population. Defaults to None.\n",
    "    \"\"\"\n",
    "\n",
    "    def __init__(self, individuals: Optional[List[Individual]] = None, id: Optional[str] = None):\n",
    "        self.individuals = individuals if individuals is not None else []\n",
    "        self.id = id\n",
    "\n",
    "    def create_random_founder_population(self, genome: 'Genome', n_founders: int):\n",
    "        \"\"\"\n",
    "        Creates a founder population with random haplotypes.\n",
    "\n",
    "        Args:\n",
    "            genome (Genome): The genome object.\n",
    "            n_founders (int): The number of founder individuals to create.\n",
    "        \"\"\"\n",
    "        self.individuals = [Individual.create_random_individual(genome, id=str(i)) \n",
    "                            for i in range(n_founders)]\n",
    "\n",
    "    def size(self) -> int:\n",
    "        \"\"\"Returns the number of individuals in the population.\"\"\"\n",
    "        return len(self.individuals)\n",
    "\n",
    "    def get_genotypes(self) -> torch.Tensor:\n",
    "        \"\"\"\n",
    "        Returns a tensor of all genotypes in the population.\n",
    "\n",
    "        Returns:\n",
    "            torch.Tensor: Genotype tensor with shape \n",
    "                          (population_size, ploidy, n_chromosomes, n_loci_per_chromosome).\n",
    "        \"\"\"\n",
    "        return torch.stack([individual.haplotypes for individual in self.individuals])\n",
    "\n",
    "    def get_dosages(self) -> torch.Tensor:\n",
    "        \"\"\"\n",
    "        Calculates the allele dosage for each locus in the population by summing over the ploidy.\n",
    "\n",
    "        Returns:\n",
    "            torch.Tensor: Allele dosage tensor with shape \n",
    "                          (population_size, n_chromosomes, n_loci_per_chromosome).\n",
    "        \"\"\"\n",
    "        return self.get_genotypes().sum(dim=1)  # Sum over the ploidy dimension\n",
    "\n",
    "    def add_individual(self, individual: Individual):\n",
    "        \"\"\"Adds an individual to the population.\"\"\"\n",
    "        self.individuals.append(individual)\n",
    "\n",
    "    def calculate_allele_frequencies(self) -> torch.Tensor:\n",
    "        \"\"\"\n",
    "        Calculates allele frequencies for each locus in the population.\n",
    "\n",
    "        Returns:\n",
    "            torch.Tensor: Allele frequencies (n_chromosomes, n_loci_per_chromosome).\n",
    "        \"\"\"\n",
    "        return self.get_genotypes().float().mean(dim=(0, 1)) # Average over ploidy and individuals\n",
    "\n",
    "    def calculate_genetic_diversity(self) -> torch.Tensor:\n",
    "        \"\"\"\n",
    "        Calculates a measure of genetic diversity (e.g., heterozygosity).\n",
    "\n",
    "        Returns:\n",
    "            torch.Tensor: Genetic diversity (n_chromosomes, n_loci_per_chromosome).\n",
    "        \"\"\"\n",
    "        allele_frequencies = self.calculate_allele_frequencies()\n",
    "        return 1.0 - (allele_frequencies**2 + (1 - allele_frequencies)**2)"
   ]
  },
  {
   "cell_type": "code",
   "execution_count": null,
   "id": "322dd632",
   "metadata": {},
   "outputs": [
    {
     "name": "stdout",
     "output_type": "stream",
     "text": [
      "Created genetic map\n"
     ]
    }
   ],
   "source": [
    "#example\n",
    "#core logic\n",
    "n_loci_per_chromosome = 100\n",
    "n_founders = 500\n",
    "\n",
    "genome = Genome(n_loci_per_chromosome=n_loci_per_chromosome)\n",
    "founder_pop = Population()\n",
    "founder_pop.create_random_founder_population(genome, n_founders=n_founders)\n"
   ]
  },
  {
   "cell_type": "code",
   "execution_count": null,
   "id": "6be41be3",
   "metadata": {},
   "outputs": [],
   "source": [
    "#| export\n",
    "\n",
    "from torch.utils.data import Dataset, DataLoader\n",
    "\n",
    "class PopulationDataset(Dataset):\n",
    "    \"\"\"PyTorch Dataset for loading genotypes from a Population.\"\"\"\n",
    "    def __init__(self, population: Population, transform=None):\n",
    "        self.population = population\n",
    "        self.transform = transform\n",
    "\n",
    "    def __len__(self):\n",
    "        return self.population.size()\n",
    "\n",
    "    def __getitem__(self, idx):\n",
    "        genotype = self.population.individuals[idx].haplotypes\n",
    "        if self.transform:\n",
    "            genotype = self.transform(genotype)\n",
    "        return genotype\n",
    "\n",
    "def create_population_dataloader(population: Population, batch_size: int, shuffle=True, num_workers=0, pin_memory=True):\n",
    "    \"\"\"Creates a DataLoader for the given Population.\"\"\"\n",
    "    dataset = PopulationDataset(population)\n",
    "    dataloader = DataLoader(\n",
    "        dataset, \n",
    "        batch_size=batch_size, \n",
    "        shuffle=shuffle, \n",
    "        num_workers=num_workers,\n",
    "        pin_memory=pin_memory  # Pin memory for faster transfer to GPU\n",
    "    )\n",
    "    return dataloader"
   ]
  },
  {
   "cell_type": "code",
   "execution_count": null,
   "id": "e3f154a2",
   "metadata": {},
   "outputs": [
    {
     "name": "stdout",
     "output_type": "stream",
     "text": [
      "Created genetic map\n"
     ]
    }
   ],
   "source": [
    "genome = Genome()\n",
    "population = Population()\n",
    "population.create_random_founder_population(genome, n_founders=100)"
   ]
  },
  {
   "cell_type": "code",
   "execution_count": null,
   "id": "cc5bb743",
   "metadata": {},
   "outputs": [
    {
     "data": {
      "text/plain": [
       "tensor([[ 0.0000, 29.4688, 35.9132, 39.3031, 69.8077],\n",
       "        [ 0.0000, 32.4311, 50.6815, 73.7727, 83.8876],\n",
       "        [ 0.0000, 16.6354, 19.3749, 57.4334, 93.5010],\n",
       "        [ 0.0000, 62.4974, 62.7686, 88.2917, 91.8914],\n",
       "        [ 0.0000, 39.7588, 78.1391, 78.8514, 88.4883],\n",
       "        [ 0.0000, 32.1583, 34.7323, 45.0853, 69.7855],\n",
       "        [ 0.0000, 18.0449, 29.4980, 76.8746, 96.3608],\n",
       "        [ 0.0000, 26.5189, 34.7651, 36.3776, 71.1233],\n",
       "        [ 0.0000, 15.5684, 37.7312, 79.0599, 98.6940],\n",
       "        [ 0.0000,  9.4567, 10.1272, 25.0017, 47.4483]])"
      ]
     },
     "execution_count": null,
     "metadata": {},
     "output_type": "execute_result"
    }
   ],
   "source": [
    "genome.genetic_map"
   ]
  },
  {
   "cell_type": "code",
   "execution_count": null,
   "id": "baffcac8",
   "metadata": {},
   "outputs": [],
   "source": [
    "# Create DataLoader\n",
    "dataloader = create_population_dataloader(population, batch_size=32)"
   ]
  },
  {
   "cell_type": "code",
   "execution_count": null,
   "id": "ff835a6d",
   "metadata": {},
   "outputs": [],
   "source": [
    "#| hide\n",
    "import nbdev; nbdev.nbdev_export()"
   ]
  }
 ],
 "metadata": {
  "kernelspec": {
   "display_name": "python3",
   "language": "python",
   "name": "python3"
  }
 },
 "nbformat": 4,
 "nbformat_minor": 5
}
