{
 "cells": [
  {
   "cell_type": "code",
   "execution_count": null,
   "id": "c4f3650c",
   "metadata": {},
   "outputs": [],
   "source": [
    "%load_ext autoreload\n",
    "%autoreload 2"
   ]
  },
  {
   "cell_type": "code",
   "execution_count": null,
   "id": "a8bce62f",
   "metadata": {},
   "outputs": [],
   "source": [
    "#| default_exp core"
   ]
  },
  {
   "cell_type": "markdown",
   "id": "3ac74626",
   "metadata": {},
   "source": [
    "## Core\n",
    "\n",
    "> Contains the foundational Data Structures of the breeding program: Genome, Individual, Population"
   ]
  },
  {
   "cell_type": "code",
   "execution_count": null,
   "id": "f9ff63af",
   "metadata": {},
   "outputs": [],
   "source": [
    "#| hide\n",
    "from nbdev.showdoc import *"
   ]
  },
  {
   "cell_type": "code",
   "execution_count": null,
   "id": "309047f6",
   "metadata": {},
   "outputs": [],
   "source": [
    "#| export\n",
    "\n",
    "import attr\n",
    "import torch\n",
    "from fastcore.test import *\n",
    "from typing import List, Tuple, Union, Callable, Optional"
   ]
  },
  {
   "cell_type": "markdown",
   "id": "8ebaa8a6",
   "metadata": {},
   "source": [
    "#### Genome will contain the definition of the SNP chip used by the breeding program to get DNA fingerprints and define the genetic architecture of our traits of interest."
   ]
  },
  {
   "cell_type": "code",
   "execution_count": null,
   "id": "6be41be3",
   "metadata": {},
   "outputs": [],
   "source": [
    "#| export\n",
    "\n",
    "\n",
    "@attr.s(auto_attribs=True)\n",
    "class Genome:\n",
    "    \"\"\"\n",
    "    Used for defining the genomic architecture for the simulation. \n",
    "    It will be used as an argument for breeding program operations.\n",
    "    \n",
    "    Args:\n",
    "        ploidy (int): Ploidy level (assuming autopolyploid).\n",
    "        number_chromosomes (int): Total number of chromosomes in the karyotype/genome.\n",
    "        loci_per_chromosome (int): The number of loci which are genotyped on each chromosome (e.g., a SNP chip).\n",
    "        genetic_map (torch.Tensor): A 2D tensor representing the genetic map. \n",
    "                                     Shape: (number_chromosomes, loci_per_chromosome). \n",
    "                                     Each row represents a chromosome, and each element in a row is the genetic \n",
    "                                     location (in cM) of a locus.\n",
    "    \"\"\"\n",
    "    ploidy: int\n",
    "    number_chromosomes: int\n",
    "    loci_per_chromosome: int\n",
    "    genetic_map: torch.Tensor\n",
    "    shape: torch.Tensor\n",
    "        \n",
    "    def shape(self):\n",
    "        return self.ploidy, self.number_chromosomes, self.loci_per_chromosome\n",
    "\n",
    "    def __attrs_post_init__(self):\n",
    "        \"\"\"\n",
    "        Validate the input parameters after initialization.\n",
    "        \"\"\"\n",
    "        # Check if the genetic map dimensions are compatible\n",
    "        if not self.genetic_map.shape == (self.number_chromosomes, self.loci_per_chromosome):\n",
    "            raise ValueError(f\"Genetic map shape {self.genetic_map.shape} is incompatible with the number of chromosomes and loci per chromosome.\")\n",
    "\n",
    "#         # Check if the genetic map is valid (starts at 0 and is increasing)\n",
    "#         for chrom_map in self.genetic_map:\n",
    "#             if not (chrom_map[0] == 0.0 and all(x < y for x, y in zip(chrom_map, chrom_map[1:]))):\n",
    "#                 raise ValueError(\"The genetic map must start at 0 and be strictly increasing for each chromosome.\")\n",
    "                \n",
    "#                         # Set the shape attribute\n",
    "        self.shape = (self.ploidy, self.number_chromosomes, self.loci_per_chromosome)\n",
    "\n"
   ]
  },
  {
   "cell_type": "code",
   "execution_count": null,
   "id": "c1179853",
   "metadata": {},
   "outputs": [],
   "source": [
    "#| export\n",
    "\n",
    "@attr.s(auto_attribs=True)\n",
    "class Individual:\n",
    "    \"\"\"\n",
    "    Represents an individual in the breeding simulation.\n",
    "\n",
    "    Args:\n",
    "        genome (Genome): Reference to the shared Genome object.\n",
    "        haplotypes (torch.Tensor): Tensor representing the individual's haplotypes. \n",
    "                                    Shape: (number_chromosomes, ploidy, number_loci).\n",
    "        id (Optional[str]): Unique identifier. Defaults to None.\n",
    "        mother_id (Optional[str]): Mother's identifier. Defaults to None.\n",
    "        father_id (Optional[str]): Father's identifier. Defaults to None.\n",
    "        genetic_value (Optional[torch.Tensor]): Genetic value for traits. Shape: (number_traits,). Defaults to None.\n",
    "        phenotype (Optional[torch.Tensor]): Phenotype for traits. Shape: (number_traits,). Defaults to None.\n",
    "    \"\"\"\n",
    "    genome: Genome\n",
    "    haplotypes: torch.Tensor # haplotypes.shape == genome.genetic_map.shape\n",
    "    id: Optional[str] = None\n",
    "    mother_id: Optional[str] = None\n",
    "    father_id: Optional[str] = None\n",
    "    genetic_value: Optional[torch.Tensor] = None\n",
    "    phenotype: Optional[torch.Tensor] = None\n",
    "\n",
    "    def __attrs_post_init__(self):\n",
    "        \"\"\"\n",
    "        Validate the input parameters after initialization.\n",
    "        \"\"\"\n",
    "        # make sure the haplotype and given genetic map are compatible. \n",
    "        if not self.haplotypes.shape == self.genome.gentic_map.shape:\n",
    "            raise ValueError(f\"Haplotype shape {self.haplotypes.shape[1:]} is incompatible with the genome {self.genome.genetic_map.shape}.\")\n",
    "        "
   ]
  },
  {
   "cell_type": "code",
   "execution_count": null,
   "id": "2bf4a598",
   "metadata": {},
   "outputs": [],
   "source": [
    "#| export\n",
    "\n",
    "@attr.s(auto_attribs=True)\n",
    "class Population:\n",
    "    \"\"\"\n",
    "    Represents a population of individuals.\n",
    "\n",
    "    Args:\n",
    "        individuals (List[Individual]): List of Individual objects in the population.\n",
    "        id (Optional[str]): Unique identifier for the population. Defaults to None.\n",
    "    \"\"\"\n",
    "    individuals: List[Individual]\n",
    "    id: Optional[str] = None"
   ]
  },
  {
   "cell_type": "code",
   "execution_count": null,
   "id": "b11207d8",
   "metadata": {},
   "outputs": [],
   "source": [
    "#| export\n",
    "\n",
    "@attr.s(auto_attribs=True)\n",
    "class SimParam:\n",
    "    founder_pop = None\n",
    "    genome = None\n",
    "    traits = None\n",
    "    device = 'cpu'"
   ]
  },
  {
   "cell_type": "code",
   "execution_count": null,
   "id": "365b43e3",
   "metadata": {},
   "outputs": [],
   "source": []
  },
  {
   "cell_type": "markdown",
   "id": "866a132b",
   "metadata": {},
   "source": [
    "#### Util functions"
   ]
  },
  {
   "cell_type": "code",
   "execution_count": null,
   "id": "5a19d039",
   "metadata": {},
   "outputs": [],
   "source": [
    "#| export\n",
    "\n",
    "def create_uniform_genetic_map(number_chromosomes: int, loci_per_chromosome: int, chromosome_length: float = 100.0) -> torch.Tensor:\n",
    "    \"\"\"\n",
    "    Creates a uniform genetic map with equally spaced loci on each chromosome.\n",
    "\n",
    "    Args:\n",
    "        number_chromosomes (int): Number of chromosomes.\n",
    "        loci_per_chromosome (int): Number of loci per chromosome.\n",
    "        chromosome_length (float): Genetic length of each chromosome in centimorgans (cM). Defaults to 100.0 cM.\n",
    "\n",
    "    Returns:\n",
    "        torch.Tensor: 2D tensor representing the genetic map (shape: (number_chromosomes, loci_per_chromosome)).\n",
    "    \"\"\"\n",
    "    return torch.arange(0, chromosome_length, chromosome_length / loci_per_chromosome).repeat(number_chromosomes, 1)\n",
    "\n",
    "\n",
    "def create_random_genetic_map(number_chromosomes: int, loci_per_chromosome: int, chromosome_length: float = 100.0, device: str = 'cpu') -> torch.Tensor:\n",
    "    \"\"\"\n",
    "    Creates a random genetic map with loci positions that gradually increase randomly on each chromosome.\n",
    "\n",
    "    Args:\n",
    "        number_chromosomes (int): Number of chromosomes.\n",
    "        loci_per_chromosome (int): Number of loci per chromosome.\n",
    "        chromosome_length (float): Maximum genetic length of each chromosome in centimorgans (cM). Defaults to 100.0 cM.\n",
    "        device (str): Device to create the tensor on ('cpu' or 'cuda'). Defaults to 'cpu'.\n",
    "\n",
    "    Returns:\n",
    "        torch.Tensor: 2D tensor representing the genetic map (shape: (number_chromosomes, loci_per_chromosome)).\n",
    "    \"\"\"\n",
    "    genetic_map = torch.zeros((number_chromosomes, loci_per_chromosome), device=device)\n",
    "\n",
    "    for chr_idx in range(number_chromosomes):\n",
    "        random_positions = torch.sort(torch.rand(loci_per_chromosome-1, device=device) * chromosome_length).values\n",
    "        genetic_map[chr_idx, 1:] = random_positions    \n",
    "    return genetic_map\n",
    "\n",
    "\n",
    "def create_random_founder_pop(genome: Genome, n_founders: int, device: str = 'cpu') -> torch.Tensor:\n",
    "    \"\"\"\n",
    "    Creates a tensor of random haplotypes for multiple founder individuals based on the provided genome.\n",
    "\n",
    "    Args:\n",
    "        genome (Genome): The genome defining the structure of the haplotypes.\n",
    "        n_founders (int): The number of founder individuals to create haplotypes for.\n",
    "        device (str): Device to create the tensor on ('cpu' or 'cuda'). Defaults to 'cpu'.\n",
    "\n",
    "    Returns:\n",
    "        torch.Tensor: A tensor of random 0's and 1's representing haplotypes.\n",
    "                         Shape: (n_founders, ploidy, number_chromosomes, loci_per_chromosome)\n",
    "    \"\"\"\n",
    "    return torch.randint(0, 2, (n_founders, genome.ploidy, genome.number_chromosomes, genome.loci_per_chromosome), device=device)\n"
   ]
  },
  {
   "cell_type": "code",
   "execution_count": null,
   "id": "ff835a6d",
   "metadata": {},
   "outputs": [],
   "source": [
    "#| hide\n",
    "import nbdev; nbdev.nbdev_export()"
   ]
  }
 ],
 "metadata": {
  "kernelspec": {
   "display_name": "python3",
   "language": "python",
   "name": "python3"
  }
 },
 "nbformat": 4,
 "nbformat_minor": 5
}
