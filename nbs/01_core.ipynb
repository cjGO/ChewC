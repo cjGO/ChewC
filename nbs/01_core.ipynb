{
 "cells": [
  {
   "cell_type": "code",
   "execution_count": null,
   "id": "c4f3650c",
   "metadata": {},
   "outputs": [],
   "source": [
    "%load_ext autoreload\n",
    "%autoreload 2"
   ]
  },
  {
   "cell_type": "code",
   "execution_count": null,
   "id": "a8bce62f",
   "metadata": {},
   "outputs": [],
   "source": [
    "#| default_exp core"
   ]
  },
  {
   "cell_type": "markdown",
   "id": "3ac74626",
   "metadata": {},
   "source": [
    "## Core\n",
    "\n",
    "> Contains the foundational Data Structures of the breeding program: Genome, Individual, Population"
   ]
  },
  {
   "cell_type": "code",
   "execution_count": null,
   "id": "f9ff63af",
   "metadata": {},
   "outputs": [],
   "source": [
    "#| hide\n",
    "from nbdev.showdoc import *"
   ]
  },
  {
   "cell_type": "code",
   "execution_count": null,
   "id": "309047f6",
   "metadata": {},
   "outputs": [],
   "source": [
    "#| export\n",
    "\n",
    "\n",
    "import torch\n",
    "from typing import List, Tuple, Union, Callable, Optional\n",
    "import torch\n",
    "import matplotlib.pyplot as plt"
   ]
  },
  {
   "cell_type": "markdown",
   "id": "8ebaa8a6",
   "metadata": {},
   "source": [
    "#### Genome will contain the definition of the SNP chip used by the breeding program to get DNA fingerprints and define the genetic architecture of our traits of interest."
   ]
  },
  {
   "cell_type": "code",
   "execution_count": null,
   "id": "454db12a",
   "metadata": {},
   "outputs": [],
   "source": [
    "#| export\n",
    "\n",
    "\n",
    "class Genome:\n",
    "    \"\"\"\n",
    "    Represents the genomic architecture for the simulation.\n",
    "\n",
    "    Args:\n",
    "        ploidy (int): Ploidy level. Defaults to 2.\n",
    "        n_chromosomes (int): Number of chromosomes. Defaults to 10.\n",
    "        n_loci_per_chromosome (int): Number of loci per chromosome. Defaults to 5.\n",
    "        map_type (str, optional): Type of genetic map ('uniform' or 'random'). Defaults to 'random'.\n",
    "        chromosome_length (float): Genetic length of each chromosome in cM. Defaults to 100.0.\n",
    "    \"\"\"\n",
    "\n",
    "    def __init__(self, ploidy: int = 2, n_chromosomes: int = 10, n_loci_per_chromosome: int = 5, \n",
    "                 map_type: Optional[str] = 'random', chromosome_length: float = 100.0):\n",
    "\n",
    "        assert n_chromosomes > 0, \"Number of chromosomes must be greater than 0\"\n",
    "        assert n_loci_per_chromosome > 0, \"Loci per chromosome must be greater than 0\"\n",
    "\n",
    "        self.ploidy = ploidy\n",
    "        self.n_chromosomes = n_chromosomes\n",
    "        self.n_loci_per_chromosome = n_loci_per_chromosome\n",
    "        self.map_type = map_type\n",
    "        self.chromosome_length = chromosome_length\n",
    "\n",
    "        self.device = torch.device('cuda' if torch.cuda.is_available() else 'cpu')\n",
    "        self.genetic_map = None \n",
    "        \n",
    "        self.create_genetic_map()\n",
    "\n",
    "    def shape(self) -> Tuple[int, int, int]:\n",
    "        \"\"\"Returns the shape of the genome (ploidy, chromosomes, loci).\"\"\"\n",
    "        return self.ploidy, self.n_chromosomes, self.n_loci_per_chromosome\n",
    "\n",
    "    def create_genetic_map(self):\n",
    "        \"\"\"Creates the genetic map based on the specified `map_type`.\"\"\"\n",
    "        if self.map_type == 'uniform':\n",
    "            self.genetic_map = torch.arange(0, self.chromosome_length, self.chromosome_length / self.n_loci_per_chromosome, \n",
    "                                            device=self.device).repeat(self.n_chromosomes, 1)\n",
    "        elif self.map_type == 'random':\n",
    "            self.genetic_map = torch.zeros((self.n_chromosomes, self.n_loci_per_chromosome), device=self.device)\n",
    "            for chr_idx in range(self.n_chromosomes):\n",
    "                random_positions = torch.sort(torch.rand(self.n_loci_per_chromosome - 1, device=self.device) * self.chromosome_length).values\n",
    "                self.genetic_map[chr_idx, 1:] = random_positions\n",
    "        else:\n",
    "            self.genetic_map = None\n",
    "        \n",
    "        if self.genetic_map is not None:\n",
    "            print('Created genetic map')\n",
    "\n",
    "    def to(self, device: torch.device):\n",
    "        \"\"\"Moves the genetic map to the specified device.\"\"\"\n",
    "        if self.genetic_map is not None:\n",
    "            self.genetic_map = self.genetic_map.to(device)\n",
    "            self.device = device\n",
    "        return self\n",
    "\n",
    "class Individual:\n",
    "    \"\"\"\n",
    "    Represents an individual in the breeding simulation.\n",
    "\n",
    "    Args:\n",
    "        genome (Genome): Reference to the shared Genome object.\n",
    "        haplotypes (torch.Tensor): Tensor representing the individual's haplotypes. \n",
    "                                    Shape: (ploidy, n_chromosomes, n_loci_per_chromosome).\n",
    "        id (Optional[str]): Unique identifier. Defaults to None.\n",
    "        mother_id (Optional[str]): Mother's identifier. Defaults to None.\n",
    "        father_id (Optional[str]): Father's identifier. Defaults to None.\n",
    "        breeding_values (Optional[torch.Tensor]): Breeding values for traits. Shape: (n_traits,). Defaults to None.\n",
    "        phenotypes (Optional[torch.Tensor]): Phenotype for traits. Shape: (n_traits,). Defaults to None.\n",
    "    \"\"\"\n",
    "    \n",
    "    def __init__(self, \n",
    "                 genome: Genome, \n",
    "                 haplotypes: torch.Tensor, \n",
    "                 id: Optional[str] = None, \n",
    "                 mother_id: Optional[str] = None, \n",
    "                 father_id: Optional[str] = None, \n",
    "                 breeding_values: Optional[torch.Tensor] = None, \n",
    "                 phenotypes: Optional[torch.Tensor] = None):\n",
    "        \n",
    "        self.genome: Genome = genome\n",
    "        self.haplotypes: torch.Tensor = haplotypes.to('cpu')\n",
    "        self.id: Optional[str] = id\n",
    "        self.mother_id: Optional[str] = mother_id\n",
    "        self.father_id: Optional[str] = father_id\n",
    "        self.breeding_values: Optional[torch.Tensor] = breeding_values \n",
    "        self.phenotypes: Optional[torch.Tensor] = phenotypes \n",
    "\n",
    "    @classmethod\n",
    "    def create_random_individual(cls, genome: Genome, id: Optional[str] = None):\n",
    "        \"\"\"\n",
    "        Creates a random individual with the specified genome.\n",
    "\n",
    "        Args:\n",
    "            genome (Genome): The genome object.\n",
    "            id (Optional[str]): Unique identifier for the individual.\n",
    "\n",
    "        Returns:\n",
    "            Individual: A new Individual object with random haplotypes.\n",
    "        \"\"\"\n",
    "        haplotypes = torch.randint(0, 2, genome.shape(), device='cpu')\n",
    "        return cls(genome=genome, haplotypes=haplotypes, id=id)\n",
    "\n",
    "    def to(self, device: torch.device):\n",
    "        \"\"\"Moves the individual's data to the specified device.\"\"\"\n",
    "        self.haplotypes = self.haplotypes.to(device)\n",
    "        if self.breeding_values is not None:\n",
    "            self.breeding_values = self.breeding_values.to(device)\n",
    "        if self.phenotypes is not None:\n",
    "            self.phenotypes = self.phenotypes.to(device)\n",
    "        return self\n",
    "\n",
    "\n",
    "class Population:\n",
    "    \"\"\"\n",
    "    Represents a population of individuals.\n",
    "\n",
    "    Args:\n",
    "        individuals (List[Individual], optional): List of Individual objects in the population. Defaults to None.\n",
    "        id (Optional[str]): Unique identifier for the population. Defaults to None.\n",
    "    \"\"\"\n",
    "    \n",
    "    def __init__(self, individuals: Optional[List[Individual]] = None, id: Optional[str] = None):\n",
    "        self.individuals = individuals if individuals is not None else []\n",
    "        self.id = id \n",
    "\n",
    "    def create_random_founder_population(self, genome: Genome, n_founders: int):\n",
    "        \"\"\"\n",
    "        Creates a founder population with random haplotypes.\n",
    "\n",
    "        Args:\n",
    "            genome (Genome): The genome object.\n",
    "            n_founders (int): The number of founder individuals to create.\n",
    "        \"\"\"\n",
    "        self.individuals = [Individual.create_random_individual(genome, id=str(i)) for i in range(n_founders)]\n",
    "\n",
    "    def size(self) -> int:\n",
    "        \"\"\"Returns the number of individuals in the population.\"\"\"\n",
    "        return len(self.individuals)\n",
    "\n",
    "    def get_genotypes(self) -> torch.Tensor:\n",
    "        \"\"\"\n",
    "        Returns a tensor of all genotypes in the population.\n",
    "\n",
    "        Returns:\n",
    "            torch.Tensor: Genotype tensor with shape \n",
    "                          (population_size, ploidy, n_chromosomes, n_loci_per_chromosome).\n",
    "        \"\"\"\n",
    "        return torch.stack([individual.haplotypes for individual in self.individuals])\n",
    "    \n",
    "    def get_dosages(self) -> torch.Tensor:\n",
    "        \"\"\"\n",
    "        Calculates the allele dosage for each locus in the population by summing over the ploidy.\n",
    "\n",
    "        Returns:\n",
    "            torch.Tensor: Allele dosage tensor with shape \n",
    "                          (population_size, n_chromosomes, n_loci_per_chromosome).\n",
    "        \"\"\"\n",
    "        genotypes = self.get_genotypes()\n",
    "        allele_dosage = genotypes.sum(dim=1) # Sum over the ploidy dimension\n",
    "        return allele_dosage\n",
    "\n",
    "    def add_individual(self, individual: Individual):\n",
    "        \"\"\"Adds an individual to the population.\"\"\"\n",
    "        self.individuals.append(individual)\n",
    "\n",
    "    def to(self, device: torch.device):\n",
    "        \"\"\"Moves all individuals in the population to the specified device.\"\"\"\n",
    "        for individual in self.individuals:\n",
    "            individual.to(device)\n",
    "        return self\n",
    "\n",
    "    def calculate_allele_frequencies(self) -> torch.Tensor:\n",
    "        \"\"\"Calculates allele frequencies for each locus in the population.\"\"\"\n",
    "        genotypes = self.get_genotypes().float()\n",
    "        return genotypes.mean(dim=(0, 1)) # Average over ploidy and individuals\n",
    "\n",
    "    def calculate_genetic_diversity(self) -> torch.Tensor:\n",
    "        \"\"\"Calculates a measure of genetic diversity (e.g., heterozygosity).\"\"\"\n",
    "        # Example implementation (you can customize this based on your needs)\n",
    "        allele_frequencies = self.calculate_allele_frequencies()\n",
    "        return 1.0 - (allele_frequencies**2 + (1 - allele_frequencies)**2) "
   ]
  },
  {
   "cell_type": "code",
   "execution_count": null,
   "id": "ecc815fc",
   "metadata": {},
   "outputs": [],
   "source": []
  },
  {
   "cell_type": "code",
   "execution_count": null,
   "id": "322dd632",
   "metadata": {},
   "outputs": [
    {
     "name": "stdout",
     "output_type": "stream",
     "text": [
      "Created genetic map\n"
     ]
    }
   ],
   "source": [
    "#example\n",
    "#core logic\n",
    "n_loci_per_chromosome = 100\n",
    "n_founders = 500\n",
    "\n",
    "genome = Genome(n_loci_per_chromosome=n_loci_per_chromosome)\n",
    "founder_pop = Population()\n",
    "founder_pop.create_random_founder_population(genome, n_founders=n_founders)\n"
   ]
  },
  {
   "cell_type": "code",
   "execution_count": null,
   "id": "6be41be3",
   "metadata": {},
   "outputs": [],
   "source": [
    "#| export\n",
    "\n",
    "from torch.utils.data import Dataset, DataLoader\n",
    "\n",
    "class PopulationDataset(Dataset):\n",
    "    \"\"\"PyTorch Dataset for loading genotypes from a Population.\"\"\"\n",
    "    def __init__(self, population: Population, transform=None):\n",
    "        self.population = population\n",
    "        self.transform = transform\n",
    "\n",
    "    def __len__(self):\n",
    "        return self.population.size()\n",
    "\n",
    "    def __getitem__(self, idx):\n",
    "        genotype = self.population.individuals[idx].haplotypes\n",
    "        if self.transform:\n",
    "            genotype = self.transform(genotype)\n",
    "        return genotype\n",
    "\n",
    "def create_population_dataloader(population: Population, batch_size: int, shuffle=True, num_workers=0, pin_memory=True):\n",
    "    \"\"\"Creates a DataLoader for the given Population.\"\"\"\n",
    "    dataset = PopulationDataset(population)\n",
    "    dataloader = DataLoader(\n",
    "        dataset, \n",
    "        batch_size=batch_size, \n",
    "        shuffle=shuffle, \n",
    "        num_workers=num_workers,\n",
    "        pin_memory=pin_memory  # Pin memory for faster transfer to GPU\n",
    "    )\n",
    "    return dataloader"
   ]
  },
  {
   "cell_type": "code",
   "execution_count": null,
   "id": "e3f154a2",
   "metadata": {},
   "outputs": [
    {
     "name": "stdout",
     "output_type": "stream",
     "text": [
      "Created genetic map\n"
     ]
    }
   ],
   "source": [
    "genome = Genome()\n",
    "population = Population()\n",
    "population.create_random_founder_population(genome, n_founders=100)"
   ]
  },
  {
   "cell_type": "code",
   "execution_count": null,
   "id": "cc5bb743",
   "metadata": {},
   "outputs": [
    {
     "data": {
      "text/plain": [
       "tensor([[0.0000e+00, 4.4549e+00, 9.7864e+00, 3.2619e+01, 8.7588e+01],\n",
       "        [0.0000e+00, 1.4553e+01, 4.2347e+01, 6.4445e+01, 8.7742e+01],\n",
       "        [0.0000e+00, 4.3246e+01, 6.5383e+01, 7.5921e+01, 8.8695e+01],\n",
       "        [0.0000e+00, 5.7855e+00, 2.0517e+01, 4.6006e+01, 6.2638e+01],\n",
       "        [0.0000e+00, 3.1555e-02, 2.5189e+01, 7.0929e+01, 9.8765e+01],\n",
       "        [0.0000e+00, 8.9019e+00, 2.7753e+01, 4.0029e+01, 9.0203e+01],\n",
       "        [0.0000e+00, 4.3217e+00, 2.2171e+01, 3.2822e+01, 4.1771e+01],\n",
       "        [0.0000e+00, 1.4086e+01, 4.6586e+01, 8.6157e+01, 9.6368e+01],\n",
       "        [0.0000e+00, 4.3982e+01, 5.5968e+01, 5.8194e+01, 6.7353e+01],\n",
       "        [0.0000e+00, 1.4841e+01, 2.9923e+01, 6.3333e+01, 7.7275e+01]])"
      ]
     },
     "execution_count": null,
     "metadata": {},
     "output_type": "execute_result"
    }
   ],
   "source": [
    "genome.genetic_map"
   ]
  },
  {
   "cell_type": "code",
   "execution_count": null,
   "id": "baffcac8",
   "metadata": {},
   "outputs": [],
   "source": [
    "# Create DataLoader\n",
    "dataloader = create_population_dataloader(population, batch_size=32)"
   ]
  },
  {
   "cell_type": "code",
   "execution_count": null,
   "id": "ff835a6d",
   "metadata": {},
   "outputs": [],
   "source": [
    "#| hide\n",
    "import nbdev; nbdev.nbdev_export()"
   ]
  },
  {
   "cell_type": "code",
   "execution_count": null,
   "id": "45636d08",
   "metadata": {},
   "outputs": [],
   "source": []
  }
 ],
 "metadata": {
  "kernelspec": {
   "display_name": "python3",
   "language": "python",
   "name": "python3"
  }
 },
 "nbformat": 4,
 "nbformat_minor": 5
}
