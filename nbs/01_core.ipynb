{
 "cells": [
  {
   "cell_type": "code",
   "execution_count": 1,
   "id": "a8bce62f",
   "metadata": {},
   "outputs": [],
   "source": [
    "#| default_exp core"
   ]
  },
  {
   "cell_type": "markdown",
   "id": "3ac74626",
   "metadata": {},
   "source": [
    "## Core\n",
    "\n",
    "> Contains the foundational Data Structures of the breeding program: Genome, Individual, Population"
   ]
  },
  {
   "cell_type": "code",
   "execution_count": 2,
   "id": "f9ff63af",
   "metadata": {},
   "outputs": [],
   "source": [
    "#| hide\n",
    "from nbdev.showdoc import *"
   ]
  },
  {
   "cell_type": "code",
   "execution_count": 3,
   "id": "309047f6",
   "metadata": {},
   "outputs": [],
   "source": [
    "#| export\n",
    "\n",
    "import attr\n",
    "import torch\n",
    "import numpy as np\n",
    "from typing import List, Tuple, Union, Callable, Optional"
   ]
  },
  {
   "cell_type": "markdown",
   "id": "8ebaa8a6",
   "metadata": {},
   "source": [
    "#### Genome will contain the definition of the SNP chip used by the breeding program to get DNA fingerprints and define the genetic architecture of our traits of interest."
   ]
  },
  {
   "cell_type": "code",
   "execution_count": 4,
   "id": "6be41be3",
   "metadata": {},
   "outputs": [],
   "source": [
    "#| export\n",
    "\n",
    "\n",
    "@attr.s(auto_attribs=True)\n",
    "class Genome:\n",
    "    \"\"\"\n",
    "    Used for defining the genomic architecture for the simulation. \n",
    "    It will be used as an argument for breeding program operations.\n",
    "    \n",
    "    Args:\n",
    "        ploidy (int): Ploidy level (assuming autopolyploid).\n",
    "        number_chromosomes (int): Total number of chromosomes in the karyotype/genome.\n",
    "        loci_per_chromosome (int): The number of loci which are genotyped on each chromosome (e.g., a SNP chip).\n",
    "        genetic_map (torch.Tensor): A 2D tensor representing the genetic map. \n",
    "                                     Shape: (number_chromosomes, loci_per_chromosome). \n",
    "                                     Each row represents a chromosome, and each element in a row is the genetic \n",
    "                                     location (in cM) of a locus.\n",
    "    \"\"\"\n",
    "    ploidy: int\n",
    "    number_chromosomes: int\n",
    "    loci_per_chromosome: int\n",
    "    genetic_map: torch.Tensor\n",
    "\n",
    "    def __attrs_post_init__(self):\n",
    "        \"\"\"\n",
    "        Validate the input parameters after initialization.\n",
    "        \"\"\"\n",
    "        # Check if the genetic map dimensions are compatible\n",
    "        if not self.genetic_map.shape == (self.number_chromosomes, self.loci_per_chromosome):\n",
    "            raise ValueError(f\"Genetic map shape {self.genetic_map.shape} is incompatible with the number of chromosomes and loci per chromosome.\")\n",
    "\n",
    "        # Check if the genetic map is valid (starts at 0 and is increasing)\n",
    "        for chrom_map in self.genetic_map:\n",
    "            if not (chrom_map[0] == 0 and all(x < y for x, y in zip(chrom_map, chrom_map[1:]))):\n",
    "                raise ValueError(\"The genetic map must start at 0 and be strictly increasing for each chromosome.\")\n"
   ]
  },
  {
   "cell_type": "code",
   "execution_count": 5,
   "id": "c1179853",
   "metadata": {},
   "outputs": [],
   "source": [
    "#| export\n",
    "\n",
    "@attr.s(auto_attribs=True)\n",
    "class Individual:\n",
    "    \"\"\"\n",
    "    Represents an individual in the breeding simulation.\n",
    "\n",
    "    Args:\n",
    "        genome (Genome): Reference to the shared Genome object.\n",
    "        haplotypes (torch.Tensor): Tensor representing the individual's haplotypes. \n",
    "                                    Shape: (number_chromosomes, ploidy, number_loci).\n",
    "        id (Optional[str]): Unique identifier. Defaults to None.\n",
    "        mother_id (Optional[str]): Mother's identifier. Defaults to None.\n",
    "        father_id (Optional[str]): Father's identifier. Defaults to None.\n",
    "        genetic_value (Optional[torch.Tensor]): Genetic value for traits. Shape: (number_traits,). Defaults to None.\n",
    "        phenotype (Optional[torch.Tensor]): Phenotype for traits. Shape: (number_traits,). Defaults to None.\n",
    "    \"\"\"\n",
    "    genome: Genome\n",
    "    haplotypes: torch.Tensor # haplotypes.shape == genome.genetic_map.shape\n",
    "    id: Optional[str] = None\n",
    "    mother_id: Optional[str] = None\n",
    "    father_id: Optional[str] = None\n",
    "    genetic_value: Optional[torch.Tensor] = None\n",
    "    phenotype: Optional[torch.Tensor] = None\n",
    "\n",
    "    def __attrs_post_init__(self):\n",
    "        \"\"\"\n",
    "        Validate the input parameters after initialization.\n",
    "        \"\"\"\n",
    "        # make sure the haplotype and given genetic map are compatible. \n",
    "        if not self.haplotypes.shape == self.genome.gentic_map.shape:\n",
    "            raise ValueError(f\"Haplotype shape {self.haplotypes.shape[1:]} is incompatible with the genome {self.genome.genetic_map.shape}.\")\n",
    "        "
   ]
  },
  {
   "cell_type": "code",
   "execution_count": 6,
   "id": "2bf4a598",
   "metadata": {},
   "outputs": [],
   "source": [
    "class Population:\n",
    "    pass"
   ]
  },
  {
   "cell_type": "code",
   "execution_count": 7,
   "id": "ff835a6d",
   "metadata": {},
   "outputs": [
    {
     "name": "stderr",
     "output_type": "stream",
     "text": [
      "/home/glect/miniconda3/envs/breeding/lib/python3.11/site-packages/nbdev/export.py:73: UserWarning: Notebook '/mnt/c/Users/cltng/OneDrive/chatgpt/nbs/01_SimParam.ipynb' uses `#|export` without `#|default_exp` cell.\n",
      "Note nbdev2 no longer supports nbdev1 syntax. Run `nbdev_migrate` to upgrade.\n",
      "See https://nbdev.fast.ai/getting_started.html for more information.\n",
      "  warn(f\"Notebook '{nbname}' uses `#|export` without `#|default_exp` cell.\\n\"\n"
     ]
    }
   ],
   "source": [
    "#| hide\n",
    "import nbdev; nbdev.nbdev_export()"
   ]
  },
  {
   "cell_type": "code",
   "execution_count": null,
   "id": "bb56fd23",
   "metadata": {},
   "outputs": [],
   "source": []
  }
 ],
 "metadata": {
  "kernelspec": {
   "display_name": "Python 3 (ipykernel)",
   "language": "python",
   "name": "python3"
  },
  "language_info": {
   "codemirror_mode": {
    "name": "ipython",
    "version": 3
   },
   "file_extension": ".py",
   "mimetype": "text/x-python",
   "name": "python",
   "nbconvert_exporter": "python",
   "pygments_lexer": "ipython3",
   "version": "3.11.9"
  }
 },
 "nbformat": 4,
 "nbformat_minor": 5
}
