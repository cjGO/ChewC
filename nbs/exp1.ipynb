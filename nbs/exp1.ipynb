{
 "cells": [
  {
   "cell_type": "markdown",
   "id": "21373c44",
   "metadata": {},
   "source": [
    "Truncation Selection Intensity * Budget\n",
    "\n",
    "\n",
    "The RL agent will be given limited controls; it will only be able to select the top % of individuals used in random mating blocks\n",
    "\n",
    "Hypothesis : we will see how the RL agent changes this % early versus later stages of the breeding program which will have an allotted time. e.g. 5 years vs 50 years vs 500 years and we will be able to see what dynamics it generally follows. Also we can give it a budget\n",
    "\n",
    "Procedure\n",
    "---\n",
    "\n",
    "1. Set up breeding program(founder_pop, burn-in, traits...)\n",
    "\n",
    "Initial Rule-Based Selection: We begin with a fixed truncation selection, say selecting the top 20% of individuals based on their phenotype for the trait we want to improve.\n",
    "DRL Agent's Action: The agent's action is not to choose a new selection percentage outright, but rather to adjust the existing selection intensity. It would output a value that represents a change to the current 20%.\n",
    "For example:\n",
    "An action of +5 would increase the selection intensity to 25%.\n",
    "An action of -3 would decrease it to 17%.\n",
    "Bounded Action Space: We would define a range for these adjustments to keep the action space manageable and prevent extreme selections. For instance, the agent might only be able to adjust the selection intensity within ±10% of the initial value.\n"
   ]
  },
  {
   "cell_type": "markdown",
   "id": "98eed592",
   "metadata": {},
   "source": [
    "use an agent to decide which QTL to gene edit in a given line... plus budget etc... idea is that it will pick clever QTL based not on estimated additive value but also factor in haplotype diversity\n",
    "\n",
    "may be interesting to see if it waits later in the breeding program to select/use budget for gene edits e.g. it waits til later stages of breeding program once the haplotype population structure plays out after generations of mendelian sampling."
   ]
  },
  {
   "cell_type": "code",
   "execution_count": null,
   "id": "95f5c7b0",
   "metadata": {},
   "outputs": [],
   "source": []
  }
 ],
 "metadata": {
  "kernelspec": {
   "display_name": "python3",
   "language": "python",
   "name": "python3"
  }
 },
 "nbformat": 4,
 "nbformat_minor": 5
}
